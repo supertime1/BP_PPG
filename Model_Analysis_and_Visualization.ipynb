{
  "nbformat": 4,
  "nbformat_minor": 0,
  "metadata": {
    "colab": {
      "name": "Model Analysis and Visualization.ipynb",
      "provenance": [],
      "collapsed_sections": [],
      "authorship_tag": "ABX9TyOcwyCep9w2H5TOf+9Rxrbz",
      "include_colab_link": true
    },
    "kernelspec": {
      "name": "python3",
      "display_name": "Python 3"
    }
  },
  "cells": [
    {
      "cell_type": "markdown",
      "metadata": {
        "id": "view-in-github",
        "colab_type": "text"
      },
      "source": [
        "<a href=\"https://colab.research.google.com/github/supertime1/BP_PPG/blob/master/Model_Analysis_and_Visualization.ipynb\" target=\"_parent\"><img src=\"https://colab.research.google.com/assets/colab-badge.svg\" alt=\"Open In Colab\"/></a>"
      ]
    },
    {
      "cell_type": "markdown",
      "metadata": {
        "id": "KHWQSOaYMjx4",
        "colab_type": "text"
      },
      "source": [
        "#1.Introduction\n",
        "\n"
      ]
    },
    {
      "cell_type": "markdown",
      "metadata": {
        "id": "fdhd_z6rMqwP",
        "colab_type": "text"
      },
      "source": [
        "This notebook analyze the BP-DL model in the following aspects:\n",
        "\n",
        "\n",
        "*   Accuracy\n",
        "*   Computational Cost\n",
        "*   Model Visualization\n",
        "\n",
        "\n",
        "\n",
        "\n",
        "\n",
        "\n",
        "\n",
        "\n"
      ]
    },
    {
      "cell_type": "markdown",
      "metadata": {
        "id": "rd55dI7yMr5J",
        "colab_type": "text"
      },
      "source": [
        "#2. Setup Environment"
      ]
    },
    {
      "cell_type": "code",
      "metadata": {
        "id": "MjDmZEgDNrKT",
        "colab_type": "code",
        "colab": {
          "base_uri": "https://localhost:8080/",
          "height": 34
        },
        "outputId": "4403ab96-1fd4-434c-9b6b-3990f1b337ae"
      },
      "source": [
        "from IPython.display import display\n",
        "import pandas as pd\n",
        "import matplotlib.pyplot as plt\n",
        "%matplotlib inline\n",
        "%load_ext tensorboard\n",
        "import numpy as np\n",
        "import os\n",
        "import shutil\n",
        "import glob\n",
        "import tensorflow as tf\n",
        "from tensorflow import keras\n",
        "from tensorflow.keras import Model\n",
        "from tensorflow.keras.models import load_model \n",
        "from tensorflow.keras.callbacks import TensorBoard, ModelCheckpoint\n",
        "from tensorflow.keras.layers import Conv1D, BatchNormalization, Input, Add, Activation,\\\n",
        "MaxPooling1D,Dropout,Flatten,TimeDistributed,Bidirectional,Dense,LSTM, ZeroPadding1D, \\\n",
        "AveragePooling1D,GlobalMaxPooling1D, Concatenate, Permute, Dot, Multiply, RepeatVector,\\\n",
        "Lambda, Average\n",
        "from tensorflow.keras.initializers import glorot_uniform\n",
        "import tensorflow_datasets as tfds\n",
        "import multiprocessing\n",
        "from datetime import datetime\n",
        "import sklearn.metrics\n",
        "import itertools\n",
        "import io\n",
        "import pickle\n",
        "print(tf.__version__)"
      ],
      "execution_count": null,
      "outputs": [
        {
          "output_type": "stream",
          "text": [
            "2.2.0\n"
          ],
          "name": "stdout"
        }
      ]
    },
    {
      "cell_type": "markdown",
      "metadata": {
        "id": "IfnasVq2Tqjg",
        "colab_type": "text"
      },
      "source": [
        "# 3.Model Performance"
      ]
    },
    {
      "cell_type": "code",
      "metadata": {
        "id": "nZyzAHekTsy5",
        "colab_type": "code",
        "colab": {}
      },
      "source": [
        "os.chdir(r\"C:\\Users\\57lzhang.US04WW4008\\Desktop\\Blood pressure\\BP data\\models\\125Hz 10mmHg\\ResNet-18+Attention\")\n",
        "model = tf.keras.models.load_model('CCCC-ResNet-18+Attention+10ts-93-0.9912.hdf5')"
      ],
      "execution_count": null,
      "outputs": []
    },
    {
      "cell_type": "markdown",
      "metadata": {
        "id": "6aMp1YpLTw7C",
        "colab_type": "text"
      },
      "source": [
        "## 3.1 MAE"
      ]
    },
    {
      "cell_type": "code",
      "metadata": {
        "id": "XP6T2rA43zvp",
        "colab_type": "code",
        "colab": {}
      },
      "source": [
        "with open('C:/Users/57lzhang.US04WW4008/Desktop/Blood pressure/BP data/test/test_data', \"rb\") as fp:\n",
        "  test_data = pickle.load(fp)\n",
        "test_data = np.asarray(test_data)"
      ],
      "execution_count": null,
      "outputs": []
    },
    {
      "cell_type": "code",
      "metadata": {
        "id": "GJaJEX5ThxKu",
        "colab_type": "code",
        "colab": {}
      },
      "source": [
        "with open(\"C:/Users/57lzhang.US04WW4008/Desktop/Blood pressure/BP data/test/test_labels\", \"rb\") as fp:\n",
        "  test_labels = pickle.load(fp)\n",
        "test_labels = np.asarray(test_labels)"
      ],
      "execution_count": null,
      "outputs": []
    },
    {
      "cell_type": "code",
      "metadata": {
        "colab_type": "code",
        "id": "XuJt7Psk27ed",
        "colab": {
          "base_uri": "https://localhost:8080/",
          "height": 34
        },
        "outputId": "2164f76d-9007-4dfe-fcf8-3185bf8f8ffc"
      },
      "source": [
        "#calculate number of elements in training for later use in shuffle and model.fit\n",
        "number_of_test_element = 0\n",
        "for i in range(len(test_label_fn)):\n",
        "  label = pickle.load(open(test_label_fn[i],'rb'))\n",
        "  number_of_test_element += len(label)\n",
        "print(\"There are in total\", number_of_test_element, \"in test dataset\")"
      ],
      "execution_count": null,
      "outputs": [
        {
          "output_type": "stream",
          "text": [
            "There are in total 13197 in test dataset\n"
          ],
          "name": "stdout"
        }
      ]
    },
    {
      "cell_type": "code",
      "metadata": {
        "colab_type": "code",
        "id": "UcnXIyBj27ej",
        "colab": {}
      },
      "source": [
        "n_a=32 #Number of pre-LSTM states\n",
        "n_s=16 #Number of post-LSTM states\n",
        "t_s0 = np.zeros((number_of_test_element, n_s))\n",
        "t_c0 = np.zeros((number_of_test_element, n_s))"
      ],
      "execution_count": null,
      "outputs": []
    },
    {
      "cell_type": "code",
      "metadata": {
        "id": "2ScA5IlA-G84",
        "colab_type": "code",
        "colab": {}
      },
      "source": [
        "bp_estimate=model.predict([test_data,t_s0,t_c0])"
      ],
      "execution_count": null,
      "outputs": []
    },
    {
      "cell_type": "code",
      "metadata": {
        "id": "HGR81k40A44c",
        "colab_type": "code",
        "colab": {
          "base_uri": "https://localhost:8080/",
          "height": 52
        },
        "outputId": "198ae92b-24b4-4729-8618-152f6e787ffd"
      },
      "source": [
        "from sklearn.metrics import mean_absolute_error\n",
        "sys_mae = mean_absolute_error(test_labels[:,0], bp_estimate[:,0])\n",
        "dia_mae = mean_absolute_error(test_labels[:,1], bp_estimate[:,1])\n",
        "print(\"Systolic MAE in test dataset:\", round(sys_mae,1))\n",
        "print(\"Diastolic MAE in test dataset:\", round(dia_mae,1))"
      ],
      "execution_count": null,
      "outputs": [
        {
          "output_type": "stream",
          "text": [
            "Systolic MAE in test dataset: 5.9\n",
            "Diastolic MAE in test dataset: 3.5\n"
          ],
          "name": "stdout"
        }
      ]
    },
    {
      "cell_type": "markdown",
      "metadata": {
        "id": "UXbrZ98NQMvV",
        "colab_type": "text"
      },
      "source": [
        "##3.2 Mean Difference"
      ]
    },
    {
      "cell_type": "code",
      "metadata": {
        "id": "tcRxfh-5QkkC",
        "colab_type": "code",
        "colab": {
          "base_uri": "https://localhost:8080/",
          "height": 52
        },
        "outputId": "6ec48c0d-ff7b-4749-bf05-102e86943b68"
      },
      "source": [
        "sys_diff_mean = np.mean(bp_estimate[:,0] - test_labels[:,0])\n",
        "sys_diff_std = np.std(bp_estimate[:,0] - test_labels[:,0])\n",
        "print(\"TEST DATASET: Mean value of Systolic BP differece between predicted value and ground truth:\", round(sys_diff_mean,1))\n",
        "print(\"TEST DATASET: Standard deviation of Systolic BP difference between predicted value and ground truth:\", round(sys_diff_std,1))"
      ],
      "execution_count": null,
      "outputs": [
        {
          "output_type": "stream",
          "text": [
            "TEST DATASET: Mean value of Systolic BP differece between predicted value and ground truth: 0.1\n",
            "TEST DATASET: Standard deviation of Systolic BP difference between predicted value and ground truth: 9.7\n"
          ],
          "name": "stdout"
        }
      ]
    },
    {
      "cell_type": "code",
      "metadata": {
        "id": "rqG4B--lRpRB",
        "colab_type": "code",
        "colab": {
          "base_uri": "https://localhost:8080/",
          "height": 52
        },
        "outputId": "7061018f-316b-436e-c5ae-3b64a6de002a"
      },
      "source": [
        "dia_diff_mean = np.mean(bp_estimate[:,1] - test_labels[:,1])\n",
        "dia_diff_std = np.std(bp_estimate[:,1] - test_labels[:,1])\n",
        "print(\"TEST DATASET: Mean value of Diastolic BP differece between predicted value and ground truth:\", round(dia_diff_mean,1))\n",
        "print(\"TEST DATASET: Standard deviation of Diastolic BP difference between predicted value and ground truth:\", round(dia_diff_std,1))"
      ],
      "execution_count": null,
      "outputs": [
        {
          "output_type": "stream",
          "text": [
            "TEST DATASET: Mean value of Diastolic BP differece between predicted value and ground truth: -0.0\n",
            "TEST DATASET: Standard deviation of Diastolic BP difference between predicted value and ground truth: 5.7\n"
          ],
          "name": "stdout"
        }
      ]
    },
    {
      "cell_type": "markdown",
      "metadata": {
        "id": "D2_HebUdTaFg",
        "colab_type": "text"
      },
      "source": [
        "##3.3 Hypertension Assessment"
      ]
    },
    {
      "cell_type": "code",
      "metadata": {
        "id": "7sCHj1pbTYHh",
        "colab_type": "code",
        "colab": {}
      },
      "source": [
        "#Confusion Matrix"
      ],
      "execution_count": null,
      "outputs": []
    },
    {
      "cell_type": "markdown",
      "metadata": {
        "id": "om0-0tBLQwXP",
        "colab_type": "text"
      },
      "source": [
        "#4.Model Computational Analysis"
      ]
    },
    {
      "cell_type": "markdown",
      "metadata": {
        "id": "Rs0agAIeNpS0",
        "colab_type": "text"
      },
      "source": [
        "##4.1 FLOPS"
      ]
    },
    {
      "cell_type": "code",
      "metadata": {
        "id": "7ue_O6rjZR3F",
        "colab_type": "code",
        "colab": {}
      },
      "source": [
        "def get_flops(model_h5_path):\n",
        "    session = tf.compat.v1.Session()\n",
        "    graph = tf.compat.v1.get_default_graph()\n",
        "        \n",
        "\n",
        "    with graph.as_default():\n",
        "        with session.as_default():\n",
        "            model = tf.keras.models.load_model(model_h5_path)\n",
        "\n",
        "            run_meta = tf.compat.v1.RunMetadata()\n",
        "            opts = tf.compat.v1.profiler.ProfileOptionBuilder.float_operation()\n",
        "        \n",
        "            # We use the Keras session graph in the call to the profiler.\n",
        "            flops = tf.compat.v1.profiler.profile(graph=graph,\n",
        "                                                  run_meta=run_meta, cmd='op', options=opts)\n",
        "        \n",
        "            return flops.total_float_ops"
      ],
      "execution_count": null,
      "outputs": []
    },
    {
      "cell_type": "code",
      "metadata": {
        "id": "-podbex1ZUn3",
        "colab_type": "code",
        "colab": {
          "base_uri": "https://localhost:8080/",
          "height": 267
        },
        "outputId": "b686057b-578f-4cbc-b02c-acdd18a3eaf0"
      },
      "source": [
        "FLOPS = get_flops('CCCC-Resnet18+LSTM+10ts-72-8.5513.hdf5')\n",
        "FLOPS"
      ],
      "execution_count": null,
      "outputs": [
        {
          "output_type": "stream",
          "text": [
            "WARNING:tensorflow:From C:\\Users\\57lzhang.US04WW4008\\Anaconda3\\lib\\site-packages\\tensorflow\\python\\ops\\resource_variable_ops.py:1666: calling BaseResourceVariable.__init__ (from tensorflow.python.ops.resource_variable_ops) with constraint is deprecated and will be removed in a future version.\n",
            "Instructions for updating:\n",
            "If using Keras pass *_constraint arguments to layers.\n",
            "WARNING:tensorflow:Layer lstm will not use cuDNN kernel since it doesn't meet the cuDNN kernel criteria. It will use generic GPU kernel as fallback when running on GPU\n",
            "WARNING:tensorflow:Layer lstm will not use cuDNN kernel since it doesn't meet the cuDNN kernel criteria. It will use generic GPU kernel as fallback when running on GPU\n",
            "WARNING:tensorflow:Layer lstm will not use cuDNN kernel since it doesn't meet the cuDNN kernel criteria. It will use generic GPU kernel as fallback when running on GPU\n",
            "WARNING:tensorflow:Layer lstm_1 will not use cuDNN kernel since it doesn't meet the cuDNN kernel criteria. It will use generic GPU kernel as fallback when running on GPU\n",
            "WARNING:tensorflow:Layer lstm_1 will not use cuDNN kernel since it doesn't meet the cuDNN kernel criteria. It will use generic GPU kernel as fallback when running on GPU\n",
            "WARNING:tensorflow:Layer lstm_1 will not use cuDNN kernel since it doesn't meet the cuDNN kernel criteria. It will use generic GPU kernel as fallback when running on GPU\n",
            "WARNING:tensorflow:From C:\\Users\\57lzhang.US04WW4008\\Anaconda3\\lib\\site-packages\\tensorflow\\python\\profiler\\internal\\flops_registry.py:142: tensor_shape_from_node_def_name (from tensorflow.python.framework.graph_util_impl) is deprecated and will be removed in a future version.\n",
            "Instructions for updating:\n",
            "Use `tf.compat.v1.graph_util.tensor_shape_from_node_def_name`\n"
          ],
          "name": "stdout"
        },
        {
          "output_type": "execute_result",
          "data": {
            "text/plain": [
              "11369834"
            ]
          },
          "metadata": {
            "tags": []
          },
          "execution_count": 25
        }
      ]
    },
    {
      "cell_type": "markdown",
      "metadata": {
        "id": "AteoMnoLRBcp",
        "colab_type": "text"
      },
      "source": [
        "##4.2 Layer FLOPS"
      ]
    },
    {
      "cell_type": "code",
      "metadata": {
        "id": "VjHlo3cZQ50G",
        "colab_type": "code",
        "colab": {}
      },
      "source": [
        ""
      ],
      "execution_count": null,
      "outputs": []
    },
    {
      "cell_type": "markdown",
      "metadata": {
        "id": "VBmCMFjlRSSU",
        "colab_type": "text"
      },
      "source": [
        "#5.Model Visualization"
      ]
    },
    {
      "cell_type": "markdown",
      "metadata": {
        "id": "xK1Ri0ScRWQl",
        "colab_type": "text"
      },
      "source": [
        "#5.1 Salient regions (t-SNE)"
      ]
    },
    {
      "cell_type": "code",
      "metadata": {
        "id": "0qW0O3zNRVp_",
        "colab_type": "code",
        "colab": {}
      },
      "source": [
        ""
      ],
      "execution_count": null,
      "outputs": []
    },
    {
      "cell_type": "markdown",
      "metadata": {
        "id": "hRlqPjG1RaVm",
        "colab_type": "text"
      },
      "source": [
        "##5.2 Low-level feature maps"
      ]
    },
    {
      "cell_type": "code",
      "metadata": {
        "id": "-TVPFtwoTlQ1",
        "colab_type": "code",
        "colab": {}
      },
      "source": [
        ""
      ],
      "execution_count": null,
      "outputs": []
    },
    {
      "cell_type": "markdown",
      "metadata": {
        "id": "LPgEJvIYTl4l",
        "colab_type": "text"
      },
      "source": [
        "##5.3 High-level feature space"
      ]
    },
    {
      "cell_type": "code",
      "metadata": {
        "id": "j82uwUk-ToQ6",
        "colab_type": "code",
        "colab": {}
      },
      "source": [
        ""
      ],
      "execution_count": null,
      "outputs": []
    }
  ]
}