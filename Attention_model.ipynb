{
  "nbformat": 4,
  "nbformat_minor": 0,
  "metadata": {
    "colab": {
      "name": "Attention model.ipynb",
      "provenance": [],
      "collapsed_sections": [],
      "authorship_tag": "ABX9TyPDiSJIkMWboVsk9nMFA8dM",
      "include_colab_link": true
    },
    "kernelspec": {
      "name": "python3",
      "display_name": "Python 3"
    }
  },
  "cells": [
    {
      "cell_type": "markdown",
      "metadata": {
        "id": "view-in-github",
        "colab_type": "text"
      },
      "source": [
        "<a href=\"https://colab.research.google.com/github/supertime1/BP_PPG/blob/master/Attention_model.ipynb\" target=\"_parent\"><img src=\"https://colab.research.google.com/assets/colab-badge.svg\" alt=\"Open In Colab\"/></a>"
      ]
    },
    {
      "cell_type": "markdown",
      "metadata": {
        "id": "KHWQSOaYMjx4",
        "colab_type": "text"
      },
      "source": [
        "#1.Introduction\n",
        "\n"
      ]
    },
    {
      "cell_type": "markdown",
      "metadata": {
        "id": "fdhd_z6rMqwP",
        "colab_type": "text"
      },
      "source": [
        "Train a model to estimate blood pressure: systolic and diastolic on 60s input PPG data"
      ]
    },
    {
      "cell_type": "markdown",
      "metadata": {
        "id": "rd55dI7yMr5J",
        "colab_type": "text"
      },
      "source": [
        "#2. Setup Environment"
      ]
    },
    {
      "cell_type": "code",
      "metadata": {
        "id": "MjDmZEgDNrKT",
        "colab_type": "code",
        "outputId": "56e0cb42-3e06-4d7d-ec74-ce17a21ca1f3",
        "colab": {
          "base_uri": "https://localhost:8080/",
          "height": 34
        }
      },
      "source": [
        "from IPython.display import display\n",
        "import pandas as pd\n",
        "import matplotlib.pyplot as plt\n",
        "%matplotlib inline\n",
        "%load_ext tensorboard\n",
        "import numpy as np\n",
        "import os\n",
        "import shutil\n",
        "import glob\n",
        "import tensorflow as tf\n",
        "from tensorflow import keras\n",
        "from tensorflow.keras import Model\n",
        "from tensorflow.keras.models import load_model \n",
        "from tensorflow.keras.callbacks import TensorBoard, ModelCheckpoint\n",
        "from tensorflow.keras.layers import Conv1D, BatchNormalization, Input, Add, Activation,\\\n",
        "MaxPooling1D,Dropout,Flatten,TimeDistributed,Bidirectional,Dense,LSTM, ZeroPadding1D, \\\n",
        "AveragePooling1D,GlobalMaxPooling1D, Concatenate, Permute, Dot, Multiply, RepeatVector,\\\n",
        "Lambda, Average\n",
        "from tensorflow.keras.initializers import glorot_uniform\n",
        "import tensorflow_datasets as tfds\n",
        "import multiprocessing\n",
        "from datetime import datetime\n",
        "import sklearn.metrics\n",
        "import itertools\n",
        "import io\n",
        "import pickle\n",
        "print(tf.__version__)"
      ],
      "execution_count": 1,
      "outputs": [
        {
          "output_type": "stream",
          "text": [
            "2.2.0\n"
          ],
          "name": "stdout"
        }
      ]
    },
    {
      "cell_type": "markdown",
      "metadata": {
        "id": "tWTp1PIDMvwe",
        "colab_type": "text"
      },
      "source": [
        "#3. Data Pipeline"
      ]
    },
    {
      "cell_type": "code",
      "metadata": {
        "id": "Iwdd-WA-Xtb1",
        "colab_type": "code",
        "colab": {}
      },
      "source": [
        "#load the data filename\n",
        "train_data_dir = r\"C:\\Users\\57lzhang.US04WW4008\\Desktop\\Blood pressure\\BP data\\train\\data_3*\"\n",
        "train_data_fn = glob.glob(train_data_dir)\n",
        "train_label_dir = r\"C:\\Users\\57lzhang.US04WW4008\\Desktop\\Blood pressure\\BP data\\train\\label_3*\"\n",
        "train_label_fn = glob.glob(train_label_dir)"
      ],
      "execution_count": 0,
      "outputs": []
    },
    {
      "cell_type": "code",
      "metadata": {
        "id": "Rs1pp9k0rv-0",
        "colab_type": "code",
        "colab": {}
      },
      "source": [
        "#run assert to make sure the data and label are in the same order\n",
        "for i in range(len(train_label_fn)):\n",
        "  assert(train_data_fn[i][-1] == train_label_fn[i][-1])"
      ],
      "execution_count": 0,
      "outputs": []
    },
    {
      "cell_type": "code",
      "metadata": {
        "id": "3hCQDlhZl-82",
        "colab_type": "code",
        "colab": {}
      },
      "source": [
        "val_data_dir = r\"C:\\Users\\57lzhang.US04WW4008\\Desktop\\Blood pressure\\BP data\\validation\\data_3*\"\n",
        "val_data_fn = glob.glob(val_data_dir)\n",
        "val_label_dir = r\"C:\\Users\\57lzhang.US04WW4008\\Desktop\\Blood pressure\\BP data\\validation\\label_3*\"\n",
        "val_label_fn = glob.glob(val_label_dir)"
      ],
      "execution_count": 0,
      "outputs": []
    },
    {
      "cell_type": "code",
      "metadata": {
        "id": "o0B1Vx6MuEQV",
        "colab_type": "code",
        "colab": {}
      },
      "source": [
        "for i in range(len(val_label_fn)):\n",
        "  assert(val_data_fn[i][-1] == val_label_fn[i][-1])"
      ],
      "execution_count": 0,
      "outputs": []
    },
    {
      "cell_type": "code",
      "metadata": {
        "id": "A2VNZfnc4XSJ",
        "colab_type": "code",
        "colab": {}
      },
      "source": [
        "#use generator to input data, since the data size(>160GB) is larger than memory size (64GB)\n",
        "def train_data_generator():\n",
        "  for i in range(len(train_data_fn)):\n",
        "    data = pickle.load(open(train_data_fn[i],'rb'))\n",
        "    yield data"
      ],
      "execution_count": 0,
      "outputs": []
    },
    {
      "cell_type": "code",
      "metadata": {
        "id": "lIhR3bhdmM5I",
        "colab_type": "code",
        "colab": {}
      },
      "source": [
        "def train_label_generator():\n",
        "  for i in range(len(train_label_fn)):\n",
        "    label = pickle.load(open(train_label_fn[i],'rb'))\n",
        "    yield label"
      ],
      "execution_count": 0,
      "outputs": []
    },
    {
      "cell_type": "code",
      "metadata": {
        "id": "tVq-AReq5U21",
        "colab_type": "code",
        "colab": {}
      },
      "source": [
        "def val_data_generator():\n",
        "  for i in range(len(val_data_fn)):\n",
        "    data = pickle.load(open(val_data_fn[i],'rb'))\n",
        "    yield data"
      ],
      "execution_count": 0,
      "outputs": []
    },
    {
      "cell_type": "code",
      "metadata": {
        "id": "rGfRW6NYmU0a",
        "colab_type": "code",
        "colab": {}
      },
      "source": [
        "def val_label_generator():\n",
        "  for i in range(len(val_label_fn)):\n",
        "    label = pickle.load(open(val_label_fn[i],'rb'))\n",
        "    yield label"
      ],
      "execution_count": 0,
      "outputs": []
    },
    {
      "cell_type": "code",
      "metadata": {
        "id": "THYmut6MnQb_",
        "colab_type": "code",
        "outputId": "6770814b-06cd-462b-d5d5-7dac8e533cea",
        "colab": {
          "base_uri": "https://localhost:8080/",
          "height": 34
        }
      },
      "source": [
        "#calculate number of elements in training for later use in shuffle and model.fit\n",
        "number_of_element = 0\n",
        "for i in range(len(train_label_fn)):\n",
        "  label = pickle.load(open(train_label_fn[i],'rb'))\n",
        "  number_of_element += len(label)\n",
        "print(\"There are in total\", number_of_element, \"in training dataset\")"
      ],
      "execution_count": 49,
      "outputs": [
        {
          "output_type": "stream",
          "text": [
            "There are in total 19490 in training dataset\n"
          ],
          "name": "stdout"
        }
      ]
    },
    {
      "cell_type": "code",
      "metadata": {
        "id": "ex9J_Ao0oGvN",
        "colab_type": "code",
        "outputId": "5a9333b8-28fe-402b-9420-dca1576707e8",
        "colab": {
          "base_uri": "https://localhost:8080/",
          "height": 34
        }
      },
      "source": [
        "#calculate number of elements in validation\n",
        "number_of_val_element = 0\n",
        "for i in range(len(val_label_fn)):\n",
        "  label = pickle.load(open(val_label_fn[i],'rb'))\n",
        "  number_of_val_element += len(label)\n",
        "print(\"There are in total\", number_of_val_element, \"in validation dataset\")"
      ],
      "execution_count": 50,
      "outputs": [
        {
          "output_type": "stream",
          "text": [
            "There are in total 2183 in validation dataset\n"
          ],
          "name": "stdout"
        }
      ]
    },
    {
      "cell_type": "code",
      "metadata": {
        "id": "YvnK7I8jCDKW",
        "colab_type": "code",
        "colab": {}
      },
      "source": [
        "n_a=32 #Number of pre-LSTM states\n",
        "n_s=16 #Number of post-LSTM states\n",
        "t_s0 = np.zeros((number_of_element, n_s))\n",
        "t_c0 = np.zeros((number_of_element, n_s))"
      ],
      "execution_count": 0,
      "outputs": []
    },
    {
      "cell_type": "code",
      "metadata": {
        "id": "4jFI5d1c4cQq",
        "colab_type": "code",
        "colab": {}
      },
      "source": [
        "#input the data by using generator and use flat_map to removing the \n",
        "#first dimension (number of elements) and flat all data\n",
        "train_data = tf.data.Dataset.from_generator(train_data_generator,(tf.float32),output_shapes=[None,10,750,1])\n",
        "train_label = tf.data.Dataset.from_generator(train_label_generator,(tf.float32),output_shapes=[None,2])\n",
        "train_ds = train_data.flat_map(lambda x: train_data.from_tensor_slices(x))\n",
        "train_lb = train_label.flat_map(lambda x: train_label.from_tensor_slices(x))\n",
        "train_s0 = tf.data.Dataset.from_tensor_slices(t_s0)\n",
        "train_c0 = tf.data.Dataset.from_tensor_slices(t_c0)\n",
        "train = tf.data.Dataset.zip(((train_ds,train_s0,train_c0),train_lb))"
      ],
      "execution_count": 0,
      "outputs": []
    },
    {
      "cell_type": "code",
      "metadata": {
        "id": "dwAlzKeGvzVJ",
        "colab_type": "code",
        "colab": {}
      },
      "source": [
        "v_s0 = np.zeros((number_of_val_element, n_s))\n",
        "v_c0 = np.zeros((number_of_val_element, n_s))"
      ],
      "execution_count": 0,
      "outputs": []
    },
    {
      "cell_type": "code",
      "metadata": {
        "id": "KWSWFqN24c_M",
        "colab_type": "code",
        "colab": {}
      },
      "source": [
        "#do the same to validation\n",
        "val_data = tf.data.Dataset.from_generator(val_data_generator,(tf.float32),output_shapes=[None,10,750,1])\n",
        "val_label = tf.data.Dataset.from_generator(val_label_generator,(tf.float32),output_shapes=[None,2])\n",
        "val_ds = val_data.flat_map(lambda x: val_data.from_tensor_slices(x))\n",
        "val_lb = val_label.flat_map(lambda x: val_label.from_tensor_slices(x))\n",
        "val_s0 = tf.data.Dataset.from_tensor_slices(v_s0)\n",
        "val_c0 = tf.data.Dataset.from_tensor_slices(v_c0)\n",
        "validation = tf.data.Dataset.zip(((val_ds,val_s0, val_c0),val_lb))"
      ],
      "execution_count": 0,
      "outputs": []
    },
    {
      "cell_type": "code",
      "metadata": {
        "colab_type": "code",
        "id": "0eNX0PYsGMtE",
        "colab": {}
      },
      "source": [
        "batch_size = 64\n",
        "train_dataset = train.cache()\n",
        "train_dataset = train_dataset.shuffle(number_of_element//10).repeat().batch(batch_size,drop_remainder=True)\n",
        "train_dataset = train_dataset.prefetch(buffer_size = tf.data.experimental.AUTOTUNE)\n",
        "val_dataset = validation.repeat().batch(batch_size, drop_remainder=True)"
      ],
      "execution_count": 0,
      "outputs": []
    },
    {
      "cell_type": "code",
      "metadata": {
        "id": "RCuGHoe2Qg-Q",
        "colab_type": "code",
        "colab": {
          "base_uri": "https://localhost:8080/",
          "height": 34
        },
        "outputId": "03b730ab-9f96-4613-c955-519e36737849"
      },
      "source": [
        "train_dataset"
      ],
      "execution_count": 91,
      "outputs": [
        {
          "output_type": "execute_result",
          "data": {
            "text/plain": [
              "<PrefetchDataset shapes: (((64, 10, 750, 1), (64, 16), (64, 16)), (64, 2)), types: ((tf.float32, tf.float64, tf.float64), tf.float32)>"
            ]
          },
          "metadata": {
            "tags": []
          },
          "execution_count": 91
        }
      ]
    },
    {
      "cell_type": "code",
      "metadata": {
        "id": "TCcf-GTnQjAl",
        "colab_type": "code",
        "colab": {
          "base_uri": "https://localhost:8080/",
          "height": 34
        },
        "outputId": "5ab287a3-71d3-41d4-fbb9-70565029b3a2"
      },
      "source": [
        "val_dataset"
      ],
      "execution_count": 92,
      "outputs": [
        {
          "output_type": "execute_result",
          "data": {
            "text/plain": [
              "<BatchDataset shapes: (((64, 10, 750, 1), (64, 16), (64, 16)), (64, 2)), types: ((tf.float32, tf.float64, tf.float64), tf.float32)>"
            ]
          },
          "metadata": {
            "tags": []
          },
          "execution_count": 92
        }
      ]
    },
    {
      "cell_type": "markdown",
      "metadata": {
        "id": "8FZyNFOSM4wA",
        "colab_type": "text"
      },
      "source": [
        "#4. Train Model"
      ]
    },
    {
      "cell_type": "markdown",
      "metadata": {
        "id": "BgipsJ1qNLmw",
        "colab_type": "text"
      },
      "source": [
        "##4.1 Define model"
      ]
    },
    {
      "cell_type": "code",
      "metadata": {
        "id": "azITSoM_2FGb",
        "colab_type": "code",
        "colab": {}
      },
      "source": [
        "def identity_block_18(X, f, filters, stage, block):\n",
        "\n",
        "    # defining name basis\n",
        "    conv_name_base = 'res' + str(stage) + block + '_branch'\n",
        "    bn_name_base = 'bn' + str(stage) + block + '_branch'\n",
        "    \n",
        "    # Retrieve Filters\n",
        "    F1, F2 = filters\n",
        "    \n",
        "    # Save the input value. You'll need this later to add back to the main path. \n",
        "    X_shortcut = X\n",
        "    \n",
        "    # First component of main path\n",
        "    X = Conv1D(filters = F1, kernel_size = f, strides = 1, padding = 'same', name = conv_name_base + '2a', kernel_initializer = glorot_uniform(seed=0))(X)\n",
        "    X = BatchNormalization(axis = 2, name = bn_name_base + '2a')(X)\n",
        "    X = Activation('relu')(X)\n",
        "\n",
        "    \n",
        "    # Second component of main path \n",
        "    X = Conv1D(filters = F2, kernel_size = f, strides = 1, padding = 'same', name = conv_name_base + '2b', kernel_initializer = glorot_uniform(seed=0))(X)\n",
        "    X = BatchNormalization(axis = 2, name = bn_name_base + '2b')(X)\n",
        "    X = Activation('relu')(X)\n",
        "\n",
        "    # Final step: Add shortcut value to main path, and pass it through a RELU activation \n",
        "    X = Add()([X, X_shortcut])\n",
        "    X = Activation('relu')(X)\n",
        "    \n",
        "    \n",
        "    return X"
      ],
      "execution_count": 0,
      "outputs": []
    },
    {
      "cell_type": "code",
      "metadata": {
        "id": "pmh6EkhM2HkI",
        "colab_type": "code",
        "colab": {}
      },
      "source": [
        "def ResNet18(input_shape=(750, 1), classes=1):\n",
        "\n",
        "    # Define the input as a tensor with shape input_shape\n",
        "    X_input = Input(input_shape)\n",
        "\n",
        "    # Zero-Padding\n",
        "    X = ZeroPadding1D(3)(X_input)\n",
        "\n",
        "    # Stage 1\n",
        "    X = Conv1D(64, 7, strides=2, name='conv1', kernel_initializer=glorot_uniform(seed=0))(X)\n",
        "    X = BatchNormalization(axis=2, name='bn_conv1')(X)\n",
        "    X = Activation('relu')(X)\n",
        "    X = MaxPooling1D(3, strides=2)(X)\n",
        "\n",
        "    # Stage 2\n",
        "    X = identity_block_18(X, 3, [64, 64], stage=2, block='a')\n",
        "    X = identity_block_18(X, 3, [64, 64], stage=2, block='b')\n",
        "\n",
        "\n",
        "    # Stage 3 (2 lines)\n",
        "    X = convolutional_block_18(X, f = 3, filters = [128, 128], stage = 3, block='a', s = 2)\n",
        "    X = identity_block_18(X, 3, [128, 128], stage=3, block='b')\n",
        "\n",
        "\n",
        "    # Stage 4 (2 lines)\n",
        "    X = convolutional_block_18(X, f = 3, filters = [256, 256], stage = 4, block='a', s = 2)\n",
        "    X = identity_block_18(X, 3, [256, 256], stage=4, block='b')\n",
        "\n",
        "    # Stage 5 (2 lines)\n",
        "    X = convolutional_block_18(X, f = 3, filters = [512, 512], stage = 5, block='a', s = 2)\n",
        "    X = identity_block_18(X, 3, [512, 512], stage=5, block='b')\n",
        "\n",
        "\n",
        "    # AVGPOOL (1 line).\n",
        "    X = AveragePooling1D(2, name=\"avg_pool\")(X)\n",
        "\n",
        "    # output layer\n",
        "    X = Flatten()(X)\n",
        "    \n",
        "    \n",
        "    #X = Dense(classes, activation='sigmoid', name='fc' + str(classes), kernel_initializer = glorot_uniform(seed=0))(X)\n",
        "    \n",
        "    \n",
        "    #Create model\n",
        "    model = Model(inputs = X_input, outputs = X, name='ResNet18')\n",
        "\n",
        "    return model"
      ],
      "execution_count": 0,
      "outputs": []
    },
    {
      "cell_type": "code",
      "metadata": {
        "id": "HiJzvHsa2GbT",
        "colab_type": "code",
        "colab": {}
      },
      "source": [
        "def convolutional_block_18(X, f, filters, stage, block, s = 2):\n",
        "    \n",
        "    # defining name basis\n",
        "    conv_name_base = 'res' + str(stage) + block + '_branch'\n",
        "    bn_name_base = 'bn' + str(stage) + block + '_branch'\n",
        "    \n",
        "    # Retrieve Filters\n",
        "    F1, F2 = filters\n",
        "    \n",
        "    # Save the input value\n",
        "    X_shortcut = X\n",
        "\n",
        "\n",
        "    ##### MAIN PATH #####\n",
        "    # First component of main path \n",
        "    X = Conv1D(filters = F1, kernel_size = f, strides = s, padding = 'valid', name = conv_name_base + '2a', kernel_initializer = glorot_uniform(seed=0))(X)\n",
        "    X = BatchNormalization(axis = 2, name = bn_name_base + '2a')(X)\n",
        "    X = Activation('relu')(X)\n",
        "\n",
        "    # Second component of main path (≈3 lines)\n",
        "    X = Conv1D(filters = F2, kernel_size = f, strides = 1, padding = 'same', name = conv_name_base + '2b', kernel_initializer = glorot_uniform(seed=0))(X)\n",
        "    X = BatchNormalization(axis = 2, name = bn_name_base + '2b')(X)\n",
        "    X = Activation('relu')(X)\n",
        "\n",
        "\n",
        "    ##### SHORTCUT PATH #### (≈2 lines)\n",
        "    X_shortcut = Conv1D(filters = F1, kernel_size = f, strides = s, padding = 'valid', name = conv_name_base + '1',\n",
        "                        kernel_initializer = glorot_uniform(seed=0))(X_shortcut)\n",
        "    X_shortcut = BatchNormalization(axis = 2, name = bn_name_base + '1')(X_shortcut)\n",
        "\n",
        "    # Final step: Add shortcut value to main path, and pass it through a RELU activation (≈2 lines)\n",
        "    X = Add()([X, X_shortcut])\n",
        "    X = Activation('relu')(X)\n",
        "    \n",
        "    \n",
        "    return X"
      ],
      "execution_count": 0,
      "outputs": []
    },
    {
      "cell_type": "code",
      "metadata": {
        "id": "n1CzBGm1ih-a",
        "colab_type": "code",
        "colab": {}
      },
      "source": [
        "def one_step_attention(a, s_prev): \n",
        "  \"\"\"\n",
        "  Performs one step of attention: Outputs a context vector computed as a dot product of the attention weights\n",
        "  \"alphas\" and the hidden states \"a\" of the Bi-LSTM.\n",
        "  \n",
        "  Arguments:\n",
        "  a -- hidden state output of the Bi-LSTM, numpy-array of shape (m, Tx, 2*n_a)\n",
        "  s_prev -- previous hidden state of the (post-attention) LSTM, numpy-array of shape (m, n_s)\n",
        "  \n",
        "  Returns:\n",
        "  context -- context vector, input of the next (post-attention) LSTM cell\n",
        "  \"\"\"\n",
        "  s_prev = RepeatVector(Tx)(s_prev)\n",
        "  concat = Concatenate(axis=-1)([a, s_prev])\n",
        "  e = Dense(10, activation = \"tanh\")(concat)\n",
        "  energies = Dense(1, activation = \"relu\")(e)\n",
        "  alphas = tf.nn.softmax(energies,axis=1)\n",
        "  context = Dot(axes = 1)([alphas,a])\n",
        "  \n",
        "  return context"
      ],
      "execution_count": 0,
      "outputs": []
    },
    {
      "cell_type": "code",
      "metadata": {
        "id": "fPFAxAD0IDwO",
        "colab_type": "code",
        "colab": {}
      },
      "source": [
        "def Resnet18_Attention(Tx, Ty, n_a, n_s, output_size,input_image_size):\n",
        "  \n",
        "  #define resnet\n",
        "  resnet = ResNet18(input_shape = (input_image_size,1), classes = 1)\n",
        "  \n",
        "  X_input = Input(shape = (Tx, input_image_size,1))\n",
        "  \n",
        "  X = tf.keras.layers.TimeDistributed(resnet)(X_input)\n",
        "\n",
        "  s0 = Input(shape = (n_s, ), name = 's0')\n",
        "  c0 = Input(shape = (n_s, ), name = 'c0')\n",
        "  s = s0\n",
        "  c = c0\n",
        "\n",
        "  #Initialize empty list of outputs\n",
        "  outputs = []\n",
        "\n",
        "  a = Bidirectional(LSTM(n_a, return_sequences=True))(X)\n",
        "\n",
        "  for t in range(Ty):\n",
        "    context = one_step_attention(a, s)\n",
        "    s, _, c = LSTM(n_s, return_state = True)(context, initial_state = [s, c])\n",
        "    out = Dense(output_size)(s)\n",
        "    #act = tf.nn.softmax(out, axis=1)\n",
        "    outputs.append(out)\n",
        "  \n",
        "  outputs = Average()(outputs)\n",
        "  model = Model(inputs = (X_input, s0, c0), outputs = outputs)\n",
        "\n",
        "  return model"
      ],
      "execution_count": 0,
      "outputs": []
    },
    {
      "cell_type": "code",
      "metadata": {
        "id": "cmSizTCmtSIG",
        "colab_type": "code",
        "colab": {}
      },
      "source": [
        "Tx=10 #Number of input images\n",
        "Ty=10 #Number of post-LSTM cells\n",
        "n_a= n_a #Number of pre-LSTM states\n",
        "n_s= n_s #Number of post-LSTM states\n",
        "input_image_size=750 #Input image size\n",
        "output_size=2 #output of each post-LSTM cells before applying the FINAL dense layer"
      ],
      "execution_count": 0,
      "outputs": []
    },
    {
      "cell_type": "code",
      "metadata": {
        "id": "XZjQcgxoYKeb",
        "colab_type": "code",
        "colab": {}
      },
      "source": [
        "resnet18_attention = Resnet18_Attention(Tx, Ty, n_a, n_s, output_size,input_image_size)"
      ],
      "execution_count": 0,
      "outputs": []
    },
    {
      "cell_type": "code",
      "metadata": {
        "id": "UAlXP2Wy9N5c",
        "colab_type": "code",
        "outputId": "66e712fa-c0e5-4ad8-d67f-ab94b6243d03",
        "colab": {
          "base_uri": "https://localhost:8080/",
          "height": 1000
        }
      },
      "source": [
        "resnet18_attention.summary()\n",
        "keras.utils.plot_model(resnet18_attention,show_shapes=True)"
      ],
      "execution_count": 96,
      "outputs": [
        {
          "output_type": "stream",
          "text": [
            "Model: \"model_1\"\n",
            "__________________________________________________________________________________________________\n",
            "Layer (type)                    Output Shape         Param #     Connected to                     \n",
            "==================================================================================================\n",
            "input_4 (InputLayer)            [(None, 10, 750, 1)] 0                                            \n",
            "__________________________________________________________________________________________________\n",
            "time_distributed_1 (TimeDistrib (None, 10, 5632)     4202368     input_4[0][0]                    \n",
            "__________________________________________________________________________________________________\n",
            "s0 (InputLayer)                 [(None, 16)]         0                                            \n",
            "__________________________________________________________________________________________________\n",
            "bidirectional_1 (Bidirectional) (None, 10, 64)       1450240     time_distributed_1[0][0]         \n",
            "__________________________________________________________________________________________________\n",
            "repeat_vector_10 (RepeatVector) (None, 10, 16)       0           s0[0][0]                         \n",
            "__________________________________________________________________________________________________\n",
            "concatenate_10 (Concatenate)    (None, 10, 80)       0           bidirectional_1[0][0]            \n",
            "                                                                 repeat_vector_10[0][0]           \n",
            "__________________________________________________________________________________________________\n",
            "dense_30 (Dense)                (None, 10, 10)       810         concatenate_10[0][0]             \n",
            "__________________________________________________________________________________________________\n",
            "dense_31 (Dense)                (None, 10, 1)        11          dense_30[0][0]                   \n",
            "__________________________________________________________________________________________________\n",
            "tf_op_layer_Transpose_20 (Tenso [(None, 1, 10)]      0           dense_31[0][0]                   \n",
            "__________________________________________________________________________________________________\n",
            "tf_op_layer_Softmax_10 (TensorF [(None, 1, 10)]      0           tf_op_layer_Transpose_20[0][0]   \n",
            "__________________________________________________________________________________________________\n",
            "tf_op_layer_Transpose_21 (Tenso [(None, 10, 1)]      0           tf_op_layer_Softmax_10[0][0]     \n",
            "__________________________________________________________________________________________________\n",
            "dot_10 (Dot)                    (None, 1, 64)        0           tf_op_layer_Transpose_21[0][0]   \n",
            "                                                                 bidirectional_1[0][0]            \n",
            "__________________________________________________________________________________________________\n",
            "c0 (InputLayer)                 [(None, 16)]         0                                            \n",
            "__________________________________________________________________________________________________\n",
            "lstm_12 (LSTM)                  [(None, 16), (None,  5184        dot_10[0][0]                     \n",
            "                                                                 s0[0][0]                         \n",
            "                                                                 c0[0][0]                         \n",
            "__________________________________________________________________________________________________\n",
            "repeat_vector_11 (RepeatVector) (None, 10, 16)       0           lstm_12[0][0]                    \n",
            "__________________________________________________________________________________________________\n",
            "concatenate_11 (Concatenate)    (None, 10, 80)       0           bidirectional_1[0][0]            \n",
            "                                                                 repeat_vector_11[0][0]           \n",
            "__________________________________________________________________________________________________\n",
            "dense_33 (Dense)                (None, 10, 10)       810         concatenate_11[0][0]             \n",
            "__________________________________________________________________________________________________\n",
            "dense_34 (Dense)                (None, 10, 1)        11          dense_33[0][0]                   \n",
            "__________________________________________________________________________________________________\n",
            "tf_op_layer_Transpose_22 (Tenso [(None, 1, 10)]      0           dense_34[0][0]                   \n",
            "__________________________________________________________________________________________________\n",
            "tf_op_layer_Softmax_11 (TensorF [(None, 1, 10)]      0           tf_op_layer_Transpose_22[0][0]   \n",
            "__________________________________________________________________________________________________\n",
            "tf_op_layer_Transpose_23 (Tenso [(None, 10, 1)]      0           tf_op_layer_Softmax_11[0][0]     \n",
            "__________________________________________________________________________________________________\n",
            "dot_11 (Dot)                    (None, 1, 64)        0           tf_op_layer_Transpose_23[0][0]   \n",
            "                                                                 bidirectional_1[0][0]            \n",
            "__________________________________________________________________________________________________\n",
            "lstm_13 (LSTM)                  [(None, 16), (None,  5184        dot_11[0][0]                     \n",
            "                                                                 lstm_12[0][0]                    \n",
            "                                                                 lstm_12[0][2]                    \n",
            "__________________________________________________________________________________________________\n",
            "repeat_vector_12 (RepeatVector) (None, 10, 16)       0           lstm_13[0][0]                    \n",
            "__________________________________________________________________________________________________\n",
            "concatenate_12 (Concatenate)    (None, 10, 80)       0           bidirectional_1[0][0]            \n",
            "                                                                 repeat_vector_12[0][0]           \n",
            "__________________________________________________________________________________________________\n",
            "dense_36 (Dense)                (None, 10, 10)       810         concatenate_12[0][0]             \n",
            "__________________________________________________________________________________________________\n",
            "dense_37 (Dense)                (None, 10, 1)        11          dense_36[0][0]                   \n",
            "__________________________________________________________________________________________________\n",
            "tf_op_layer_Transpose_24 (Tenso [(None, 1, 10)]      0           dense_37[0][0]                   \n",
            "__________________________________________________________________________________________________\n",
            "tf_op_layer_Softmax_12 (TensorF [(None, 1, 10)]      0           tf_op_layer_Transpose_24[0][0]   \n",
            "__________________________________________________________________________________________________\n",
            "tf_op_layer_Transpose_25 (Tenso [(None, 10, 1)]      0           tf_op_layer_Softmax_12[0][0]     \n",
            "__________________________________________________________________________________________________\n",
            "dot_12 (Dot)                    (None, 1, 64)        0           tf_op_layer_Transpose_25[0][0]   \n",
            "                                                                 bidirectional_1[0][0]            \n",
            "__________________________________________________________________________________________________\n",
            "lstm_14 (LSTM)                  [(None, 16), (None,  5184        dot_12[0][0]                     \n",
            "                                                                 lstm_13[0][0]                    \n",
            "                                                                 lstm_13[0][2]                    \n",
            "__________________________________________________________________________________________________\n",
            "repeat_vector_13 (RepeatVector) (None, 10, 16)       0           lstm_14[0][0]                    \n",
            "__________________________________________________________________________________________________\n",
            "concatenate_13 (Concatenate)    (None, 10, 80)       0           bidirectional_1[0][0]            \n",
            "                                                                 repeat_vector_13[0][0]           \n",
            "__________________________________________________________________________________________________\n",
            "dense_39 (Dense)                (None, 10, 10)       810         concatenate_13[0][0]             \n",
            "__________________________________________________________________________________________________\n",
            "dense_40 (Dense)                (None, 10, 1)        11          dense_39[0][0]                   \n",
            "__________________________________________________________________________________________________\n",
            "tf_op_layer_Transpose_26 (Tenso [(None, 1, 10)]      0           dense_40[0][0]                   \n",
            "__________________________________________________________________________________________________\n",
            "tf_op_layer_Softmax_13 (TensorF [(None, 1, 10)]      0           tf_op_layer_Transpose_26[0][0]   \n",
            "__________________________________________________________________________________________________\n",
            "tf_op_layer_Transpose_27 (Tenso [(None, 10, 1)]      0           tf_op_layer_Softmax_13[0][0]     \n",
            "__________________________________________________________________________________________________\n",
            "dot_13 (Dot)                    (None, 1, 64)        0           tf_op_layer_Transpose_27[0][0]   \n",
            "                                                                 bidirectional_1[0][0]            \n",
            "__________________________________________________________________________________________________\n",
            "lstm_15 (LSTM)                  [(None, 16), (None,  5184        dot_13[0][0]                     \n",
            "                                                                 lstm_14[0][0]                    \n",
            "                                                                 lstm_14[0][2]                    \n",
            "__________________________________________________________________________________________________\n",
            "repeat_vector_14 (RepeatVector) (None, 10, 16)       0           lstm_15[0][0]                    \n",
            "__________________________________________________________________________________________________\n",
            "concatenate_14 (Concatenate)    (None, 10, 80)       0           bidirectional_1[0][0]            \n",
            "                                                                 repeat_vector_14[0][0]           \n",
            "__________________________________________________________________________________________________\n",
            "dense_42 (Dense)                (None, 10, 10)       810         concatenate_14[0][0]             \n",
            "__________________________________________________________________________________________________\n",
            "dense_43 (Dense)                (None, 10, 1)        11          dense_42[0][0]                   \n",
            "__________________________________________________________________________________________________\n",
            "tf_op_layer_Transpose_28 (Tenso [(None, 1, 10)]      0           dense_43[0][0]                   \n",
            "__________________________________________________________________________________________________\n",
            "tf_op_layer_Softmax_14 (TensorF [(None, 1, 10)]      0           tf_op_layer_Transpose_28[0][0]   \n",
            "__________________________________________________________________________________________________\n",
            "tf_op_layer_Transpose_29 (Tenso [(None, 10, 1)]      0           tf_op_layer_Softmax_14[0][0]     \n",
            "__________________________________________________________________________________________________\n",
            "dot_14 (Dot)                    (None, 1, 64)        0           tf_op_layer_Transpose_29[0][0]   \n",
            "                                                                 bidirectional_1[0][0]            \n",
            "__________________________________________________________________________________________________\n",
            "lstm_16 (LSTM)                  [(None, 16), (None,  5184        dot_14[0][0]                     \n",
            "                                                                 lstm_15[0][0]                    \n",
            "                                                                 lstm_15[0][2]                    \n",
            "__________________________________________________________________________________________________\n",
            "repeat_vector_15 (RepeatVector) (None, 10, 16)       0           lstm_16[0][0]                    \n",
            "__________________________________________________________________________________________________\n",
            "concatenate_15 (Concatenate)    (None, 10, 80)       0           bidirectional_1[0][0]            \n",
            "                                                                 repeat_vector_15[0][0]           \n",
            "__________________________________________________________________________________________________\n",
            "dense_45 (Dense)                (None, 10, 10)       810         concatenate_15[0][0]             \n",
            "__________________________________________________________________________________________________\n",
            "dense_46 (Dense)                (None, 10, 1)        11          dense_45[0][0]                   \n",
            "__________________________________________________________________________________________________\n",
            "tf_op_layer_Transpose_30 (Tenso [(None, 1, 10)]      0           dense_46[0][0]                   \n",
            "__________________________________________________________________________________________________\n",
            "tf_op_layer_Softmax_15 (TensorF [(None, 1, 10)]      0           tf_op_layer_Transpose_30[0][0]   \n",
            "__________________________________________________________________________________________________\n",
            "tf_op_layer_Transpose_31 (Tenso [(None, 10, 1)]      0           tf_op_layer_Softmax_15[0][0]     \n",
            "__________________________________________________________________________________________________\n",
            "dot_15 (Dot)                    (None, 1, 64)        0           tf_op_layer_Transpose_31[0][0]   \n",
            "                                                                 bidirectional_1[0][0]            \n",
            "__________________________________________________________________________________________________\n",
            "lstm_17 (LSTM)                  [(None, 16), (None,  5184        dot_15[0][0]                     \n",
            "                                                                 lstm_16[0][0]                    \n",
            "                                                                 lstm_16[0][2]                    \n",
            "__________________________________________________________________________________________________\n",
            "repeat_vector_16 (RepeatVector) (None, 10, 16)       0           lstm_17[0][0]                    \n",
            "__________________________________________________________________________________________________\n",
            "concatenate_16 (Concatenate)    (None, 10, 80)       0           bidirectional_1[0][0]            \n",
            "                                                                 repeat_vector_16[0][0]           \n",
            "__________________________________________________________________________________________________\n",
            "dense_48 (Dense)                (None, 10, 10)       810         concatenate_16[0][0]             \n",
            "__________________________________________________________________________________________________\n",
            "dense_49 (Dense)                (None, 10, 1)        11          dense_48[0][0]                   \n",
            "__________________________________________________________________________________________________\n",
            "tf_op_layer_Transpose_32 (Tenso [(None, 1, 10)]      0           dense_49[0][0]                   \n",
            "__________________________________________________________________________________________________\n",
            "tf_op_layer_Softmax_16 (TensorF [(None, 1, 10)]      0           tf_op_layer_Transpose_32[0][0]   \n",
            "__________________________________________________________________________________________________\n",
            "tf_op_layer_Transpose_33 (Tenso [(None, 10, 1)]      0           tf_op_layer_Softmax_16[0][0]     \n",
            "__________________________________________________________________________________________________\n",
            "dot_16 (Dot)                    (None, 1, 64)        0           tf_op_layer_Transpose_33[0][0]   \n",
            "                                                                 bidirectional_1[0][0]            \n",
            "__________________________________________________________________________________________________\n",
            "lstm_18 (LSTM)                  [(None, 16), (None,  5184        dot_16[0][0]                     \n",
            "                                                                 lstm_17[0][0]                    \n",
            "                                                                 lstm_17[0][2]                    \n",
            "__________________________________________________________________________________________________\n",
            "repeat_vector_17 (RepeatVector) (None, 10, 16)       0           lstm_18[0][0]                    \n",
            "__________________________________________________________________________________________________\n",
            "concatenate_17 (Concatenate)    (None, 10, 80)       0           bidirectional_1[0][0]            \n",
            "                                                                 repeat_vector_17[0][0]           \n",
            "__________________________________________________________________________________________________\n",
            "dense_51 (Dense)                (None, 10, 10)       810         concatenate_17[0][0]             \n",
            "__________________________________________________________________________________________________\n",
            "dense_52 (Dense)                (None, 10, 1)        11          dense_51[0][0]                   \n",
            "__________________________________________________________________________________________________\n",
            "tf_op_layer_Transpose_34 (Tenso [(None, 1, 10)]      0           dense_52[0][0]                   \n",
            "__________________________________________________________________________________________________\n",
            "tf_op_layer_Softmax_17 (TensorF [(None, 1, 10)]      0           tf_op_layer_Transpose_34[0][0]   \n",
            "__________________________________________________________________________________________________\n",
            "tf_op_layer_Transpose_35 (Tenso [(None, 10, 1)]      0           tf_op_layer_Softmax_17[0][0]     \n",
            "__________________________________________________________________________________________________\n",
            "dot_17 (Dot)                    (None, 1, 64)        0           tf_op_layer_Transpose_35[0][0]   \n",
            "                                                                 bidirectional_1[0][0]            \n",
            "__________________________________________________________________________________________________\n",
            "lstm_19 (LSTM)                  [(None, 16), (None,  5184        dot_17[0][0]                     \n",
            "                                                                 lstm_18[0][0]                    \n",
            "                                                                 lstm_18[0][2]                    \n",
            "__________________________________________________________________________________________________\n",
            "repeat_vector_18 (RepeatVector) (None, 10, 16)       0           lstm_19[0][0]                    \n",
            "__________________________________________________________________________________________________\n",
            "concatenate_18 (Concatenate)    (None, 10, 80)       0           bidirectional_1[0][0]            \n",
            "                                                                 repeat_vector_18[0][0]           \n",
            "__________________________________________________________________________________________________\n",
            "dense_54 (Dense)                (None, 10, 10)       810         concatenate_18[0][0]             \n",
            "__________________________________________________________________________________________________\n",
            "dense_55 (Dense)                (None, 10, 1)        11          dense_54[0][0]                   \n",
            "__________________________________________________________________________________________________\n",
            "tf_op_layer_Transpose_36 (Tenso [(None, 1, 10)]      0           dense_55[0][0]                   \n",
            "__________________________________________________________________________________________________\n",
            "tf_op_layer_Softmax_18 (TensorF [(None, 1, 10)]      0           tf_op_layer_Transpose_36[0][0]   \n",
            "__________________________________________________________________________________________________\n",
            "tf_op_layer_Transpose_37 (Tenso [(None, 10, 1)]      0           tf_op_layer_Softmax_18[0][0]     \n",
            "__________________________________________________________________________________________________\n",
            "dot_18 (Dot)                    (None, 1, 64)        0           tf_op_layer_Transpose_37[0][0]   \n",
            "                                                                 bidirectional_1[0][0]            \n",
            "__________________________________________________________________________________________________\n",
            "lstm_20 (LSTM)                  [(None, 16), (None,  5184        dot_18[0][0]                     \n",
            "                                                                 lstm_19[0][0]                    \n",
            "                                                                 lstm_19[0][2]                    \n",
            "__________________________________________________________________________________________________\n",
            "repeat_vector_19 (RepeatVector) (None, 10, 16)       0           lstm_20[0][0]                    \n",
            "__________________________________________________________________________________________________\n",
            "concatenate_19 (Concatenate)    (None, 10, 80)       0           bidirectional_1[0][0]            \n",
            "                                                                 repeat_vector_19[0][0]           \n",
            "__________________________________________________________________________________________________\n",
            "dense_57 (Dense)                (None, 10, 10)       810         concatenate_19[0][0]             \n",
            "__________________________________________________________________________________________________\n",
            "dense_58 (Dense)                (None, 10, 1)        11          dense_57[0][0]                   \n",
            "__________________________________________________________________________________________________\n",
            "tf_op_layer_Transpose_38 (Tenso [(None, 1, 10)]      0           dense_58[0][0]                   \n",
            "__________________________________________________________________________________________________\n",
            "tf_op_layer_Softmax_19 (TensorF [(None, 1, 10)]      0           tf_op_layer_Transpose_38[0][0]   \n",
            "__________________________________________________________________________________________________\n",
            "tf_op_layer_Transpose_39 (Tenso [(None, 10, 1)]      0           tf_op_layer_Softmax_19[0][0]     \n",
            "__________________________________________________________________________________________________\n",
            "dot_19 (Dot)                    (None, 1, 64)        0           tf_op_layer_Transpose_39[0][0]   \n",
            "                                                                 bidirectional_1[0][0]            \n",
            "__________________________________________________________________________________________________\n",
            "lstm_21 (LSTM)                  [(None, 16), (None,  5184        dot_19[0][0]                     \n",
            "                                                                 lstm_20[0][0]                    \n",
            "                                                                 lstm_20[0][2]                    \n",
            "__________________________________________________________________________________________________\n",
            "dense_32 (Dense)                (None, 2)            34          lstm_12[0][0]                    \n",
            "__________________________________________________________________________________________________\n",
            "dense_35 (Dense)                (None, 2)            34          lstm_13[0][0]                    \n",
            "__________________________________________________________________________________________________\n",
            "dense_38 (Dense)                (None, 2)            34          lstm_14[0][0]                    \n",
            "__________________________________________________________________________________________________\n",
            "dense_41 (Dense)                (None, 2)            34          lstm_15[0][0]                    \n",
            "__________________________________________________________________________________________________\n",
            "dense_44 (Dense)                (None, 2)            34          lstm_16[0][0]                    \n",
            "__________________________________________________________________________________________________\n",
            "dense_47 (Dense)                (None, 2)            34          lstm_17[0][0]                    \n",
            "__________________________________________________________________________________________________\n",
            "dense_50 (Dense)                (None, 2)            34          lstm_18[0][0]                    \n",
            "__________________________________________________________________________________________________\n",
            "dense_53 (Dense)                (None, 2)            34          lstm_19[0][0]                    \n",
            "__________________________________________________________________________________________________\n",
            "dense_56 (Dense)                (None, 2)            34          lstm_20[0][0]                    \n",
            "__________________________________________________________________________________________________\n",
            "dense_59 (Dense)                (None, 2)            34          lstm_21[0][0]                    \n",
            "__________________________________________________________________________________________________\n",
            "average_1 (Average)             (None, 2)            0           dense_32[0][0]                   \n",
            "                                                                 dense_35[0][0]                   \n",
            "                                                                 dense_38[0][0]                   \n",
            "                                                                 dense_41[0][0]                   \n",
            "                                                                 dense_44[0][0]                   \n",
            "                                                                 dense_47[0][0]                   \n",
            "                                                                 dense_50[0][0]                   \n",
            "                                                                 dense_53[0][0]                   \n",
            "                                                                 dense_56[0][0]                   \n",
            "                                                                 dense_59[0][0]                   \n",
            "==================================================================================================\n",
            "Total params: 5,712,998\n",
            "Trainable params: 5,703,398\n",
            "Non-trainable params: 9,600\n",
            "__________________________________________________________________________________________________\n",
            "Failed to import pydot. You must install pydot and graphviz for `pydotprint` to work.\n"
          ],
          "name": "stdout"
        }
      ]
    },
    {
      "cell_type": "markdown",
      "metadata": {
        "id": "TBBXqBAONQhH",
        "colab_type": "text"
      },
      "source": [
        "##4.2 Define callbacks"
      ]
    },
    {
      "cell_type": "markdown",
      "metadata": {
        "id": "vD8quc5CXwa5",
        "colab_type": "text"
      },
      "source": [
        "###4.2.1 Tensorboard"
      ]
    },
    {
      "cell_type": "code",
      "metadata": {
        "id": "T7h_p1YnXz1R",
        "colab_type": "code",
        "colab": {}
      },
      "source": [
        "#callback: tensorboard\n",
        "log_dir=r\"C:\\Users\\57lzhang.US04WW4008\\Desktop\\Blood pressure\\BP data\\models\\125Hz 10mmHg\\ResNet-18+Attention\\\\\" + datetime.now().strftime(\"%Y%m%d-%H%M%S\") +\"ResNet-18+Attention+10ts\"\n",
        "tensorboard_callback = TensorBoard(log_dir=log_dir, histogram_freq=1)"
      ],
      "execution_count": 0,
      "outputs": []
    },
    {
      "cell_type": "markdown",
      "metadata": {
        "id": "rcdMgfv1YClx",
        "colab_type": "text"
      },
      "source": [
        "###4.2.2 Checkpoint"
      ]
    },
    {
      "cell_type": "code",
      "metadata": {
        "id": "OSqNrDZ_YKFv",
        "colab_type": "code",
        "colab": {}
      },
      "source": [
        "#callback: checkpoint\n",
        "filepath = r\"C:\\Users\\57lzhang.US04WW4008\\Desktop\\Blood pressure\\BP data\\models\\125Hz 10mmHg\\ResNet-18+Attention\\ResNet-18+Attention+10ts-{epoch:02d}-{loss:.4f}.hdf5\"\n",
        "checkpoint = ModelCheckpoint(filepath, monitor='loss', verbose=1, save_best_only=True, mode='auto')"
      ],
      "execution_count": 0,
      "outputs": []
    },
    {
      "cell_type": "code",
      "metadata": {
        "id": "-eqeVT1uTeOn",
        "colab_type": "code",
        "outputId": "ca13ddb4-970e-4af7-a609-316aec332514",
        "colab": {
          "base_uri": "https://localhost:8080/",
          "height": 1000
        }
      },
      "source": [
        "#clear history if necessary\n",
        "tf.keras.backend.clear_session()\n",
        "#strategy = tf.distribute.MirroredStrategy(cross_device_ops=tf.distribute.HierarchicalCopyAllReduce()) ##to overwrite NCCL cross device communication as this is running in Windows\n",
        "#with strategy.scope():\n",
        "\n",
        "\n",
        "#model = model\n",
        "#model.load_weights(r'C:\\Users\\57lzhang.US04WW4008\\Desktop\\Blood pressure\\BP data\\models\\125Hz 10mmHg\\ResNet-18+LSTM\\CCCCCC-Resnet18+LSTM+10ts-42-5.2190.hdf5')\n",
        "resnet18_attention.compile(optimizer=tf.keras.optimizers.Adam(learning_rate = 0.01), \n",
        "              loss='mse', \n",
        "              metrics=['mae'])\n",
        "\n",
        "callbacks_list = [tensorboard_callback, checkpoint]\n",
        "\n",
        "#start training\n",
        "resnet18_attention.fit(train_dataset,\n",
        "          epochs=300,\n",
        "          steps_per_epoch = number_of_element//batch_size,\n",
        "          verbose=1,\n",
        "          validation_data=val_dataset,\n",
        "          validation_steps=number_of_val_element//batch_size,\n",
        "          callbacks=callbacks_list\n",
        "          )"
      ],
      "execution_count": 99,
      "outputs": [
        {
          "output_type": "stream",
          "text": [
            "Epoch 1/300\n",
            "  2/304 [..............................] - ETA: 3:40 - loss: 9696.4473 - mae: 90.4546WARNING:tensorflow:Method (on_train_batch_end) is slow compared to the batch update (0.540480). Check your callbacks.\n",
            "304/304 [==============================] - ETA: 0s - loss: 8053.1875 - mae: 79.3498\n",
            "Epoch 00001: loss improved from inf to 8053.18750, saving model to C:\\Users\\57lzhang.US04WW4008\\Desktop\\Blood pressure\\BP data\\models\\125Hz 10mmHg\\ResNet-18+Attention\\ResNet-18+Attention+10ts-01-8053.1875.hdf5\n",
            "304/304 [==============================] - 140s 460ms/step - loss: 8053.1875 - mae: 79.3498 - val_loss: 5236.3335 - val_mae: 60.0042\n",
            "Epoch 2/300\n",
            "304/304 [==============================] - ETA: 0s - loss: 3507.6855 - mae: 46.9012\n",
            "Epoch 00002: loss improved from 8053.18750 to 3507.68555, saving model to C:\\Users\\57lzhang.US04WW4008\\Desktop\\Blood pressure\\BP data\\models\\125Hz 10mmHg\\ResNet-18+Attention\\ResNet-18+Attention+10ts-02-3507.6855.hdf5\n",
            "304/304 [==============================] - 142s 467ms/step - loss: 3507.6855 - mae: 46.9012 - val_loss: 2298.4514 - val_mae: 36.7538\n",
            "Epoch 3/300\n",
            "304/304 [==============================] - ETA: 0s - loss: 1538.6628 - mae: 29.5496\n",
            "Epoch 00003: loss improved from 3507.68555 to 1538.66284, saving model to C:\\Users\\57lzhang.US04WW4008\\Desktop\\Blood pressure\\BP data\\models\\125Hz 10mmHg\\ResNet-18+Attention\\ResNet-18+Attention+10ts-03-1538.6628.hdf5\n",
            "304/304 [==============================] - 140s 461ms/step - loss: 1538.6628 - mae: 29.5496 - val_loss: 1047.6830 - val_mae: 24.4188\n",
            "Epoch 4/300\n",
            "304/304 [==============================] - ETA: 0s - loss: 755.4126 - mae: 20.4773\n",
            "Epoch 00004: loss improved from 1538.66284 to 755.41260, saving model to C:\\Users\\57lzhang.US04WW4008\\Desktop\\Blood pressure\\BP data\\models\\125Hz 10mmHg\\ResNet-18+Attention\\ResNet-18+Attention+10ts-04-755.4126.hdf5\n",
            "304/304 [==============================] - 140s 461ms/step - loss: 755.4126 - mae: 20.4773 - val_loss: 594.9496 - val_mae: 18.7614\n",
            "Epoch 5/300\n",
            "304/304 [==============================] - ETA: 0s - loss: 502.8074 - mae: 17.1039\n",
            "Epoch 00005: loss improved from 755.41260 to 502.80737, saving model to C:\\Users\\57lzhang.US04WW4008\\Desktop\\Blood pressure\\BP data\\models\\125Hz 10mmHg\\ResNet-18+Attention\\ResNet-18+Attention+10ts-05-502.8074.hdf5\n",
            "304/304 [==============================] - 139s 458ms/step - loss: 502.8074 - mae: 17.1039 - val_loss: 468.0309 - val_mae: 16.9075\n",
            "Epoch 6/300\n",
            "304/304 [==============================] - ETA: 0s - loss: 441.8395 - mae: 16.2258\n",
            "Epoch 00006: loss improved from 502.80737 to 441.83954, saving model to C:\\Users\\57lzhang.US04WW4008\\Desktop\\Blood pressure\\BP data\\models\\125Hz 10mmHg\\ResNet-18+Attention\\ResNet-18+Attention+10ts-06-441.8395.hdf5\n",
            "304/304 [==============================] - 139s 456ms/step - loss: 441.8395 - mae: 16.2258 - val_loss: 441.5514 - val_mae: 16.5107\n",
            "Epoch 7/300\n",
            " 83/304 [=======>......................] - ETA: 1:37 - loss: 445.5193 - mae: 16.4407"
          ],
          "name": "stdout"
        },
        {
          "output_type": "error",
          "ename": "KeyboardInterrupt",
          "evalue": "ignored",
          "traceback": [
            "\u001b[1;31m---------------------------------------------------------------------------\u001b[0m",
            "\u001b[1;31mKeyboardInterrupt\u001b[0m                         Traceback (most recent call last)",
            "\u001b[1;32m<ipython-input-99-556271389331>\u001b[0m in \u001b[0;36m<module>\u001b[1;34m\u001b[0m\n\u001b[0;32m     20\u001b[0m           \u001b[0mvalidation_data\u001b[0m\u001b[1;33m=\u001b[0m\u001b[0mval_dataset\u001b[0m\u001b[1;33m,\u001b[0m\u001b[1;33m\u001b[0m\u001b[1;33m\u001b[0m\u001b[0m\n\u001b[0;32m     21\u001b[0m           \u001b[0mvalidation_steps\u001b[0m\u001b[1;33m=\u001b[0m\u001b[0mnumber_of_val_element\u001b[0m\u001b[1;33m//\u001b[0m\u001b[0mbatch_size\u001b[0m\u001b[1;33m,\u001b[0m\u001b[1;33m\u001b[0m\u001b[1;33m\u001b[0m\u001b[0m\n\u001b[1;32m---> 22\u001b[1;33m           \u001b[0mcallbacks\u001b[0m\u001b[1;33m=\u001b[0m\u001b[0mcallbacks_list\u001b[0m\u001b[1;33m\u001b[0m\u001b[1;33m\u001b[0m\u001b[0m\n\u001b[0m\u001b[0;32m     23\u001b[0m           )\n",
            "\u001b[1;32m~\\Anaconda3\\lib\\site-packages\\tensorflow\\python\\keras\\engine\\training.py\u001b[0m in \u001b[0;36m_method_wrapper\u001b[1;34m(self, *args, **kwargs)\u001b[0m\n\u001b[0;32m     64\u001b[0m   \u001b[1;32mdef\u001b[0m \u001b[0m_method_wrapper\u001b[0m\u001b[1;33m(\u001b[0m\u001b[0mself\u001b[0m\u001b[1;33m,\u001b[0m \u001b[1;33m*\u001b[0m\u001b[0margs\u001b[0m\u001b[1;33m,\u001b[0m \u001b[1;33m**\u001b[0m\u001b[0mkwargs\u001b[0m\u001b[1;33m)\u001b[0m\u001b[1;33m:\u001b[0m\u001b[1;33m\u001b[0m\u001b[1;33m\u001b[0m\u001b[0m\n\u001b[0;32m     65\u001b[0m     \u001b[1;32mif\u001b[0m \u001b[1;32mnot\u001b[0m \u001b[0mself\u001b[0m\u001b[1;33m.\u001b[0m\u001b[0m_in_multi_worker_mode\u001b[0m\u001b[1;33m(\u001b[0m\u001b[1;33m)\u001b[0m\u001b[1;33m:\u001b[0m  \u001b[1;31m# pylint: disable=protected-access\u001b[0m\u001b[1;33m\u001b[0m\u001b[1;33m\u001b[0m\u001b[0m\n\u001b[1;32m---> 66\u001b[1;33m       \u001b[1;32mreturn\u001b[0m \u001b[0mmethod\u001b[0m\u001b[1;33m(\u001b[0m\u001b[0mself\u001b[0m\u001b[1;33m,\u001b[0m \u001b[1;33m*\u001b[0m\u001b[0margs\u001b[0m\u001b[1;33m,\u001b[0m \u001b[1;33m**\u001b[0m\u001b[0mkwargs\u001b[0m\u001b[1;33m)\u001b[0m\u001b[1;33m\u001b[0m\u001b[1;33m\u001b[0m\u001b[0m\n\u001b[0m\u001b[0;32m     67\u001b[0m \u001b[1;33m\u001b[0m\u001b[0m\n\u001b[0;32m     68\u001b[0m     \u001b[1;31m# Running inside `run_distribute_coordinator` already.\u001b[0m\u001b[1;33m\u001b[0m\u001b[1;33m\u001b[0m\u001b[1;33m\u001b[0m\u001b[0m\n",
            "\u001b[1;32m~\\Anaconda3\\lib\\site-packages\\tensorflow\\python\\keras\\engine\\training.py\u001b[0m in \u001b[0;36mfit\u001b[1;34m(self, x, y, batch_size, epochs, verbose, callbacks, validation_split, validation_data, shuffle, class_weight, sample_weight, initial_epoch, steps_per_epoch, validation_steps, validation_batch_size, validation_freq, max_queue_size, workers, use_multiprocessing)\u001b[0m\n\u001b[0;32m    853\u001b[0m                 \u001b[0mcontext\u001b[0m\u001b[1;33m.\u001b[0m\u001b[0masync_wait\u001b[0m\u001b[1;33m(\u001b[0m\u001b[1;33m)\u001b[0m\u001b[1;33m\u001b[0m\u001b[1;33m\u001b[0m\u001b[0m\n\u001b[0;32m    854\u001b[0m               \u001b[0mlogs\u001b[0m \u001b[1;33m=\u001b[0m \u001b[0mtmp_logs\u001b[0m  \u001b[1;31m# No error, now safe to assign to logs.\u001b[0m\u001b[1;33m\u001b[0m\u001b[1;33m\u001b[0m\u001b[0m\n\u001b[1;32m--> 855\u001b[1;33m               \u001b[0mcallbacks\u001b[0m\u001b[1;33m.\u001b[0m\u001b[0mon_train_batch_end\u001b[0m\u001b[1;33m(\u001b[0m\u001b[0mstep\u001b[0m\u001b[1;33m,\u001b[0m \u001b[0mlogs\u001b[0m\u001b[1;33m)\u001b[0m\u001b[1;33m\u001b[0m\u001b[1;33m\u001b[0m\u001b[0m\n\u001b[0m\u001b[0;32m    856\u001b[0m         \u001b[0mepoch_logs\u001b[0m \u001b[1;33m=\u001b[0m \u001b[0mcopy\u001b[0m\u001b[1;33m.\u001b[0m\u001b[0mcopy\u001b[0m\u001b[1;33m(\u001b[0m\u001b[0mlogs\u001b[0m\u001b[1;33m)\u001b[0m\u001b[1;33m\u001b[0m\u001b[1;33m\u001b[0m\u001b[0m\n\u001b[0;32m    857\u001b[0m \u001b[1;33m\u001b[0m\u001b[0m\n",
            "\u001b[1;32m~\\Anaconda3\\lib\\site-packages\\tensorflow\\python\\keras\\callbacks.py\u001b[0m in \u001b[0;36mon_train_batch_end\u001b[1;34m(self, batch, logs)\u001b[0m\n\u001b[0;32m    387\u001b[0m     \"\"\"\n\u001b[0;32m    388\u001b[0m     \u001b[1;32mif\u001b[0m \u001b[0mself\u001b[0m\u001b[1;33m.\u001b[0m\u001b[0m_should_call_train_batch_hooks\u001b[0m\u001b[1;33m:\u001b[0m\u001b[1;33m\u001b[0m\u001b[1;33m\u001b[0m\u001b[0m\n\u001b[1;32m--> 389\u001b[1;33m       \u001b[0mlogs\u001b[0m \u001b[1;33m=\u001b[0m \u001b[0mself\u001b[0m\u001b[1;33m.\u001b[0m\u001b[0m_process_logs\u001b[0m\u001b[1;33m(\u001b[0m\u001b[0mlogs\u001b[0m\u001b[1;33m)\u001b[0m\u001b[1;33m\u001b[0m\u001b[1;33m\u001b[0m\u001b[0m\n\u001b[0m\u001b[0;32m    390\u001b[0m       \u001b[0mself\u001b[0m\u001b[1;33m.\u001b[0m\u001b[0m_call_batch_hook\u001b[0m\u001b[1;33m(\u001b[0m\u001b[0mModeKeys\u001b[0m\u001b[1;33m.\u001b[0m\u001b[0mTRAIN\u001b[0m\u001b[1;33m,\u001b[0m \u001b[1;34m'end'\u001b[0m\u001b[1;33m,\u001b[0m \u001b[0mbatch\u001b[0m\u001b[1;33m,\u001b[0m \u001b[0mlogs\u001b[0m\u001b[1;33m=\u001b[0m\u001b[0mlogs\u001b[0m\u001b[1;33m)\u001b[0m\u001b[1;33m\u001b[0m\u001b[1;33m\u001b[0m\u001b[0m\n\u001b[0;32m    391\u001b[0m \u001b[1;33m\u001b[0m\u001b[0m\n",
            "\u001b[1;32m~\\Anaconda3\\lib\\site-packages\\tensorflow\\python\\keras\\callbacks.py\u001b[0m in \u001b[0;36m_process_logs\u001b[1;34m(self, logs)\u001b[0m\n\u001b[0;32m    263\u001b[0m     \u001b[1;34m\"\"\"Turns tensors into numpy arrays or Python scalars.\"\"\"\u001b[0m\u001b[1;33m\u001b[0m\u001b[1;33m\u001b[0m\u001b[0m\n\u001b[0;32m    264\u001b[0m     \u001b[1;32mif\u001b[0m \u001b[0mlogs\u001b[0m\u001b[1;33m:\u001b[0m\u001b[1;33m\u001b[0m\u001b[1;33m\u001b[0m\u001b[0m\n\u001b[1;32m--> 265\u001b[1;33m       \u001b[1;32mreturn\u001b[0m \u001b[0mtf_utils\u001b[0m\u001b[1;33m.\u001b[0m\u001b[0mto_numpy_or_python_type\u001b[0m\u001b[1;33m(\u001b[0m\u001b[0mlogs\u001b[0m\u001b[1;33m)\u001b[0m\u001b[1;33m\u001b[0m\u001b[1;33m\u001b[0m\u001b[0m\n\u001b[0m\u001b[0;32m    266\u001b[0m     \u001b[1;32mreturn\u001b[0m \u001b[1;33m{\u001b[0m\u001b[1;33m}\u001b[0m\u001b[1;33m\u001b[0m\u001b[1;33m\u001b[0m\u001b[0m\n\u001b[0;32m    267\u001b[0m \u001b[1;33m\u001b[0m\u001b[0m\n",
            "\u001b[1;32m~\\Anaconda3\\lib\\site-packages\\tensorflow\\python\\keras\\utils\\tf_utils.py\u001b[0m in \u001b[0;36mto_numpy_or_python_type\u001b[1;34m(tensors)\u001b[0m\n\u001b[0;32m    521\u001b[0m     \u001b[1;32mreturn\u001b[0m \u001b[0mt\u001b[0m  \u001b[1;31m# Don't turn ragged or sparse tensors to NumPy.\u001b[0m\u001b[1;33m\u001b[0m\u001b[1;33m\u001b[0m\u001b[0m\n\u001b[0;32m    522\u001b[0m \u001b[1;33m\u001b[0m\u001b[0m\n\u001b[1;32m--> 523\u001b[1;33m   \u001b[1;32mreturn\u001b[0m \u001b[0mnest\u001b[0m\u001b[1;33m.\u001b[0m\u001b[0mmap_structure\u001b[0m\u001b[1;33m(\u001b[0m\u001b[0m_to_single_numpy_or_python_type\u001b[0m\u001b[1;33m,\u001b[0m \u001b[0mtensors\u001b[0m\u001b[1;33m)\u001b[0m\u001b[1;33m\u001b[0m\u001b[1;33m\u001b[0m\u001b[0m\n\u001b[0m\u001b[0;32m    524\u001b[0m \u001b[1;33m\u001b[0m\u001b[0m\n",
            "\u001b[1;32m~\\Anaconda3\\lib\\site-packages\\tensorflow\\python\\util\\nest.py\u001b[0m in \u001b[0;36mmap_structure\u001b[1;34m(func, *structure, **kwargs)\u001b[0m\n\u001b[0;32m    615\u001b[0m \u001b[1;33m\u001b[0m\u001b[0m\n\u001b[0;32m    616\u001b[0m   return pack_sequence_as(\n\u001b[1;32m--> 617\u001b[1;33m       \u001b[0mstructure\u001b[0m\u001b[1;33m[\u001b[0m\u001b[1;36m0\u001b[0m\u001b[1;33m]\u001b[0m\u001b[1;33m,\u001b[0m \u001b[1;33m[\u001b[0m\u001b[0mfunc\u001b[0m\u001b[1;33m(\u001b[0m\u001b[1;33m*\u001b[0m\u001b[0mx\u001b[0m\u001b[1;33m)\u001b[0m \u001b[1;32mfor\u001b[0m \u001b[0mx\u001b[0m \u001b[1;32min\u001b[0m \u001b[0mentries\u001b[0m\u001b[1;33m]\u001b[0m\u001b[1;33m,\u001b[0m\u001b[1;33m\u001b[0m\u001b[1;33m\u001b[0m\u001b[0m\n\u001b[0m\u001b[0;32m    618\u001b[0m       expand_composites=expand_composites)\n\u001b[0;32m    619\u001b[0m \u001b[1;33m\u001b[0m\u001b[0m\n",
            "\u001b[1;32m~\\Anaconda3\\lib\\site-packages\\tensorflow\\python\\util\\nest.py\u001b[0m in \u001b[0;36m<listcomp>\u001b[1;34m(.0)\u001b[0m\n\u001b[0;32m    615\u001b[0m \u001b[1;33m\u001b[0m\u001b[0m\n\u001b[0;32m    616\u001b[0m   return pack_sequence_as(\n\u001b[1;32m--> 617\u001b[1;33m       \u001b[0mstructure\u001b[0m\u001b[1;33m[\u001b[0m\u001b[1;36m0\u001b[0m\u001b[1;33m]\u001b[0m\u001b[1;33m,\u001b[0m \u001b[1;33m[\u001b[0m\u001b[0mfunc\u001b[0m\u001b[1;33m(\u001b[0m\u001b[1;33m*\u001b[0m\u001b[0mx\u001b[0m\u001b[1;33m)\u001b[0m \u001b[1;32mfor\u001b[0m \u001b[0mx\u001b[0m \u001b[1;32min\u001b[0m \u001b[0mentries\u001b[0m\u001b[1;33m]\u001b[0m\u001b[1;33m,\u001b[0m\u001b[1;33m\u001b[0m\u001b[1;33m\u001b[0m\u001b[0m\n\u001b[0m\u001b[0;32m    618\u001b[0m       expand_composites=expand_composites)\n\u001b[0;32m    619\u001b[0m \u001b[1;33m\u001b[0m\u001b[0m\n",
            "\u001b[1;32m~\\Anaconda3\\lib\\site-packages\\tensorflow\\python\\keras\\utils\\tf_utils.py\u001b[0m in \u001b[0;36m_to_single_numpy_or_python_type\u001b[1;34m(t)\u001b[0m\n\u001b[0;32m    517\u001b[0m   \u001b[1;32mdef\u001b[0m \u001b[0m_to_single_numpy_or_python_type\u001b[0m\u001b[1;33m(\u001b[0m\u001b[0mt\u001b[0m\u001b[1;33m)\u001b[0m\u001b[1;33m:\u001b[0m\u001b[1;33m\u001b[0m\u001b[1;33m\u001b[0m\u001b[0m\n\u001b[0;32m    518\u001b[0m     \u001b[1;32mif\u001b[0m \u001b[0misinstance\u001b[0m\u001b[1;33m(\u001b[0m\u001b[0mt\u001b[0m\u001b[1;33m,\u001b[0m \u001b[0mops\u001b[0m\u001b[1;33m.\u001b[0m\u001b[0mTensor\u001b[0m\u001b[1;33m)\u001b[0m\u001b[1;33m:\u001b[0m\u001b[1;33m\u001b[0m\u001b[1;33m\u001b[0m\u001b[0m\n\u001b[1;32m--> 519\u001b[1;33m       \u001b[0mx\u001b[0m \u001b[1;33m=\u001b[0m \u001b[0mt\u001b[0m\u001b[1;33m.\u001b[0m\u001b[0mnumpy\u001b[0m\u001b[1;33m(\u001b[0m\u001b[1;33m)\u001b[0m\u001b[1;33m\u001b[0m\u001b[1;33m\u001b[0m\u001b[0m\n\u001b[0m\u001b[0;32m    520\u001b[0m       \u001b[1;32mreturn\u001b[0m \u001b[0mx\u001b[0m\u001b[1;33m.\u001b[0m\u001b[0mitem\u001b[0m\u001b[1;33m(\u001b[0m\u001b[1;33m)\u001b[0m \u001b[1;32mif\u001b[0m \u001b[0mnp\u001b[0m\u001b[1;33m.\u001b[0m\u001b[0mndim\u001b[0m\u001b[1;33m(\u001b[0m\u001b[0mx\u001b[0m\u001b[1;33m)\u001b[0m \u001b[1;33m==\u001b[0m \u001b[1;36m0\u001b[0m \u001b[1;32melse\u001b[0m \u001b[0mx\u001b[0m\u001b[1;33m\u001b[0m\u001b[1;33m\u001b[0m\u001b[0m\n\u001b[0;32m    521\u001b[0m     \u001b[1;32mreturn\u001b[0m \u001b[0mt\u001b[0m  \u001b[1;31m# Don't turn ragged or sparse tensors to NumPy.\u001b[0m\u001b[1;33m\u001b[0m\u001b[1;33m\u001b[0m\u001b[0m\n",
            "\u001b[1;32m~\\Anaconda3\\lib\\site-packages\\tensorflow\\python\\framework\\ops.py\u001b[0m in \u001b[0;36mnumpy\u001b[1;34m(self)\u001b[0m\n\u001b[0;32m    959\u001b[0m     \"\"\"\n\u001b[0;32m    960\u001b[0m     \u001b[1;31m# TODO(slebedev): Consider avoiding a copy for non-CPU or remote tensors.\u001b[0m\u001b[1;33m\u001b[0m\u001b[1;33m\u001b[0m\u001b[1;33m\u001b[0m\u001b[0m\n\u001b[1;32m--> 961\u001b[1;33m     \u001b[0mmaybe_arr\u001b[0m \u001b[1;33m=\u001b[0m \u001b[0mself\u001b[0m\u001b[1;33m.\u001b[0m\u001b[0m_numpy\u001b[0m\u001b[1;33m(\u001b[0m\u001b[1;33m)\u001b[0m  \u001b[1;31m# pylint: disable=protected-access\u001b[0m\u001b[1;33m\u001b[0m\u001b[1;33m\u001b[0m\u001b[0m\n\u001b[0m\u001b[0;32m    962\u001b[0m     \u001b[1;32mreturn\u001b[0m \u001b[0mmaybe_arr\u001b[0m\u001b[1;33m.\u001b[0m\u001b[0mcopy\u001b[0m\u001b[1;33m(\u001b[0m\u001b[1;33m)\u001b[0m \u001b[1;32mif\u001b[0m \u001b[0misinstance\u001b[0m\u001b[1;33m(\u001b[0m\u001b[0mmaybe_arr\u001b[0m\u001b[1;33m,\u001b[0m \u001b[0mnp\u001b[0m\u001b[1;33m.\u001b[0m\u001b[0mndarray\u001b[0m\u001b[1;33m)\u001b[0m \u001b[1;32melse\u001b[0m \u001b[0mmaybe_arr\u001b[0m\u001b[1;33m\u001b[0m\u001b[1;33m\u001b[0m\u001b[0m\n\u001b[0;32m    963\u001b[0m \u001b[1;33m\u001b[0m\u001b[0m\n",
            "\u001b[1;32m~\\Anaconda3\\lib\\site-packages\\tensorflow\\python\\framework\\ops.py\u001b[0m in \u001b[0;36m_numpy\u001b[1;34m(self)\u001b[0m\n\u001b[0;32m    925\u001b[0m     \u001b[1;31m# pylint: disable=protected-access\u001b[0m\u001b[1;33m\u001b[0m\u001b[1;33m\u001b[0m\u001b[1;33m\u001b[0m\u001b[0m\n\u001b[0;32m    926\u001b[0m     \u001b[1;32mtry\u001b[0m\u001b[1;33m:\u001b[0m\u001b[1;33m\u001b[0m\u001b[1;33m\u001b[0m\u001b[0m\n\u001b[1;32m--> 927\u001b[1;33m       \u001b[1;32mreturn\u001b[0m \u001b[0mself\u001b[0m\u001b[1;33m.\u001b[0m\u001b[0m_numpy_internal\u001b[0m\u001b[1;33m(\u001b[0m\u001b[1;33m)\u001b[0m\u001b[1;33m\u001b[0m\u001b[1;33m\u001b[0m\u001b[0m\n\u001b[0m\u001b[0;32m    928\u001b[0m     \u001b[1;32mexcept\u001b[0m \u001b[0mcore\u001b[0m\u001b[1;33m.\u001b[0m\u001b[0m_NotOkStatusException\u001b[0m \u001b[1;32mas\u001b[0m \u001b[0me\u001b[0m\u001b[1;33m:\u001b[0m\u001b[1;33m\u001b[0m\u001b[1;33m\u001b[0m\u001b[0m\n\u001b[0;32m    929\u001b[0m       \u001b[0msix\u001b[0m\u001b[1;33m.\u001b[0m\u001b[0mraise_from\u001b[0m\u001b[1;33m(\u001b[0m\u001b[0mcore\u001b[0m\u001b[1;33m.\u001b[0m\u001b[0m_status_to_exception\u001b[0m\u001b[1;33m(\u001b[0m\u001b[0me\u001b[0m\u001b[1;33m.\u001b[0m\u001b[0mcode\u001b[0m\u001b[1;33m,\u001b[0m \u001b[0me\u001b[0m\u001b[1;33m.\u001b[0m\u001b[0mmessage\u001b[0m\u001b[1;33m)\u001b[0m\u001b[1;33m,\u001b[0m \u001b[1;32mNone\u001b[0m\u001b[1;33m)\u001b[0m\u001b[1;33m\u001b[0m\u001b[1;33m\u001b[0m\u001b[0m\n",
            "\u001b[1;31mKeyboardInterrupt\u001b[0m: "
          ]
        }
      ]
    },
    {
      "cell_type": "markdown",
      "metadata": {
        "id": "IfnasVq2Tqjg",
        "colab_type": "text"
      },
      "source": [
        "# 5.Model Evaluation"
      ]
    },
    {
      "cell_type": "code",
      "metadata": {
        "id": "nZyzAHekTsy5",
        "colab_type": "code",
        "colab": {}
      },
      "source": [
        "os.chdir(r\"C:\\Users\\57lzhang.US04WW4008\\Desktop\\Blood pressure\\BP data\\models\\125Hz 10mmHg\\ResNet-18+LSTM\")\n",
        "model = tf.keras.models.load_model('7C-Resnet18+LSTM+10ts-48-3.9742.hdf5')"
      ],
      "execution_count": 0,
      "outputs": []
    },
    {
      "cell_type": "markdown",
      "metadata": {
        "id": "6aMp1YpLTw7C",
        "colab_type": "text"
      },
      "source": [
        "## 5.1 MAE"
      ]
    },
    {
      "cell_type": "code",
      "metadata": {
        "id": "XP6T2rA43zvp",
        "colab_type": "code",
        "colab": {}
      },
      "source": [
        "with open('C:/Users/57lzhang.US04WW4008/Desktop/Blood pressure/BP data/test/test_data', \"rb\") as fp:\n",
        "  test_data = pickle.load(fp)"
      ],
      "execution_count": 0,
      "outputs": []
    },
    {
      "cell_type": "code",
      "metadata": {
        "id": "GJaJEX5ThxKu",
        "colab_type": "code",
        "colab": {}
      },
      "source": [
        "with open(\"C:/Users/57lzhang.US04WW4008/Desktop/Blood pressure/BP data/test/test_labels\", \"rb\") as fp:\n",
        "  test_labels = pickle.load(fp)"
      ],
      "execution_count": 0,
      "outputs": []
    },
    {
      "cell_type": "code",
      "metadata": {
        "id": "ao2Pj44kiXgL",
        "colab_type": "code",
        "colab": {}
      },
      "source": [
        "test_data = np.asarray(test_data)"
      ],
      "execution_count": 0,
      "outputs": []
    },
    {
      "cell_type": "code",
      "metadata": {
        "id": "oHAzrXqdaXl6",
        "colab_type": "code",
        "colab": {}
      },
      "source": [
        "test_labels = np.asarray(test_labels)"
      ],
      "execution_count": 0,
      "outputs": []
    },
    {
      "cell_type": "code",
      "metadata": {
        "id": "2ScA5IlA-G84",
        "colab_type": "code",
        "colab": {}
      },
      "source": [
        "bp_estimate=model.predict(test_data)"
      ],
      "execution_count": 0,
      "outputs": []
    },
    {
      "cell_type": "code",
      "metadata": {
        "id": "HGR81k40A44c",
        "colab_type": "code",
        "outputId": "f6ecbde8-d84a-447e-fb70-84e32a225ac9",
        "colab": {
          "base_uri": "https://localhost:8080/",
          "height": 52
        }
      },
      "source": [
        "from sklearn.metrics import mean_absolute_error\n",
        "sys_mae = mean_absolute_error(test_labels[:,0], bp_estimate[:,0])\n",
        "dia_mae = mean_absolute_error(test_labels[:,1], bp_estimate[:,1])\n",
        "print(\"Systolic MAE in test dataset:\", round(sys_mae,1))\n",
        "print(\"Diastolic MAE in test dataset:\", round(dia_mae,1))"
      ],
      "execution_count": 0,
      "outputs": [
        {
          "output_type": "stream",
          "text": [
            "Systolic MAE in test dataset: 6.6\n",
            "Diastolic MAE in test dataset: 4.1\n"
          ],
          "name": "stdout"
        }
      ]
    },
    {
      "cell_type": "markdown",
      "metadata": {
        "id": "Rs0agAIeNpS0",
        "colab_type": "text"
      },
      "source": [
        "##5.2 FLOPS"
      ]
    },
    {
      "cell_type": "code",
      "metadata": {
        "id": "7ue_O6rjZR3F",
        "colab_type": "code",
        "colab": {}
      },
      "source": [
        "def get_flops(model_h5_path):\n",
        "    session = tf.compat.v1.Session()\n",
        "    graph = tf.compat.v1.get_default_graph()\n",
        "        \n",
        "\n",
        "    with graph.as_default():\n",
        "        with session.as_default():\n",
        "            model = tf.keras.models.load_model(model_h5_path)\n",
        "\n",
        "            run_meta = tf.compat.v1.RunMetadata()\n",
        "            opts = tf.compat.v1.profiler.ProfileOptionBuilder.float_operation()\n",
        "        \n",
        "            # We use the Keras session graph in the call to the profiler.\n",
        "            flops = tf.compat.v1.profiler.profile(graph=graph,\n",
        "                                                  run_meta=run_meta, cmd='op', options=opts)\n",
        "        \n",
        "            return flops.total_float_ops"
      ],
      "execution_count": 0,
      "outputs": []
    },
    {
      "cell_type": "code",
      "metadata": {
        "id": "-podbex1ZUn3",
        "colab_type": "code",
        "outputId": "b686057b-578f-4cbc-b02c-acdd18a3eaf0",
        "colab": {
          "base_uri": "https://localhost:8080/",
          "height": 267
        }
      },
      "source": [
        "FLOPS = get_flops('CCCC-Resnet18+LSTM+10ts-72-8.5513.hdf5')\n",
        "FLOPS"
      ],
      "execution_count": 0,
      "outputs": [
        {
          "output_type": "stream",
          "text": [
            "WARNING:tensorflow:From C:\\Users\\57lzhang.US04WW4008\\Anaconda3\\lib\\site-packages\\tensorflow\\python\\ops\\resource_variable_ops.py:1666: calling BaseResourceVariable.__init__ (from tensorflow.python.ops.resource_variable_ops) with constraint is deprecated and will be removed in a future version.\n",
            "Instructions for updating:\n",
            "If using Keras pass *_constraint arguments to layers.\n",
            "WARNING:tensorflow:Layer lstm will not use cuDNN kernel since it doesn't meet the cuDNN kernel criteria. It will use generic GPU kernel as fallback when running on GPU\n",
            "WARNING:tensorflow:Layer lstm will not use cuDNN kernel since it doesn't meet the cuDNN kernel criteria. It will use generic GPU kernel as fallback when running on GPU\n",
            "WARNING:tensorflow:Layer lstm will not use cuDNN kernel since it doesn't meet the cuDNN kernel criteria. It will use generic GPU kernel as fallback when running on GPU\n",
            "WARNING:tensorflow:Layer lstm_1 will not use cuDNN kernel since it doesn't meet the cuDNN kernel criteria. It will use generic GPU kernel as fallback when running on GPU\n",
            "WARNING:tensorflow:Layer lstm_1 will not use cuDNN kernel since it doesn't meet the cuDNN kernel criteria. It will use generic GPU kernel as fallback when running on GPU\n",
            "WARNING:tensorflow:Layer lstm_1 will not use cuDNN kernel since it doesn't meet the cuDNN kernel criteria. It will use generic GPU kernel as fallback when running on GPU\n",
            "WARNING:tensorflow:From C:\\Users\\57lzhang.US04WW4008\\Anaconda3\\lib\\site-packages\\tensorflow\\python\\profiler\\internal\\flops_registry.py:142: tensor_shape_from_node_def_name (from tensorflow.python.framework.graph_util_impl) is deprecated and will be removed in a future version.\n",
            "Instructions for updating:\n",
            "Use `tf.compat.v1.graph_util.tensor_shape_from_node_def_name`\n"
          ],
          "name": "stdout"
        },
        {
          "output_type": "execute_result",
          "data": {
            "text/plain": [
              "11369834"
            ]
          },
          "metadata": {
            "tags": []
          },
          "execution_count": 25
        }
      ]
    },
    {
      "cell_type": "code",
      "metadata": {
        "id": "yZGA8GtlRped",
        "colab_type": "code",
        "colab": {}
      },
      "source": [
        "NFLOPS = get_flops(model)"
      ],
      "execution_count": 0,
      "outputs": []
    },
    {
      "cell_type": "code",
      "metadata": {
        "id": "Hg2E0JHvRwIf",
        "colab_type": "code",
        "outputId": "392358d8-bb3e-4ad8-8c6d-411288b6cebf",
        "colab": {
          "base_uri": "https://localhost:8080/",
          "height": 34
        }
      },
      "source": [
        "NFLOPS"
      ],
      "execution_count": 0,
      "outputs": [
        {
          "output_type": "execute_result",
          "data": {
            "text/plain": [
              "0"
            ]
          },
          "metadata": {
            "tags": []
          },
          "execution_count": 18
        }
      ]
    }
  ]
}