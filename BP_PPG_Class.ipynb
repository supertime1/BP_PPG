{
  "nbformat": 4,
  "nbformat_minor": 0,
  "metadata": {
    "colab": {
      "name": "BP_PPG_Class.ipynb",
      "provenance": [],
      "collapsed_sections": [],
      "authorship_tag": "ABX9TyMu92tOrf76oYZepMftsBB5",
      "include_colab_link": true
    },
    "kernelspec": {
      "name": "python3",
      "display_name": "Python 3"
    }
  },
  "cells": [
    {
      "cell_type": "markdown",
      "metadata": {
        "id": "view-in-github",
        "colab_type": "text"
      },
      "source": [
        "<a href=\"https://colab.research.google.com/github/supertime1/BP_PPG/blob/master/BP_PPG_Class.ipynb\" target=\"_parent\"><img src=\"https://colab.research.google.com/assets/colab-badge.svg\" alt=\"Open In Colab\"/></a>"
      ]
    },
    {
      "cell_type": "markdown",
      "metadata": {
        "id": "uWP-_pXlUKmp",
        "colab_type": "text"
      },
      "source": [
        "#1.Introduction"
      ]
    },
    {
      "cell_type": "markdown",
      "metadata": {
        "id": "3mOoV1yuUKlh",
        "colab_type": "text"
      },
      "source": [
        "This notebook trains an simple PPG DNN by using labeled PPG data from Afib_Data_Clean notebook;\n",
        "The loaded data is 30s segemented PPG signals with 125Hz sampling rate."
      ]
    },
    {
      "cell_type": "markdown",
      "metadata": {
        "id": "bfCfr60kSTDU",
        "colab_type": "text"
      },
      "source": [
        "#2.Setup Environment\n",
        "\n"
      ]
    },
    {
      "cell_type": "code",
      "metadata": {
        "id": "cvqxVijHSFk2",
        "colab_type": "code",
        "outputId": "a886301f-b6a8-48d5-d096-67613f21559c",
        "colab": {
          "base_uri": "https://localhost:8080/",
          "height": 34
        }
      },
      "source": [
        "from IPython.display import display\n",
        "import pandas as pd\n",
        "import matplotlib.pyplot as plt\n",
        "%matplotlib inline\n",
        "%load_ext tensorboard\n",
        "import numpy as np\n",
        "import os\n",
        "import glob\n",
        "import tensorflow as tf\n",
        "from tensorflow import keras\n",
        "from tensorflow.keras import Model\n",
        "from tensorflow.keras.models import load_model \n",
        "from tensorflow.keras.callbacks import TensorBoard, ModelCheckpoint\n",
        "from tensorflow.keras.layers import Conv1D, BatchNormalization, Input, Add, Activation,\\\n",
        "MaxPooling1D,Dropout,Flatten,TimeDistributed,Bidirectional,Dense,LSTM, ZeroPadding1D, \\\n",
        "AveragePooling1D,GlobalMaxPooling1D, Concatenate, Permute, Dot, Multiply, RepeatVector,\\\n",
        "Lambda, Average\n",
        "from tensorflow.keras.initializers import glorot_uniform\n",
        "import tensorflow_datasets as tfds\n",
        "from datetime import datetime\n",
        "import sklearn.metrics\n",
        "import itertools\n",
        "import io\n",
        "import pickle\n",
        "print(tf.__version__)"
      ],
      "execution_count": 1,
      "outputs": [
        {
          "output_type": "stream",
          "text": [
            "2.2.0\n"
          ],
          "name": "stdout"
        }
      ]
    },
    {
      "cell_type": "markdown",
      "metadata": {
        "colab_type": "text",
        "id": "oFD2ZNOoGMsP"
      },
      "source": [
        "#3.Data Pipeline"
      ]
    },
    {
      "cell_type": "code",
      "metadata": {
        "id": "Iwdd-WA-Xtb1",
        "colab_type": "code",
        "colab": {}
      },
      "source": [
        "#load the data filename\n",
        "train_data_dir = r\"C:\\Users\\57lzhang.US04WW4008\\Desktop\\Blood pressure\\BP data\\train\\data*\"\n",
        "train_data_fn = glob.glob(train_data_dir)\n",
        "train_label_dir = r\"C:\\Users\\57lzhang.US04WW4008\\Desktop\\Blood pressure\\BP data\\train\\label*\"\n",
        "train_label_fn = glob.glob(train_label_dir)"
      ],
      "execution_count": 0,
      "outputs": []
    },
    {
      "cell_type": "code",
      "metadata": {
        "id": "Rs1pp9k0rv-0",
        "colab_type": "code",
        "colab": {}
      },
      "source": [
        "#run assert to make sure the data and label are in the same order\n",
        "for i in range(len(train_label_fn)):\n",
        "  assert(train_data_fn[i][-1] == train_label_fn[i][-1])"
      ],
      "execution_count": 0,
      "outputs": []
    },
    {
      "cell_type": "code",
      "metadata": {
        "id": "3hCQDlhZl-82",
        "colab_type": "code",
        "colab": {}
      },
      "source": [
        "val_data_dir = r\"C:\\Users\\57lzhang.US04WW4008\\Desktop\\Blood pressure\\BP data\\validation\\data*\"\n",
        "val_data_fn = glob.glob(val_data_dir)\n",
        "val_label_dir = r\"C:\\Users\\57lzhang.US04WW4008\\Desktop\\Blood pressure\\BP data\\validation\\label*\"\n",
        "val_label_fn = glob.glob(val_label_dir)"
      ],
      "execution_count": 0,
      "outputs": []
    },
    {
      "cell_type": "code",
      "metadata": {
        "id": "o0B1Vx6MuEQV",
        "colab_type": "code",
        "colab": {}
      },
      "source": [
        "for i in range(len(val_label_fn)):\n",
        "  assert(val_data_fn[i][-1] == val_label_fn[i][-1])"
      ],
      "execution_count": 0,
      "outputs": []
    },
    {
      "cell_type": "code",
      "metadata": {
        "id": "A2VNZfnc4XSJ",
        "colab_type": "code",
        "colab": {}
      },
      "source": [
        "#use generator to input data, since the data size(>160GB) is larger than memory size (64GB)\n",
        "def train_data_generator():\n",
        "  for i in range(len(train_data_fn)):\n",
        "    data = pickle.load(open(train_data_fn[i],'rb'))\n",
        "    yield data"
      ],
      "execution_count": 0,
      "outputs": []
    },
    {
      "cell_type": "code",
      "metadata": {
        "id": "lIhR3bhdmM5I",
        "colab_type": "code",
        "colab": {}
      },
      "source": [
        "def train_label_generator():\n",
        "  for i in range(len(train_label_fn)):\n",
        "    label = pickle.load(open(train_label_fn[i],'rb'))\n",
        "    yield label"
      ],
      "execution_count": 0,
      "outputs": []
    },
    {
      "cell_type": "code",
      "metadata": {
        "id": "tVq-AReq5U21",
        "colab_type": "code",
        "colab": {}
      },
      "source": [
        "def val_data_generator():\n",
        "  for i in range(len(val_data_fn)):\n",
        "    data = pickle.load(open(val_data_fn[i],'rb'))\n",
        "    yield data"
      ],
      "execution_count": 0,
      "outputs": []
    },
    {
      "cell_type": "code",
      "metadata": {
        "id": "rGfRW6NYmU0a",
        "colab_type": "code",
        "colab": {}
      },
      "source": [
        "def val_label_generator():\n",
        "  for i in range(len(val_label_fn)):\n",
        "    label = pickle.load(open(val_label_fn[i],'rb'))\n",
        "    yield label"
      ],
      "execution_count": 0,
      "outputs": []
    },
    {
      "cell_type": "code",
      "metadata": {
        "id": "THYmut6MnQb_",
        "colab_type": "code",
        "outputId": "f7bdf4ad-0eeb-4b21-dba9-bd301aebef40",
        "colab": {
          "base_uri": "https://localhost:8080/",
          "height": 34
        }
      },
      "source": [
        "#calculate number of elements in training for later use in shuffle and model.fit\n",
        "number_of_element = 0\n",
        "for i in range(len(train_label_fn)):\n",
        "  label = pickle.load(open(train_label_fn[i],'rb'))\n",
        "  number_of_element += len(label)\n",
        "print(\"There are in total\", number_of_element, \"in training dataset\")"
      ],
      "execution_count": 10,
      "outputs": [
        {
          "output_type": "stream",
          "text": [
            "There are in total 222727 in training dataset\n"
          ],
          "name": "stdout"
        }
      ]
    },
    {
      "cell_type": "code",
      "metadata": {
        "id": "ex9J_Ao0oGvN",
        "colab_type": "code",
        "outputId": "81c0d817-4849-4922-8b9f-369efd02a5cc",
        "colab": {
          "base_uri": "https://localhost:8080/",
          "height": 34
        }
      },
      "source": [
        "#calculate number of elements in validation\n",
        "number_of_val_element = 0\n",
        "for i in range(len(val_label_fn)):\n",
        "  label = pickle.load(open(val_label_fn[i],'rb'))\n",
        "  number_of_val_element += len(label)\n",
        "print(\"There are in total\", number_of_val_element, \"in validation dataset\")"
      ],
      "execution_count": 11,
      "outputs": [
        {
          "output_type": "stream",
          "text": [
            "There are in total 24904 in validation dataset\n"
          ],
          "name": "stdout"
        }
      ]
    },
    {
      "cell_type": "code",
      "metadata": {
        "id": "YvnK7I8jCDKW",
        "colab_type": "code",
        "colab": {}
      },
      "source": [
        "m = 222727  \n",
        "s0 = np.zeros((m, n_s))\n",
        "c0 = np.zeros((m, n_s))"
      ],
      "execution_count": 0,
      "outputs": []
    },
    {
      "cell_type": "code",
      "metadata": {
        "id": "4jFI5d1c4cQq",
        "colab_type": "code",
        "colab": {}
      },
      "source": [
        "#input the data by using generator and use flat_map to removing the \n",
        "#first dimension (number of elements) and flat all data\n",
        "train_data = tf.data.Dataset.from_generator(train_data_generator,(tf.float32),output_shapes=[None,10,750,1])\n",
        "train_label = tf.data.Dataset.from_generator(train_label_generator,(tf.float32),output_shapes=[None,2])\n",
        "train_ds = train_data.flat_map(lambda x: train_data.from_tensor_slices(x))\n",
        "train_lb = train_label.flat_map(lambda x: train_label.from_tensor_slices(x))\n",
        "train_s0 = tf.data.Dataset.from_tensor_slices(s0)\n",
        "train_c0 = tf.data.Dataset.from_tensor_slices(c0)\n",
        "train = tf.data.Dataset.zip(((train_ds,train_s0,train_c0),train_lb))"
      ],
      "execution_count": 0,
      "outputs": []
    },
    {
      "cell_type": "code",
      "metadata": {
        "id": "dwAlzKeGvzVJ",
        "colab_type": "code",
        "colab": {}
      },
      "source": [
        "n = 24904 \n",
        "s0 = np.zeros((n, n_s))\n",
        "c0 = np.zeros((n, n_s))"
      ],
      "execution_count": 0,
      "outputs": []
    },
    {
      "cell_type": "code",
      "metadata": {
        "id": "KWSWFqN24c_M",
        "colab_type": "code",
        "colab": {}
      },
      "source": [
        "#do the same to validation\n",
        "val_data = tf.data.Dataset.from_generator(val_data_generator,(tf.float32),output_shapes=[None,10,750,1])\n",
        "val_label = tf.data.Dataset.from_generator(val_label_generator,(tf.float32),output_shapes=[None,2])\n",
        "val_ds = val_data.flat_map(lambda x: val_data.from_tensor_slices(x))\n",
        "val_lb = val_label.flat_map(lambda x: val_label.from_tensor_slices(x))\n",
        "validation = tf.data.Dataset.zip(((val_ds,val_s0, val_c0),val_lb))"
      ],
      "execution_count": 0,
      "outputs": []
    },
    {
      "cell_type": "code",
      "metadata": {
        "colab_type": "code",
        "id": "0eNX0PYsGMtE",
        "colab": {}
      },
      "source": [
        "batch_size = 64\n",
        "train_dataset = train.cache()\n",
        "train_dataset = train_dataset.shuffle(number_of_element//10).repeat().batch(batch_size,drop_remainder=True)\n",
        "train_dataset = train_dataset.prefetch(buffer_size = tf.data.experimental.AUTOTUNE)\n",
        "val_dataset = validation.repeat().batch(batch_size, drop_remainder=True)"
      ],
      "execution_count": 0,
      "outputs": []
    },
    {
      "cell_type": "code",
      "metadata": {
        "id": "3rs-_llbwj3B",
        "colab_type": "code",
        "colab": {
          "base_uri": "https://localhost:8080/",
          "height": 54
        },
        "outputId": "ca41633e-9019-414b-d14c-48bf68927525"
      },
      "source": [
        "train_dataset"
      ],
      "execution_count": 237,
      "outputs": [
        {
          "output_type": "execute_result",
          "data": {
            "text/plain": [
              "<PrefetchDataset shapes: (((64, 10, 750, 1), (64, 16), (64, 16)), (64, 2)), types: ((tf.float32, tf.float64, tf.float64), tf.float32)>"
            ]
          },
          "metadata": {
            "tags": []
          },
          "execution_count": 237
        }
      ]
    },
    {
      "cell_type": "markdown",
      "metadata": {
        "id": "ikiF9-uDTI-h",
        "colab_type": "text"
      },
      "source": [
        "#4.Train Model"
      ]
    },
    {
      "cell_type": "markdown",
      "metadata": {
        "id": "MeF1mUEJTN60",
        "colab_type": "text"
      },
      "source": [
        "##4.1 CNN + RNN"
      ]
    },
    {
      "cell_type": "markdown",
      "metadata": {
        "id": "REoHyYK_924l",
        "colab_type": "text"
      },
      "source": [
        "###4.1.1 Simple_CNN + LSTM (Class method)"
      ]
    },
    {
      "cell_type": "code",
      "metadata": {
        "id": "tD3vmo6nAPI6",
        "colab_type": "code",
        "colab": {}
      },
      "source": [
        "class Simple_CNN(tf.keras.layers.Layer):\n",
        "  def __init__(self,input_shape):\n",
        "    super(Simple_CNN, self).__init__()\n",
        "    \n",
        "    self.convA = TimeDistributed(Conv1D(8,1,strides=1,activation ='relu'),input_shape=input_shape)\n",
        "    self.batchA = TimeDistributed(BatchNormalization())\n",
        "    self.maxpoolA = TimeDistributed(MaxPooling1D(pool_size=2, strides=2))\n",
        "    self.dropA = TimeDistributed(Dropout(0.2))\n",
        "\n",
        "    self.convB = TimeDistributed(Conv1D(16,3,strides=1,activation ='relu'))\n",
        "    self.batchB = TimeDistributed(BatchNormalization())\n",
        "    self.maxpoolB = TimeDistributed(MaxPooling1D(pool_size=2, strides=2))\n",
        "    self.dropB = TimeDistributed(Dropout(0.2))    \n",
        "\n",
        "    self.convC = TimeDistributed(Conv1D(32,3,strides=1,activation ='relu'))\n",
        "    self.batchC = TimeDistributed(BatchNormalization())\n",
        "    self.maxpoolC = TimeDistributed(MaxPooling1D(pool_size=2, strides=2))\n",
        "    self.dropC = TimeDistributed(Dropout(0.2))\n",
        "\n",
        "    self.convD = TimeDistributed(Conv1D(64,3,strides=1,activation ='relu'))\n",
        "    self.batchD = TimeDistributed(BatchNormalization())\n",
        "    self.maxpoolD = TimeDistributed(MaxPooling1D(pool_size=2, strides=2))\n",
        "    self.dropD = TimeDistributed(Dropout(0.2))\n",
        "\n",
        "    self.convE = TimeDistributed(Conv1D(16, 1, strides=1, activation='relu'))\n",
        "    self.batch_normE = TimeDistributed(BatchNormalization())\n",
        "    self.flatE = TimeDistributed(Flatten())\n",
        "\n",
        "  def call(self, inputs):\n",
        "\n",
        "    x = self.convA(inputs)\n",
        "    x = self.batchA(x)\n",
        "    x = self.maxpoolA(x)\n",
        "    x = self.dropA(x)\n",
        "\n",
        "    x = self.convB(x)\n",
        "    x = self.batchB(x)\n",
        "    x = self.maxpoolB(x)\n",
        "    x = self.dropB(x)\n",
        "\n",
        "    x = self.convC(x)\n",
        "    x = self.batchC(x)\n",
        "    x = self.maxpoolC(x)\n",
        "    x = self.dropC(x)\n",
        "\n",
        "    x = self.convD(x)\n",
        "    x = self.batchD(x)\n",
        "    x = self.maxpoolD(x)\n",
        "    x = self.dropD(x)\n",
        "\n",
        "    x = self.convE(x)\n",
        "    x = self.batch_normE(x)\n",
        "    x = self.flatE(x)\n",
        "\n",
        "    return x"
      ],
      "execution_count": 0,
      "outputs": []
    },
    {
      "cell_type": "code",
      "metadata": {
        "id": "ORnk4ACrl4Gs",
        "colab_type": "code",
        "colab": {}
      },
      "source": [
        "class CNN_LSTM(Model):\n",
        "  def __init__(self, input_shape):\n",
        "    super(CNN_LSTM, self).__init__()\n",
        "    self.cnn = Simple_CNN(input_shape=input_shape)\n",
        "    self.bi_lstmA = Bidirectional(LSTM(32, return_sequences = True))\n",
        "    self.bi_lstmB = Bidirectional(LSTM(16))\n",
        "    self.dense = Dense(2)\n",
        "\n",
        "  def call(self,inputs):\n",
        "    x = self.cnn(inputs)\n",
        "    x = self.bi_lstmA(x)\n",
        "    x = self.bi_lstmB(x)\n",
        "    x = self.dense(x)\n",
        "\n",
        "    return x"
      ],
      "execution_count": 0,
      "outputs": []
    },
    {
      "cell_type": "code",
      "metadata": {
        "id": "nFwaYd4xrSvi",
        "colab_type": "code",
        "colab": {}
      },
      "source": [
        "model = CNN_LSTM((10,750,1))"
      ],
      "execution_count": 0,
      "outputs": []
    },
    {
      "cell_type": "markdown",
      "metadata": {
        "id": "TJ0gX0XkFA3G",
        "colab_type": "text"
      },
      "source": [
        "Sequential method"
      ]
    },
    {
      "cell_type": "code",
      "metadata": {
        "id": "9xd9AuslE9NS",
        "colab_type": "code",
        "colab": {
          "base_uri": "https://localhost:8080/",
          "height": 0
        },
        "outputId": "5cc3c277-048c-4ff3-841f-9e5827af718c"
      },
      "source": [
        "from tensorflow.keras.layers import BatchNormalization\n",
        "BatchNormalization._USE_V2_BEHAVIOR = False\n",
        "#create CNN layers\n",
        "cnn = tf.keras.Sequential([\n",
        "    #1st Conv1D\n",
        "    tf.keras.layers.Conv1D(8, 1, strides=1, \n",
        "                          activation='relu'),\n",
        "    tf.keras.layers.BatchNormalization(),\n",
        "    tf.keras.layers.MaxPooling1D(pool_size=2,strides=2),\n",
        "    tf.keras.layers.Dropout(0.2),\n",
        "    #2nd Conv1D\n",
        "    tf.keras.layers.Conv1D(16, 3, strides=1,\n",
        "                          activation='relu'),\n",
        "    tf.keras.layers.BatchNormalization(),\n",
        "    tf.keras.layers.MaxPooling1D(pool_size=2,strides=2),\n",
        "    tf.keras.layers.Dropout(0.2),\n",
        "    #3rd Conv1D\n",
        "    tf.keras.layers.Conv1D(32, 3, strides=1,\n",
        "                          activation='relu'),\n",
        "    tf.keras.layers.BatchNormalization(),\n",
        "    tf.keras.layers.MaxPooling1D(pool_size=2,strides=2),\n",
        "    tf.keras.layers.Dropout(0.2),\n",
        "    #4th Conv1D\n",
        "    tf.keras.layers.Conv1D(64, 3, strides=1,\n",
        "                          activation='relu'),\n",
        "    tf.keras.layers.BatchNormalization(),\n",
        "    tf.keras.layers.MaxPooling1D(pool_size=2,strides=2),\n",
        "    tf.keras.layers.Dropout(0.2),\n",
        "    #5th Conv1D\n",
        "    tf.keras.layers.Conv1D(16, 1, strides=1,\n",
        "                          activation='relu'),\n",
        "    tf.keras.layers.BatchNormalization(),\n",
        "    #Full connection layer\n",
        "    tf.keras.layers.Flatten()\n",
        "])\n",
        "\n",
        "#combine with LSTM\n",
        "model = tf.keras.Sequential([\n",
        "        tf.keras.layers.TimeDistributed(cnn,input_shape=(10,750,1)),                   \n",
        "        tf.keras.layers.Bidirectional(tf.keras.layers.LSTM(32,return_sequences=True)),\n",
        "        tf.keras.layers.Bidirectional(tf.keras.layers.LSTM(16, return_sequences = True)),\n",
        "        tf.keras.layers.Flatten(),\n",
        "        tf.keras.layers.Dense(10),\n",
        "        tf.keras.layers.Dense(2)\n",
        "])\n",
        "\n",
        "model.summary()"
      ],
      "execution_count": 23,
      "outputs": [
        {
          "output_type": "stream",
          "text": [
            "Model: \"sequential_1\"\n",
            "_________________________________________________________________\n",
            "Layer (type)                 Output Shape              Param #   \n",
            "=================================================================\n",
            "time_distributed (TimeDistri (None, 10, 720)           9776      \n",
            "_________________________________________________________________\n",
            "bidirectional (Bidirectional (None, 10, 64)            192768    \n",
            "_________________________________________________________________\n",
            "bidirectional_1 (Bidirection (None, 10, 32)            10368     \n",
            "_________________________________________________________________\n",
            "flatten_1 (Flatten)          (None, 320)               0         \n",
            "_________________________________________________________________\n",
            "dense (Dense)                (None, 10)                3210      \n",
            "_________________________________________________________________\n",
            "dense_1 (Dense)              (None, 2)                 22        \n",
            "=================================================================\n",
            "Total params: 216,144\n",
            "Trainable params: 215,872\n",
            "Non-trainable params: 272\n",
            "_________________________________________________________________\n"
          ],
          "name": "stdout"
        }
      ]
    },
    {
      "cell_type": "markdown",
      "metadata": {
        "id": "kh5I_ofpASeV",
        "colab_type": "text"
      },
      "source": [
        "###4.1.3 ResNet-18 + LSTM"
      ]
    },
    {
      "cell_type": "code",
      "metadata": {
        "id": "EIiiZfTsAZv-",
        "colab_type": "code",
        "colab": {}
      },
      "source": [
        "def identity_block_18(X, f, filters, stage, block):\n",
        "\n",
        "    # defining name basis\n",
        "    conv_name_base = 'res' + str(stage) + block + '_branch'\n",
        "    bn_name_base = 'bn' + str(stage) + block + '_branch'\n",
        "    \n",
        "    # Retrieve Filters\n",
        "    F1, F2 = filters\n",
        "    \n",
        "    # Save the input value. You'll need this later to add back to the main path. \n",
        "    X_shortcut = X\n",
        "    \n",
        "    # First component of main path\n",
        "    X = Conv1D(filters = F1, kernel_size = f, strides = 1, padding = 'same', name = conv_name_base + '2a', kernel_initializer = glorot_uniform(seed=0))(X)\n",
        "    X = BatchNormalization(axis = 2, name = bn_name_base + '2a')(X)\n",
        "    X = Activation('relu')(X)\n",
        "\n",
        "    \n",
        "    # Second component of main path \n",
        "    X = Conv1D(filters = F2, kernel_size = f, strides = 1, padding = 'same', name = conv_name_base + '2b', kernel_initializer = glorot_uniform(seed=0))(X)\n",
        "    X = BatchNormalization(axis = 2, name = bn_name_base + '2b')(X)\n",
        "    X = Activation('relu')(X)\n",
        "\n",
        "    # Final step: Add shortcut value to main path, and pass it through a RELU activation \n",
        "    X = Add()([X, X_shortcut])\n",
        "    X = Activation('relu')(X)\n",
        "    \n",
        "    \n",
        "    return X"
      ],
      "execution_count": 0,
      "outputs": []
    },
    {
      "cell_type": "code",
      "metadata": {
        "id": "F9k8UXNF8Uk5",
        "colab_type": "code",
        "colab": {}
      },
      "source": [
        "def convolutional_block_18(X, f, filters, stage, block, s = 2):\n",
        "    \n",
        "    # defining name basis\n",
        "    conv_name_base = 'res' + str(stage) + block + '_branch'\n",
        "    bn_name_base = 'bn' + str(stage) + block + '_branch'\n",
        "    \n",
        "    # Retrieve Filters\n",
        "    F1, F2 = filters\n",
        "    \n",
        "    # Save the input value\n",
        "    X_shortcut = X\n",
        "\n",
        "\n",
        "    ##### MAIN PATH #####\n",
        "    # First component of main path \n",
        "    X = Conv1D(filters = F1, kernel_size = f, strides = s, padding = 'valid', name = conv_name_base + '2a', kernel_initializer = glorot_uniform(seed=0))(X)\n",
        "    X = BatchNormalization(axis = 2, name = bn_name_base + '2a')(X)\n",
        "    X = Activation('relu')(X)\n",
        "\n",
        "    # Second component of main path (≈3 lines)\n",
        "    X = Conv1D(filters = F2, kernel_size = f, strides = 1, padding = 'same', name = conv_name_base + '2b', kernel_initializer = glorot_uniform(seed=0))(X)\n",
        "    X = BatchNormalization(axis = 2, name = bn_name_base + '2b')(X)\n",
        "    X = Activation('relu')(X)\n",
        "\n",
        "\n",
        "    ##### SHORTCUT PATH #### (≈2 lines)\n",
        "    X_shortcut = Conv1D(filters = F1, kernel_size = f, strides = s, padding = 'valid', name = conv_name_base + '1',\n",
        "                        kernel_initializer = glorot_uniform(seed=0))(X_shortcut)\n",
        "    X_shortcut = BatchNormalization(axis = 2, name = bn_name_base + '1')(X_shortcut)\n",
        "\n",
        "    # Final step: Add shortcut value to main path, and pass it through a RELU activation (≈2 lines)\n",
        "    X = Add()([X, X_shortcut])\n",
        "    X = Activation('relu')(X)\n",
        "    \n",
        "    \n",
        "    return X"
      ],
      "execution_count": 0,
      "outputs": []
    },
    {
      "cell_type": "code",
      "metadata": {
        "id": "0GlLgQiD8Ujk",
        "colab_type": "code",
        "colab": {}
      },
      "source": [
        "def ResNet18(input_shape=(750, 1), classes=1):\n",
        "\n",
        "    # Define the input as a tensor with shape input_shape\n",
        "    X_input = Input(input_shape)\n",
        "\n",
        "    # Zero-Padding\n",
        "    X = ZeroPadding1D(3)(X_input)\n",
        "\n",
        "    # Stage 1\n",
        "    X = Conv1D(64, 7, strides=2, name='conv1', kernel_initializer=glorot_uniform(seed=0))(X)\n",
        "    X = BatchNormalization(axis=2, name='bn_conv1')(X)\n",
        "    X = Activation('relu')(X)\n",
        "    X = MaxPooling1D(3, strides=2)(X)\n",
        "\n",
        "    # Stage 2\n",
        "    X = identity_block_18(X, 3, [64, 64], stage=2, block='a')\n",
        "    X = identity_block_18(X, 3, [64, 64], stage=2, block='b')\n",
        "\n",
        "\n",
        "    # Stage 3 (2 lines)\n",
        "    X = convolutional_block_18(X, f = 3, filters = [128, 128], stage = 3, block='a', s = 2)\n",
        "    X = identity_block_18(X, 3, [128, 128], stage=3, block='b')\n",
        "\n",
        "\n",
        "    # Stage 4 (2 lines)\n",
        "    X = convolutional_block_18(X, f = 3, filters = [256, 256], stage = 4, block='a', s = 2)\n",
        "    X = identity_block_18(X, 3, [256, 256], stage=4, block='b')\n",
        "\n",
        "    # Stage 5 (2 lines)\n",
        "    X = convolutional_block_18(X, f = 3, filters = [512, 512], stage = 5, block='a', s = 2)\n",
        "    X = identity_block_18(X, 3, [512, 512], stage=5, block='b')\n",
        "\n",
        "\n",
        "    # AVGPOOL (1 line).\n",
        "    X = AveragePooling1D(2, name=\"avg_pool\")(X)\n",
        "\n",
        "    # output layer\n",
        "    X = Flatten()(X)\n",
        "    \n",
        "    \n",
        "    #X = Dense(classes, activation='sigmoid', name='fc' + str(classes), kernel_initializer = glorot_uniform(seed=0))(X)\n",
        "    \n",
        "    \n",
        "    #Create model\n",
        "    model = Model(inputs = X_input, outputs = X, name='ResNet18')\n",
        "\n",
        "    return model"
      ],
      "execution_count": 0,
      "outputs": []
    },
    {
      "cell_type": "code",
      "metadata": {
        "id": "CpDD5cGjNdsF",
        "colab_type": "code",
        "colab": {}
      },
      "source": [
        "def Resnet18_LSTM(Tx, n_a, n_s,input_image_size):\n",
        "  \n",
        "  #define resnet\n",
        "  resnet = ResNet18(input_shape = (input_image_size,1), classes = 1)\n",
        "  \n",
        "  X_input = Input(shape = (Tx, input_image_size,1))\n",
        "  \n",
        "  X = tf.keras.layers.TimeDistributed(resnet)(X_input)\n",
        "  X = tf.keras.layers.Bidirectional(tf.keras.layers.LSTM(n_a,return_sequences=True))(X)\n",
        "  X = tf.keras.layers.Bidirectional(tf.keras.layers.LSTM(n_s))(X)\n",
        "  X = tf.keras.layers.Dense(2)(X)\n",
        "\n",
        "  model = Model(inputs = [X_input], outputs = X)\n",
        "\n",
        "  return model"
      ],
      "execution_count": 0,
      "outputs": []
    },
    {
      "cell_type": "code",
      "metadata": {
        "id": "r1N02nUXOmvU",
        "colab_type": "code",
        "colab": {}
      },
      "source": [
        "resnet18_lstm = Resnet18_LSTM(10,32,16,750)"
      ],
      "execution_count": 0,
      "outputs": []
    },
    {
      "cell_type": "code",
      "metadata": {
        "id": "lynsCmzrOvoy",
        "colab_type": "code",
        "colab": {
          "base_uri": "https://localhost:8080/",
          "height": 336
        },
        "outputId": "a7ce4272-d158-4002-ca4d-b8687fcd9805"
      },
      "source": [
        "resnet18_lstm.summary()"
      ],
      "execution_count": 32,
      "outputs": [
        {
          "output_type": "stream",
          "text": [
            "Model: \"model\"\n",
            "_________________________________________________________________\n",
            "Layer (type)                 Output Shape              Param #   \n",
            "=================================================================\n",
            "input_2 (InputLayer)         [(None, 10, 750, 1)]      0         \n",
            "_________________________________________________________________\n",
            "time_distributed_1 (TimeDist (None, 10, 5632)          4202368   \n",
            "_________________________________________________________________\n",
            "bidirectional_2 (Bidirection (None, 10, 64)            1450240   \n",
            "_________________________________________________________________\n",
            "bidirectional_3 (Bidirection (None, 32)                10368     \n",
            "_________________________________________________________________\n",
            "dense_1 (Dense)              (None, 2)                 66        \n",
            "=================================================================\n",
            "Total params: 5,663,042\n",
            "Trainable params: 5,653,442\n",
            "Non-trainable params: 9,600\n",
            "_________________________________________________________________\n"
          ],
          "name": "stdout"
        }
      ]
    },
    {
      "cell_type": "markdown",
      "metadata": {
        "id": "_6yMWCkDAlHn",
        "colab_type": "text"
      },
      "source": [
        "###4.1.4 ResNet-18 + Attention"
      ]
    },
    {
      "cell_type": "code",
      "metadata": {
        "id": "SwE3ha_4It-E",
        "colab_type": "code",
        "colab": {}
      },
      "source": [
        "def one_step_attention(Tx, a, s_prev): \n",
        "  \"\"\"\n",
        "  Performs one step of attention: Outputs a context vector computed as a dot product of the attention weights\n",
        "  \"alphas\" and the hidden states \"a\" of the Bi-LSTM.\n",
        "  \n",
        "  Arguments:\n",
        "  a -- hidden state output of the Bi-LSTM, numpy-array of shape (m, Tx, 2*n_a)\n",
        "  s_prev -- previous hidden state of the (post-attention) LSTM, numpy-array of shape (m, n_s)\n",
        "  \n",
        "  Returns:\n",
        "  context -- context vector, input of the next (post-attention) LSTM cell\n",
        "  \"\"\"\n",
        "  s_prev = RepeatVector(Tx)(s_prev)\n",
        "  concat = Concatenate(axis=-1)([a, s_prev])\n",
        "  e = Dense(10, activation = \"tanh\")(concat)\n",
        "  energies = Dense(1, activation = \"relu\")(e)\n",
        "  alphas = tf.nn.softmax(energies,axis=1)\n",
        "  context = Dot(axes = 1)([alphas,a])\n",
        "  \n",
        "  return context"
      ],
      "execution_count": 0,
      "outputs": []
    },
    {
      "cell_type": "code",
      "metadata": {
        "id": "guC2lEOrI1AS",
        "colab_type": "code",
        "colab": {}
      },
      "source": [
        "def Resnet18_Attention(Tx, Ty, n_a, n_s, output_size,input_image_size):\n",
        "  \n",
        "  #define resnet\n",
        "  resnet = ResNet18(input_shape = (input_image_size,1), classes = 1)\n",
        "  \n",
        "  X_input = Input(shape = (Tx, input_image_size,1))\n",
        "  X = tf.keras.layers.TimeDistributed(resnet)(X_input)\n",
        "\n",
        "  s0 = Input(shape = (n_s, ), name = 's0')\n",
        "  c0 = Input(shape = (n_s, ), name = 'c0')\n",
        "  s = s0\n",
        "  c = c0\n",
        "\n",
        "  #Initialize empty list of outputs\n",
        "  outputs = []\n",
        "\n",
        "  a = Bidirectional(LSTM(n_a, return_sequences=True))(X)\n",
        "\n",
        "  for t in range(Ty):\n",
        "    context = one_step_attention(Tx, a, s)\n",
        "    s, _, c = LSTM(n_s, return_state = True)(context, initial_state = [s, c])\n",
        "    out = Dense(output_size)(s)\n",
        "    act = tf.nn.softmax(out, axis=1)\n",
        "    outputs.append(act)\n",
        "  \n",
        "  outputs = Average()(outputs)\n",
        "\n",
        "  model = Model(inputs = [X_input, s0, c0], outputs = outputs)\n",
        "\n",
        "  return model"
      ],
      "execution_count": 0,
      "outputs": []
    },
    {
      "cell_type": "code",
      "metadata": {
        "id": "R8ZVHB4QI4WG",
        "colab_type": "code",
        "colab": {}
      },
      "source": [
        "Tx=10    #Number of input images\n",
        "Ty=10    #Number of post-LSTM cells\n",
        "n_a=32   #Number of pre-LSTM states\n",
        "n_s=16   #Number of post-LSTM states\n",
        "input_image_size=750     #Input image size\n",
        "output_size=2     #output of each post-LSTM cells before applying the FINAL dense layer"
      ],
      "execution_count": 0,
      "outputs": []
    },
    {
      "cell_type": "code",
      "metadata": {
        "id": "n8K2LarJI53I",
        "colab_type": "code",
        "colab": {}
      },
      "source": [
        "resnet18_attention = Resnet18_Attention(Tx, Ty, n_a, n_s, output_size,input_image_size)"
      ],
      "execution_count": 0,
      "outputs": []
    },
    {
      "cell_type": "code",
      "metadata": {
        "id": "8biIYYpzI6Pt",
        "colab_type": "code",
        "colab": {}
      },
      "source": [
        "resnet18_attention.summary()\n",
        "#keras.utils.plot_model(resnet18_attention,show_shapes=True)"
      ],
      "execution_count": 0,
      "outputs": []
    },
    {
      "cell_type": "markdown",
      "metadata": {
        "id": "iV4AOP5AXh5P",
        "colab_type": "text"
      },
      "source": [
        "##4.2 Define callbacks"
      ]
    },
    {
      "cell_type": "markdown",
      "metadata": {
        "id": "vD8quc5CXwa5",
        "colab_type": "text"
      },
      "source": [
        "###4.2.1 Tensorboard"
      ]
    },
    {
      "cell_type": "markdown",
      "metadata": {
        "id": "rcdMgfv1YClx",
        "colab_type": "text"
      },
      "source": [
        "###4.2.2 Checkpoint"
      ]
    },
    {
      "cell_type": "code",
      "metadata": {
        "id": "T7h_p1YnXz1R",
        "colab_type": "code",
        "colab": {}
      },
      "source": [
        "#callback: tensorboard\n",
        "log_dir=r\"C:\\Users\\57lzhang.US04WW4008\\Desktop\\Blood pressure\\BP data\\models\\125Hz 10mmHg\\ResNet-18+Attention\\\\\" + datetime.now().strftime(\"%Y%m%d-%H%M%S\") +\"ResNet-18+Attention+10ts\"\n",
        "tensorboard_callback = TensorBoard(log_dir=log_dir, histogram_freq=1)"
      ],
      "execution_count": 0,
      "outputs": []
    },
    {
      "cell_type": "code",
      "metadata": {
        "id": "OSqNrDZ_YKFv",
        "colab_type": "code",
        "colab": {}
      },
      "source": [
        "#callback: checkpoint\n",
        "filepath = r\"C:\\Users\\57lzhang.US04WW4008\\Desktop\\Blood pressure\\BP data\\models\\125Hz 10mmHg\\ResNet-18+Attention\\ResNet-18+Attention+10ts-{epoch:02d}-{loss:.4f}.hdf5\"\n",
        "checkpoint = ModelCheckpoint(filepath, monitor='loss', verbose=1, save_best_only=True, mode='auto')"
      ],
      "execution_count": 0,
      "outputs": []
    },
    {
      "cell_type": "markdown",
      "metadata": {
        "id": "t2ril_S4TVJS",
        "colab_type": "text"
      },
      "source": [
        "##4.3 Train the model "
      ]
    },
    {
      "cell_type": "markdown",
      "metadata": {
        "id": "boYor7DsTcXT",
        "colab_type": "text"
      },
      "source": [
        "### 4.3.1 Start Training"
      ]
    },
    {
      "cell_type": "code",
      "metadata": {
        "id": "-eqeVT1uTeOn",
        "colab_type": "code",
        "colab": {
          "base_uri": "https://localhost:8080/",
          "height": 90
        },
        "outputId": "d67a5b0e-f3a1-48ad-cd2b-5acace2d0022"
      },
      "source": [
        "#clear history if necessary\n",
        "tf.keras.backend.clear_session()\n",
        "#strategy = tf.distribute.MirroredStrategy(cross_device_ops=tf.distribute.HierarchicalCopyAllReduce()) ##to overwrite NCCL cross device communication as this is running in Windows\n",
        "#with strategy.scope():\n",
        "\n",
        "\n",
        "#model = model\n",
        "#model.load_weights(r'C:\\Users\\57lzhang.US04WW4008\\Desktop\\Blood pressure\\BP data\\models\\125Hz 10mmHg\\ResNet-18+LSTM\\CCCCCC-Resnet18+LSTM+10ts-42-5.2190.hdf5')\n",
        "resnet18_attention.compile(optimizer=tf.keras.optimizers.Adam(learning_rate = 0.001), \n",
        "              loss='mse', \n",
        "              metrics=['mae'])\n",
        "\n",
        "callbacks_list = [tensorboard_callback, checkpoint]\n",
        "\n",
        "#start training\n",
        "resnet18_attention.fit(train_dataset,\n",
        "          epochs=300,\n",
        "          steps_per_epoch = number_of_element//batch_size,\n",
        "          verbose=1,\n",
        "          callbacks=callbacks_list\n",
        "          )"
      ],
      "execution_count": 0,
      "outputs": [
        {
          "output_type": "stream",
          "text": [
            "Epoch 1/300\n",
            "   2/3480 [..............................] - ETA: 51:01 - loss: 10434.4795 - mae: 92.8599WARNING:tensorflow:Method (on_train_batch_end) is slow compared to the batch update (0.751048). Check your callbacks.\n",
            " 444/3480 [==>...........................] - ETA: 16:07 - loss: 10425.7881 - mae: 93.3068"
          ],
          "name": "stdout"
        }
      ]
    },
    {
      "cell_type": "markdown",
      "metadata": {
        "id": "IfnasVq2Tqjg",
        "colab_type": "text"
      },
      "source": [
        "# 5.Model Evaluation"
      ]
    },
    {
      "cell_type": "code",
      "metadata": {
        "id": "nZyzAHekTsy5",
        "colab_type": "code",
        "colab": {}
      },
      "source": [
        "os.chdir(r\"C:\\Users\\57lzhang.US04WW4008\\Desktop\\Blood pressure\\BP data\\models\\125Hz 10mmHg\\ResNet-18+LSTM\")\n",
        "model = tf.keras.models.load_model('7C-Resnet18+LSTM+10ts-48-3.9742.hdf5')"
      ],
      "execution_count": 0,
      "outputs": []
    },
    {
      "cell_type": "code",
      "metadata": {
        "id": "7ue_O6rjZR3F",
        "colab_type": "code",
        "colab": {}
      },
      "source": [
        "def get_flops(model_h5_path):\n",
        "    session = tf.compat.v1.Session()\n",
        "    graph = tf.compat.v1.get_default_graph()\n",
        "        \n",
        "\n",
        "    with graph.as_default():\n",
        "        with session.as_default():\n",
        "            model = tf.keras.models.load_model(model_h5_path)\n",
        "\n",
        "            run_meta = tf.compat.v1.RunMetadata()\n",
        "            opts = tf.compat.v1.profiler.ProfileOptionBuilder.float_operation()\n",
        "        \n",
        "            # We use the Keras session graph in the call to the profiler.\n",
        "            flops = tf.compat.v1.profiler.profile(graph=graph,\n",
        "                                                  run_meta=run_meta, cmd='op', options=opts)\n",
        "        \n",
        "            return flops.total_float_ops"
      ],
      "execution_count": 0,
      "outputs": []
    },
    {
      "cell_type": "code",
      "metadata": {
        "id": "-podbex1ZUn3",
        "colab_type": "code",
        "colab": {
          "base_uri": "https://localhost:8080/",
          "height": 267
        },
        "outputId": "b686057b-578f-4cbc-b02c-acdd18a3eaf0"
      },
      "source": [
        "FLOPS = get_flops('CCCC-Resnet18+LSTM+10ts-72-8.5513.hdf5')\n",
        "FLOPS"
      ],
      "execution_count": 25,
      "outputs": [
        {
          "output_type": "stream",
          "text": [
            "WARNING:tensorflow:From C:\\Users\\57lzhang.US04WW4008\\Anaconda3\\lib\\site-packages\\tensorflow\\python\\ops\\resource_variable_ops.py:1666: calling BaseResourceVariable.__init__ (from tensorflow.python.ops.resource_variable_ops) with constraint is deprecated and will be removed in a future version.\n",
            "Instructions for updating:\n",
            "If using Keras pass *_constraint arguments to layers.\n",
            "WARNING:tensorflow:Layer lstm will not use cuDNN kernel since it doesn't meet the cuDNN kernel criteria. It will use generic GPU kernel as fallback when running on GPU\n",
            "WARNING:tensorflow:Layer lstm will not use cuDNN kernel since it doesn't meet the cuDNN kernel criteria. It will use generic GPU kernel as fallback when running on GPU\n",
            "WARNING:tensorflow:Layer lstm will not use cuDNN kernel since it doesn't meet the cuDNN kernel criteria. It will use generic GPU kernel as fallback when running on GPU\n",
            "WARNING:tensorflow:Layer lstm_1 will not use cuDNN kernel since it doesn't meet the cuDNN kernel criteria. It will use generic GPU kernel as fallback when running on GPU\n",
            "WARNING:tensorflow:Layer lstm_1 will not use cuDNN kernel since it doesn't meet the cuDNN kernel criteria. It will use generic GPU kernel as fallback when running on GPU\n",
            "WARNING:tensorflow:Layer lstm_1 will not use cuDNN kernel since it doesn't meet the cuDNN kernel criteria. It will use generic GPU kernel as fallback when running on GPU\n",
            "WARNING:tensorflow:From C:\\Users\\57lzhang.US04WW4008\\Anaconda3\\lib\\site-packages\\tensorflow\\python\\profiler\\internal\\flops_registry.py:142: tensor_shape_from_node_def_name (from tensorflow.python.framework.graph_util_impl) is deprecated and will be removed in a future version.\n",
            "Instructions for updating:\n",
            "Use `tf.compat.v1.graph_util.tensor_shape_from_node_def_name`\n"
          ],
          "name": "stdout"
        },
        {
          "output_type": "execute_result",
          "data": {
            "text/plain": [
              "11369834"
            ]
          },
          "metadata": {
            "tags": []
          },
          "execution_count": 25
        }
      ]
    },
    {
      "cell_type": "markdown",
      "metadata": {
        "id": "6aMp1YpLTw7C",
        "colab_type": "text"
      },
      "source": [
        "## 5.1 MAE"
      ]
    },
    {
      "cell_type": "code",
      "metadata": {
        "id": "XP6T2rA43zvp",
        "colab_type": "code",
        "colab": {}
      },
      "source": [
        "with open('C:/Users/57lzhang.US04WW4008/Desktop/Blood pressure/BP data/test/test_data', \"rb\") as fp:\n",
        "  test_data = pickle.load(fp)"
      ],
      "execution_count": 0,
      "outputs": []
    },
    {
      "cell_type": "code",
      "metadata": {
        "id": "GJaJEX5ThxKu",
        "colab_type": "code",
        "colab": {}
      },
      "source": [
        "with open(\"C:/Users/57lzhang.US04WW4008/Desktop/Blood pressure/BP data/test/test_labels\", \"rb\") as fp:\n",
        "  test_labels = pickle.load(fp)"
      ],
      "execution_count": 0,
      "outputs": []
    },
    {
      "cell_type": "code",
      "metadata": {
        "id": "ao2Pj44kiXgL",
        "colab_type": "code",
        "colab": {}
      },
      "source": [
        "test_data = np.asarray(test_data)"
      ],
      "execution_count": 0,
      "outputs": []
    },
    {
      "cell_type": "code",
      "metadata": {
        "id": "oHAzrXqdaXl6",
        "colab_type": "code",
        "colab": {}
      },
      "source": [
        "test_labels = np.asarray(test_labels)"
      ],
      "execution_count": 0,
      "outputs": []
    },
    {
      "cell_type": "code",
      "metadata": {
        "id": "2ScA5IlA-G84",
        "colab_type": "code",
        "colab": {}
      },
      "source": [
        "bp_estimate=model.predict(test_data)"
      ],
      "execution_count": 0,
      "outputs": []
    },
    {
      "cell_type": "code",
      "metadata": {
        "id": "HGR81k40A44c",
        "colab_type": "code",
        "outputId": "f6ecbde8-d84a-447e-fb70-84e32a225ac9",
        "colab": {
          "base_uri": "https://localhost:8080/",
          "height": 52
        }
      },
      "source": [
        "from sklearn.metrics import mean_absolute_error\n",
        "sys_mae = mean_absolute_error(test_labels[:,0], bp_estimate[:,0])\n",
        "dia_mae = mean_absolute_error(test_labels[:,1], bp_estimate[:,1])\n",
        "print(\"Systolic MAE in test dataset:\", round(sys_mae,1))\n",
        "print(\"Diastolic MAE in test dataset:\", round(dia_mae,1))"
      ],
      "execution_count": 8,
      "outputs": [
        {
          "output_type": "stream",
          "text": [
            "Systolic MAE in test dataset: 6.6\n",
            "Diastolic MAE in test dataset: 4.1\n"
          ],
          "name": "stdout"
        }
      ]
    }
  ]
}