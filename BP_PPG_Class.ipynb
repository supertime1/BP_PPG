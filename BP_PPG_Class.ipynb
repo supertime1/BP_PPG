{
  "nbformat": 4,
  "nbformat_minor": 0,
  "metadata": {
    "colab": {
      "name": "BP_PPG_Class.ipynb",
      "provenance": [],
      "collapsed_sections": [],
      "toc_visible": true,
      "authorship_tag": "ABX9TyMzZZS7+N2Iz6dZm/3wh7Pm",
      "include_colab_link": true
    },
    "kernelspec": {
      "name": "python3",
      "display_name": "Python 3"
    }
  },
  "cells": [
    {
      "cell_type": "markdown",
      "metadata": {
        "id": "view-in-github",
        "colab_type": "text"
      },
      "source": [
        "<a href=\"https://colab.research.google.com/github/supertime1/BP_PPG/blob/master/BP_PPG_Class.ipynb\" target=\"_parent\"><img src=\"https://colab.research.google.com/assets/colab-badge.svg\" alt=\"Open In Colab\"/></a>"
      ]
    },
    {
      "cell_type": "markdown",
      "metadata": {
        "id": "uWP-_pXlUKmp",
        "colab_type": "text"
      },
      "source": [
        "#1.Introduction"
      ]
    },
    {
      "cell_type": "markdown",
      "metadata": {
        "id": "3mOoV1yuUKlh",
        "colab_type": "text"
      },
      "source": [
        "This notebook trains an simple PPG DNN by using labeled PPG data from Afib_Data_Clean notebook;\n",
        "The loaded data is 30s segemented PPG signals with 125Hz sampling rate."
      ]
    },
    {
      "cell_type": "markdown",
      "metadata": {
        "id": "bfCfr60kSTDU",
        "colab_type": "text"
      },
      "source": [
        "#2.Setup Environment\n",
        "\n"
      ]
    },
    {
      "cell_type": "code",
      "metadata": {
        "id": "cvqxVijHSFk2",
        "colab_type": "code",
        "outputId": "0e3c8a2d-ac4a-4bc8-d21a-157493e93c09",
        "colab": {
          "base_uri": "https://localhost:8080/",
          "height": 34
        }
      },
      "source": [
        "from IPython.display import display\n",
        "import pandas as pd\n",
        "import matplotlib.pyplot as plt\n",
        "%matplotlib inline\n",
        "%load_ext tensorboard\n",
        "import numpy as np\n",
        "import os\n",
        "import shutil\n",
        "import glob\n",
        "import wfdb\n",
        "import tensorflow as tf\n",
        "from tensorflow import keras\n",
        "from tensorflow.keras import Model\n",
        "from tensorflow.keras.models import load_model \n",
        "from tensorflow.keras.callbacks import TensorBoard, ModelCheckpoint\n",
        "from tensorflow.keras.layers import Conv1D, BatchNormalization, Input, Add, Activation,\\\n",
        "MaxPooling1D,Dropout,Flatten,TimeDistributed,Bidirectional,Dense,LSTM, ZeroPadding1D, \\\n",
        "AveragePooling1D,GlobalMaxPooling1D\n",
        "from tensorflow.keras.initializers import glorot_uniform\n",
        "import tensorflow_datasets as tfds\n",
        "import multiprocessing\n",
        "from datetime import datetime\n",
        "import sklearn.metrics\n",
        "import itertools\n",
        "import io\n",
        "import pickle\n",
        "print(tf.__version__)"
      ],
      "execution_count": 1,
      "outputs": [
        {
          "output_type": "stream",
          "text": [
            "2.1.0\n"
          ],
          "name": "stdout"
        }
      ]
    },
    {
      "cell_type": "markdown",
      "metadata": {
        "colab_type": "text",
        "id": "oFD2ZNOoGMsP"
      },
      "source": [
        "#3.Data Pipeline"
      ]
    },
    {
      "cell_type": "code",
      "metadata": {
        "id": "Iwdd-WA-Xtb1",
        "colab_type": "code",
        "colab": {}
      },
      "source": [
        "#load the data filename\n",
        "train_data_dir = r\"C:\\Users\\57lzhang.US04WW4008\\Desktop\\Blood pressure\\BP data\\train\\data*\"\n",
        "train_data_fn = glob.glob(train_data_dir)\n",
        "train_label_dir = r\"C:\\Users\\57lzhang.US04WW4008\\Desktop\\Blood pressure\\BP data\\train\\label*\"\n",
        "train_label_fn = glob.glob(train_label_dir)"
      ],
      "execution_count": 0,
      "outputs": []
    },
    {
      "cell_type": "code",
      "metadata": {
        "id": "Rs1pp9k0rv-0",
        "colab_type": "code",
        "colab": {}
      },
      "source": [
        "#run assert to make sure the data and label are in the same order\n",
        "for i in range(len(train_label_fn)):\n",
        "  assert(train_data_fn[i][-1] == train_label_fn[i][-1])"
      ],
      "execution_count": 0,
      "outputs": []
    },
    {
      "cell_type": "code",
      "metadata": {
        "id": "3hCQDlhZl-82",
        "colab_type": "code",
        "colab": {}
      },
      "source": [
        "val_data_dir = r\"C:\\Users\\57lzhang.US04WW4008\\Desktop\\Blood pressure\\BP data\\validation\\data*\"\n",
        "val_data_fn = glob.glob(val_data_dir)\n",
        "val_label_dir = r\"C:\\Users\\57lzhang.US04WW4008\\Desktop\\Blood pressure\\BP data\\validation\\label*\"\n",
        "val_label_fn = glob.glob(val_label_dir)"
      ],
      "execution_count": 0,
      "outputs": []
    },
    {
      "cell_type": "code",
      "metadata": {
        "id": "o0B1Vx6MuEQV",
        "colab_type": "code",
        "colab": {}
      },
      "source": [
        "for i in range(len(val_label_fn)):\n",
        "  assert(val_data_fn[i][-1] == val_label_fn[i][-1])"
      ],
      "execution_count": 0,
      "outputs": []
    },
    {
      "cell_type": "code",
      "metadata": {
        "id": "A2VNZfnc4XSJ",
        "colab_type": "code",
        "colab": {}
      },
      "source": [
        "#use generator to input data, since the data size(>160GB) is larger than memory size (64GB)\n",
        "def train_data_generator():\n",
        "  for i in range(len(train_data_fn)):\n",
        "    data = pickle.load(open(train_data_fn[i],'rb'))\n",
        "    yield data"
      ],
      "execution_count": 0,
      "outputs": []
    },
    {
      "cell_type": "code",
      "metadata": {
        "id": "lIhR3bhdmM5I",
        "colab_type": "code",
        "colab": {}
      },
      "source": [
        "def train_label_generator():\n",
        "  for i in range(len(train_label_fn)):\n",
        "    label = pickle.load(open(train_label_fn[i],'rb'))\n",
        "    yield label"
      ],
      "execution_count": 0,
      "outputs": []
    },
    {
      "cell_type": "code",
      "metadata": {
        "id": "tVq-AReq5U21",
        "colab_type": "code",
        "colab": {}
      },
      "source": [
        "def val_data_generator():\n",
        "  for i in range(len(val_data_fn)):\n",
        "    data = pickle.load(open(val_data_fn[i],'rb'))\n",
        "    yield data"
      ],
      "execution_count": 0,
      "outputs": []
    },
    {
      "cell_type": "code",
      "metadata": {
        "id": "rGfRW6NYmU0a",
        "colab_type": "code",
        "colab": {}
      },
      "source": [
        "def val_label_generator():\n",
        "  for i in range(len(val_label_fn)):\n",
        "    label = pickle.load(open(val_label_fn[i],'rb'))\n",
        "    yield label"
      ],
      "execution_count": 0,
      "outputs": []
    },
    {
      "cell_type": "code",
      "metadata": {
        "id": "THYmut6MnQb_",
        "colab_type": "code",
        "outputId": "7ab1f776-f83f-45e1-c590-48802e92dcca",
        "colab": {
          "base_uri": "https://localhost:8080/",
          "height": 34
        }
      },
      "source": [
        "#calculate number of elements in training for later use in shuffle and model.fit\n",
        "number_of_element = 0\n",
        "for i in range(len(train_label_fn)):\n",
        "  label = pickle.load(open(train_label_fn[i],'rb'))\n",
        "  number_of_element += len(label)\n",
        "print(\"There are in total\", number_of_element, \"in training dataset\")"
      ],
      "execution_count": 10,
      "outputs": [
        {
          "output_type": "stream",
          "text": [
            "There are in total 1368247 in training dataset\n"
          ],
          "name": "stdout"
        }
      ]
    },
    {
      "cell_type": "code",
      "metadata": {
        "id": "ex9J_Ao0oGvN",
        "colab_type": "code",
        "outputId": "094ee1a3-9b49-465a-8090-94e3fcf9b433",
        "colab": {
          "base_uri": "https://localhost:8080/",
          "height": 34
        }
      },
      "source": [
        "#calculate number of elements in validation\n",
        "number_of_val_element = 0\n",
        "for i in range(len(val_label_fn)):\n",
        "  label = pickle.load(open(val_label_fn[i],'rb'))\n",
        "  number_of_val_element += len(label)\n",
        "print(\"There are in total\", number_of_val_element, \"in validation dataset\")"
      ],
      "execution_count": 11,
      "outputs": [
        {
          "output_type": "stream",
          "text": [
            "There are in total 152185 in validation dataset\n"
          ],
          "name": "stdout"
        }
      ]
    },
    {
      "cell_type": "code",
      "metadata": {
        "id": "4jFI5d1c4cQq",
        "colab_type": "code",
        "colab": {}
      },
      "source": [
        "#input the data by using generator and use flat_map to removing the \n",
        "#first dimension (number of elements) and flat all data\n",
        "train_data = tf.data.Dataset.from_generator(train_data_generator,(tf.float32),output_shapes=[None,10,150,1])\n",
        "train_label = tf.data.Dataset.from_generator(train_label_generator,(tf.float32),output_shapes=[None,2])\n",
        "train_ds = train_data.flat_map(lambda x: train_data.from_tensor_slices(x))\n",
        "train_lb = train_label.flat_map(lambda x: train_label.from_tensor_slices(x))\n",
        "train = tf.data.Dataset.zip((train_ds,train_lb))"
      ],
      "execution_count": 0,
      "outputs": []
    },
    {
      "cell_type": "code",
      "metadata": {
        "id": "KWSWFqN24c_M",
        "colab_type": "code",
        "colab": {}
      },
      "source": [
        "#do the same to validation\n",
        "val_data = tf.data.Dataset.from_generator(val_data_generator,(tf.float32),output_shapes=[None,10,150,1])\n",
        "val_label = tf.data.Dataset.from_generator(val_label_generator,(tf.float32),output_shapes=[None,2])\n",
        "val_ds = val_data.flat_map(lambda x: val_data.from_tensor_slices(x))\n",
        "val_lb = val_label.flat_map(lambda x: val_label.from_tensor_slices(x))\n",
        "validation = tf.data.Dataset.zip((val_ds,val_lb))"
      ],
      "execution_count": 0,
      "outputs": []
    },
    {
      "cell_type": "code",
      "metadata": {
        "colab_type": "code",
        "id": "0eNX0PYsGMtE",
        "colab": {}
      },
      "source": [
        "batch_size = 256\n",
        "train_dataset = train.cache()\n",
        "train_dataset = train_dataset.shuffle(number_of_element//100).repeat().batch(batch_size,drop_remainder=True)\n",
        "train_dataset = train_dataset.prefetch(buffer_size = tf.data.experimental.AUTOTUNE)\n",
        "val_dataset = validation.repeat().batch(batch_size, drop_remainder=True)"
      ],
      "execution_count": 0,
      "outputs": []
    },
    {
      "cell_type": "markdown",
      "metadata": {
        "id": "ikiF9-uDTI-h",
        "colab_type": "text"
      },
      "source": [
        "#4.Train Model"
      ]
    },
    {
      "cell_type": "markdown",
      "metadata": {
        "id": "MeF1mUEJTN60",
        "colab_type": "text"
      },
      "source": [
        "##4.1 CNN + RNN"
      ]
    },
    {
      "cell_type": "markdown",
      "metadata": {
        "id": "REoHyYK_924l",
        "colab_type": "text"
      },
      "source": [
        "###4.1.1 Simple_CNN + LSTM"
      ]
    },
    {
      "cell_type": "code",
      "metadata": {
        "id": "tD3vmo6nAPI6",
        "colab_type": "code",
        "colab": {}
      },
      "source": [
        "class Simple_CNN(tf.keras.layers.Layer):\n",
        "  def __init__(self,input_shape):\n",
        "    super(Simple_CNN, self).__init__()\n",
        "    \n",
        "    self.convA = TimeDistributed(Conv1D(8,1,strides=1,activation ='relu'),input_shape=input_shape)\n",
        "    self.batchA = TimeDistributed(BatchNormalization())\n",
        "    self.maxpoolA = TimeDistributed(MaxPooling1D(pool_size=2, strides=2))\n",
        "    self.dropA = TimeDistributed(Dropout(0.2))\n",
        "\n",
        "    self.convB = TimeDistributed(Conv1D(16,3,strides=1,activation ='relu'))\n",
        "    self.batchB = TimeDistributed(BatchNormalization())\n",
        "    self.maxpoolB = TimeDistributed(MaxPooling1D(pool_size=2, strides=2))\n",
        "    self.dropB = TimeDistributed(Dropout(0.2))    \n",
        "\n",
        "    self.convC = TimeDistributed(Conv1D(32,3,strides=1,activation ='relu'))\n",
        "    self.batchC = TimeDistributed(BatchNormalization())\n",
        "    self.maxpoolC = TimeDistributed(MaxPooling1D(pool_size=2, strides=2))\n",
        "    self.dropC = TimeDistributed(Dropout(0.2))\n",
        "\n",
        "    self.convD = TimeDistributed(Conv1D(64,3,strides=1,activation ='relu'))\n",
        "    self.batchD = TimeDistributed(BatchNormalization())\n",
        "    self.maxpoolD = TimeDistributed(MaxPooling1D(pool_size=2, strides=2))\n",
        "    self.dropD = TimeDistributed(Dropout(0.2))\n",
        "\n",
        "    self.convE = TimeDistributed(Conv1D(16, 1, strides=1, activation='relu'))\n",
        "    self.batch_normE = TimeDistributed(BatchNormalization())\n",
        "    self.flatE = TimeDistributed(Flatten())\n",
        "\n",
        "  def call(self, inputs):\n",
        "\n",
        "    x = self.convA(inputs)\n",
        "    x = self.batchA(x)\n",
        "    x = self.maxpoolA(x)\n",
        "    x = self.dropA(x)\n",
        "\n",
        "    x = self.convB(x)\n",
        "    x = self.batchB(x)\n",
        "    x = self.maxpoolB(x)\n",
        "    x = self.dropB(x)\n",
        "\n",
        "    x = self.convC(x)\n",
        "    x = self.batchC(x)\n",
        "    x = self.maxpoolC(x)\n",
        "    x = self.dropC(x)\n",
        "\n",
        "    x = self.convD(x)\n",
        "    x = self.batchD(x)\n",
        "    x = self.maxpoolD(x)\n",
        "    x = self.dropD(x)\n",
        "\n",
        "    x = self.convE(x)\n",
        "    x = self.batch_normE(x)\n",
        "    x = self.flatE(x)\n",
        "\n",
        "    return x"
      ],
      "execution_count": 0,
      "outputs": []
    },
    {
      "cell_type": "code",
      "metadata": {
        "id": "ORnk4ACrl4Gs",
        "colab_type": "code",
        "colab": {}
      },
      "source": [
        "class CNN_LSTM(Model):\n",
        "  def __init__(self, input_shape):\n",
        "    super(CNN_LSTM, self).__init__()\n",
        "    self.cnn = Simple_CNN(input_shape=input_shape)\n",
        "    self.bi_lstmA = Bidirectional(LSTM(32, return_sequences = True))\n",
        "    self.bi_lstmB = Bidirectional(LSTM(16))\n",
        "    self.dense = Dense(2)\n",
        "\n",
        "  def call(self,inputs):\n",
        "    x = self.cnn(inputs)\n",
        "    x = self.bi_lstmA(x)\n",
        "    x = self.bi_lstmB(x)\n",
        "    x = self.dense(x)\n",
        "\n",
        "    return x"
      ],
      "execution_count": 0,
      "outputs": []
    },
    {
      "cell_type": "code",
      "metadata": {
        "id": "nFwaYd4xrSvi",
        "colab_type": "code",
        "colab": {}
      },
      "source": [
        "model = CNN_LSTM((10,150,1))"
      ],
      "execution_count": 0,
      "outputs": []
    },
    {
      "cell_type": "markdown",
      "metadata": {
        "id": "OvD9rrRP97gQ",
        "colab_type": "text"
      },
      "source": [
        "###4.1.2 ResNet-50 + LSTM"
      ]
    },
    {
      "cell_type": "code",
      "metadata": {
        "id": "0tf1jlvWMuyI",
        "colab_type": "code",
        "colab": {}
      },
      "source": [
        "def identity_block(X, f, filters, stage, block):\n",
        "\n",
        "    # defining name basis\n",
        "    conv_name_base = 'res' + str(stage) + block + '_branch'\n",
        "    bn_name_base = 'bn' + str(stage) + block + '_branch'\n",
        "    \n",
        "    # Retrieve Filters\n",
        "    F1, F2, F3 = filters\n",
        "    \n",
        "    # Save the input value. You'll need this later to add back to the main path. \n",
        "    X_shortcut = X\n",
        "    \n",
        "    # First component of main path\n",
        "    X = Conv1D(filters = F1, kernel_size = 1, strides = 1, padding = 'valid', name = conv_name_base + '2a', kernel_initializer = glorot_uniform(seed=0))(X)\n",
        "    X = BatchNormalization(axis = 2, name = bn_name_base + '2a')(X)\n",
        "    X = Activation('relu')(X)\n",
        "\n",
        "    \n",
        "    # Second component of main path \n",
        "    X = Conv1D(filters = F2, kernel_size = f, strides = 1, padding = 'same', name = conv_name_base + '2b', kernel_initializer = glorot_uniform(seed=0))(X)\n",
        "    X = BatchNormalization(axis = 2, name = bn_name_base + '2b')(X)\n",
        "    X = Activation('relu')(X)\n",
        "\n",
        "    # Third component of main path \n",
        "    X = Conv1D(filters = F3, kernel_size = 1, strides = 1, padding = 'valid', name = conv_name_base + '2c', kernel_initializer = glorot_uniform(seed=0))(X)\n",
        "    X = BatchNormalization(axis = 2, name = bn_name_base + '2c')(X)\n",
        "\n",
        "    # Final step: Add shortcut value to main path, and pass it through a RELU activation \n",
        "    X = Add()([X, X_shortcut])\n",
        "    X = Activation('relu')(X)\n",
        "    \n",
        "    return X"
      ],
      "execution_count": 0,
      "outputs": []
    },
    {
      "cell_type": "code",
      "metadata": {
        "id": "HlsHX55LMxUy",
        "colab_type": "code",
        "colab": {}
      },
      "source": [
        "def convolutional_block(X, f, filters, stage, block, s = 2):\n",
        "    \n",
        "    # defining name basis\n",
        "    conv_name_base = 'res' + str(stage) + block + '_branch'\n",
        "    bn_name_base = 'bn' + str(stage) + block + '_branch'\n",
        "    \n",
        "    # Retrieve Filters\n",
        "    F1, F2, F3 = filters\n",
        "    \n",
        "    # Save the input value\n",
        "    X_shortcut = X\n",
        "\n",
        "    ##### MAIN PATH #####\n",
        "    # First component of main path \n",
        "    X = Conv1D(filters = F1, kernel_size = 1, strides = s, padding = 'valid', name = conv_name_base + '2a', kernel_initializer = glorot_uniform(seed=0))(X)\n",
        "    X = BatchNormalization(axis = 2, name = bn_name_base + '2a')(X)\n",
        "    X = Activation('relu')(X)\n",
        "\n",
        "    # Second component of main path (≈3 lines)\n",
        "    X = Conv1D(filters = F2, kernel_size = f, strides = 1, padding = 'same', name = conv_name_base + '2b', kernel_initializer = glorot_uniform(seed=0))(X)\n",
        "    X = BatchNormalization(axis = 2, name = bn_name_base + '2b')(X)\n",
        "    X = Activation('relu')(X)\n",
        "\n",
        "\n",
        "    # Third component of main path (≈2 lines)\n",
        "    X = Conv1D(filters = F3, kernel_size = 1, strides = 1, padding = 'valid', name = conv_name_base + '2c', kernel_initializer = glorot_uniform(seed=0))(X)\n",
        "    X = BatchNormalization(axis = 2, name = bn_name_base + '2c')(X)\n",
        "\n",
        "\n",
        "    ##### SHORTCUT PATH #### (≈2 lines)\n",
        "    X_shortcut = Conv1D(filters = F3, kernel_size = 1, strides = s, padding = 'valid', name = conv_name_base + '1',\n",
        "                        kernel_initializer = glorot_uniform(seed=0))(X_shortcut)\n",
        "    X_shortcut = BatchNormalization(axis = 2, name = bn_name_base + '1')(X_shortcut)\n",
        "\n",
        "    # Final step: Add shortcut value to main path, and pass it through a RELU activation (≈2 lines)\n",
        "    X = Add()([X, X_shortcut])\n",
        "    X = Activation('relu')(X)\n",
        "    \n",
        "    return X"
      ],
      "execution_count": 0,
      "outputs": []
    },
    {
      "cell_type": "code",
      "metadata": {
        "id": "IJXZrxtvM0ig",
        "colab_type": "code",
        "colab": {}
      },
      "source": [
        "def ResNet50(input_shape=(150, 1), classes=1):\n",
        "\n",
        "    # Define the input as a tensor with shape input_shape\n",
        "    X_input = Input(input_shape)\n",
        "\n",
        "    # Zero-Padding\n",
        "    X = ZeroPadding1D(3)(X_input)\n",
        "\n",
        "    # Stage 1\n",
        "    X = Conv1D(64, 7, strides=2, name='conv1', kernel_initializer=glorot_uniform(seed=0))(X)\n",
        "    X = BatchNormalization(axis=2, name='bn_conv1')(X)\n",
        "    X = Activation('relu')(X)\n",
        "    X = MaxPooling1D(3, strides=2)(X)\n",
        "\n",
        "    # Stage 2\n",
        "    X = convolutional_block(X, f=3, filters=[64, 64, 256], stage=2, block='a', s=1)\n",
        "    X = identity_block(X, 3, [64, 64, 256], stage=2, block='b')\n",
        "    X = identity_block(X, 3, [64, 64, 256], stage=2, block='c')\n",
        "\n",
        "    # Stage 3 (≈4 lines)\n",
        "    X = convolutional_block(X, f = 3, filters = [128, 128, 512], stage = 3, block='a', s = 2)\n",
        "    X = identity_block(X, 3, [128, 128, 512], stage=3, block='b')\n",
        "    X = identity_block(X, 3, [128, 128, 512], stage=3, block='c')\n",
        "    X = identity_block(X, 3, [128, 128, 512], stage=3, block='d')\n",
        "\n",
        "    # Stage 4 (≈6 lines)\n",
        "    X = convolutional_block(X, f = 3, filters = [256, 256, 1024], stage = 4, block='a', s = 2)\n",
        "    X = identity_block(X, 3, [256, 256, 1024], stage=4, block='b')\n",
        "    X = identity_block(X, 3, [256, 256, 1024], stage=4, block='c')\n",
        "    X = identity_block(X, 3, [256, 256, 1024], stage=4, block='d')\n",
        "    X = identity_block(X, 3, [256, 256, 1024], stage=4, block='e')\n",
        "    X = identity_block(X, 3, [256, 256, 1024], stage=4, block='f')\n",
        "\n",
        "    # Stage 5 (≈3 lines)\n",
        "    X = convolutional_block(X, f = 3, filters = [512, 512, 2048], stage = 5, block='a', s = 2)\n",
        "    X = identity_block(X, 3, [512, 512, 2048], stage=5, block='b')\n",
        "    X = identity_block(X, 3, [512, 512, 2048], stage=5, block='c')\n",
        "\n",
        "    # AVGPOOL (≈1 line). Use \"X = AveragePooling2D(...)(X)\"\n",
        "    X = AveragePooling1D(2, name=\"avg_pool\")(X)\n",
        "\n",
        "    # output layer\n",
        "    X = Flatten()(X)\n",
        "    \n",
        "    #X = Dense(classes, activation='sigmoid', name='fc' + str(classes), kernel_initializer = glorot_uniform(seed=0))(X)\n",
        "    \n",
        "    # Create model\n",
        "    model = Model(inputs = X_input, outputs = X, name='ResNet50')\n",
        "\n",
        "    return model"
      ],
      "execution_count": 0,
      "outputs": []
    },
    {
      "cell_type": "code",
      "metadata": {
        "id": "GXjdZFR5WPs6",
        "colab_type": "code",
        "colab": {}
      },
      "source": [
        "resnet = ResNet50(input_shape = (150,1), classes = 1)"
      ],
      "execution_count": 0,
      "outputs": []
    },
    {
      "cell_type": "code",
      "metadata": {
        "id": "IUyhh3M-LQeI",
        "colab_type": "code",
        "colab": {}
      },
      "source": [
        "model = tf.keras.Sequential([\n",
        "        tf.keras.layers.TimeDistributed(resnet,input_shape=(10,150,1)),                   \n",
        "        tf.keras.layers.Bidirectional(tf.keras.layers.LSTM(32,return_sequences=True)),\n",
        "        tf.keras.layers.Bidirectional(tf.keras.layers.LSTM(16)),\n",
        "        tf.keras.layers.Dense(2)\n",
        "])"
      ],
      "execution_count": 0,
      "outputs": []
    },
    {
      "cell_type": "code",
      "metadata": {
        "id": "yFc2ipWFdnu_",
        "colab_type": "code",
        "outputId": "c792746c-8790-48c8-a98f-2af2ab726184",
        "colab": {
          "base_uri": "https://localhost:8080/",
          "height": 301
        }
      },
      "source": [
        "model.summary()"
      ],
      "execution_count": 0,
      "outputs": [
        {
          "output_type": "stream",
          "text": [
            "Model: \"sequential\"\n",
            "_________________________________________________________________\n",
            "Layer (type)                 Output Shape              Param #   \n",
            "=================================================================\n",
            "time_distributed (TimeDistri (None, 10, 4096)          16033920  \n",
            "_________________________________________________________________\n",
            "bidirectional (Bidirectional (None, 10, 64)            1057024   \n",
            "_________________________________________________________________\n",
            "bidirectional_1 (Bidirection (None, 32)                10368     \n",
            "_________________________________________________________________\n",
            "dense (Dense)                (None, 2)                 66        \n",
            "=================================================================\n",
            "Total params: 17,101,378\n",
            "Trainable params: 17,048,258\n",
            "Non-trainable params: 53,120\n",
            "_________________________________________________________________\n"
          ],
          "name": "stdout"
        }
      ]
    },
    {
      "cell_type": "markdown",
      "metadata": {
        "id": "kh5I_ofpASeV",
        "colab_type": "text"
      },
      "source": [
        "###4.1.3 ResNet-18 + LSTM"
      ]
    },
    {
      "cell_type": "code",
      "metadata": {
        "id": "EIiiZfTsAZv-",
        "colab_type": "code",
        "colab": {}
      },
      "source": [
        "def identity_block_18(X, f, filters, stage, block):\n",
        "\n",
        "    # defining name basis\n",
        "    conv_name_base = 'res' + str(stage) + block + '_branch'\n",
        "    bn_name_base = 'bn' + str(stage) + block + '_branch'\n",
        "    \n",
        "    # Retrieve Filters\n",
        "    F1, F2 = filters\n",
        "    \n",
        "    # Save the input value. You'll need this later to add back to the main path. \n",
        "    X_shortcut = X\n",
        "    \n",
        "    # First component of main path\n",
        "    X = Conv1D(filters = F1, kernel_size = f, strides = 1, padding = 'same', name = conv_name_base + '2a', kernel_initializer = glorot_uniform(seed=0))(X)\n",
        "    X = BatchNormalization(axis = 2, name = bn_name_base + '2a')(X)\n",
        "    X = Activation('relu')(X)\n",
        "\n",
        "    \n",
        "    # Second component of main path \n",
        "    X = Conv1D(filters = F2, kernel_size = f, strides = 1, padding = 'same', name = conv_name_base + '2b', kernel_initializer = glorot_uniform(seed=0))(X)\n",
        "    X = BatchNormalization(axis = 2, name = bn_name_base + '2b')(X)\n",
        "    X = Activation('relu')(X)\n",
        "\n",
        "    # Final step: Add shortcut value to main path, and pass it through a RELU activation \n",
        "    X = Add()([X, X_shortcut])\n",
        "    X = Activation('relu')(X)\n",
        "    \n",
        "    \n",
        "    return X"
      ],
      "execution_count": 0,
      "outputs": []
    },
    {
      "cell_type": "code",
      "metadata": {
        "id": "F9k8UXNF8Uk5",
        "colab_type": "code",
        "colab": {}
      },
      "source": [
        "def convolutional_block_18(X, f, filters, stage, block, s = 2):\n",
        "    \n",
        "    # defining name basis\n",
        "    conv_name_base = 'res' + str(stage) + block + '_branch'\n",
        "    bn_name_base = 'bn' + str(stage) + block + '_branch'\n",
        "    \n",
        "    # Retrieve Filters\n",
        "    F1, F2 = filters\n",
        "    \n",
        "    # Save the input value\n",
        "    X_shortcut = X\n",
        "\n",
        "\n",
        "    ##### MAIN PATH #####\n",
        "    # First component of main path \n",
        "    X = Conv1D(filters = F1, kernel_size = f, strides = s, padding = 'valid', name = conv_name_base + '2a', kernel_initializer = glorot_uniform(seed=0))(X)\n",
        "    X = BatchNormalization(axis = 2, name = bn_name_base + '2a')(X)\n",
        "    X = Activation('relu')(X)\n",
        "\n",
        "    # Second component of main path (≈3 lines)\n",
        "    X = Conv1D(filters = F2, kernel_size = f, strides = 1, padding = 'same', name = conv_name_base + '2b', kernel_initializer = glorot_uniform(seed=0))(X)\n",
        "    X = BatchNormalization(axis = 2, name = bn_name_base + '2b')(X)\n",
        "    X = Activation('relu')(X)\n",
        "\n",
        "\n",
        "    ##### SHORTCUT PATH #### (≈2 lines)\n",
        "    X_shortcut = Conv1D(filters = F1, kernel_size = f, strides = s, padding = 'valid', name = conv_name_base + '1',\n",
        "                        kernel_initializer = glorot_uniform(seed=0))(X_shortcut)\n",
        "    X_shortcut = BatchNormalization(axis = 2, name = bn_name_base + '1')(X_shortcut)\n",
        "\n",
        "    # Final step: Add shortcut value to main path, and pass it through a RELU activation (≈2 lines)\n",
        "    X = Add()([X, X_shortcut])\n",
        "    X = Activation('relu')(X)\n",
        "    \n",
        "    \n",
        "    return X"
      ],
      "execution_count": 0,
      "outputs": []
    },
    {
      "cell_type": "code",
      "metadata": {
        "id": "0GlLgQiD8Ujk",
        "colab_type": "code",
        "colab": {}
      },
      "source": [
        "def ResNet18(input_shape=(600, 1), classes=1):\n",
        "\n",
        "    # Define the input as a tensor with shape input_shape\n",
        "    X_input = Input(input_shape)\n",
        "\n",
        "    # Zero-Padding\n",
        "    X = ZeroPadding1D(3)(X_input)\n",
        "\n",
        "    # Stage 1\n",
        "    X = Conv1D(64, 7, strides=2, name='conv1', kernel_initializer=glorot_uniform(seed=0))(X)\n",
        "    X = BatchNormalization(axis=2, name='bn_conv1')(X)\n",
        "    X = Activation('relu')(X)\n",
        "    X = MaxPooling1D(3, strides=2)(X)\n",
        "\n",
        "    # Stage 2\n",
        "    X = identity_block_18(X, 3, [64, 64], stage=2, block='a')\n",
        "    X = identity_block_18(X, 3, [64, 64], stage=2, block='b')\n",
        "\n",
        "\n",
        "    # Stage 3 (2 lines)\n",
        "    X = convolutional_block_18(X, f = 3, filters = [128, 128], stage = 3, block='a', s = 2)\n",
        "    X = identity_block_18(X, 3, [128, 128], stage=3, block='b')\n",
        "\n",
        "\n",
        "    # Stage 4 (2 lines)\n",
        "    X = convolutional_block_18(X, f = 3, filters = [256, 256], stage = 4, block='a', s = 2)\n",
        "    X = identity_block_18(X, 3, [256, 256], stage=4, block='b')\n",
        "\n",
        "    # Stage 5 (2 lines)\n",
        "    X = convolutional_block_18(X, f = 3, filters = [512, 512], stage = 5, block='a', s = 2)\n",
        "    X = identity_block_18(X, 3, [512, 512], stage=5, block='b')\n",
        "\n",
        "\n",
        "    # AVGPOOL (1 line).\n",
        "    X = AveragePooling1D(2, name=\"avg_pool\")(X)\n",
        "\n",
        "    # output layer\n",
        "    X = Flatten()(X)\n",
        "    \n",
        "    \n",
        "    #X = Dense(classes, activation='sigmoid', name='fc' + str(classes), kernel_initializer = glorot_uniform(seed=0))(X)\n",
        "    \n",
        "    \n",
        "    #Create model\n",
        "    model = Model(inputs = X_input, outputs = X, name='ResNet18')\n",
        "\n",
        "    return model"
      ],
      "execution_count": 0,
      "outputs": []
    },
    {
      "cell_type": "code",
      "metadata": {
        "id": "DUokNfRpwK7O",
        "colab_type": "code",
        "colab": {}
      },
      "source": [
        "resnet = ResNet18(input_shape = (150,1), classes = 1)"
      ],
      "execution_count": 0,
      "outputs": []
    },
    {
      "cell_type": "code",
      "metadata": {
        "id": "v298q6CswOjr",
        "colab_type": "code",
        "colab": {}
      },
      "source": [
        "model = tf.keras.Sequential([\n",
        "        tf.keras.layers.TimeDistributed(resnet,input_shape=(10,150,1)),                   \n",
        "        tf.keras.layers.Bidirectional(tf.keras.layers.LSTM(32,return_sequences=True)),\n",
        "        tf.keras.layers.Bidirectional(tf.keras.layers.LSTM(16)),\n",
        "        tf.keras.layers.Dense(2)\n",
        "])"
      ],
      "execution_count": 0,
      "outputs": []
    },
    {
      "cell_type": "code",
      "metadata": {
        "id": "UpXL04x9whgE",
        "colab_type": "code",
        "outputId": "97bd3cee-a456-434c-aa70-e6e60bd46163",
        "colab": {
          "base_uri": "https://localhost:8080/",
          "height": 301
        }
      },
      "source": [
        "model.summary()"
      ],
      "execution_count": 20,
      "outputs": [
        {
          "output_type": "stream",
          "text": [
            "Model: \"sequential\"\n",
            "_________________________________________________________________\n",
            "Layer (type)                 Output Shape              Param #   \n",
            "=================================================================\n",
            "time_distributed (TimeDistri (None, 10, 512)           4202368   \n",
            "_________________________________________________________________\n",
            "bidirectional (Bidirectional (None, 10, 64)            139520    \n",
            "_________________________________________________________________\n",
            "bidirectional_1 (Bidirection (None, 32)                10368     \n",
            "_________________________________________________________________\n",
            "dense (Dense)                (None, 2)                 66        \n",
            "=================================================================\n",
            "Total params: 4,352,322\n",
            "Trainable params: 4,342,722\n",
            "Non-trainable params: 9,600\n",
            "_________________________________________________________________\n"
          ],
          "name": "stdout"
        }
      ]
    },
    {
      "cell_type": "markdown",
      "metadata": {
        "id": "mOMnuD4aAaTK",
        "colab_type": "text"
      },
      "source": [
        "### 4.1.4 ResNeXt + LSTM"
      ]
    },
    {
      "cell_type": "markdown",
      "metadata": {
        "id": "MhkddousAf0G",
        "colab_type": "text"
      },
      "source": [
        "###4.1.5 ResNeXt-18 + LSTM"
      ]
    },
    {
      "cell_type": "markdown",
      "metadata": {
        "id": "_6yMWCkDAlHn",
        "colab_type": "text"
      },
      "source": [
        "###4.1.6 ResNet + Attention"
      ]
    },
    {
      "cell_type": "markdown",
      "metadata": {
        "id": "iV4AOP5AXh5P",
        "colab_type": "text"
      },
      "source": [
        "##4.2 Define callbacks"
      ]
    },
    {
      "cell_type": "markdown",
      "metadata": {
        "id": "vD8quc5CXwa5",
        "colab_type": "text"
      },
      "source": [
        "###4.2.1 Tensorboard"
      ]
    },
    {
      "cell_type": "code",
      "metadata": {
        "id": "T7h_p1YnXz1R",
        "colab_type": "code",
        "colab": {}
      },
      "source": [
        "#callback: tensorboard\n",
        "log_dir=r\"C:\\Users\\57lzhang.US04WW4008\\Desktop\\Blood pressure\\BP data\\logs\\new fit\\\\\" + datetime.now().strftime(\"%Y%m%d-%H%M%S\") +\"CCC_Res18+LSTM+new+25Hz\"\n",
        "tensorboard_callback = TensorBoard(log_dir=log_dir, histogram_freq=1)"
      ],
      "execution_count": 0,
      "outputs": []
    },
    {
      "cell_type": "markdown",
      "metadata": {
        "id": "rcdMgfv1YClx",
        "colab_type": "text"
      },
      "source": [
        "###4.2.2 Checkpoint"
      ]
    },
    {
      "cell_type": "code",
      "metadata": {
        "id": "OSqNrDZ_YKFv",
        "colab_type": "code",
        "colab": {}
      },
      "source": [
        "#callback: checkpoint\n",
        "filepath = r\"C:\\Users\\57lzhang.US04WW4008\\Desktop\\Blood pressure\\BP data\\models\\New Cleaned Data\\CCC_Res18+LSTM+new+25Hz-{epoch:02d}-{loss:.4f}.hdf5\"\n",
        "checkpoint = ModelCheckpoint(filepath, monitor='loss', verbose=1, save_best_only=True, mode='auto')"
      ],
      "execution_count": 0,
      "outputs": []
    },
    {
      "cell_type": "markdown",
      "metadata": {
        "id": "t2ril_S4TVJS",
        "colab_type": "text"
      },
      "source": [
        "##4.3 Train the model "
      ]
    },
    {
      "cell_type": "markdown",
      "metadata": {
        "id": "boYor7DsTcXT",
        "colab_type": "text"
      },
      "source": [
        "### 4.3.1 Start Training"
      ]
    },
    {
      "cell_type": "code",
      "metadata": {
        "id": "-eqeVT1uTeOn",
        "colab_type": "code",
        "outputId": "eea6139e-1e2d-48ed-8c2a-4cdf412df24e",
        "colab": {
          "base_uri": "https://localhost:8080/",
          "height": 1000
        }
      },
      "source": [
        "#clear history if necessary\n",
        "tf.keras.backend.clear_session()\n",
        "#strategy = tf.distribute.MirroredStrategy(cross_device_ops=tf.distribute.HierarchicalCopyAllReduce()) ##to overwrite NCCL cross device communication as this is running in Windows\n",
        "#with strategy.scope():\n",
        "\n",
        "#loss_object = tf.keras.losses.MeanSquaredError()\n",
        "#optimizer = tf.keras.optimizers.Adam()\n",
        "\n",
        "model = model\n",
        "model.load_weights(r'C:\\Users\\57lzhang.US04WW4008\\Desktop\\Blood pressure\\BP data\\models\\New Cleaned Data\\CC_Res18+LSTM+new+25Hz-12-115.9493.hdf5')\n",
        "model.compile(optimizer=tf.keras.optimizers.Adam(learning_rate = 0.001), \n",
        "              loss='mse', \n",
        "              metrics=['mae'])\n",
        "\n",
        "callbacks_list = [tensorboard_callback, checkpoint]\n",
        "\n",
        "#start training\n",
        "model.fit(train_dataset,\n",
        "          epochs=300,\n",
        "          steps_per_epoch = number_of_element//batch_size,\n",
        "          verbose=1,\n",
        "          validation_data=val_dataset,\n",
        "          validation_steps=number_of_val_element//batch_size,\n",
        "          callbacks=callbacks_list\n",
        "          )"
      ],
      "execution_count": 0,
      "outputs": [
        {
          "output_type": "stream",
          "text": [
            "Train for 5344 steps, validate for 594 steps\n",
            "Epoch 1/300\n",
            "   1/5344 [..............................] - ETA: 17:44:40 - loss: 354.7757 - mae: 14.0436WARNING:tensorflow:Method (on_train_batch_end) is slow compared to the batch update (0.438774). Check your callbacks.\n",
            "5343/5344 [============================>.] - ETA: 0s - loss: 112.8011 - mae: 7.6049\n",
            "Epoch 00001: loss improved from inf to 112.79599, saving model to C:\\Users\\57lzhang.US04WW4008\\Desktop\\Blood pressure\\BP data\\models\\New Cleaned Data\\CCC_Res18+LSTM+new+25Hz-01-112.7960.hdf5\n",
            "5344/5344 [==============================] - 1453s 272ms/step - loss: 112.7960 - mae: 7.6047 - val_loss: 376.5184 - val_mae: 14.5842\n",
            "Epoch 2/300\n",
            "5343/5344 [============================>.] - ETA: 0s - loss: 110.3285 - mae: 7.5134\n",
            "Epoch 00002: loss improved from 112.79599 to 110.32550, saving model to C:\\Users\\57lzhang.US04WW4008\\Desktop\\Blood pressure\\BP data\\models\\New Cleaned Data\\CCC_Res18+LSTM+new+25Hz-02-110.3255.hdf5\n",
            "5344/5344 [==============================] - 1409s 264ms/step - loss: 110.3255 - mae: 7.5133 - val_loss: 366.4229 - val_mae: 14.2801\n",
            "Epoch 3/300\n",
            "5343/5344 [============================>.] - ETA: 0s - loss: 108.2533 - mae: 7.4367\n",
            "Epoch 00003: loss improved from 110.32550 to 108.24848, saving model to C:\\Users\\57lzhang.US04WW4008\\Desktop\\Blood pressure\\BP data\\models\\New Cleaned Data\\CCC_Res18+LSTM+new+25Hz-03-108.2485.hdf5\n",
            "5344/5344 [==============================] - 1462s 274ms/step - loss: 108.2485 - mae: 7.4366 - val_loss: 375.4610 - val_mae: 14.5542\n",
            "Epoch 4/300\n",
            "5343/5344 [============================>.] - ETA: 0s - loss: 105.9091 - mae: 7.3477\n",
            "Epoch 00004: loss improved from 108.24848 to 105.91042, saving model to C:\\Users\\57lzhang.US04WW4008\\Desktop\\Blood pressure\\BP data\\models\\New Cleaned Data\\CCC_Res18+LSTM+new+25Hz-04-105.9104.hdf5\n",
            "5344/5344 [==============================] - 1472s 275ms/step - loss: 105.9104 - mae: 7.3478 - val_loss: 355.5738 - val_mae: 14.0355\n",
            "Epoch 5/300\n",
            "5343/5344 [============================>.] - ETA: 0s - loss: 104.1129 - mae: 7.2755\n",
            "Epoch 00005: loss improved from 105.91042 to 104.11408, saving model to C:\\Users\\57lzhang.US04WW4008\\Desktop\\Blood pressure\\BP data\\models\\New Cleaned Data\\CCC_Res18+LSTM+new+25Hz-05-104.1141.hdf5\n",
            "5344/5344 [==============================] - 1410s 264ms/step - loss: 104.1141 - mae: 7.2755 - val_loss: 374.3345 - val_mae: 14.5624\n",
            "Epoch 6/300\n",
            "5343/5344 [============================>.] - ETA: 0s - loss: 102.0755 - mae: 7.1959\n",
            "Epoch 00006: loss improved from 104.11408 to 102.07463, saving model to C:\\Users\\57lzhang.US04WW4008\\Desktop\\Blood pressure\\BP data\\models\\New Cleaned Data\\CCC_Res18+LSTM+new+25Hz-06-102.0746.hdf5\n",
            "5344/5344 [==============================] - 1408s 264ms/step - loss: 102.0746 - mae: 7.1959 - val_loss: 380.6578 - val_mae: 14.6297\n",
            "Epoch 7/300\n",
            "5343/5344 [============================>.] - ETA: 0s - loss: 100.0079 - mae: 7.1169\n",
            "Epoch 00007: loss improved from 102.07463 to 100.00629, saving model to C:\\Users\\57lzhang.US04WW4008\\Desktop\\Blood pressure\\BP data\\models\\New Cleaned Data\\CCC_Res18+LSTM+new+25Hz-07-100.0063.hdf5\n",
            "5344/5344 [==============================] - 1404s 263ms/step - loss: 100.0063 - mae: 7.1169 - val_loss: 376.6375 - val_mae: 14.4437\n",
            "Epoch 8/300\n",
            "5343/5344 [============================>.] - ETA: 0s - loss: 97.8840 - mae: 7.0382\n",
            "Epoch 00008: loss improved from 100.00629 to 97.88266, saving model to C:\\Users\\57lzhang.US04WW4008\\Desktop\\Blood pressure\\BP data\\models\\New Cleaned Data\\CCC_Res18+LSTM+new+25Hz-08-97.8827.hdf5\n",
            "5344/5344 [==============================] - 1405s 263ms/step - loss: 97.8827 - mae: 7.0381 - val_loss: 413.3842 - val_mae: 15.4385\n",
            "Epoch 9/300\n",
            "5343/5344 [============================>.] - ETA: 0s - loss: 96.4531 - mae: 6.9775\n",
            "Epoch 00009: loss improved from 97.88266 to 96.45203, saving model to C:\\Users\\57lzhang.US04WW4008\\Desktop\\Blood pressure\\BP data\\models\\New Cleaned Data\\CCC_Res18+LSTM+new+25Hz-09-96.4520.hdf5\n",
            "5344/5344 [==============================] - 1416s 265ms/step - loss: 96.4520 - mae: 6.9774 - val_loss: 347.0551 - val_mae: 13.9338\n",
            "Epoch 10/300\n",
            "5343/5344 [============================>.] - ETA: 0s - loss: 94.4002 - mae: 6.8991\n",
            "Epoch 00010: loss improved from 96.45203 to 94.39998, saving model to C:\\Users\\57lzhang.US04WW4008\\Desktop\\Blood pressure\\BP data\\models\\New Cleaned Data\\CCC_Res18+LSTM+new+25Hz-10-94.4000.hdf5\n",
            "5344/5344 [==============================] - 1412s 264ms/step - loss: 94.4000 - mae: 6.8991 - val_loss: 368.3770 - val_mae: 14.3572\n",
            "Epoch 11/300\n",
            "5343/5344 [============================>.] - ETA: 0s - loss: 92.7963 - mae: 6.8321\n",
            "Epoch 00011: loss improved from 94.39998 to 92.79224, saving model to C:\\Users\\57lzhang.US04WW4008\\Desktop\\Blood pressure\\BP data\\models\\New Cleaned Data\\CCC_Res18+LSTM+new+25Hz-11-92.7922.hdf5\n",
            "5344/5344 [==============================] - 1414s 265ms/step - loss: 92.7922 - mae: 6.8319 - val_loss: 405.3736 - val_mae: 14.8543\n",
            "Epoch 12/300\n",
            "5343/5344 [============================>.] - ETA: 0s - loss: 91.1115 - mae: 6.7678\n",
            "Epoch 00012: loss improved from 92.79224 to 91.11047, saving model to C:\\Users\\57lzhang.US04WW4008\\Desktop\\Blood pressure\\BP data\\models\\New Cleaned Data\\CCC_Res18+LSTM+new+25Hz-12-91.1105.hdf5\n",
            "5344/5344 [==============================] - 1415s 265ms/step - loss: 91.1105 - mae: 6.7678 - val_loss: 399.1978 - val_mae: 15.0580\n",
            "Epoch 13/300\n",
            "5343/5344 [============================>.] - ETA: 0s - loss: 89.6674 - mae: 6.7140\n",
            "Epoch 00013: loss improved from 91.11047 to 89.66441, saving model to C:\\Users\\57lzhang.US04WW4008\\Desktop\\Blood pressure\\BP data\\models\\New Cleaned Data\\CCC_Res18+LSTM+new+25Hz-13-89.6644.hdf5\n",
            "5344/5344 [==============================] - 1416s 265ms/step - loss: 89.6644 - mae: 6.7139 - val_loss: 370.1205 - val_mae: 14.5647\n",
            "Epoch 14/300\n",
            "5343/5344 [============================>.] - ETA: 0s - loss: 88.0057 - mae: 6.6382\n",
            "Epoch 00014: loss improved from 89.66441 to 88.00514, saving model to C:\\Users\\57lzhang.US04WW4008\\Desktop\\Blood pressure\\BP data\\models\\New Cleaned Data\\CCC_Res18+LSTM+new+25Hz-14-88.0051.hdf5\n",
            "5344/5344 [==============================] - 1416s 265ms/step - loss: 88.0051 - mae: 6.6381 - val_loss: 357.5856 - val_mae: 14.2081\n",
            "Epoch 15/300\n",
            "5343/5344 [============================>.] - ETA: 0s - loss: 86.4447 - mae: 6.5866\n",
            "Epoch 00015: loss improved from 88.00514 to 86.44368, saving model to C:\\Users\\57lzhang.US04WW4008\\Desktop\\Blood pressure\\BP data\\models\\New Cleaned Data\\CCC_Res18+LSTM+new+25Hz-15-86.4437.hdf5\n",
            "5344/5344 [==============================] - 1433s 268ms/step - loss: 86.4437 - mae: 6.5865 - val_loss: 358.6658 - val_mae: 14.1745\n",
            "Epoch 16/300\n",
            "5343/5344 [============================>.] - ETA: 0s - loss: 84.8653 - mae: 6.5194\n",
            "Epoch 00016: loss improved from 86.44368 to 84.86047, saving model to C:\\Users\\57lzhang.US04WW4008\\Desktop\\Blood pressure\\BP data\\models\\New Cleaned Data\\CCC_Res18+LSTM+new+25Hz-16-84.8605.hdf5\n",
            "5344/5344 [==============================] - 1426s 267ms/step - loss: 84.8605 - mae: 6.5193 - val_loss: 377.8809 - val_mae: 14.5111\n",
            "Epoch 17/300\n",
            "5343/5344 [============================>.] - ETA: 0s - loss: 83.7849 - mae: 6.4720\n",
            "Epoch 00017: loss improved from 84.86047 to 83.78448, saving model to C:\\Users\\57lzhang.US04WW4008\\Desktop\\Blood pressure\\BP data\\models\\New Cleaned Data\\CCC_Res18+LSTM+new+25Hz-17-83.7845.hdf5\n",
            "5344/5344 [==============================] - 1431s 268ms/step - loss: 83.7845 - mae: 6.4719 - val_loss: 391.9679 - val_mae: 14.7576\n",
            "Epoch 18/300\n",
            "5343/5344 [============================>.] - ETA: 0s - loss: 82.4017 - mae: 6.4175\n",
            "Epoch 00018: loss improved from 83.78448 to 82.39899, saving model to C:\\Users\\57lzhang.US04WW4008\\Desktop\\Blood pressure\\BP data\\models\\New Cleaned Data\\CCC_Res18+LSTM+new+25Hz-18-82.3990.hdf5\n",
            "5344/5344 [==============================] - 1432s 268ms/step - loss: 82.3990 - mae: 6.4174 - val_loss: 386.0928 - val_mae: 14.9610\n",
            "Epoch 19/300\n",
            "5343/5344 [============================>.] - ETA: 0s - loss: 80.8849 - mae: 6.3581\n",
            "Epoch 00019: loss improved from 82.39899 to 80.88541, saving model to C:\\Users\\57lzhang.US04WW4008\\Desktop\\Blood pressure\\BP data\\models\\New Cleaned Data\\CCC_Res18+LSTM+new+25Hz-19-80.8854.hdf5\n",
            "5344/5344 [==============================] - 1426s 267ms/step - loss: 80.8854 - mae: 6.3581 - val_loss: 393.3556 - val_mae: 14.7472\n",
            "Epoch 20/300\n",
            "5343/5344 [============================>.] - ETA: 0s - loss: 79.4529 - mae: 6.2952\n",
            "Epoch 00020: loss improved from 80.88541 to 79.45361, saving model to C:\\Users\\57lzhang.US04WW4008\\Desktop\\Blood pressure\\BP data\\models\\New Cleaned Data\\CCC_Res18+LSTM+new+25Hz-20-79.4536.hdf5\n",
            "5344/5344 [==============================] - 1424s 267ms/step - loss: 79.4536 - mae: 6.2952 - val_loss: 394.1436 - val_mae: 15.0366\n",
            "Epoch 21/300\n",
            "5343/5344 [============================>.] - ETA: 0s - loss: 78.3153 - mae: 6.2500\n",
            "Epoch 00021: loss improved from 79.45361 to 78.31420, saving model to C:\\Users\\57lzhang.US04WW4008\\Desktop\\Blood pressure\\BP data\\models\\New Cleaned Data\\CCC_Res18+LSTM+new+25Hz-21-78.3142.hdf5\n",
            "5344/5344 [==============================] - 1420s 266ms/step - loss: 78.3142 - mae: 6.2499 - val_loss: 401.5473 - val_mae: 15.1674\n",
            "Epoch 22/300\n",
            "5343/5344 [============================>.] - ETA: 0s - loss: 77.1298 - mae: 6.1993\n",
            "Epoch 00022: loss improved from 78.31420 to 77.13051, saving model to C:\\Users\\57lzhang.US04WW4008\\Desktop\\Blood pressure\\BP data\\models\\New Cleaned Data\\CCC_Res18+LSTM+new+25Hz-22-77.1305.hdf5\n",
            "5344/5344 [==============================] - 1418s 265ms/step - loss: 77.1305 - mae: 6.1994 - val_loss: 401.0538 - val_mae: 15.1886\n",
            "Epoch 23/300\n",
            "5343/5344 [============================>.] - ETA: 0s - loss: 75.9196 - mae: 6.1500\n",
            "Epoch 00023: loss improved from 77.13051 to 75.91888, saving model to C:\\Users\\57lzhang.US04WW4008\\Desktop\\Blood pressure\\BP data\\models\\New Cleaned Data\\CCC_Res18+LSTM+new+25Hz-23-75.9189.hdf5\n",
            "5344/5344 [==============================] - 1412s 264ms/step - loss: 75.9189 - mae: 6.1500 - val_loss: 376.7418 - val_mae: 14.5354\n",
            "Epoch 24/300\n",
            "5343/5344 [============================>.] - ETA: 0s - loss: 74.9692 - mae: 6.1094\n",
            "Epoch 00024: loss improved from 75.91888 to 74.96651, saving model to C:\\Users\\57lzhang.US04WW4008\\Desktop\\Blood pressure\\BP data\\models\\New Cleaned Data\\CCC_Res18+LSTM+new+25Hz-24-74.9665.hdf5\n",
            "5344/5344 [==============================] - 1394s 261ms/step - loss: 74.9665 - mae: 6.1093 - val_loss: 374.4428 - val_mae: 14.5732\n",
            "Epoch 25/300\n",
            "5343/5344 [============================>.] - ETA: 0s - loss: 74.2811 - mae: 6.0762\n",
            "Epoch 00025: loss improved from 74.96651 to 74.28099, saving model to C:\\Users\\57lzhang.US04WW4008\\Desktop\\Blood pressure\\BP data\\models\\New Cleaned Data\\CCC_Res18+LSTM+new+25Hz-25-74.2810.hdf5\n",
            "5344/5344 [==============================] - 1397s 261ms/step - loss: 74.2810 - mae: 6.0761 - val_loss: 415.0117 - val_mae: 15.3699\n",
            "Epoch 26/300\n",
            "5343/5344 [============================>.] - ETA: 0s - loss: 73.0173 - mae: 6.0244\n",
            "Epoch 00026: loss improved from 74.28099 to 73.01703, saving model to C:\\Users\\57lzhang.US04WW4008\\Desktop\\Blood pressure\\BP data\\models\\New Cleaned Data\\CCC_Res18+LSTM+new+25Hz-26-73.0170.hdf5\n",
            "5344/5344 [==============================] - 1395s 261ms/step - loss: 73.0170 - mae: 6.0244 - val_loss: 381.5278 - val_mae: 14.5933\n",
            "Epoch 27/300\n",
            "5343/5344 [============================>.] - ETA: 0s - loss: 71.9905 - mae: 5.9813\n",
            "Epoch 00027: loss improved from 73.01703 to 71.98867, saving model to C:\\Users\\57lzhang.US04WW4008\\Desktop\\Blood pressure\\BP data\\models\\New Cleaned Data\\CCC_Res18+LSTM+new+25Hz-27-71.9887.hdf5\n",
            "5344/5344 [==============================] - 1394s 261ms/step - loss: 71.9887 - mae: 5.9813 - val_loss: 389.1908 - val_mae: 14.7460\n",
            "Epoch 28/300\n",
            "5343/5344 [============================>.] - ETA: 0s - loss: 70.9454 - mae: 5.9423\n",
            "Epoch 00028: loss improved from 71.98867 to 70.94573, saving model to C:\\Users\\57lzhang.US04WW4008\\Desktop\\Blood pressure\\BP data\\models\\New Cleaned Data\\CCC_Res18+LSTM+new+25Hz-28-70.9457.hdf5\n",
            "5344/5344 [==============================] - 1394s 261ms/step - loss: 70.9457 - mae: 5.9423 - val_loss: 385.3309 - val_mae: 14.6128\n",
            "Epoch 29/300\n",
            "2372/5344 [============>.................] - ETA: 12:37 - loss: 66.5337 - mae: 5.7535"
          ],
          "name": "stdout"
        }
      ]
    },
    {
      "cell_type": "markdown",
      "metadata": {
        "id": "IfnasVq2Tqjg",
        "colab_type": "text"
      },
      "source": [
        "# 5.Model Evaluation"
      ]
    },
    {
      "cell_type": "code",
      "metadata": {
        "id": "nZyzAHekTsy5",
        "colab_type": "code",
        "colab": {}
      },
      "source": [
        "#os.chdir(r\"C:\\Users\\57lzhang.US04WW4008\\Desktop\\Blood pressure\\BP data\\models\")\n",
        "#model = tf.keras.models.load_model('CNN+LSTM-285-10.2110.hdf5')"
      ],
      "execution_count": 0,
      "outputs": []
    },
    {
      "cell_type": "markdown",
      "metadata": {
        "id": "6aMp1YpLTw7C",
        "colab_type": "text"
      },
      "source": [
        "## 5.2 MAE"
      ]
    },
    {
      "cell_type": "code",
      "metadata": {
        "id": "sVw6N8kAA3px",
        "colab_type": "code",
        "colab": {}
      },
      "source": [
        "test_data_dir = \"D:/WFDB/matched/BP/Cleaned Data/test/data*\"\n",
        "test_data_fn = glob.glob(test_data_dir)\n",
        "test_label_dir = \"D:/WFDB/matched/BP/Cleaned Data/test/label*\"\n",
        "test_label_fn = glob.glob(test_label_dir)"
      ],
      "execution_count": 0,
      "outputs": []
    },
    {
      "cell_type": "code",
      "metadata": {
        "id": "k66uuZg-Ay4-",
        "colab_type": "code",
        "colab": {}
      },
      "source": [
        "def test_data_generator():\n",
        "  for i in range(len(test_data_fn)):\n",
        "    data = pickle.load(open(test_data_fn[i],'rb'))\n",
        "    yield data"
      ],
      "execution_count": 0,
      "outputs": []
    },
    {
      "cell_type": "code",
      "metadata": {
        "id": "2ScA5IlA-G84",
        "colab_type": "code",
        "colab": {}
      },
      "source": [
        "bp_estimate=model.predict_generator(test_data_generator,steps=len(test_data_fn)/batch_size)"
      ],
      "execution_count": 0,
      "outputs": []
    },
    {
      "cell_type": "code",
      "metadata": {
        "id": "HGR81k40A44c",
        "colab_type": "code",
        "colab": {}
      },
      "source": [
        "from sklearn.metrics import mean_absolute_error\n",
        "sys_mae = mean_absolute_error(test_labels[:,0], bp_estimate[:,0])\n",
        "dia_mae = mean_absolute_error(test_labels[:,1], bp_estimate[:,1])\n",
        "print(\"Systolic MAE in test dataset:\", round(sys_mae,1))\n",
        "print(\"Diastolic MAE in test dataset:\", round(dia_mae,1))"
      ],
      "execution_count": 0,
      "outputs": []
    }
  ]
}