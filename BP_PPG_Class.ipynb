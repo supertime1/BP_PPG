{
  "nbformat": 4,
  "nbformat_minor": 0,
  "metadata": {
    "colab": {
      "name": "BP_PPG_Class.ipynb",
      "provenance": [],
      "collapsed_sections": [],
      "toc_visible": true,
      "authorship_tag": "ABX9TyOyzYQ5OZ0azSZ6QUh5H3tZ",
      "include_colab_link": true
    },
    "kernelspec": {
      "name": "python3",
      "display_name": "Python 3"
    }
  },
  "cells": [
    {
      "cell_type": "markdown",
      "metadata": {
        "id": "view-in-github",
        "colab_type": "text"
      },
      "source": [
        "<a href=\"https://colab.research.google.com/github/supertime1/BP_PPG/blob/master/BP_PPG_Class.ipynb\" target=\"_parent\"><img src=\"https://colab.research.google.com/assets/colab-badge.svg\" alt=\"Open In Colab\"/></a>"
      ]
    },
    {
      "cell_type": "markdown",
      "metadata": {
        "id": "uWP-_pXlUKmp",
        "colab_type": "text"
      },
      "source": [
        "#1.Introduction"
      ]
    },
    {
      "cell_type": "markdown",
      "metadata": {
        "id": "3mOoV1yuUKlh",
        "colab_type": "text"
      },
      "source": [
        "This notebook trains an simple PPG DNN by using labeled PPG data from Afib_Data_Clean notebook;\n",
        "The loaded data is 30s segemented PPG signals with 125Hz sampling rate."
      ]
    },
    {
      "cell_type": "markdown",
      "metadata": {
        "id": "bfCfr60kSTDU",
        "colab_type": "text"
      },
      "source": [
        "#2.Setup Environment\n",
        "\n"
      ]
    },
    {
      "cell_type": "code",
      "metadata": {
        "id": "cvqxVijHSFk2",
        "colab_type": "code",
        "outputId": "e081c9cf-7d49-427e-f635-9ada4cef54f1",
        "colab": {
          "base_uri": "https://localhost:8080/",
          "height": 34
        }
      },
      "source": [
        "from IPython.display import display\n",
        "import pandas as pd\n",
        "import matplotlib.pyplot as plt\n",
        "%matplotlib inline\n",
        "%load_ext tensorboard\n",
        "import numpy as np\n",
        "import os\n",
        "import shutil\n",
        "import glob\n",
        "import wfdb\n",
        "import tensorflow as tf\n",
        "from tensorflow import keras\n",
        "from tensorflow.keras import Model\n",
        "from tensorflow.keras.models import load_model \n",
        "from tensorflow.keras.callbacks import TensorBoard, ModelCheckpoint\n",
        "from tensorflow.keras.layers import Conv1D, BatchNormalization, Input, Add, Activation,\\\n",
        "MaxPooling1D,Dropout,Flatten,TimeDistributed,Bidirectional,Dense,LSTM, ZeroPadding1D, \\\n",
        "AveragePooling1D,GlobalMaxPooling1D\n",
        "from tensorflow.keras.initializers import glorot_uniform\n",
        "import tensorflow_datasets as tfds\n",
        "import multiprocessing\n",
        "from datetime import datetime\n",
        "import sklearn.metrics\n",
        "import itertools\n",
        "import io\n",
        "import pickle\n",
        "print(tf.__version__)"
      ],
      "execution_count": 1,
      "outputs": [
        {
          "output_type": "stream",
          "text": [
            "2.2.0\n"
          ],
          "name": "stdout"
        }
      ]
    },
    {
      "cell_type": "markdown",
      "metadata": {
        "colab_type": "text",
        "id": "oFD2ZNOoGMsP"
      },
      "source": [
        "#3.Data Pipeline"
      ]
    },
    {
      "cell_type": "code",
      "metadata": {
        "id": "Iwdd-WA-Xtb1",
        "colab_type": "code",
        "colab": {}
      },
      "source": [
        "#load the data filename\n",
        "train_data_dir = r\"C:\\Users\\57lzhang.US04WW4008\\Desktop\\Blood pressure\\BP data\\train\\data*\"\n",
        "train_data_fn = glob.glob(train_data_dir)\n",
        "train_label_dir = r\"C:\\Users\\57lzhang.US04WW4008\\Desktop\\Blood pressure\\BP data\\train\\label*\"\n",
        "train_label_fn = glob.glob(train_label_dir)"
      ],
      "execution_count": 0,
      "outputs": []
    },
    {
      "cell_type": "code",
      "metadata": {
        "id": "Rs1pp9k0rv-0",
        "colab_type": "code",
        "colab": {}
      },
      "source": [
        "#run assert to make sure the data and label are in the same order\n",
        "for i in range(len(train_label_fn)):\n",
        "  assert(train_data_fn[i][-1] == train_label_fn[i][-1])"
      ],
      "execution_count": 0,
      "outputs": []
    },
    {
      "cell_type": "code",
      "metadata": {
        "id": "3hCQDlhZl-82",
        "colab_type": "code",
        "colab": {}
      },
      "source": [
        "val_data_dir = r\"C:\\Users\\57lzhang.US04WW4008\\Desktop\\Blood pressure\\BP data\\validation\\data*\"\n",
        "val_data_fn = glob.glob(val_data_dir)\n",
        "val_label_dir = r\"C:\\Users\\57lzhang.US04WW4008\\Desktop\\Blood pressure\\BP data\\validation\\label*\"\n",
        "val_label_fn = glob.glob(val_label_dir)"
      ],
      "execution_count": 0,
      "outputs": []
    },
    {
      "cell_type": "code",
      "metadata": {
        "id": "o0B1Vx6MuEQV",
        "colab_type": "code",
        "colab": {}
      },
      "source": [
        "for i in range(len(val_label_fn)):\n",
        "  assert(val_data_fn[i][-1] == val_label_fn[i][-1])"
      ],
      "execution_count": 0,
      "outputs": []
    },
    {
      "cell_type": "code",
      "metadata": {
        "id": "A2VNZfnc4XSJ",
        "colab_type": "code",
        "colab": {}
      },
      "source": [
        "#use generator to input data, since the data size(>160GB) is larger than memory size (64GB)\n",
        "def train_data_generator():\n",
        "  for i in range(len(train_data_fn)):\n",
        "    data = pickle.load(open(train_data_fn[i],'rb'))\n",
        "    yield data"
      ],
      "execution_count": 0,
      "outputs": []
    },
    {
      "cell_type": "code",
      "metadata": {
        "id": "lIhR3bhdmM5I",
        "colab_type": "code",
        "colab": {}
      },
      "source": [
        "def train_label_generator():\n",
        "  for i in range(len(train_label_fn)):\n",
        "    label = pickle.load(open(train_label_fn[i],'rb'))\n",
        "    yield label"
      ],
      "execution_count": 0,
      "outputs": []
    },
    {
      "cell_type": "code",
      "metadata": {
        "id": "tVq-AReq5U21",
        "colab_type": "code",
        "colab": {}
      },
      "source": [
        "def val_data_generator():\n",
        "  for i in range(len(val_data_fn)):\n",
        "    data = pickle.load(open(val_data_fn[i],'rb'))\n",
        "    yield data"
      ],
      "execution_count": 0,
      "outputs": []
    },
    {
      "cell_type": "code",
      "metadata": {
        "id": "rGfRW6NYmU0a",
        "colab_type": "code",
        "colab": {}
      },
      "source": [
        "def val_label_generator():\n",
        "  for i in range(len(val_label_fn)):\n",
        "    label = pickle.load(open(val_label_fn[i],'rb'))\n",
        "    yield label"
      ],
      "execution_count": 0,
      "outputs": []
    },
    {
      "cell_type": "code",
      "metadata": {
        "id": "THYmut6MnQb_",
        "colab_type": "code",
        "outputId": "99fd78ed-a3b2-4f25-d242-093dee6fb07c",
        "colab": {
          "base_uri": "https://localhost:8080/",
          "height": 34
        }
      },
      "source": [
        "#calculate number of elements in training for later use in shuffle and model.fit\n",
        "number_of_element = 0\n",
        "for i in range(len(train_label_fn)):\n",
        "  label = pickle.load(open(train_label_fn[i],'rb'))\n",
        "  number_of_element += len(label)\n",
        "print(\"There are in total\", number_of_element, \"in training dataset\")"
      ],
      "execution_count": 10,
      "outputs": [
        {
          "output_type": "stream",
          "text": [
            "There are in total 222727 in training dataset\n"
          ],
          "name": "stdout"
        }
      ]
    },
    {
      "cell_type": "code",
      "metadata": {
        "id": "ex9J_Ao0oGvN",
        "colab_type": "code",
        "outputId": "1535bd46-e76c-4ed2-9047-e213e8b6cdbe",
        "colab": {
          "base_uri": "https://localhost:8080/",
          "height": 34
        }
      },
      "source": [
        "#calculate number of elements in validation\n",
        "number_of_val_element = 0\n",
        "for i in range(len(val_label_fn)):\n",
        "  label = pickle.load(open(val_label_fn[i],'rb'))\n",
        "  number_of_val_element += len(label)\n",
        "print(\"There are in total\", number_of_val_element, \"in validation dataset\")"
      ],
      "execution_count": 11,
      "outputs": [
        {
          "output_type": "stream",
          "text": [
            "There are in total 24904 in validation dataset\n"
          ],
          "name": "stdout"
        }
      ]
    },
    {
      "cell_type": "code",
      "metadata": {
        "id": "4jFI5d1c4cQq",
        "colab_type": "code",
        "colab": {}
      },
      "source": [
        "#input the data by using generator and use flat_map to removing the \n",
        "#first dimension (number of elements) and flat all data\n",
        "train_data = tf.data.Dataset.from_generator(train_data_generator,(tf.float32),output_shapes=[None,10,750,1])\n",
        "train_label = tf.data.Dataset.from_generator(train_label_generator,(tf.float32),output_shapes=[None,2])\n",
        "train_ds = train_data.flat_map(lambda x: train_data.from_tensor_slices(x))\n",
        "train_lb = train_label.flat_map(lambda x: train_label.from_tensor_slices(x))\n",
        "train = tf.data.Dataset.zip((train_ds,train_lb))"
      ],
      "execution_count": 0,
      "outputs": []
    },
    {
      "cell_type": "code",
      "metadata": {
        "id": "KWSWFqN24c_M",
        "colab_type": "code",
        "colab": {}
      },
      "source": [
        "#do the same to validation\n",
        "val_data = tf.data.Dataset.from_generator(val_data_generator,(tf.float32),output_shapes=[None,10,750,1])\n",
        "val_label = tf.data.Dataset.from_generator(val_label_generator,(tf.float32),output_shapes=[None,2])\n",
        "val_ds = val_data.flat_map(lambda x: val_data.from_tensor_slices(x))\n",
        "val_lb = val_label.flat_map(lambda x: val_label.from_tensor_slices(x))\n",
        "validation = tf.data.Dataset.zip((val_ds,val_lb))"
      ],
      "execution_count": 0,
      "outputs": []
    },
    {
      "cell_type": "code",
      "metadata": {
        "colab_type": "code",
        "id": "0eNX0PYsGMtE",
        "colab": {}
      },
      "source": [
        "batch_size = 64\n",
        "train_dataset = train.cache()\n",
        "train_dataset = train_dataset.shuffle(number_of_element//10).repeat().batch(batch_size,drop_remainder=True)\n",
        "train_dataset = train_dataset.prefetch(buffer_size = tf.data.experimental.AUTOTUNE)\n",
        "val_dataset = validation.repeat().batch(batch_size, drop_remainder=True)"
      ],
      "execution_count": 0,
      "outputs": []
    },
    {
      "cell_type": "markdown",
      "metadata": {
        "id": "ikiF9-uDTI-h",
        "colab_type": "text"
      },
      "source": [
        "#4.Train Model"
      ]
    },
    {
      "cell_type": "markdown",
      "metadata": {
        "id": "MeF1mUEJTN60",
        "colab_type": "text"
      },
      "source": [
        "##4.1 CNN + RNN"
      ]
    },
    {
      "cell_type": "markdown",
      "metadata": {
        "id": "REoHyYK_924l",
        "colab_type": "text"
      },
      "source": [
        "###4.1.1 Simple_CNN + LSTM (Class method)"
      ]
    },
    {
      "cell_type": "code",
      "metadata": {
        "id": "tD3vmo6nAPI6",
        "colab_type": "code",
        "colab": {}
      },
      "source": [
        "class Simple_CNN(tf.keras.layers.Layer):\n",
        "  def __init__(self,input_shape):\n",
        "    super(Simple_CNN, self).__init__()\n",
        "    \n",
        "    self.convA = TimeDistributed(Conv1D(8,1,strides=1,activation ='relu'),input_shape=input_shape)\n",
        "    self.batchA = TimeDistributed(BatchNormalization())\n",
        "    self.maxpoolA = TimeDistributed(MaxPooling1D(pool_size=2, strides=2))\n",
        "    self.dropA = TimeDistributed(Dropout(0.2))\n",
        "\n",
        "    self.convB = TimeDistributed(Conv1D(16,3,strides=1,activation ='relu'))\n",
        "    self.batchB = TimeDistributed(BatchNormalization())\n",
        "    self.maxpoolB = TimeDistributed(MaxPooling1D(pool_size=2, strides=2))\n",
        "    self.dropB = TimeDistributed(Dropout(0.2))    \n",
        "\n",
        "    self.convC = TimeDistributed(Conv1D(32,3,strides=1,activation ='relu'))\n",
        "    self.batchC = TimeDistributed(BatchNormalization())\n",
        "    self.maxpoolC = TimeDistributed(MaxPooling1D(pool_size=2, strides=2))\n",
        "    self.dropC = TimeDistributed(Dropout(0.2))\n",
        "\n",
        "    self.convD = TimeDistributed(Conv1D(64,3,strides=1,activation ='relu'))\n",
        "    self.batchD = TimeDistributed(BatchNormalization())\n",
        "    self.maxpoolD = TimeDistributed(MaxPooling1D(pool_size=2, strides=2))\n",
        "    self.dropD = TimeDistributed(Dropout(0.2))\n",
        "\n",
        "    self.convE = TimeDistributed(Conv1D(16, 1, strides=1, activation='relu'))\n",
        "    self.batch_normE = TimeDistributed(BatchNormalization())\n",
        "    self.flatE = TimeDistributed(Flatten())\n",
        "\n",
        "  def call(self, inputs):\n",
        "\n",
        "    x = self.convA(inputs)\n",
        "    x = self.batchA(x)\n",
        "    x = self.maxpoolA(x)\n",
        "    x = self.dropA(x)\n",
        "\n",
        "    x = self.convB(x)\n",
        "    x = self.batchB(x)\n",
        "    x = self.maxpoolB(x)\n",
        "    x = self.dropB(x)\n",
        "\n",
        "    x = self.convC(x)\n",
        "    x = self.batchC(x)\n",
        "    x = self.maxpoolC(x)\n",
        "    x = self.dropC(x)\n",
        "\n",
        "    x = self.convD(x)\n",
        "    x = self.batchD(x)\n",
        "    x = self.maxpoolD(x)\n",
        "    x = self.dropD(x)\n",
        "\n",
        "    x = self.convE(x)\n",
        "    x = self.batch_normE(x)\n",
        "    x = self.flatE(x)\n",
        "\n",
        "    return x"
      ],
      "execution_count": 0,
      "outputs": []
    },
    {
      "cell_type": "code",
      "metadata": {
        "id": "ORnk4ACrl4Gs",
        "colab_type": "code",
        "colab": {}
      },
      "source": [
        "class CNN_LSTM(Model):\n",
        "  def __init__(self, input_shape):\n",
        "    super(CNN_LSTM, self).__init__()\n",
        "    self.cnn = Simple_CNN(input_shape=input_shape)\n",
        "    self.bi_lstmA = Bidirectional(LSTM(32, return_sequences = True))\n",
        "    self.bi_lstmB = Bidirectional(LSTM(16))\n",
        "    self.dense = Dense(2)\n",
        "\n",
        "  def call(self,inputs):\n",
        "    x = self.cnn(inputs)\n",
        "    x = self.bi_lstmA(x)\n",
        "    x = self.bi_lstmB(x)\n",
        "    x = self.dense(x)\n",
        "\n",
        "    return x"
      ],
      "execution_count": 0,
      "outputs": []
    },
    {
      "cell_type": "code",
      "metadata": {
        "id": "nFwaYd4xrSvi",
        "colab_type": "code",
        "colab": {}
      },
      "source": [
        "model = CNN_LSTM((10,750,1))"
      ],
      "execution_count": 0,
      "outputs": []
    },
    {
      "cell_type": "markdown",
      "metadata": {
        "id": "TJ0gX0XkFA3G",
        "colab_type": "text"
      },
      "source": [
        "Sequential method"
      ]
    },
    {
      "cell_type": "code",
      "metadata": {
        "id": "9xd9AuslE9NS",
        "colab_type": "code",
        "colab": {
          "base_uri": "https://localhost:8080/",
          "height": 372
        },
        "outputId": "5cc3c277-048c-4ff3-841f-9e5827af718c"
      },
      "source": [
        "from tensorflow.keras.layers import BatchNormalization\n",
        "BatchNormalization._USE_V2_BEHAVIOR = False\n",
        "#create CNN layers\n",
        "cnn = tf.keras.Sequential([\n",
        "    #1st Conv1D\n",
        "    tf.keras.layers.Conv1D(8, 1, strides=1, \n",
        "                          activation='relu'),\n",
        "    tf.keras.layers.BatchNormalization(),\n",
        "    tf.keras.layers.MaxPooling1D(pool_size=2,strides=2),\n",
        "    tf.keras.layers.Dropout(0.2),\n",
        "    #2nd Conv1D\n",
        "    tf.keras.layers.Conv1D(16, 3, strides=1,\n",
        "                          activation='relu'),\n",
        "    tf.keras.layers.BatchNormalization(),\n",
        "    tf.keras.layers.MaxPooling1D(pool_size=2,strides=2),\n",
        "    tf.keras.layers.Dropout(0.2),\n",
        "    #3rd Conv1D\n",
        "    tf.keras.layers.Conv1D(32, 3, strides=1,\n",
        "                          activation='relu'),\n",
        "    tf.keras.layers.BatchNormalization(),\n",
        "    tf.keras.layers.MaxPooling1D(pool_size=2,strides=2),\n",
        "    tf.keras.layers.Dropout(0.2),\n",
        "    #4th Conv1D\n",
        "    tf.keras.layers.Conv1D(64, 3, strides=1,\n",
        "                          activation='relu'),\n",
        "    tf.keras.layers.BatchNormalization(),\n",
        "    tf.keras.layers.MaxPooling1D(pool_size=2,strides=2),\n",
        "    tf.keras.layers.Dropout(0.2),\n",
        "    #5th Conv1D\n",
        "    tf.keras.layers.Conv1D(16, 1, strides=1,\n",
        "                          activation='relu'),\n",
        "    tf.keras.layers.BatchNormalization(),\n",
        "    #Full connection layer\n",
        "    tf.keras.layers.Flatten()\n",
        "])\n",
        "\n",
        "#combine with LSTM\n",
        "model = tf.keras.Sequential([\n",
        "        tf.keras.layers.TimeDistributed(cnn,input_shape=(10,750,1)),                   \n",
        "        tf.keras.layers.Bidirectional(tf.keras.layers.LSTM(32,return_sequences=True)),\n",
        "        tf.keras.layers.Bidirectional(tf.keras.layers.LSTM(16, return_sequences = True)),\n",
        "        tf.keras.layers.Flatten(),\n",
        "        tf.keras.layers.Dense(10),\n",
        "        tf.keras.layers.Dense(2)\n",
        "])\n",
        "\n",
        "model.summary()"
      ],
      "execution_count": 23,
      "outputs": [
        {
          "output_type": "stream",
          "text": [
            "Model: \"sequential_1\"\n",
            "_________________________________________________________________\n",
            "Layer (type)                 Output Shape              Param #   \n",
            "=================================================================\n",
            "time_distributed (TimeDistri (None, 10, 720)           9776      \n",
            "_________________________________________________________________\n",
            "bidirectional (Bidirectional (None, 10, 64)            192768    \n",
            "_________________________________________________________________\n",
            "bidirectional_1 (Bidirection (None, 10, 32)            10368     \n",
            "_________________________________________________________________\n",
            "flatten_1 (Flatten)          (None, 320)               0         \n",
            "_________________________________________________________________\n",
            "dense (Dense)                (None, 10)                3210      \n",
            "_________________________________________________________________\n",
            "dense_1 (Dense)              (None, 2)                 22        \n",
            "=================================================================\n",
            "Total params: 216,144\n",
            "Trainable params: 215,872\n",
            "Non-trainable params: 272\n",
            "_________________________________________________________________\n"
          ],
          "name": "stdout"
        }
      ]
    },
    {
      "cell_type": "markdown",
      "metadata": {
        "id": "kh5I_ofpASeV",
        "colab_type": "text"
      },
      "source": [
        "###4.1.3 ResNet-18 + LSTM"
      ]
    },
    {
      "cell_type": "code",
      "metadata": {
        "id": "EIiiZfTsAZv-",
        "colab_type": "code",
        "colab": {}
      },
      "source": [
        "def identity_block_18(X, f, filters, stage, block):\n",
        "\n",
        "    # defining name basis\n",
        "    conv_name_base = 'res' + str(stage) + block + '_branch'\n",
        "    bn_name_base = 'bn' + str(stage) + block + '_branch'\n",
        "    \n",
        "    # Retrieve Filters\n",
        "    F1, F2 = filters\n",
        "    \n",
        "    # Save the input value. You'll need this later to add back to the main path. \n",
        "    X_shortcut = X\n",
        "    \n",
        "    # First component of main path\n",
        "    X = Conv1D(filters = F1, kernel_size = f, strides = 1, padding = 'same', name = conv_name_base + '2a', kernel_initializer = glorot_uniform(seed=0))(X)\n",
        "    X = BatchNormalization(axis = 2, name = bn_name_base + '2a')(X)\n",
        "    X = Activation('relu')(X)\n",
        "\n",
        "    \n",
        "    # Second component of main path \n",
        "    X = Conv1D(filters = F2, kernel_size = f, strides = 1, padding = 'same', name = conv_name_base + '2b', kernel_initializer = glorot_uniform(seed=0))(X)\n",
        "    X = BatchNormalization(axis = 2, name = bn_name_base + '2b')(X)\n",
        "    X = Activation('relu')(X)\n",
        "\n",
        "    # Final step: Add shortcut value to main path, and pass it through a RELU activation \n",
        "    X = Add()([X, X_shortcut])\n",
        "    X = Activation('relu')(X)\n",
        "    \n",
        "    \n",
        "    return X"
      ],
      "execution_count": 0,
      "outputs": []
    },
    {
      "cell_type": "code",
      "metadata": {
        "id": "F9k8UXNF8Uk5",
        "colab_type": "code",
        "colab": {}
      },
      "source": [
        "def convolutional_block_18(X, f, filters, stage, block, s = 2):\n",
        "    \n",
        "    # defining name basis\n",
        "    conv_name_base = 'res' + str(stage) + block + '_branch'\n",
        "    bn_name_base = 'bn' + str(stage) + block + '_branch'\n",
        "    \n",
        "    # Retrieve Filters\n",
        "    F1, F2 = filters\n",
        "    \n",
        "    # Save the input value\n",
        "    X_shortcut = X\n",
        "\n",
        "\n",
        "    ##### MAIN PATH #####\n",
        "    # First component of main path \n",
        "    X = Conv1D(filters = F1, kernel_size = f, strides = s, padding = 'valid', name = conv_name_base + '2a', kernel_initializer = glorot_uniform(seed=0))(X)\n",
        "    X = BatchNormalization(axis = 2, name = bn_name_base + '2a')(X)\n",
        "    X = Activation('relu')(X)\n",
        "\n",
        "    # Second component of main path (≈3 lines)\n",
        "    X = Conv1D(filters = F2, kernel_size = f, strides = 1, padding = 'same', name = conv_name_base + '2b', kernel_initializer = glorot_uniform(seed=0))(X)\n",
        "    X = BatchNormalization(axis = 2, name = bn_name_base + '2b')(X)\n",
        "    X = Activation('relu')(X)\n",
        "\n",
        "\n",
        "    ##### SHORTCUT PATH #### (≈2 lines)\n",
        "    X_shortcut = Conv1D(filters = F1, kernel_size = f, strides = s, padding = 'valid', name = conv_name_base + '1',\n",
        "                        kernel_initializer = glorot_uniform(seed=0))(X_shortcut)\n",
        "    X_shortcut = BatchNormalization(axis = 2, name = bn_name_base + '1')(X_shortcut)\n",
        "\n",
        "    # Final step: Add shortcut value to main path, and pass it through a RELU activation (≈2 lines)\n",
        "    X = Add()([X, X_shortcut])\n",
        "    X = Activation('relu')(X)\n",
        "    \n",
        "    \n",
        "    return X"
      ],
      "execution_count": 0,
      "outputs": []
    },
    {
      "cell_type": "code",
      "metadata": {
        "id": "0GlLgQiD8Ujk",
        "colab_type": "code",
        "colab": {}
      },
      "source": [
        "def ResNet18(input_shape=(750, 1), classes=1):\n",
        "\n",
        "    # Define the input as a tensor with shape input_shape\n",
        "    X_input = Input(input_shape)\n",
        "\n",
        "    # Zero-Padding\n",
        "    X = ZeroPadding1D(3)(X_input)\n",
        "\n",
        "    # Stage 1\n",
        "    X = Conv1D(64, 7, strides=2, name='conv1', kernel_initializer=glorot_uniform(seed=0))(X)\n",
        "    X = BatchNormalization(axis=2, name='bn_conv1')(X)\n",
        "    X = Activation('relu')(X)\n",
        "    X = MaxPooling1D(3, strides=2)(X)\n",
        "\n",
        "    # Stage 2\n",
        "    X = identity_block_18(X, 3, [64, 64], stage=2, block='a')\n",
        "    X = identity_block_18(X, 3, [64, 64], stage=2, block='b')\n",
        "\n",
        "\n",
        "    # Stage 3 (2 lines)\n",
        "    X = convolutional_block_18(X, f = 3, filters = [128, 128], stage = 3, block='a', s = 2)\n",
        "    X = identity_block_18(X, 3, [128, 128], stage=3, block='b')\n",
        "\n",
        "\n",
        "    # Stage 4 (2 lines)\n",
        "    X = convolutional_block_18(X, f = 3, filters = [256, 256], stage = 4, block='a', s = 2)\n",
        "    X = identity_block_18(X, 3, [256, 256], stage=4, block='b')\n",
        "\n",
        "    # Stage 5 (2 lines)\n",
        "    X = convolutional_block_18(X, f = 3, filters = [512, 512], stage = 5, block='a', s = 2)\n",
        "    X = identity_block_18(X, 3, [512, 512], stage=5, block='b')\n",
        "\n",
        "\n",
        "    # AVGPOOL (1 line).\n",
        "    X = AveragePooling1D(2, name=\"avg_pool\")(X)\n",
        "\n",
        "    # output layer\n",
        "    X = Flatten()(X)\n",
        "    \n",
        "    \n",
        "    #X = Dense(classes, activation='sigmoid', name='fc' + str(classes), kernel_initializer = glorot_uniform(seed=0))(X)\n",
        "    \n",
        "    \n",
        "    #Create model\n",
        "    model = Model(inputs = X_input, outputs = X, name='ResNet18')\n",
        "\n",
        "    return model"
      ],
      "execution_count": 0,
      "outputs": []
    },
    {
      "cell_type": "code",
      "metadata": {
        "id": "DUokNfRpwK7O",
        "colab_type": "code",
        "colab": {}
      },
      "source": [
        "resnet = ResNet18(input_shape = (750,1), classes = 1)"
      ],
      "execution_count": 0,
      "outputs": []
    },
    {
      "cell_type": "code",
      "metadata": {
        "id": "v298q6CswOjr",
        "colab_type": "code",
        "colab": {}
      },
      "source": [
        "model = tf.keras.Sequential([\n",
        "        tf.keras.layers.TimeDistributed(resnet,input_shape=(10,750,1)),                   \n",
        "        tf.keras.layers.Bidirectional(tf.keras.layers.LSTM(32,return_sequences=True)),\n",
        "        tf.keras.layers.Bidirectional(tf.keras.layers.LSTM(16)),\n",
        "        tf.keras.layers.Dense(2)\n",
        "])"
      ],
      "execution_count": 0,
      "outputs": []
    },
    {
      "cell_type": "code",
      "metadata": {
        "id": "UpXL04x9whgE",
        "colab_type": "code",
        "outputId": "a5111f1f-ed5a-4e5e-f84e-e4cffb54ff6d",
        "colab": {
          "base_uri": "https://localhost:8080/",
          "height": 301
        }
      },
      "source": [
        "model.summary()"
      ],
      "execution_count": 20,
      "outputs": [
        {
          "output_type": "stream",
          "text": [
            "Model: \"sequential\"\n",
            "_________________________________________________________________\n",
            "Layer (type)                 Output Shape              Param #   \n",
            "=================================================================\n",
            "time_distributed (TimeDistri (None, 10, 5632)          4202368   \n",
            "_________________________________________________________________\n",
            "bidirectional (Bidirectional (None, 10, 64)            1450240   \n",
            "_________________________________________________________________\n",
            "bidirectional_1 (Bidirection (None, 32)                10368     \n",
            "_________________________________________________________________\n",
            "dense (Dense)                (None, 2)                 66        \n",
            "=================================================================\n",
            "Total params: 5,663,042\n",
            "Trainable params: 5,653,442\n",
            "Non-trainable params: 9,600\n",
            "_________________________________________________________________\n"
          ],
          "name": "stdout"
        }
      ]
    },
    {
      "cell_type": "markdown",
      "metadata": {
        "id": "mOMnuD4aAaTK",
        "colab_type": "text"
      },
      "source": [
        "### 4.1.4 ResNeXt + LSTM"
      ]
    },
    {
      "cell_type": "markdown",
      "metadata": {
        "id": "MhkddousAf0G",
        "colab_type": "text"
      },
      "source": [
        "###4.1.5 ResNeXt-18 + LSTM"
      ]
    },
    {
      "cell_type": "markdown",
      "metadata": {
        "id": "_6yMWCkDAlHn",
        "colab_type": "text"
      },
      "source": [
        "###4.1.6 ResNet + Attention"
      ]
    },
    {
      "cell_type": "markdown",
      "metadata": {
        "id": "iV4AOP5AXh5P",
        "colab_type": "text"
      },
      "source": [
        "##4.2 Define callbacks"
      ]
    },
    {
      "cell_type": "markdown",
      "metadata": {
        "id": "vD8quc5CXwa5",
        "colab_type": "text"
      },
      "source": [
        "###4.2.1 Tensorboard"
      ]
    },
    {
      "cell_type": "markdown",
      "metadata": {
        "id": "rcdMgfv1YClx",
        "colab_type": "text"
      },
      "source": [
        "###4.2.2 Checkpoint"
      ]
    },
    {
      "cell_type": "code",
      "metadata": {
        "id": "T7h_p1YnXz1R",
        "colab_type": "code",
        "colab": {}
      },
      "source": [
        "#callback: tensorboard\n",
        "log_dir=r\"C:\\Users\\57lzhang.US04WW4008\\Desktop\\Blood pressure\\BP data\\models\\125Hz 10mmHg\\ResNet-18+LSTM\\\\\" + datetime.now().strftime(\"%Y%m%d-%H%M%S\") +\"7C-Resnet18+LSTM+10ts\"\n",
        "tensorboard_callback = TensorBoard(log_dir=log_dir, histogram_freq=1)"
      ],
      "execution_count": 0,
      "outputs": []
    },
    {
      "cell_type": "code",
      "metadata": {
        "id": "OSqNrDZ_YKFv",
        "colab_type": "code",
        "colab": {}
      },
      "source": [
        "#callback: checkpoint\n",
        "filepath = r\"C:\\Users\\57lzhang.US04WW4008\\Desktop\\Blood pressure\\BP data\\models\\125Hz 10mmHg\\ResNet-18+LSTM\\7C-Resnet18+LSTM+10ts-{epoch:02d}-{loss:.4f}.hdf5\"\n",
        "checkpoint = ModelCheckpoint(filepath, monitor='loss', verbose=1, save_best_only=True, mode='auto')"
      ],
      "execution_count": 0,
      "outputs": []
    },
    {
      "cell_type": "markdown",
      "metadata": {
        "id": "t2ril_S4TVJS",
        "colab_type": "text"
      },
      "source": [
        "##4.3 Train the model "
      ]
    },
    {
      "cell_type": "markdown",
      "metadata": {
        "id": "boYor7DsTcXT",
        "colab_type": "text"
      },
      "source": [
        "### 4.3.1 Start Training"
      ]
    },
    {
      "cell_type": "code",
      "metadata": {
        "id": "-eqeVT1uTeOn",
        "colab_type": "code",
        "colab": {
          "base_uri": "https://localhost:8080/",
          "height": 1000
        },
        "outputId": "216385f0-6460-4397-cc60-5d43d5a785aa"
      },
      "source": [
        "#clear history if necessary\n",
        "tf.keras.backend.clear_session()\n",
        "#strategy = tf.distribute.MirroredStrategy(cross_device_ops=tf.distribute.HierarchicalCopyAllReduce()) ##to overwrite NCCL cross device communication as this is running in Windows\n",
        "#with strategy.scope():\n",
        "\n",
        "#loss_object = tf.keras.losses.MeanSquaredError()\n",
        "#optimizer = tf.keras.optimizers.Adam()\n",
        "\n",
        "model = model\n",
        "model.load_weights(r'C:\\Users\\57lzhang.US04WW4008\\Desktop\\Blood pressure\\BP data\\models\\125Hz 10mmHg\\ResNet-18+LSTM\\CCCCCC-Resnet18+LSTM+10ts-42-5.2190.hdf5')\n",
        "model.compile(optimizer=tf.keras.optimizers.Adam(learning_rate = 0.001), \n",
        "              loss='mse', \n",
        "              metrics=['mae'])\n",
        "\n",
        "callbacks_list = [tensorboard_callback, checkpoint]\n",
        "\n",
        "#start training\n",
        "model.fit(train_dataset,\n",
        "          epochs=300,\n",
        "          steps_per_epoch = number_of_element//batch_size,\n",
        "          verbose=2,\n",
        "          validation_data=val_dataset,\n",
        "          validation_steps=number_of_val_element//batch_size,\n",
        "          callbacks=callbacks_list\n",
        "          )"
      ],
      "execution_count": 0,
      "outputs": [
        {
          "output_type": "stream",
          "text": [
            "Epoch 1/300\n",
            "\n",
            "Epoch 00001: loss improved from inf to 5.25523, saving model to C:\\Users\\57lzhang.US04WW4008\\Desktop\\Blood pressure\\BP data\\models\\125Hz 10mmHg\\ResNet-18+LSTM\\7C-Resnet18+LSTM+10ts-01-5.2552.hdf5\n",
            "3480/3480 - 989s - loss: 5.2552 - mae: 1.7215 - val_loss: 74.2739 - val_mae: 5.5120\n",
            "Epoch 2/300\n",
            "\n",
            "Epoch 00002: loss did not improve from 5.25523\n",
            "3480/3480 - 977s - loss: 5.7935 - mae: 1.7701 - val_loss: 74.3286 - val_mae: 5.4809\n",
            "Epoch 3/300\n",
            "\n",
            "Epoch 00003: loss did not improve from 5.25523\n",
            "3480/3480 - 976s - loss: 5.3482 - mae: 1.7171 - val_loss: 75.5387 - val_mae: 5.4822\n",
            "Epoch 4/300\n",
            "\n",
            "Epoch 00004: loss did not improve from 5.25523\n",
            "3480/3480 - 984s - loss: 5.7788 - mae: 1.7742 - val_loss: 80.6540 - val_mae: 5.7207\n",
            "Epoch 5/300\n",
            "\n",
            "Epoch 00005: loss did not improve from 5.25523\n",
            "3480/3480 - 997s - loss: 5.2961 - mae: 1.7106 - val_loss: 74.5673 - val_mae: 5.4403\n",
            "Epoch 6/300\n",
            "\n",
            "Epoch 00006: loss did not improve from 5.25523\n",
            "3480/3480 - 990s - loss: 5.2951 - mae: 1.7118 - val_loss: 74.6136 - val_mae: 5.5153\n",
            "Epoch 7/300\n",
            "\n",
            "Epoch 00007: loss improved from 5.25523 to 5.18906, saving model to C:\\Users\\57lzhang.US04WW4008\\Desktop\\Blood pressure\\BP data\\models\\125Hz 10mmHg\\ResNet-18+LSTM\\7C-Resnet18+LSTM+10ts-07-5.1891.hdf5\n",
            "3480/3480 - 989s - loss: 5.1891 - mae: 1.6985 - val_loss: 77.4632 - val_mae: 5.5885\n",
            "Epoch 8/300\n",
            "\n",
            "Epoch 00008: loss did not improve from 5.18906\n",
            "3480/3480 - 989s - loss: 5.4790 - mae: 1.7250 - val_loss: 78.2617 - val_mae: 5.5761\n",
            "Epoch 9/300\n",
            "\n",
            "Epoch 00009: loss improved from 5.18906 to 4.98211, saving model to C:\\Users\\57lzhang.US04WW4008\\Desktop\\Blood pressure\\BP data\\models\\125Hz 10mmHg\\ResNet-18+LSTM\\7C-Resnet18+LSTM+10ts-09-4.9821.hdf5\n",
            "3480/3480 - 1000s - loss: 4.9821 - mae: 1.6706 - val_loss: 71.8359 - val_mae: 5.3771\n",
            "Epoch 10/300\n",
            "\n",
            "Epoch 00010: loss did not improve from 4.98211\n",
            "3480/3480 - 995s - loss: 5.3935 - mae: 1.7048 - val_loss: 75.2042 - val_mae: 5.4770\n",
            "Epoch 11/300\n",
            "\n",
            "Epoch 00011: loss improved from 4.98211 to 4.94981, saving model to C:\\Users\\57lzhang.US04WW4008\\Desktop\\Blood pressure\\BP data\\models\\125Hz 10mmHg\\ResNet-18+LSTM\\7C-Resnet18+LSTM+10ts-11-4.9498.hdf5\n",
            "3480/3480 - 973s - loss: 4.9498 - mae: 1.6564 - val_loss: 75.9070 - val_mae: 5.4999\n",
            "Epoch 12/300\n",
            "\n",
            "Epoch 00012: loss did not improve from 4.94981\n",
            "3480/3480 - 975s - loss: 5.4626 - mae: 1.7229 - val_loss: 76.5550 - val_mae: 5.5286\n",
            "Epoch 13/300\n",
            "\n",
            "Epoch 00013: loss did not improve from 4.94981\n",
            "3480/3480 - 976s - loss: 5.1013 - mae: 1.6763 - val_loss: 75.7327 - val_mae: 5.4607\n",
            "Epoch 14/300\n",
            "\n",
            "Epoch 00014: loss improved from 4.94981 to 4.76568, saving model to C:\\Users\\57lzhang.US04WW4008\\Desktop\\Blood pressure\\BP data\\models\\125Hz 10mmHg\\ResNet-18+LSTM\\7C-Resnet18+LSTM+10ts-14-4.7657.hdf5\n",
            "3480/3480 - 976s - loss: 4.7657 - mae: 1.6364 - val_loss: 72.5090 - val_mae: 5.3930\n",
            "Epoch 15/300\n",
            "\n",
            "Epoch 00015: loss improved from 4.76568 to 4.68404, saving model to C:\\Users\\57lzhang.US04WW4008\\Desktop\\Blood pressure\\BP data\\models\\125Hz 10mmHg\\ResNet-18+LSTM\\7C-Resnet18+LSTM+10ts-15-4.6840.hdf5\n",
            "3480/3480 - 976s - loss: 4.6840 - mae: 1.6252 - val_loss: 74.1740 - val_mae: 5.3882\n",
            "Epoch 16/300\n",
            "\n",
            "Epoch 00016: loss did not improve from 4.68404\n",
            "3480/3480 - 1010s - loss: 6.1185 - mae: 1.7807 - val_loss: 78.2935 - val_mae: 5.5564\n",
            "Epoch 17/300\n",
            "\n",
            "Epoch 00017: loss did not improve from 4.68404\n",
            "3480/3480 - 1012s - loss: 8.4072 - mae: 2.0043 - val_loss: 72.2359 - val_mae: 5.3578\n",
            "Epoch 18/300\n",
            "\n",
            "Epoch 00018: loss improved from 4.68404 to 4.62788, saving model to C:\\Users\\57lzhang.US04WW4008\\Desktop\\Blood pressure\\BP data\\models\\125Hz 10mmHg\\ResNet-18+LSTM\\7C-Resnet18+LSTM+10ts-18-4.6279.hdf5\n",
            "3480/3480 - 1011s - loss: 4.6279 - mae: 1.6197 - val_loss: 73.5653 - val_mae: 5.3902\n",
            "Epoch 19/300\n",
            "\n",
            "Epoch 00019: loss did not improve from 4.62788\n",
            "3480/3480 - 1005s - loss: 5.7936 - mae: 1.7631 - val_loss: 72.7844 - val_mae: 5.3575\n",
            "Epoch 20/300\n",
            "\n",
            "Epoch 00020: loss did not improve from 4.62788\n",
            "3480/3480 - 1016s - loss: 4.7407 - mae: 1.6316 - val_loss: 72.6392 - val_mae: 5.4062\n",
            "Epoch 21/300\n",
            "\n",
            "Epoch 00021: loss improved from 4.62788 to 4.60081, saving model to C:\\Users\\57lzhang.US04WW4008\\Desktop\\Blood pressure\\BP data\\models\\125Hz 10mmHg\\ResNet-18+LSTM\\7C-Resnet18+LSTM+10ts-21-4.6008.hdf5\n",
            "3480/3480 - 996s - loss: 4.6008 - mae: 1.6121 - val_loss: 71.8640 - val_mae: 5.3415\n",
            "Epoch 22/300\n",
            "\n",
            "Epoch 00022: loss did not improve from 4.60081\n",
            "3480/3480 - 979s - loss: 4.9227 - mae: 1.6472 - val_loss: 77.4006 - val_mae: 5.5223\n",
            "Epoch 23/300\n",
            "\n",
            "Epoch 00023: loss did not improve from 4.60081\n",
            "3480/3480 - 978s - loss: 5.0103 - mae: 1.6563 - val_loss: 77.9417 - val_mae: 5.5428\n",
            "Epoch 24/300\n",
            "\n",
            "Epoch 00024: loss did not improve from 4.60081\n",
            "3480/3480 - 977s - loss: 4.9332 - mae: 1.6536 - val_loss: 72.3608 - val_mae: 5.4035\n",
            "Epoch 25/300\n",
            "\n",
            "Epoch 00025: loss did not improve from 4.60081\n",
            "3480/3480 - 975s - loss: 4.6205 - mae: 1.6084 - val_loss: 74.4399 - val_mae: 5.4398\n",
            "Epoch 26/300\n",
            "\n",
            "Epoch 00026: loss did not improve from 4.60081\n",
            "3480/3480 - 975s - loss: 4.6586 - mae: 1.6132 - val_loss: 72.0989 - val_mae: 5.3962\n",
            "Epoch 27/300\n",
            "\n",
            "Epoch 00027: loss did not improve from 4.60081\n",
            "3480/3480 - 975s - loss: 4.9025 - mae: 1.6371 - val_loss: 73.6199 - val_mae: 5.3849\n",
            "Epoch 28/300\n",
            "\n",
            "Epoch 00028: loss did not improve from 4.60081\n",
            "3480/3480 - 975s - loss: 4.6699 - mae: 1.6065 - val_loss: 73.9453 - val_mae: 5.3791\n",
            "Epoch 29/300\n",
            "\n",
            "Epoch 00029: loss did not improve from 4.60081\n",
            "3480/3480 - 975s - loss: 4.6480 - mae: 1.6043 - val_loss: 79.7890 - val_mae: 5.7711\n",
            "Epoch 30/300\n",
            "\n",
            "Epoch 00030: loss improved from 4.60081 to 4.57442, saving model to C:\\Users\\57lzhang.US04WW4008\\Desktop\\Blood pressure\\BP data\\models\\125Hz 10mmHg\\ResNet-18+LSTM\\7C-Resnet18+LSTM+10ts-30-4.5744.hdf5\n",
            "3480/3480 - 975s - loss: 4.5744 - mae: 1.5989 - val_loss: 71.9523 - val_mae: 5.3350\n",
            "Epoch 31/300\n",
            "\n",
            "Epoch 00031: loss did not improve from 4.57442\n",
            "3480/3480 - 974s - loss: 5.4069 - mae: 1.6822 - val_loss: 74.0927 - val_mae: 5.4008\n",
            "Epoch 32/300\n",
            "\n",
            "Epoch 00032: loss did not improve from 4.57442\n",
            "3480/3480 - 974s - loss: 4.7065 - mae: 1.6103 - val_loss: 71.3295 - val_mae: 5.3008\n",
            "Epoch 33/300\n",
            "\n",
            "Epoch 00033: loss did not improve from 4.57442\n",
            "3480/3480 - 973s - loss: 5.0736 - mae: 1.6577 - val_loss: 72.8819 - val_mae: 5.4106\n",
            "Epoch 34/300\n",
            "\n",
            "Epoch 00034: loss did not improve from 4.57442\n",
            "3480/3480 - 974s - loss: 5.0323 - mae: 1.6516 - val_loss: 77.7037 - val_mae: 5.5262\n",
            "Epoch 35/300\n",
            "\n",
            "Epoch 00035: loss improved from 4.57442 to 4.54420, saving model to C:\\Users\\57lzhang.US04WW4008\\Desktop\\Blood pressure\\BP data\\models\\125Hz 10mmHg\\ResNet-18+LSTM\\7C-Resnet18+LSTM+10ts-35-4.5442.hdf5\n",
            "3480/3480 - 973s - loss: 4.5442 - mae: 1.5874 - val_loss: 70.3329 - val_mae: 5.3473\n",
            "Epoch 36/300\n",
            "\n",
            "Epoch 00036: loss did not improve from 4.54420\n",
            "3480/3480 - 973s - loss: 5.0512 - mae: 1.6522 - val_loss: 80.7228 - val_mae: 5.6913\n",
            "Epoch 37/300\n",
            "\n",
            "Epoch 00037: loss did not improve from 4.54420\n",
            "3480/3480 - 972s - loss: 4.5897 - mae: 1.5957 - val_loss: 75.7537 - val_mae: 5.4320\n",
            "Epoch 38/300\n",
            "\n",
            "Epoch 00038: loss did not improve from 4.54420\n",
            "3480/3480 - 971s - loss: 4.5459 - mae: 1.5858 - val_loss: 72.6574 - val_mae: 5.3434\n",
            "Epoch 39/300\n",
            "\n",
            "Epoch 00039: loss improved from 4.54420 to 4.09841, saving model to C:\\Users\\57lzhang.US04WW4008\\Desktop\\Blood pressure\\BP data\\models\\125Hz 10mmHg\\ResNet-18+LSTM\\7C-Resnet18+LSTM+10ts-39-4.0984.hdf5\n",
            "3480/3480 - 971s - loss: 4.0984 - mae: 1.5275 - val_loss: 71.2219 - val_mae: 5.3126\n",
            "Epoch 40/300\n",
            "\n",
            "Epoch 00040: loss did not improve from 4.09841\n",
            "3480/3480 - 970s - loss: 5.1660 - mae: 1.6614 - val_loss: 73.3927 - val_mae: 5.3630\n",
            "Epoch 41/300\n",
            "\n",
            "Epoch 00041: loss did not improve from 4.09841\n",
            "3480/3480 - 970s - loss: 4.7828 - mae: 1.6236 - val_loss: 73.2189 - val_mae: 5.3335\n",
            "Epoch 42/300\n",
            "\n",
            "Epoch 00042: loss did not improve from 4.09841\n",
            "3480/3480 - 970s - loss: 4.1783 - mae: 1.5399 - val_loss: 73.7953 - val_mae: 5.3652\n",
            "Epoch 43/300\n",
            "\n",
            "Epoch 00043: loss improved from 4.09841 to 4.08984, saving model to C:\\Users\\57lzhang.US04WW4008\\Desktop\\Blood pressure\\BP data\\models\\125Hz 10mmHg\\ResNet-18+LSTM\\7C-Resnet18+LSTM+10ts-43-4.0898.hdf5\n",
            "3480/3480 - 970s - loss: 4.0898 - mae: 1.5251 - val_loss: 75.0861 - val_mae: 5.5669\n",
            "Epoch 44/300\n",
            "\n",
            "Epoch 00044: loss did not improve from 4.08984\n",
            "3480/3480 - 969s - loss: 5.2277 - mae: 1.6584 - val_loss: 75.6175 - val_mae: 5.4368\n",
            "Epoch 45/300\n",
            "\n",
            "Epoch 00045: loss did not improve from 4.08984\n",
            "3480/3480 - 969s - loss: 5.0821 - mae: 1.6393 - val_loss: 75.7267 - val_mae: 5.5534\n",
            "Epoch 46/300\n",
            "\n",
            "Epoch 00046: loss did not improve from 4.08984\n",
            "3480/3480 - 968s - loss: 4.4846 - mae: 1.5792 - val_loss: 72.7178 - val_mae: 5.3364\n",
            "Epoch 47/300\n",
            "\n",
            "Epoch 00047: loss improved from 4.08984 to 4.02570, saving model to C:\\Users\\57lzhang.US04WW4008\\Desktop\\Blood pressure\\BP data\\models\\125Hz 10mmHg\\ResNet-18+LSTM\\7C-Resnet18+LSTM+10ts-47-4.0257.hdf5\n",
            "3480/3480 - 969s - loss: 4.0257 - mae: 1.5113 - val_loss: 72.1226 - val_mae: 5.3584\n",
            "Epoch 48/300\n",
            "\n",
            "Epoch 00048: loss improved from 4.02570 to 3.97419, saving model to C:\\Users\\57lzhang.US04WW4008\\Desktop\\Blood pressure\\BP data\\models\\125Hz 10mmHg\\ResNet-18+LSTM\\7C-Resnet18+LSTM+10ts-48-3.9742.hdf5\n",
            "3480/3480 - 969s - loss: 3.9742 - mae: 1.5021 - val_loss: 74.6735 - val_mae: 5.3845\n",
            "Epoch 49/300\n",
            "\n",
            "Epoch 00049: loss did not improve from 3.97419\n",
            "3480/3480 - 970s - loss: 5.0677 - mae: 1.6362 - val_loss: 76.8375 - val_mae: 5.5479\n",
            "Epoch 50/300\n",
            "\n",
            "Epoch 00050: loss did not improve from 3.97419\n",
            "3480/3480 - 970s - loss: 4.7813 - mae: 1.6143 - val_loss: 74.9154 - val_mae: 5.4094\n",
            "Epoch 51/300\n",
            "\n",
            "Epoch 00051: loss did not improve from 3.97419\n",
            "3480/3480 - 970s - loss: 5.1579 - mae: 1.6380 - val_loss: 74.0117 - val_mae: 5.3717\n",
            "Epoch 52/300\n",
            "\n",
            "Epoch 00052: loss did not improve from 3.97419\n",
            "3480/3480 - 971s - loss: 4.8232 - mae: 1.6030 - val_loss: 73.2855 - val_mae: 5.4004\n",
            "Epoch 53/300\n",
            "\n",
            "Epoch 00053: loss did not improve from 3.97419\n",
            "3480/3480 - 971s - loss: 4.6069 - mae: 1.5868 - val_loss: 78.0083 - val_mae: 5.5208\n",
            "Epoch 54/300\n"
          ],
          "name": "stdout"
        }
      ]
    },
    {
      "cell_type": "markdown",
      "metadata": {
        "id": "IfnasVq2Tqjg",
        "colab_type": "text"
      },
      "source": [
        "# 5.Model Evaluation"
      ]
    },
    {
      "cell_type": "code",
      "metadata": {
        "id": "nZyzAHekTsy5",
        "colab_type": "code",
        "colab": {}
      },
      "source": [
        "os.chdir(r\"C:\\Users\\57lzhang.US04WW4008\\Desktop\\Blood pressure\\BP data\\models\\125Hz 10mmHg\\ResNet-18+LSTM\")\n",
        "model = tf.keras.models.load_model('CCCCCC-Resnet18+LSTM+10ts-42-5.2190.hdf5')"
      ],
      "execution_count": 0,
      "outputs": []
    },
    {
      "cell_type": "code",
      "metadata": {
        "id": "7ue_O6rjZR3F",
        "colab_type": "code",
        "colab": {}
      },
      "source": [
        "def get_flops(model_h5_path):\n",
        "    session = tf.compat.v1.Session()\n",
        "    graph = tf.compat.v1.get_default_graph()\n",
        "        \n",
        "\n",
        "    with graph.as_default():\n",
        "        with session.as_default():\n",
        "            model = tf.keras.models.load_model(model_h5_path)\n",
        "\n",
        "            run_meta = tf.compat.v1.RunMetadata()\n",
        "            opts = tf.compat.v1.profiler.ProfileOptionBuilder.float_operation()\n",
        "        \n",
        "            # We use the Keras session graph in the call to the profiler.\n",
        "            flops = tf.compat.v1.profiler.profile(graph=graph,\n",
        "                                                  run_meta=run_meta, cmd='op', options=opts)\n",
        "        \n",
        "            return flops.total_float_ops"
      ],
      "execution_count": 0,
      "outputs": []
    },
    {
      "cell_type": "code",
      "metadata": {
        "id": "-podbex1ZUn3",
        "colab_type": "code",
        "colab": {
          "base_uri": "https://localhost:8080/",
          "height": 267
        },
        "outputId": "b686057b-578f-4cbc-b02c-acdd18a3eaf0"
      },
      "source": [
        "FLOPS = get_flops('CCCC-Resnet18+LSTM+10ts-72-8.5513.hdf5')\n",
        "FLOPS"
      ],
      "execution_count": 25,
      "outputs": [
        {
          "output_type": "stream",
          "text": [
            "WARNING:tensorflow:From C:\\Users\\57lzhang.US04WW4008\\Anaconda3\\lib\\site-packages\\tensorflow\\python\\ops\\resource_variable_ops.py:1666: calling BaseResourceVariable.__init__ (from tensorflow.python.ops.resource_variable_ops) with constraint is deprecated and will be removed in a future version.\n",
            "Instructions for updating:\n",
            "If using Keras pass *_constraint arguments to layers.\n",
            "WARNING:tensorflow:Layer lstm will not use cuDNN kernel since it doesn't meet the cuDNN kernel criteria. It will use generic GPU kernel as fallback when running on GPU\n",
            "WARNING:tensorflow:Layer lstm will not use cuDNN kernel since it doesn't meet the cuDNN kernel criteria. It will use generic GPU kernel as fallback when running on GPU\n",
            "WARNING:tensorflow:Layer lstm will not use cuDNN kernel since it doesn't meet the cuDNN kernel criteria. It will use generic GPU kernel as fallback when running on GPU\n",
            "WARNING:tensorflow:Layer lstm_1 will not use cuDNN kernel since it doesn't meet the cuDNN kernel criteria. It will use generic GPU kernel as fallback when running on GPU\n",
            "WARNING:tensorflow:Layer lstm_1 will not use cuDNN kernel since it doesn't meet the cuDNN kernel criteria. It will use generic GPU kernel as fallback when running on GPU\n",
            "WARNING:tensorflow:Layer lstm_1 will not use cuDNN kernel since it doesn't meet the cuDNN kernel criteria. It will use generic GPU kernel as fallback when running on GPU\n",
            "WARNING:tensorflow:From C:\\Users\\57lzhang.US04WW4008\\Anaconda3\\lib\\site-packages\\tensorflow\\python\\profiler\\internal\\flops_registry.py:142: tensor_shape_from_node_def_name (from tensorflow.python.framework.graph_util_impl) is deprecated and will be removed in a future version.\n",
            "Instructions for updating:\n",
            "Use `tf.compat.v1.graph_util.tensor_shape_from_node_def_name`\n"
          ],
          "name": "stdout"
        },
        {
          "output_type": "execute_result",
          "data": {
            "text/plain": [
              "11369834"
            ]
          },
          "metadata": {
            "tags": []
          },
          "execution_count": 25
        }
      ]
    },
    {
      "cell_type": "markdown",
      "metadata": {
        "id": "6aMp1YpLTw7C",
        "colab_type": "text"
      },
      "source": [
        "## 5.1 MAE"
      ]
    },
    {
      "cell_type": "code",
      "metadata": {
        "id": "XP6T2rA43zvp",
        "colab_type": "code",
        "colab": {}
      },
      "source": [
        "with open('C:/Users/57lzhang.US04WW4008/Desktop/Blood pressure/BP data/test/test_data', \"rb\") as fp:\n",
        "  test_data = pickle.load(fp)"
      ],
      "execution_count": 0,
      "outputs": []
    },
    {
      "cell_type": "code",
      "metadata": {
        "id": "GJaJEX5ThxKu",
        "colab_type": "code",
        "colab": {}
      },
      "source": [
        "with open(\"C:/Users/57lzhang.US04WW4008/Desktop/Blood pressure/BP data/test/test_labels\", \"rb\") as fp:\n",
        "  test_labels = pickle.load(fp)"
      ],
      "execution_count": 0,
      "outputs": []
    },
    {
      "cell_type": "code",
      "metadata": {
        "id": "ao2Pj44kiXgL",
        "colab_type": "code",
        "colab": {}
      },
      "source": [
        "test_data = np.asarray(test_data)"
      ],
      "execution_count": 0,
      "outputs": []
    },
    {
      "cell_type": "code",
      "metadata": {
        "id": "oHAzrXqdaXl6",
        "colab_type": "code",
        "colab": {}
      },
      "source": [
        "test_labels = np.asarray(test_labels)"
      ],
      "execution_count": 0,
      "outputs": []
    },
    {
      "cell_type": "code",
      "metadata": {
        "id": "2ScA5IlA-G84",
        "colab_type": "code",
        "colab": {}
      },
      "source": [
        "bp_estimate=model.predict(test_data)"
      ],
      "execution_count": 0,
      "outputs": []
    },
    {
      "cell_type": "code",
      "metadata": {
        "id": "HGR81k40A44c",
        "colab_type": "code",
        "outputId": "312f5ca7-95a5-4996-acad-4d4672e00eff",
        "colab": {
          "base_uri": "https://localhost:8080/",
          "height": 52
        }
      },
      "source": [
        "from sklearn.metrics import mean_absolute_error\n",
        "sys_mae = mean_absolute_error(test_labels[:,0], bp_estimate[:,0])\n",
        "dia_mae = mean_absolute_error(test_labels[:,1], bp_estimate[:,1])\n",
        "print(\"Systolic MAE in test dataset:\", round(sys_mae,1))\n",
        "print(\"Diastolic MAE in test dataset:\", round(dia_mae,1))"
      ],
      "execution_count": 30,
      "outputs": [
        {
          "output_type": "stream",
          "text": [
            "Systolic MAE in test dataset: 7.3\n",
            "Diastolic MAE in test dataset: 4.3\n"
          ],
          "name": "stdout"
        }
      ]
    }
  ]
}