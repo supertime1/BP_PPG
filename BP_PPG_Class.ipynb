{
  "nbformat": 4,
  "nbformat_minor": 0,
  "metadata": {
    "colab": {
      "name": "BP_PPG_Class.ipynb",
      "provenance": [],
      "collapsed_sections": [],
      "toc_visible": true,
      "authorship_tag": "ABX9TyNbWKqx9iFSI3zi8FCWP4Dy",
      "include_colab_link": true
    },
    "kernelspec": {
      "name": "python3",
      "display_name": "Python 3"
    }
  },
  "cells": [
    {
      "cell_type": "markdown",
      "metadata": {
        "id": "view-in-github",
        "colab_type": "text"
      },
      "source": [
        "<a href=\"https://colab.research.google.com/github/supertime1/BP_PPG/blob/master/BP_PPG_Class.ipynb\" target=\"_parent\"><img src=\"https://colab.research.google.com/assets/colab-badge.svg\" alt=\"Open In Colab\"/></a>"
      ]
    },
    {
      "cell_type": "markdown",
      "metadata": {
        "id": "uWP-_pXlUKmp",
        "colab_type": "text"
      },
      "source": [
        "#1.Introduction"
      ]
    },
    {
      "cell_type": "markdown",
      "metadata": {
        "id": "3mOoV1yuUKlh",
        "colab_type": "text"
      },
      "source": [
        "This notebook trains an simple PPG DNN by using labeled PPG data from Afib_Data_Clean notebook;\n",
        "The loaded data is 30s segemented PPG signals with 125Hz sampling rate."
      ]
    },
    {
      "cell_type": "markdown",
      "metadata": {
        "id": "bfCfr60kSTDU",
        "colab_type": "text"
      },
      "source": [
        "#2.Setup Environment\n",
        "\n"
      ]
    },
    {
      "cell_type": "code",
      "metadata": {
        "id": "cvqxVijHSFk2",
        "colab_type": "code",
        "outputId": "51a12930-90b8-45b7-b86b-2148f79ebbec",
        "colab": {
          "base_uri": "https://localhost:8080/",
          "height": 34
        }
      },
      "source": [
        "from IPython.display import display\n",
        "import pandas as pd\n",
        "import matplotlib.pyplot as plt\n",
        "%matplotlib inline\n",
        "%load_ext tensorboard\n",
        "import numpy as np\n",
        "import os\n",
        "import shutil\n",
        "import glob\n",
        "import wfdb\n",
        "import tensorflow as tf\n",
        "from tensorflow import keras\n",
        "from tensorflow.keras import Model\n",
        "from tensorflow.keras.models import load_model \n",
        "from tensorflow.keras.callbacks import TensorBoard, ModelCheckpoint\n",
        "from tensorflow.keras.layers import Conv1D, BatchNormalization, Input, Add, Activation,\\\n",
        "MaxPooling1D,Dropout,Flatten,TimeDistributed,Bidirectional,Dense,LSTM, ZeroPadding1D, \\\n",
        "AveragePooling1D,GlobalMaxPooling1D\n",
        "from tensorflow.keras.initializers import glorot_uniform\n",
        "import tensorflow_datasets as tfds\n",
        "import multiprocessing\n",
        "from datetime import datetime\n",
        "import sklearn.metrics\n",
        "import itertools\n",
        "import io\n",
        "import pickle\n",
        "print(tf.__version__)"
      ],
      "execution_count": 1,
      "outputs": [
        {
          "output_type": "stream",
          "text": [
            "2.2.0\n"
          ],
          "name": "stdout"
        }
      ]
    },
    {
      "cell_type": "markdown",
      "metadata": {
        "colab_type": "text",
        "id": "oFD2ZNOoGMsP"
      },
      "source": [
        "#3.Data Pipeline"
      ]
    },
    {
      "cell_type": "code",
      "metadata": {
        "id": "Iwdd-WA-Xtb1",
        "colab_type": "code",
        "colab": {}
      },
      "source": [
        "#load the data filename\n",
        "train_data_dir = r\"C:\\Users\\57lzhang.US04WW4008\\Desktop\\Blood pressure\\BP data\\train\\data*\"\n",
        "train_data_fn = glob.glob(train_data_dir)\n",
        "train_label_dir = r\"C:\\Users\\57lzhang.US04WW4008\\Desktop\\Blood pressure\\BP data\\train\\label*\"\n",
        "train_label_fn = glob.glob(train_label_dir)"
      ],
      "execution_count": 0,
      "outputs": []
    },
    {
      "cell_type": "code",
      "metadata": {
        "id": "Rs1pp9k0rv-0",
        "colab_type": "code",
        "colab": {}
      },
      "source": [
        "#run assert to make sure the data and label are in the same order\n",
        "for i in range(len(train_label_fn)):\n",
        "  assert(train_data_fn[i][-1] == train_label_fn[i][-1])"
      ],
      "execution_count": 0,
      "outputs": []
    },
    {
      "cell_type": "code",
      "metadata": {
        "id": "3hCQDlhZl-82",
        "colab_type": "code",
        "colab": {}
      },
      "source": [
        "val_data_dir = r\"C:\\Users\\57lzhang.US04WW4008\\Desktop\\Blood pressure\\BP data\\validation\\data*\"\n",
        "val_data_fn = glob.glob(val_data_dir)\n",
        "val_label_dir = r\"C:\\Users\\57lzhang.US04WW4008\\Desktop\\Blood pressure\\BP data\\validation\\label*\"\n",
        "val_label_fn = glob.glob(val_label_dir)"
      ],
      "execution_count": 0,
      "outputs": []
    },
    {
      "cell_type": "code",
      "metadata": {
        "id": "o0B1Vx6MuEQV",
        "colab_type": "code",
        "colab": {}
      },
      "source": [
        "for i in range(len(val_label_fn)):\n",
        "  assert(val_data_fn[i][-1] == val_label_fn[i][-1])"
      ],
      "execution_count": 0,
      "outputs": []
    },
    {
      "cell_type": "code",
      "metadata": {
        "id": "A2VNZfnc4XSJ",
        "colab_type": "code",
        "colab": {}
      },
      "source": [
        "#use generator to input data, since the data size(>160GB) is larger than memory size (64GB)\n",
        "def train_data_generator():\n",
        "  for i in range(len(train_data_fn)):\n",
        "    data = pickle.load(open(train_data_fn[i],'rb'))\n",
        "    yield data"
      ],
      "execution_count": 0,
      "outputs": []
    },
    {
      "cell_type": "code",
      "metadata": {
        "id": "lIhR3bhdmM5I",
        "colab_type": "code",
        "colab": {}
      },
      "source": [
        "def train_label_generator():\n",
        "  for i in range(len(train_label_fn)):\n",
        "    label = pickle.load(open(train_label_fn[i],'rb'))\n",
        "    yield label"
      ],
      "execution_count": 0,
      "outputs": []
    },
    {
      "cell_type": "code",
      "metadata": {
        "id": "tVq-AReq5U21",
        "colab_type": "code",
        "colab": {}
      },
      "source": [
        "def val_data_generator():\n",
        "  for i in range(len(val_data_fn)):\n",
        "    data = pickle.load(open(val_data_fn[i],'rb'))\n",
        "    yield data"
      ],
      "execution_count": 0,
      "outputs": []
    },
    {
      "cell_type": "code",
      "metadata": {
        "id": "rGfRW6NYmU0a",
        "colab_type": "code",
        "colab": {}
      },
      "source": [
        "def val_label_generator():\n",
        "  for i in range(len(val_label_fn)):\n",
        "    label = pickle.load(open(val_label_fn[i],'rb'))\n",
        "    yield label"
      ],
      "execution_count": 0,
      "outputs": []
    },
    {
      "cell_type": "code",
      "metadata": {
        "id": "THYmut6MnQb_",
        "colab_type": "code",
        "outputId": "dc053b9f-86bb-4493-e468-785c907c131b",
        "colab": {
          "base_uri": "https://localhost:8080/",
          "height": 34
        }
      },
      "source": [
        "#calculate number of elements in training for later use in shuffle and model.fit\n",
        "number_of_element = 0\n",
        "for i in range(len(train_label_fn)):\n",
        "  label = pickle.load(open(train_label_fn[i],'rb'))\n",
        "  number_of_element += len(label)\n",
        "print(\"There are in total\", number_of_element, \"in training dataset\")"
      ],
      "execution_count": 18,
      "outputs": [
        {
          "output_type": "stream",
          "text": [
            "There are in total 222727 in training dataset\n"
          ],
          "name": "stdout"
        }
      ]
    },
    {
      "cell_type": "code",
      "metadata": {
        "id": "ex9J_Ao0oGvN",
        "colab_type": "code",
        "outputId": "bee4e427-2e54-467b-ac44-83153813decd",
        "colab": {
          "base_uri": "https://localhost:8080/",
          "height": 34
        }
      },
      "source": [
        "#calculate number of elements in validation\n",
        "number_of_val_element = 0\n",
        "for i in range(len(val_label_fn)):\n",
        "  label = pickle.load(open(val_label_fn[i],'rb'))\n",
        "  number_of_val_element += len(label)\n",
        "print(\"There are in total\", number_of_val_element, \"in validation dataset\")"
      ],
      "execution_count": 19,
      "outputs": [
        {
          "output_type": "stream",
          "text": [
            "There are in total 24904 in validation dataset\n"
          ],
          "name": "stdout"
        }
      ]
    },
    {
      "cell_type": "code",
      "metadata": {
        "id": "4jFI5d1c4cQq",
        "colab_type": "code",
        "colab": {}
      },
      "source": [
        "#input the data by using generator and use flat_map to removing the \n",
        "#first dimension (number of elements) and flat all data\n",
        "train_data = tf.data.Dataset.from_generator(train_data_generator,(tf.float32),output_shapes=[None,10,750,1])\n",
        "train_label = tf.data.Dataset.from_generator(train_label_generator,(tf.float32),output_shapes=[None,2])\n",
        "train_ds = train_data.flat_map(lambda x: train_data.from_tensor_slices(x))\n",
        "train_lb = train_label.flat_map(lambda x: train_label.from_tensor_slices(x))\n",
        "train = tf.data.Dataset.zip((train_ds,train_lb))"
      ],
      "execution_count": 0,
      "outputs": []
    },
    {
      "cell_type": "code",
      "metadata": {
        "id": "KWSWFqN24c_M",
        "colab_type": "code",
        "colab": {}
      },
      "source": [
        "#do the same to validation\n",
        "val_data = tf.data.Dataset.from_generator(val_data_generator,(tf.float32),output_shapes=[None,10,750,1])\n",
        "val_label = tf.data.Dataset.from_generator(val_label_generator,(tf.float32),output_shapes=[None,2])\n",
        "val_ds = val_data.flat_map(lambda x: val_data.from_tensor_slices(x))\n",
        "val_lb = val_label.flat_map(lambda x: val_label.from_tensor_slices(x))\n",
        "validation = tf.data.Dataset.zip((val_ds,val_lb))"
      ],
      "execution_count": 0,
      "outputs": []
    },
    {
      "cell_type": "code",
      "metadata": {
        "colab_type": "code",
        "id": "0eNX0PYsGMtE",
        "colab": {}
      },
      "source": [
        "batch_size = 64\n",
        "train_dataset = train.cache()\n",
        "train_dataset = train_dataset.shuffle(number_of_element//10).repeat().batch(batch_size,drop_remainder=True)\n",
        "train_dataset = train_dataset.prefetch(buffer_size = tf.data.experimental.AUTOTUNE)\n",
        "val_dataset = validation.repeat().batch(batch_size, drop_remainder=True)"
      ],
      "execution_count": 0,
      "outputs": []
    },
    {
      "cell_type": "markdown",
      "metadata": {
        "id": "ikiF9-uDTI-h",
        "colab_type": "text"
      },
      "source": [
        "#4.Train Model"
      ]
    },
    {
      "cell_type": "markdown",
      "metadata": {
        "id": "MeF1mUEJTN60",
        "colab_type": "text"
      },
      "source": [
        "##4.1 CNN + RNN"
      ]
    },
    {
      "cell_type": "markdown",
      "metadata": {
        "id": "REoHyYK_924l",
        "colab_type": "text"
      },
      "source": [
        "###4.1.1 Simple_CNN + LSTM (Class method)"
      ]
    },
    {
      "cell_type": "code",
      "metadata": {
        "id": "tD3vmo6nAPI6",
        "colab_type": "code",
        "colab": {}
      },
      "source": [
        "class Simple_CNN(tf.keras.layers.Layer):\n",
        "  def __init__(self,input_shape):\n",
        "    super(Simple_CNN, self).__init__()\n",
        "    \n",
        "    self.convA = TimeDistributed(Conv1D(8,1,strides=1,activation ='relu'),input_shape=input_shape)\n",
        "    self.batchA = TimeDistributed(BatchNormalization())\n",
        "    self.maxpoolA = TimeDistributed(MaxPooling1D(pool_size=2, strides=2))\n",
        "    self.dropA = TimeDistributed(Dropout(0.2))\n",
        "\n",
        "    self.convB = TimeDistributed(Conv1D(16,3,strides=1,activation ='relu'))\n",
        "    self.batchB = TimeDistributed(BatchNormalization())\n",
        "    self.maxpoolB = TimeDistributed(MaxPooling1D(pool_size=2, strides=2))\n",
        "    self.dropB = TimeDistributed(Dropout(0.2))    \n",
        "\n",
        "    self.convC = TimeDistributed(Conv1D(32,3,strides=1,activation ='relu'))\n",
        "    self.batchC = TimeDistributed(BatchNormalization())\n",
        "    self.maxpoolC = TimeDistributed(MaxPooling1D(pool_size=2, strides=2))\n",
        "    self.dropC = TimeDistributed(Dropout(0.2))\n",
        "\n",
        "    self.convD = TimeDistributed(Conv1D(64,3,strides=1,activation ='relu'))\n",
        "    self.batchD = TimeDistributed(BatchNormalization())\n",
        "    self.maxpoolD = TimeDistributed(MaxPooling1D(pool_size=2, strides=2))\n",
        "    self.dropD = TimeDistributed(Dropout(0.2))\n",
        "\n",
        "    self.convE = TimeDistributed(Conv1D(16, 1, strides=1, activation='relu'))\n",
        "    self.batch_normE = TimeDistributed(BatchNormalization())\n",
        "    self.flatE = TimeDistributed(Flatten())\n",
        "\n",
        "  def call(self, inputs):\n",
        "\n",
        "    x = self.convA(inputs)\n",
        "    x = self.batchA(x)\n",
        "    x = self.maxpoolA(x)\n",
        "    x = self.dropA(x)\n",
        "\n",
        "    x = self.convB(x)\n",
        "    x = self.batchB(x)\n",
        "    x = self.maxpoolB(x)\n",
        "    x = self.dropB(x)\n",
        "\n",
        "    x = self.convC(x)\n",
        "    x = self.batchC(x)\n",
        "    x = self.maxpoolC(x)\n",
        "    x = self.dropC(x)\n",
        "\n",
        "    x = self.convD(x)\n",
        "    x = self.batchD(x)\n",
        "    x = self.maxpoolD(x)\n",
        "    x = self.dropD(x)\n",
        "\n",
        "    x = self.convE(x)\n",
        "    x = self.batch_normE(x)\n",
        "    x = self.flatE(x)\n",
        "\n",
        "    return x"
      ],
      "execution_count": 0,
      "outputs": []
    },
    {
      "cell_type": "code",
      "metadata": {
        "id": "ORnk4ACrl4Gs",
        "colab_type": "code",
        "colab": {}
      },
      "source": [
        "class CNN_LSTM(Model):\n",
        "  def __init__(self, input_shape):\n",
        "    super(CNN_LSTM, self).__init__()\n",
        "    self.cnn = Simple_CNN(input_shape=input_shape)\n",
        "    self.bi_lstmA = Bidirectional(LSTM(32, return_sequences = True))\n",
        "    self.bi_lstmB = Bidirectional(LSTM(16))\n",
        "    self.dense = Dense(2)\n",
        "\n",
        "  def call(self,inputs):\n",
        "    x = self.cnn(inputs)\n",
        "    x = self.bi_lstmA(x)\n",
        "    x = self.bi_lstmB(x)\n",
        "    x = self.dense(x)\n",
        "\n",
        "    return x"
      ],
      "execution_count": 0,
      "outputs": []
    },
    {
      "cell_type": "code",
      "metadata": {
        "id": "nFwaYd4xrSvi",
        "colab_type": "code",
        "colab": {}
      },
      "source": [
        "model = CNN_LSTM((10,750,1))"
      ],
      "execution_count": 0,
      "outputs": []
    },
    {
      "cell_type": "markdown",
      "metadata": {
        "id": "TJ0gX0XkFA3G",
        "colab_type": "text"
      },
      "source": [
        "Sequential method"
      ]
    },
    {
      "cell_type": "code",
      "metadata": {
        "id": "9xd9AuslE9NS",
        "colab_type": "code",
        "colab": {
          "base_uri": "https://localhost:8080/",
          "height": 372
        },
        "outputId": "5cc3c277-048c-4ff3-841f-9e5827af718c"
      },
      "source": [
        "from tensorflow.keras.layers import BatchNormalization\n",
        "BatchNormalization._USE_V2_BEHAVIOR = False\n",
        "#create CNN layers\n",
        "cnn = tf.keras.Sequential([\n",
        "    #1st Conv1D\n",
        "    tf.keras.layers.Conv1D(8, 1, strides=1, \n",
        "                          activation='relu'),\n",
        "    tf.keras.layers.BatchNormalization(),\n",
        "    tf.keras.layers.MaxPooling1D(pool_size=2,strides=2),\n",
        "    tf.keras.layers.Dropout(0.2),\n",
        "    #2nd Conv1D\n",
        "    tf.keras.layers.Conv1D(16, 3, strides=1,\n",
        "                          activation='relu'),\n",
        "    tf.keras.layers.BatchNormalization(),\n",
        "    tf.keras.layers.MaxPooling1D(pool_size=2,strides=2),\n",
        "    tf.keras.layers.Dropout(0.2),\n",
        "    #3rd Conv1D\n",
        "    tf.keras.layers.Conv1D(32, 3, strides=1,\n",
        "                          activation='relu'),\n",
        "    tf.keras.layers.BatchNormalization(),\n",
        "    tf.keras.layers.MaxPooling1D(pool_size=2,strides=2),\n",
        "    tf.keras.layers.Dropout(0.2),\n",
        "    #4th Conv1D\n",
        "    tf.keras.layers.Conv1D(64, 3, strides=1,\n",
        "                          activation='relu'),\n",
        "    tf.keras.layers.BatchNormalization(),\n",
        "    tf.keras.layers.MaxPooling1D(pool_size=2,strides=2),\n",
        "    tf.keras.layers.Dropout(0.2),\n",
        "    #5th Conv1D\n",
        "    tf.keras.layers.Conv1D(16, 1, strides=1,\n",
        "                          activation='relu'),\n",
        "    tf.keras.layers.BatchNormalization(),\n",
        "    #Full connection layer\n",
        "    tf.keras.layers.Flatten()\n",
        "])\n",
        "\n",
        "#combine with LSTM\n",
        "model = tf.keras.Sequential([\n",
        "        tf.keras.layers.TimeDistributed(cnn,input_shape=(10,750,1)),                   \n",
        "        tf.keras.layers.Bidirectional(tf.keras.layers.LSTM(32,return_sequences=True)),\n",
        "        tf.keras.layers.Bidirectional(tf.keras.layers.LSTM(16, return_sequences = True)),\n",
        "        tf.keras.layers.Flatten(),\n",
        "        tf.keras.layers.Dense(10),\n",
        "        tf.keras.layers.Dense(2)\n",
        "])\n",
        "\n",
        "model.summary()"
      ],
      "execution_count": 23,
      "outputs": [
        {
          "output_type": "stream",
          "text": [
            "Model: \"sequential_1\"\n",
            "_________________________________________________________________\n",
            "Layer (type)                 Output Shape              Param #   \n",
            "=================================================================\n",
            "time_distributed (TimeDistri (None, 10, 720)           9776      \n",
            "_________________________________________________________________\n",
            "bidirectional (Bidirectional (None, 10, 64)            192768    \n",
            "_________________________________________________________________\n",
            "bidirectional_1 (Bidirection (None, 10, 32)            10368     \n",
            "_________________________________________________________________\n",
            "flatten_1 (Flatten)          (None, 320)               0         \n",
            "_________________________________________________________________\n",
            "dense (Dense)                (None, 10)                3210      \n",
            "_________________________________________________________________\n",
            "dense_1 (Dense)              (None, 2)                 22        \n",
            "=================================================================\n",
            "Total params: 216,144\n",
            "Trainable params: 215,872\n",
            "Non-trainable params: 272\n",
            "_________________________________________________________________\n"
          ],
          "name": "stdout"
        }
      ]
    },
    {
      "cell_type": "markdown",
      "metadata": {
        "id": "kh5I_ofpASeV",
        "colab_type": "text"
      },
      "source": [
        "###4.1.3 ResNet-18 + LSTM"
      ]
    },
    {
      "cell_type": "code",
      "metadata": {
        "id": "EIiiZfTsAZv-",
        "colab_type": "code",
        "colab": {}
      },
      "source": [
        "def identity_block_18(X, f, filters, stage, block):\n",
        "\n",
        "    # defining name basis\n",
        "    conv_name_base = 'res' + str(stage) + block + '_branch'\n",
        "    bn_name_base = 'bn' + str(stage) + block + '_branch'\n",
        "    \n",
        "    # Retrieve Filters\n",
        "    F1, F2 = filters\n",
        "    \n",
        "    # Save the input value. You'll need this later to add back to the main path. \n",
        "    X_shortcut = X\n",
        "    \n",
        "    # First component of main path\n",
        "    X = Conv1D(filters = F1, kernel_size = f, strides = 1, padding = 'same', name = conv_name_base + '2a', kernel_initializer = glorot_uniform(seed=0))(X)\n",
        "    X = BatchNormalization(axis = 2, name = bn_name_base + '2a')(X)\n",
        "    X = Activation('relu')(X)\n",
        "\n",
        "    \n",
        "    # Second component of main path \n",
        "    X = Conv1D(filters = F2, kernel_size = f, strides = 1, padding = 'same', name = conv_name_base + '2b', kernel_initializer = glorot_uniform(seed=0))(X)\n",
        "    X = BatchNormalization(axis = 2, name = bn_name_base + '2b')(X)\n",
        "    X = Activation('relu')(X)\n",
        "\n",
        "    # Final step: Add shortcut value to main path, and pass it through a RELU activation \n",
        "    X = Add()([X, X_shortcut])\n",
        "    X = Activation('relu')(X)\n",
        "    \n",
        "    \n",
        "    return X"
      ],
      "execution_count": 0,
      "outputs": []
    },
    {
      "cell_type": "code",
      "metadata": {
        "id": "F9k8UXNF8Uk5",
        "colab_type": "code",
        "colab": {}
      },
      "source": [
        "def convolutional_block_18(X, f, filters, stage, block, s = 2):\n",
        "    \n",
        "    # defining name basis\n",
        "    conv_name_base = 'res' + str(stage) + block + '_branch'\n",
        "    bn_name_base = 'bn' + str(stage) + block + '_branch'\n",
        "    \n",
        "    # Retrieve Filters\n",
        "    F1, F2 = filters\n",
        "    \n",
        "    # Save the input value\n",
        "    X_shortcut = X\n",
        "\n",
        "\n",
        "    ##### MAIN PATH #####\n",
        "    # First component of main path \n",
        "    X = Conv1D(filters = F1, kernel_size = f, strides = s, padding = 'valid', name = conv_name_base + '2a', kernel_initializer = glorot_uniform(seed=0))(X)\n",
        "    X = BatchNormalization(axis = 2, name = bn_name_base + '2a')(X)\n",
        "    X = Activation('relu')(X)\n",
        "\n",
        "    # Second component of main path (≈3 lines)\n",
        "    X = Conv1D(filters = F2, kernel_size = f, strides = 1, padding = 'same', name = conv_name_base + '2b', kernel_initializer = glorot_uniform(seed=0))(X)\n",
        "    X = BatchNormalization(axis = 2, name = bn_name_base + '2b')(X)\n",
        "    X = Activation('relu')(X)\n",
        "\n",
        "\n",
        "    ##### SHORTCUT PATH #### (≈2 lines)\n",
        "    X_shortcut = Conv1D(filters = F1, kernel_size = f, strides = s, padding = 'valid', name = conv_name_base + '1',\n",
        "                        kernel_initializer = glorot_uniform(seed=0))(X_shortcut)\n",
        "    X_shortcut = BatchNormalization(axis = 2, name = bn_name_base + '1')(X_shortcut)\n",
        "\n",
        "    # Final step: Add shortcut value to main path, and pass it through a RELU activation (≈2 lines)\n",
        "    X = Add()([X, X_shortcut])\n",
        "    X = Activation('relu')(X)\n",
        "    \n",
        "    \n",
        "    return X"
      ],
      "execution_count": 0,
      "outputs": []
    },
    {
      "cell_type": "code",
      "metadata": {
        "id": "0GlLgQiD8Ujk",
        "colab_type": "code",
        "colab": {}
      },
      "source": [
        "def ResNet18(input_shape=(750, 1), classes=1):\n",
        "\n",
        "    # Define the input as a tensor with shape input_shape\n",
        "    X_input = Input(input_shape)\n",
        "\n",
        "    # Zero-Padding\n",
        "    X = ZeroPadding1D(3)(X_input)\n",
        "\n",
        "    # Stage 1\n",
        "    X = Conv1D(64, 7, strides=2, name='conv1', kernel_initializer=glorot_uniform(seed=0))(X)\n",
        "    X = BatchNormalization(axis=2, name='bn_conv1')(X)\n",
        "    X = Activation('relu')(X)\n",
        "    X = MaxPooling1D(3, strides=2)(X)\n",
        "\n",
        "    # Stage 2\n",
        "    X = identity_block_18(X, 3, [64, 64], stage=2, block='a')\n",
        "    X = identity_block_18(X, 3, [64, 64], stage=2, block='b')\n",
        "\n",
        "\n",
        "    # Stage 3 (2 lines)\n",
        "    X = convolutional_block_18(X, f = 3, filters = [128, 128], stage = 3, block='a', s = 2)\n",
        "    X = identity_block_18(X, 3, [128, 128], stage=3, block='b')\n",
        "\n",
        "\n",
        "    # Stage 4 (2 lines)\n",
        "    X = convolutional_block_18(X, f = 3, filters = [256, 256], stage = 4, block='a', s = 2)\n",
        "    X = identity_block_18(X, 3, [256, 256], stage=4, block='b')\n",
        "\n",
        "    # Stage 5 (2 lines)\n",
        "    X = convolutional_block_18(X, f = 3, filters = [512, 512], stage = 5, block='a', s = 2)\n",
        "    X = identity_block_18(X, 3, [512, 512], stage=5, block='b')\n",
        "\n",
        "\n",
        "    # AVGPOOL (1 line).\n",
        "    X = AveragePooling1D(2, name=\"avg_pool\")(X)\n",
        "\n",
        "    # output layer\n",
        "    X = Flatten()(X)\n",
        "    \n",
        "    \n",
        "    #X = Dense(classes, activation='sigmoid', name='fc' + str(classes), kernel_initializer = glorot_uniform(seed=0))(X)\n",
        "    \n",
        "    \n",
        "    #Create model\n",
        "    model = Model(inputs = X_input, outputs = X, name='ResNet18')\n",
        "\n",
        "    return model"
      ],
      "execution_count": 0,
      "outputs": []
    },
    {
      "cell_type": "code",
      "metadata": {
        "id": "DUokNfRpwK7O",
        "colab_type": "code",
        "colab": {}
      },
      "source": [
        "resnet = ResNet18(input_shape = (750,1), classes = 1)"
      ],
      "execution_count": 0,
      "outputs": []
    },
    {
      "cell_type": "code",
      "metadata": {
        "id": "v298q6CswOjr",
        "colab_type": "code",
        "colab": {}
      },
      "source": [
        "model = tf.keras.Sequential([\n",
        "        tf.keras.layers.TimeDistributed(resnet,input_shape=(10,750,1)),                   \n",
        "        tf.keras.layers.Bidirectional(tf.keras.layers.LSTM(32,return_sequences=True)),\n",
        "        tf.keras.layers.Bidirectional(tf.keras.layers.LSTM(16)),\n",
        "        tf.keras.layers.Dense(2)\n",
        "])"
      ],
      "execution_count": 0,
      "outputs": []
    },
    {
      "cell_type": "code",
      "metadata": {
        "id": "UpXL04x9whgE",
        "colab_type": "code",
        "outputId": "492d742c-4096-4f73-95a0-c00eadb49448",
        "colab": {
          "base_uri": "https://localhost:8080/",
          "height": 301
        }
      },
      "source": [
        "model.summary()"
      ],
      "execution_count": 29,
      "outputs": [
        {
          "output_type": "stream",
          "text": [
            "Model: \"sequential_2\"\n",
            "_________________________________________________________________\n",
            "Layer (type)                 Output Shape              Param #   \n",
            "=================================================================\n",
            "time_distributed_1 (TimeDist (None, 10, 5632)          4202368   \n",
            "_________________________________________________________________\n",
            "bidirectional_2 (Bidirection (None, 10, 64)            1450240   \n",
            "_________________________________________________________________\n",
            "bidirectional_3 (Bidirection (None, 32)                10368     \n",
            "_________________________________________________________________\n",
            "dense_2 (Dense)              (None, 2)                 66        \n",
            "=================================================================\n",
            "Total params: 5,663,042\n",
            "Trainable params: 5,653,442\n",
            "Non-trainable params: 9,600\n",
            "_________________________________________________________________\n"
          ],
          "name": "stdout"
        }
      ]
    },
    {
      "cell_type": "markdown",
      "metadata": {
        "id": "mOMnuD4aAaTK",
        "colab_type": "text"
      },
      "source": [
        "### 4.1.4 ResNeXt + LSTM"
      ]
    },
    {
      "cell_type": "markdown",
      "metadata": {
        "id": "MhkddousAf0G",
        "colab_type": "text"
      },
      "source": [
        "###4.1.5 ResNeXt-18 + LSTM"
      ]
    },
    {
      "cell_type": "markdown",
      "metadata": {
        "id": "_6yMWCkDAlHn",
        "colab_type": "text"
      },
      "source": [
        "###4.1.6 ResNet + Attention"
      ]
    },
    {
      "cell_type": "markdown",
      "metadata": {
        "id": "iV4AOP5AXh5P",
        "colab_type": "text"
      },
      "source": [
        "##4.2 Define callbacks"
      ]
    },
    {
      "cell_type": "markdown",
      "metadata": {
        "id": "vD8quc5CXwa5",
        "colab_type": "text"
      },
      "source": [
        "###4.2.1 Tensorboard"
      ]
    },
    {
      "cell_type": "markdown",
      "metadata": {
        "id": "rcdMgfv1YClx",
        "colab_type": "text"
      },
      "source": [
        "###4.2.2 Checkpoint"
      ]
    },
    {
      "cell_type": "code",
      "metadata": {
        "id": "T7h_p1YnXz1R",
        "colab_type": "code",
        "colab": {}
      },
      "source": [
        "#callback: tensorboard\n",
        "log_dir=r\"C:\\Users\\57lzhang.US04WW4008\\Desktop\\Blood pressure\\BP data\\models\\125Hz 10mmHg\\ResNet-18+LSTM\\\\\" + datetime.now().strftime(\"%Y%m%d-%H%M%S\") +\"CC-Resnet18+LSTM+10ts\"\n",
        "tensorboard_callback = TensorBoard(log_dir=log_dir, histogram_freq=1)"
      ],
      "execution_count": 0,
      "outputs": []
    },
    {
      "cell_type": "code",
      "metadata": {
        "id": "OSqNrDZ_YKFv",
        "colab_type": "code",
        "colab": {}
      },
      "source": [
        "#callback: checkpoint\n",
        "filepath = r\"C:\\Users\\57lzhang.US04WW4008\\Desktop\\Blood pressure\\BP data\\models\\125Hz 10mmHg\\ResNet-18+LSTM\\CC-Resnet18+LSTM+10ts-{epoch:02d}-{loss:.4f}.hdf5\"\n",
        "checkpoint = ModelCheckpoint(filepath, monitor='loss', verbose=1, save_best_only=True, mode='auto')"
      ],
      "execution_count": 0,
      "outputs": []
    },
    {
      "cell_type": "markdown",
      "metadata": {
        "id": "t2ril_S4TVJS",
        "colab_type": "text"
      },
      "source": [
        "##4.3 Train the model "
      ]
    },
    {
      "cell_type": "markdown",
      "metadata": {
        "id": "boYor7DsTcXT",
        "colab_type": "text"
      },
      "source": [
        "### 4.3.1 Start Training"
      ]
    },
    {
      "cell_type": "code",
      "metadata": {
        "id": "-eqeVT1uTeOn",
        "colab_type": "code",
        "colab": {
          "base_uri": "https://localhost:8080/",
          "height": 1000
        },
        "outputId": "184e8ecf-0576-489b-c4c2-da7c051331be"
      },
      "source": [
        "#clear history if necessary\n",
        "tf.keras.backend.clear_session()\n",
        "#strategy = tf.distribute.MirroredStrategy(cross_device_ops=tf.distribute.HierarchicalCopyAllReduce()) ##to overwrite NCCL cross device communication as this is running in Windows\n",
        "#with strategy.scope():\n",
        "\n",
        "#loss_object = tf.keras.losses.MeanSquaredError()\n",
        "#optimizer = tf.keras.optimizers.Adam()\n",
        "\n",
        "model = model\n",
        "model.load_weights(r'C:\\Users\\57lzhang.US04WW4008\\Desktop\\Blood pressure\\BP data\\models\\125Hz 10mmHg\\ResNet-18+LSTM\\C-Resnet18+LSTM+10ts-37-73.2772.hdf5')\n",
        "model.compile(optimizer=tf.keras.optimizers.Adam(learning_rate = 0.001), \n",
        "              loss='mse', \n",
        "              metrics=['mae'])\n",
        "\n",
        "callbacks_list = [tensorboard_callback, checkpoint]\n",
        "\n",
        "#start training\n",
        "model.fit(train_dataset,\n",
        "          epochs=300,\n",
        "          steps_per_epoch = number_of_element//batch_size,\n",
        "          verbose=2,\n",
        "          validation_data=val_dataset,\n",
        "          validation_steps=number_of_val_element//batch_size,\n",
        "          callbacks=callbacks_list\n",
        "          )"
      ],
      "execution_count": 0,
      "outputs": [
        {
          "output_type": "stream",
          "text": [
            "Epoch 1/300\n",
            "WARNING:tensorflow:Method (on_train_batch_end) is slow compared to the batch update (0.574896). Check your callbacks.\n",
            "\n",
            "Epoch 00001: loss improved from inf to 72.99659, saving model to C:\\Users\\57lzhang.US04WW4008\\Desktop\\Blood pressure\\BP data\\models\\125Hz 10mmHg\\ResNet-18+LSTM\\CC-Resnet18+LSTM+10ts-01-72.9966.hdf5\n",
            "3480/3480 - 1336s - loss: 72.9966 - mae: 6.1108 - val_loss: 143.5202 - val_mae: 8.5855\n",
            "Epoch 2/300\n",
            "\n",
            "Epoch 00002: loss improved from 72.99659 to 70.85110, saving model to C:\\Users\\57lzhang.US04WW4008\\Desktop\\Blood pressure\\BP data\\models\\125Hz 10mmHg\\ResNet-18+LSTM\\CC-Resnet18+LSTM+10ts-02-70.8511.hdf5\n",
            "3480/3480 - 1326s - loss: 70.8511 - mae: 6.0154 - val_loss: 150.9179 - val_mae: 8.7514\n",
            "Epoch 3/300\n",
            "\n",
            "Epoch 00003: loss improved from 70.85110 to 69.69276, saving model to C:\\Users\\57lzhang.US04WW4008\\Desktop\\Blood pressure\\BP data\\models\\125Hz 10mmHg\\ResNet-18+LSTM\\CC-Resnet18+LSTM+10ts-03-69.6928.hdf5\n",
            "3480/3480 - 1332s - loss: 69.6928 - mae: 5.9686 - val_loss: 143.3732 - val_mae: 8.5578\n",
            "Epoch 4/300\n",
            "\n",
            "Epoch 00004: loss improved from 69.69276 to 68.71969, saving model to C:\\Users\\57lzhang.US04WW4008\\Desktop\\Blood pressure\\BP data\\models\\125Hz 10mmHg\\ResNet-18+LSTM\\CC-Resnet18+LSTM+10ts-04-68.7197.hdf5\n",
            "3480/3480 - 1330s - loss: 68.7197 - mae: 5.9232 - val_loss: 140.1751 - val_mae: 8.4188\n",
            "Epoch 5/300\n",
            "\n",
            "Epoch 00005: loss improved from 68.71969 to 67.35983, saving model to C:\\Users\\57lzhang.US04WW4008\\Desktop\\Blood pressure\\BP data\\models\\125Hz 10mmHg\\ResNet-18+LSTM\\CC-Resnet18+LSTM+10ts-05-67.3598.hdf5\n",
            "3480/3480 - 1331s - loss: 67.3598 - mae: 5.8560 - val_loss: 147.9034 - val_mae: 8.7274\n",
            "Epoch 6/300\n",
            "\n",
            "Epoch 00006: loss improved from 67.35983 to 66.67135, saving model to C:\\Users\\57lzhang.US04WW4008\\Desktop\\Blood pressure\\BP data\\models\\125Hz 10mmHg\\ResNet-18+LSTM\\CC-Resnet18+LSTM+10ts-06-66.6713.hdf5\n",
            "3480/3480 - 1330s - loss: 66.6713 - mae: 5.8305 - val_loss: 149.1440 - val_mae: 8.7053\n",
            "Epoch 7/300\n",
            "\n",
            "Epoch 00007: loss improved from 66.67135 to 65.72383, saving model to C:\\Users\\57lzhang.US04WW4008\\Desktop\\Blood pressure\\BP data\\models\\125Hz 10mmHg\\ResNet-18+LSTM\\CC-Resnet18+LSTM+10ts-07-65.7238.hdf5\n",
            "3480/3480 - 1329s - loss: 65.7238 - mae: 5.7911 - val_loss: 145.5100 - val_mae: 8.7528\n",
            "Epoch 8/300\n",
            "\n",
            "Epoch 00008: loss improved from 65.72383 to 63.63287, saving model to C:\\Users\\57lzhang.US04WW4008\\Desktop\\Blood pressure\\BP data\\models\\125Hz 10mmHg\\ResNet-18+LSTM\\CC-Resnet18+LSTM+10ts-08-63.6329.hdf5\n",
            "3480/3480 - 1328s - loss: 63.6329 - mae: 5.7103 - val_loss: 140.2602 - val_mae: 8.4824\n",
            "Epoch 9/300\n",
            "\n",
            "Epoch 00009: loss did not improve from 63.63287\n",
            "3480/3480 - 1328s - loss: 63.7500 - mae: 5.7028 - val_loss: 148.5860 - val_mae: 8.6354\n",
            "Epoch 10/300\n",
            "\n",
            "Epoch 00010: loss did not improve from 63.63287\n",
            "3480/3480 - 1326s - loss: 63.8726 - mae: 5.7260 - val_loss: 134.4575 - val_mae: 8.2597\n",
            "Epoch 11/300\n",
            "\n",
            "Epoch 00011: loss improved from 63.63287 to 62.43893, saving model to C:\\Users\\57lzhang.US04WW4008\\Desktop\\Blood pressure\\BP data\\models\\125Hz 10mmHg\\ResNet-18+LSTM\\CC-Resnet18+LSTM+10ts-11-62.4389.hdf5\n",
            "3480/3480 - 1327s - loss: 62.4389 - mae: 5.6457 - val_loss: 148.3437 - val_mae: 8.7026\n",
            "Epoch 12/300\n",
            "\n",
            "Epoch 00012: loss improved from 62.43893 to 61.59633, saving model to C:\\Users\\57lzhang.US04WW4008\\Desktop\\Blood pressure\\BP data\\models\\125Hz 10mmHg\\ResNet-18+LSTM\\CC-Resnet18+LSTM+10ts-12-61.5963.hdf5\n",
            "3480/3480 - 1327s - loss: 61.5963 - mae: 5.6039 - val_loss: 140.5465 - val_mae: 8.3586\n",
            "Epoch 13/300\n",
            "\n",
            "Epoch 00013: loss improved from 61.59633 to 60.60572, saving model to C:\\Users\\57lzhang.US04WW4008\\Desktop\\Blood pressure\\BP data\\models\\125Hz 10mmHg\\ResNet-18+LSTM\\CC-Resnet18+LSTM+10ts-13-60.6057.hdf5\n",
            "3480/3480 - 1326s - loss: 60.6057 - mae: 5.5651 - val_loss: 153.0483 - val_mae: 8.7484\n",
            "Epoch 14/300\n",
            "\n",
            "Epoch 00014: loss improved from 60.60572 to 59.62608, saving model to C:\\Users\\57lzhang.US04WW4008\\Desktop\\Blood pressure\\BP data\\models\\125Hz 10mmHg\\ResNet-18+LSTM\\CC-Resnet18+LSTM+10ts-14-59.6261.hdf5\n",
            "3480/3480 - 1324s - loss: 59.6261 - mae: 5.5219 - val_loss: 164.6132 - val_mae: 9.1959\n",
            "Epoch 15/300\n",
            "\n",
            "Epoch 00015: loss improved from 59.62608 to 58.59766, saving model to C:\\Users\\57lzhang.US04WW4008\\Desktop\\Blood pressure\\BP data\\models\\125Hz 10mmHg\\ResNet-18+LSTM\\CC-Resnet18+LSTM+10ts-15-58.5977.hdf5\n",
            "3480/3480 - 1324s - loss: 58.5977 - mae: 5.4750 - val_loss: 154.2007 - val_mae: 8.7034\n",
            "Epoch 16/300\n",
            "\n",
            "Epoch 00016: loss improved from 58.59766 to 57.35073, saving model to C:\\Users\\57lzhang.US04WW4008\\Desktop\\Blood pressure\\BP data\\models\\125Hz 10mmHg\\ResNet-18+LSTM\\CC-Resnet18+LSTM+10ts-16-57.3507.hdf5\n",
            "3480/3480 - 1323s - loss: 57.3507 - mae: 5.4235 - val_loss: 137.0930 - val_mae: 8.2976\n",
            "Epoch 17/300\n",
            "\n",
            "Epoch 00017: loss improved from 57.35073 to 56.85921, saving model to C:\\Users\\57lzhang.US04WW4008\\Desktop\\Blood pressure\\BP data\\models\\125Hz 10mmHg\\ResNet-18+LSTM\\CC-Resnet18+LSTM+10ts-17-56.8592.hdf5\n",
            "3480/3480 - 1324s - loss: 56.8592 - mae: 5.3901 - val_loss: 128.2921 - val_mae: 7.9687\n",
            "Epoch 18/300\n",
            "\n",
            "Epoch 00018: loss improved from 56.85921 to 55.17471, saving model to C:\\Users\\57lzhang.US04WW4008\\Desktop\\Blood pressure\\BP data\\models\\125Hz 10mmHg\\ResNet-18+LSTM\\CC-Resnet18+LSTM+10ts-18-55.1747.hdf5\n",
            "3480/3480 - 1324s - loss: 55.1747 - mae: 5.3165 - val_loss: 140.1707 - val_mae: 8.3380\n",
            "Epoch 19/300\n",
            "\n",
            "Epoch 00019: loss improved from 55.17471 to 54.86474, saving model to C:\\Users\\57lzhang.US04WW4008\\Desktop\\Blood pressure\\BP data\\models\\125Hz 10mmHg\\ResNet-18+LSTM\\CC-Resnet18+LSTM+10ts-19-54.8647.hdf5\n",
            "3480/3480 - 1324s - loss: 54.8647 - mae: 5.3004 - val_loss: 127.3397 - val_mae: 7.9550\n",
            "Epoch 20/300\n",
            "\n",
            "Epoch 00020: loss improved from 54.86474 to 53.41436, saving model to C:\\Users\\57lzhang.US04WW4008\\Desktop\\Blood pressure\\BP data\\models\\125Hz 10mmHg\\ResNet-18+LSTM\\CC-Resnet18+LSTM+10ts-20-53.4144.hdf5\n",
            "3480/3480 - 1321s - loss: 53.4144 - mae: 5.2338 - val_loss: 134.4309 - val_mae: 8.1779\n",
            "Epoch 21/300\n",
            "\n",
            "Epoch 00021: loss improved from 53.41436 to 52.57868, saving model to C:\\Users\\57lzhang.US04WW4008\\Desktop\\Blood pressure\\BP data\\models\\125Hz 10mmHg\\ResNet-18+LSTM\\CC-Resnet18+LSTM+10ts-21-52.5787.hdf5\n",
            "3480/3480 - 1323s - loss: 52.5787 - mae: 5.1922 - val_loss: 139.7540 - val_mae: 8.2957\n",
            "Epoch 22/300\n",
            "\n",
            "Epoch 00022: loss improved from 52.57868 to 51.55854, saving model to C:\\Users\\57lzhang.US04WW4008\\Desktop\\Blood pressure\\BP data\\models\\125Hz 10mmHg\\ResNet-18+LSTM\\CC-Resnet18+LSTM+10ts-22-51.5585.hdf5\n",
            "3480/3480 - 1323s - loss: 51.5585 - mae: 5.1476 - val_loss: 125.6701 - val_mae: 7.8730\n",
            "Epoch 23/300\n",
            "\n",
            "Epoch 00023: loss improved from 51.55854 to 50.97805, saving model to C:\\Users\\57lzhang.US04WW4008\\Desktop\\Blood pressure\\BP data\\models\\125Hz 10mmHg\\ResNet-18+LSTM\\CC-Resnet18+LSTM+10ts-23-50.9781.hdf5\n",
            "3480/3480 - 1324s - loss: 50.9781 - mae: 5.1168 - val_loss: 127.3328 - val_mae: 8.0249\n",
            "Epoch 24/300\n",
            "\n",
            "Epoch 00024: loss improved from 50.97805 to 49.84051, saving model to C:\\Users\\57lzhang.US04WW4008\\Desktop\\Blood pressure\\BP data\\models\\125Hz 10mmHg\\ResNet-18+LSTM\\CC-Resnet18+LSTM+10ts-24-49.8405.hdf5\n",
            "3480/3480 - 1323s - loss: 49.8405 - mae: 5.0581 - val_loss: 127.5648 - val_mae: 7.8980\n",
            "Epoch 25/300\n",
            "\n",
            "Epoch 00025: loss improved from 49.84051 to 48.78361, saving model to C:\\Users\\57lzhang.US04WW4008\\Desktop\\Blood pressure\\BP data\\models\\125Hz 10mmHg\\ResNet-18+LSTM\\CC-Resnet18+LSTM+10ts-25-48.7836.hdf5\n",
            "3480/3480 - 1324s - loss: 48.7836 - mae: 5.0060 - val_loss: 138.0554 - val_mae: 8.3253\n",
            "Epoch 26/300\n",
            "\n",
            "Epoch 00026: loss improved from 48.78361 to 47.70932, saving model to C:\\Users\\57lzhang.US04WW4008\\Desktop\\Blood pressure\\BP data\\models\\125Hz 10mmHg\\ResNet-18+LSTM\\CC-Resnet18+LSTM+10ts-26-47.7093.hdf5\n",
            "3480/3480 - 1324s - loss: 47.7093 - mae: 4.9587 - val_loss: 127.3962 - val_mae: 7.8792\n",
            "Epoch 27/300\n",
            "\n",
            "Epoch 00027: loss improved from 47.70932 to 47.54097, saving model to C:\\Users\\57lzhang.US04WW4008\\Desktop\\Blood pressure\\BP data\\models\\125Hz 10mmHg\\ResNet-18+LSTM\\CC-Resnet18+LSTM+10ts-27-47.5410.hdf5\n",
            "3480/3480 - 1323s - loss: 47.5410 - mae: 4.9495 - val_loss: 140.6817 - val_mae: 8.2817\n",
            "Epoch 28/300\n",
            "\n",
            "Epoch 00028: loss improved from 47.54097 to 46.86463, saving model to C:\\Users\\57lzhang.US04WW4008\\Desktop\\Blood pressure\\BP data\\models\\125Hz 10mmHg\\ResNet-18+LSTM\\CC-Resnet18+LSTM+10ts-28-46.8646.hdf5\n",
            "3480/3480 - 1324s - loss: 46.8646 - mae: 4.9081 - val_loss: 119.4278 - val_mae: 7.6395\n",
            "Epoch 29/300\n",
            "\n",
            "Epoch 00029: loss improved from 46.86463 to 45.50269, saving model to C:\\Users\\57lzhang.US04WW4008\\Desktop\\Blood pressure\\BP data\\models\\125Hz 10mmHg\\ResNet-18+LSTM\\CC-Resnet18+LSTM+10ts-29-45.5027.hdf5\n",
            "3480/3480 - 1323s - loss: 45.5027 - mae: 4.8446 - val_loss: 122.5214 - val_mae: 7.7740\n",
            "Epoch 30/300\n",
            "\n",
            "Epoch 00030: loss improved from 45.50269 to 44.26207, saving model to C:\\Users\\57lzhang.US04WW4008\\Desktop\\Blood pressure\\BP data\\models\\125Hz 10mmHg\\ResNet-18+LSTM\\CC-Resnet18+LSTM+10ts-30-44.2621.hdf5\n",
            "3480/3480 - 1313s - loss: 44.2621 - mae: 4.7842 - val_loss: 124.4090 - val_mae: 7.7556\n",
            "Epoch 31/300\n",
            "\n",
            "Epoch 00031: loss improved from 44.26207 to 44.12013, saving model to C:\\Users\\57lzhang.US04WW4008\\Desktop\\Blood pressure\\BP data\\models\\125Hz 10mmHg\\ResNet-18+LSTM\\CC-Resnet18+LSTM+10ts-31-44.1201.hdf5\n",
            "3480/3480 - 1108s - loss: 44.1201 - mae: 4.7697 - val_loss: 132.7651 - val_mae: 7.9983\n",
            "Epoch 32/300\n",
            "\n",
            "Epoch 00032: loss improved from 44.12013 to 42.81940, saving model to C:\\Users\\57lzhang.US04WW4008\\Desktop\\Blood pressure\\BP data\\models\\125Hz 10mmHg\\ResNet-18+LSTM\\CC-Resnet18+LSTM+10ts-32-42.8194.hdf5\n",
            "3480/3480 - 1041s - loss: 42.8194 - mae: 4.7077 - val_loss: 124.1357 - val_mae: 7.7285\n",
            "Epoch 33/300\n",
            "\n",
            "Epoch 00033: loss improved from 42.81940 to 42.73745, saving model to C:\\Users\\57lzhang.US04WW4008\\Desktop\\Blood pressure\\BP data\\models\\125Hz 10mmHg\\ResNet-18+LSTM\\CC-Resnet18+LSTM+10ts-33-42.7375.hdf5\n",
            "3480/3480 - 1040s - loss: 42.7375 - mae: 4.6914 - val_loss: 125.0471 - val_mae: 7.6869\n",
            "Epoch 34/300\n"
          ],
          "name": "stdout"
        }
      ]
    },
    {
      "cell_type": "markdown",
      "metadata": {
        "id": "IfnasVq2Tqjg",
        "colab_type": "text"
      },
      "source": [
        "# 5.Model Evaluation"
      ]
    },
    {
      "cell_type": "code",
      "metadata": {
        "id": "nZyzAHekTsy5",
        "colab_type": "code",
        "colab": {}
      },
      "source": [
        "os.chdir(r\"C:\\Users\\57lzhang.US04WW4008\\Desktop\\Blood pressure\\BP data\\models\\125Hz 10mmHg\\ResNet-18+LSTM\")\n",
        "model = tf.keras.models.load_model('Resnet18+LSTM+10ts-87-115.0851.hdf5')"
      ],
      "execution_count": 0,
      "outputs": []
    },
    {
      "cell_type": "markdown",
      "metadata": {
        "id": "6aMp1YpLTw7C",
        "colab_type": "text"
      },
      "source": [
        "## 5.1 MAE"
      ]
    },
    {
      "cell_type": "code",
      "metadata": {
        "id": "XP6T2rA43zvp",
        "colab_type": "code",
        "colab": {}
      },
      "source": [
        "with open('C:/Users/57lzhang.US04WW4008/Desktop/Blood pressure/BP data/test/test_data', \"rb\") as fp:\n",
        "  test_data = pickle.load(fp)"
      ],
      "execution_count": 0,
      "outputs": []
    },
    {
      "cell_type": "code",
      "metadata": {
        "id": "GJaJEX5ThxKu",
        "colab_type": "code",
        "colab": {}
      },
      "source": [
        "with open(\"C:/Users/57lzhang.US04WW4008/Desktop/Blood pressure/BP data/test/test_labels\", \"rb\") as fp:\n",
        "  test_labels = pickle.load(fp)"
      ],
      "execution_count": 0,
      "outputs": []
    },
    {
      "cell_type": "code",
      "metadata": {
        "id": "ao2Pj44kiXgL",
        "colab_type": "code",
        "colab": {}
      },
      "source": [
        "test_data = np.asarray(test_data)"
      ],
      "execution_count": 0,
      "outputs": []
    },
    {
      "cell_type": "code",
      "metadata": {
        "id": "oHAzrXqdaXl6",
        "colab_type": "code",
        "colab": {}
      },
      "source": [
        "test_labels = np.asarray(test_labels)"
      ],
      "execution_count": 0,
      "outputs": []
    },
    {
      "cell_type": "code",
      "metadata": {
        "id": "2ScA5IlA-G84",
        "colab_type": "code",
        "colab": {}
      },
      "source": [
        "bp_estimate=model.predict(test_data)"
      ],
      "execution_count": 0,
      "outputs": []
    },
    {
      "cell_type": "code",
      "metadata": {
        "id": "HGR81k40A44c",
        "colab_type": "code",
        "outputId": "63e72736-8131-42f4-a0e6-763c93dc7d49",
        "colab": {
          "base_uri": "https://localhost:8080/",
          "height": 52
        }
      },
      "source": [
        "from sklearn.metrics import mean_absolute_error\n",
        "sys_mae = mean_absolute_error(test_labels[:,0], bp_estimate[:,0])\n",
        "dia_mae = mean_absolute_error(test_labels[:,1], bp_estimate[:,1])\n",
        "print(\"Systolic MAE in test dataset:\", round(sys_mae,1))\n",
        "print(\"Diastolic MAE in test dataset:\", round(dia_mae,1))"
      ],
      "execution_count": 9,
      "outputs": [
        {
          "output_type": "stream",
          "text": [
            "Systolic MAE in test dataset: 11.9\n",
            "Diastolic MAE in test dataset: 7.2\n"
          ],
          "name": "stdout"
        }
      ]
    }
  ]
}