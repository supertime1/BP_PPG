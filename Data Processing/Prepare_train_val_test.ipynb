{
  "nbformat": 4,
  "nbformat_minor": 0,
  "metadata": {
    "colab": {
      "name": "Prepare train-val-test.ipynb",
      "provenance": [],
      "collapsed_sections": [],
      "authorship_tag": "ABX9TyNT8W6Wyc3JGZ62BXyA/PJU",
      "include_colab_link": true
    },
    "kernelspec": {
      "name": "python3",
      "display_name": "Python 3"
    }
  },
  "cells": [
    {
      "cell_type": "markdown",
      "metadata": {
        "id": "view-in-github",
        "colab_type": "text"
      },
      "source": [
        "<a href=\"https://colab.research.google.com/github/supertime1/BP_PPG/blob/master/Data%20Processing/Prepare_train_val_test.ipynb\" target=\"_parent\"><img src=\"https://colab.research.google.com/assets/colab-badge.svg\" alt=\"Open In Colab\"/></a>"
      ]
    },
    {
      "cell_type": "markdown",
      "metadata": {
        "id": "uWP-_pXlUKmp",
        "colab_type": "text"
      },
      "source": [
        "#1.Introduction"
      ]
    },
    {
      "cell_type": "markdown",
      "metadata": {
        "id": "3mOoV1yuUKlh",
        "colab_type": "text"
      },
      "source": [
        "This notebook trains an simple PPG DNN by using labeled PPG data from BP_Data_Clean notebook;\n",
        "The loaded data is 60s segemented PPG signals with 125Hz sampling rate."
      ]
    },
    {
      "cell_type": "markdown",
      "metadata": {
        "id": "bfCfr60kSTDU",
        "colab_type": "text"
      },
      "source": [
        "#2.Setup Environment\n",
        "\n"
      ]
    },
    {
      "cell_type": "code",
      "metadata": {
        "id": "cvqxVijHSFk2",
        "colab_type": "code",
        "colab": {}
      },
      "source": [
        "from IPython.display import display\n",
        "import pandas as pd\n",
        "import matplotlib.pyplot as plt\n",
        "%matplotlib inline\n",
        "%load_ext tensorboard\n",
        "import numpy as np\n",
        "import os\n",
        "import shutil\n",
        "import glob\n",
        "import wfdb\n",
        "from wfdb import processing\n",
        "from datetime import datetime\n",
        "import sklearn.metrics\n",
        "import itertools\n",
        "import io\n",
        "import pickle"
      ],
      "execution_count": 1,
      "outputs": []
    },
    {
      "cell_type": "markdown",
      "metadata": {
        "colab_type": "text",
        "id": "KpK35SW3GMsU"
      },
      "source": [
        "#3.Prepare train, val and test data"
      ]
    },
    {
      "cell_type": "code",
      "metadata": {
        "id": "qiWlmHVeoq2i",
        "colab_type": "code",
        "colab": {}
      },
      "source": [
        "#ratio value is between 0 and 1\n",
        "#make sure seed is set to a same number for repeatable results\\\n",
        "#or to compare models apple to apple\n",
        "def slice_dataset(dataset,labels,train_ratio,seed = 20):  \n",
        "  DATASET_SIZE =len(list(dataset)) #only works in eager mode (e.g. TF version >= 2.0.x)\n",
        "  train_size = int(train_ratio * DATASET_SIZE)\n",
        "  val_size = DATASET_SIZE - train_size\n",
        "  \n",
        "  np.random.seed(seed=seed)\n",
        "  np.random.shuffle(dataset)\n",
        "  train_dataset = dataset[:train_size,:,:]\n",
        "  val_dataset = dataset[-val_size:,:,:]\n",
        "\n",
        "  np.random.seed(seed=seed)\n",
        "  np.random.shuffle(labels)\n",
        "  train_labels = labels[:train_size,:]\n",
        "  val_labels = labels[-val_size:,:]\n",
        "\n",
        "  return train_dataset,val_dataset,train_labels, val_labels"
      ],
      "execution_count": 2,
      "outputs": []
    },
    {
      "cell_type": "code",
      "metadata": {
        "id": "dpynGj47lFVn",
        "colab_type": "code",
        "colab": {}
      },
      "source": [
        "\"\"\"\n",
        "this function shuffle a list on a random seed, and slice the list on an input ratio,\n",
        "it returns two sliced numpy arrays\n",
        "\"\"\"\n",
        "def shuffle_split_list(list, seed, ratio):\n",
        "  list_array = np.asarray(list)\n",
        "  np.random.seed(seed = seed)\n",
        "  np.random.shuffle(list_array)\n",
        "  train = list_array[int(len(list_array)*ratio):]\n",
        "  test = list_array[:int(len(list_array)*ratio)]\n",
        "  return train, test"
      ],
      "execution_count": 3,
      "outputs": []
    },
    {
      "cell_type": "code",
      "metadata": {
        "id": "sQ65HFnXXEAb",
        "colab_type": "code",
        "colab": {}
      },
      "source": [
        "directory = 'D:/WFDB/matched/BP/new patient BP data/'\n",
        "PPG_names = glob.glob(directory + \"data/new*\")\n",
        "label_names = glob.glob(directory + \"label/new*\")\n",
        "\n",
        "assert(len(PPG_names) == len(label_names))"
      ],
      "execution_count": 6,
      "outputs": []
    },
    {
      "cell_type": "code",
      "metadata": {
        "id": "BtFM_4mYXIav",
        "colab_type": "code",
        "colab": {}
      },
      "source": [
        "fn_data_train, fn_data_test = shuffle_split_list(PPG_names,seed = 20,ratio = 0.05)"
      ],
      "execution_count": 8,
      "outputs": []
    },
    {
      "cell_type": "code",
      "metadata": {
        "id": "aj_1iHYwXNQq",
        "colab_type": "code",
        "colab": {
          "base_uri": "https://localhost:8080/",
          "height": 34
        },
        "outputId": "1f515f64-29e7-4dbe-f0c8-b250236afc4f"
      },
      "source": [
        "range(len(fn_data_train))"
      ],
      "execution_count": 11,
      "outputs": [
        {
          "output_type": "execute_result",
          "data": {
            "text/plain": [
              "range(0, 1788)"
            ]
          },
          "metadata": {
            "tags": []
          },
          "execution_count": 11
        }
      ]
    },
    {
      "cell_type": "code",
      "metadata": {
        "id": "_S2jALBIXtPJ",
        "colab_type": "code",
        "colab": {}
      },
      "source": [
        "with open(fn_data_train[10], \"rb\") as fp:\n",
        "  raw_signals = pickle.load(fp)"
      ],
      "execution_count": 12,
      "outputs": []
    },
    {
      "cell_type": "code",
      "metadata": {
        "id": "LLlb0ENyYDQ_",
        "colab_type": "code",
        "colab": {
          "base_uri": "https://localhost:8080/",
          "height": 34
        },
        "outputId": "c52ed4ff-e25e-4128-97e9-63e6c96216ca"
      },
      "source": [
        "range(len(raw_signals))"
      ],
      "execution_count": 18,
      "outputs": [
        {
          "output_type": "execute_result",
          "data": {
            "text/plain": [
              "range(0, 1596)"
            ]
          },
          "metadata": {
            "tags": []
          },
          "execution_count": 18
        }
      ]
    },
    {
      "cell_type": "code",
      "metadata": {
        "id": "LAlDWwchXvER",
        "colab_type": "code",
        "colab": {
          "base_uri": "https://localhost:8080/",
          "height": 87
        },
        "outputId": "af011507-b4b5-4a83-ec9c-bff013e7b44f"
      },
      "source": [
        "wfdb.processing.resample_sig(raw_signals[1595],125,125)"
      ],
      "execution_count": 20,
      "outputs": [
        {
          "output_type": "execute_result",
          "data": {
            "text/plain": [
              "(array([ 0.00053891,  0.00424535,  0.01639663, ..., -0.52217218,\n",
              "        -0.51176384, -0.49950831]),\n",
              " array([0.000e+00, 1.000e+00, 2.000e+00, ..., 7.497e+03, 7.498e+03,\n",
              "        7.499e+03]))"
            ]
          },
          "metadata": {
            "tags": []
          },
          "execution_count": 20
        }
      ]
    },
    {
      "cell_type": "code",
      "metadata": {
        "id": "GrK5X9pAZR-l",
        "colab_type": "code",
        "colab": {
          "base_uri": "https://localhost:8080/",
          "height": 167
        },
        "outputId": "baeaa2bc-317f-40bb-952d-ac33e1e49f13"
      },
      "source": [
        "os.path.getsize(fn_data_train[1788])"
      ],
      "execution_count": 34,
      "outputs": [
        {
          "output_type": "error",
          "ename": "IndexError",
          "evalue": "ignored",
          "traceback": [
            "\u001b[1;31m---------------------------------------------------------------------------\u001b[0m",
            "\u001b[1;31mIndexError\u001b[0m                                Traceback (most recent call last)",
            "\u001b[1;32m<ipython-input-34-dfb6bf13ac16>\u001b[0m in \u001b[0;36m<module>\u001b[1;34m\u001b[0m\n\u001b[1;32m----> 1\u001b[1;33m \u001b[0mos\u001b[0m\u001b[1;33m.\u001b[0m\u001b[0mpath\u001b[0m\u001b[1;33m.\u001b[0m\u001b[0mgetsize\u001b[0m\u001b[1;33m(\u001b[0m\u001b[0mfn_data_train\u001b[0m\u001b[1;33m[\u001b[0m\u001b[1;36m1788\u001b[0m\u001b[1;33m]\u001b[0m\u001b[1;33m)\u001b[0m\u001b[1;33m\u001b[0m\u001b[1;33m\u001b[0m\u001b[0m\n\u001b[0m",
            "\u001b[1;31mIndexError\u001b[0m: index 1788 is out of bounds for axis 0 with size 1788"
          ]
        }
      ]
    },
    {
      "cell_type": "code",
      "metadata": {
        "id": "sJu4orR94t7Z",
        "colab_type": "code",
        "colab": {}
      },
      "source": [
        "\"\"\"\n",
        "p_Resample_reshape_slice_data:\n",
        "#1.Resample the data from original 125Hz to specified frequency (sf)\n",
        "#2.reshape the data from [NONE, 60*sampling frequency(sf)] to [NONE,ts,60*sf/ts,1] \n",
        "#  (e.g.from [NONE, 7500] to [NONE, 10, 750, 1]), where 60*sf/ts mush be an positive integer\n",
        "#3.Create train,validation and test dataset\n",
        "\n",
        "#input:\n",
        "#     sf: sampling frequency, if other than orginal 125Hz\n",
        "#     ts: timesteps that define how many images/signals were fed into LSTM\n",
        "#     t_ratio: test dataset ratio to (train+validation) dataset\n",
        "#     val_ratio: validation dataset ratio to train dataset\n",
        "\n",
        "#output:\n",
        "#     save reshaped and shuffled dataset per 1min into train,validatin,test folders that are\n",
        "#     created **BEFORE** calling this function\n",
        "\"\"\"\n",
        "def p_resample_reshape_slice_data(directory,sf = 125, ts=6,t_ratio = 0.05, val_ratio = 0.1):  \n",
        "  \n",
        "  #load data\n",
        "  PPG_names = glob.glob(directory + \"data/new*\")\n",
        "  label_names = glob.glob(directory + \"label/new*\")\n",
        "  \n",
        "  assert(len(PPG_names) == len(label_names))\n",
        "\n",
        "  #shuffle filenames\n",
        "  fn_data_train, fn_data_test = shuffle_split_list(PPG_names,seed = 20,ratio = t_ratio)\n",
        "  fn_label_train, fn_label_test = shuffle_split_list(label_names,seed = 20,ratio = t_ratio)\n",
        "  \n",
        "  #create train and validation dataset and labels\n",
        "  numer_of_patient_train = 0\n",
        "  for i in range(len(fn_data_train)):\n",
        "\n",
        "    if os.path.getsize(fn_data_train[i]) < 5*1024: continue\n",
        "\n",
        "    with open(fn_data_train[i], \"rb\") as fp:\n",
        "      raw_signals = pickle.load(fp)\n",
        "    with open(fn_label_train[i], \"rb\") as fp:\n",
        "      raw_labels = pickle.load(fp)\n",
        "    \n",
        "    #resample to specified frequency sf\n",
        "    resamp_PPG_signals = []\n",
        "    \n",
        "    for k in range(len(raw_signals)):\n",
        "      resamp_PPG_signal, _ = wfdb.processing.resample_sig(raw_signals[k],125,sf)\n",
        "      resamp_PPG_signals.append(resamp_PPG_signal)\n",
        "\n",
        "  #create the right dim for signals\n",
        "    raw_signals = np.array(resamp_PPG_signals)\n",
        "    raw_signals = np.reshape(raw_signals,[len(raw_signals),ts,int(60*sf/ts)])\n",
        "    raw_signals = np.expand_dims(raw_signals, axis=3)\n",
        "    raw_labels = np.array(raw_labels)\n",
        "\n",
        "    train_dataset, val_dataset, train_labels, val_labels  = slice_dataset(raw_signals,raw_labels,1-val_ratio)\n",
        "\n",
        "    with open(directory + \"train/\"+\"data_\" + str(i), \"wb\") as fp:\n",
        "      pickle.dump(train_dataset,fp)\n",
        "    \n",
        "    with open(directory + \"train/\"+\"label_\" + str(i), \"wb\") as fp:\n",
        "      pickle.dump(train_labels,fp)    \n",
        "    \n",
        "    with open(directory + \"validation/\"+\"data_\" + str(i), \"wb\") as fp:\n",
        "      pickle.dump(val_dataset,fp)\n",
        "    \n",
        "    with open(directory + \"validation/\"+\"label_\" + str(i), \"wb\") as fp:\n",
        "      pickle.dump(val_labels,fp)                \n",
        "      \n",
        "    numer_of_patient_train += 1\n",
        "\n",
        "  #create test dataset and labels\n",
        "  numer_of_patient_test = 0\n",
        "  for i in range(len(fn_data_test)):\n",
        "    \n",
        "    if os.path.getsize(fn_data_test[i]) < 5*1024: continue\n",
        "\n",
        "    with open(fn_data_test[i], \"rb\") as fp:\n",
        "      raw_signals = pickle.load(fp)\n",
        "    with open(fn_label_test[i], \"rb\") as fp:\n",
        "      raw_labels = pickle.load(fp)\n",
        "\n",
        "    #resample to specified frequency sf\n",
        "    resamp_PPG_signals = []\n",
        "    for k in range(len(raw_signals)):\n",
        "      resamp_PPG_signal, _ = wfdb.processing.resample_sig(raw_signals[k],125,sf)\n",
        "      resamp_PPG_signals.append(resamp_PPG_signal)\n",
        "\n",
        "    #create the right dim for signals\n",
        "    raw_signals = np.array(resamp_PPG_signals)\n",
        "    raw_signals = np.reshape(raw_signals,[len(raw_signals),ts,int(60*sf/ts)])\n",
        "    raw_signals = np.expand_dims(raw_signals, axis=3)\n",
        "    raw_labels = np.array(raw_labels)\n",
        "\n",
        "    with open(directory + \"test/\"+\"data_\" + str(i), \"wb\") as fp:\n",
        "      pickle.dump(raw_signals,fp)\n",
        "    \n",
        "    with open(directory + \"test/\"+\"label_\" + str(i), \"wb\") as fp:\n",
        "      pickle.dump(raw_labels,fp)\n",
        "\n",
        "    numer_of_patient_test += 1\n",
        "\n",
        "  print('There are:', numer_of_patient_train, 'patients in training/validation dataset')\n",
        "  print('There are:', numer_of_patient_test, 'patients in test dataset')\n",
        "  return None"
      ],
      "execution_count": 37,
      "outputs": []
    },
    {
      "cell_type": "code",
      "metadata": {
        "id": "zdwcESUGdJhA",
        "colab_type": "code",
        "colab": {
          "base_uri": "https://localhost:8080/",
          "height": 52
        },
        "outputId": "90b34396-7619-4559-ead9-913622f2f514"
      },
      "source": [
        "directory = 'D:/WFDB/matched/BP/new patient BP data/'\n",
        "p_resample_reshape_slice_data(directory, sf=125, ts=6, t_ratio=0.05, val_ratio=0.1)"
      ],
      "execution_count": 38,
      "outputs": [
        {
          "output_type": "stream",
          "text": [
            "There are: 1025 in training/validation dataset\n",
            "There are: 47 in test dataset\n"
          ],
          "name": "stdout"
        }
      ]
    },
    {
      "cell_type": "code",
      "metadata": {
        "id": "K0zF3y18uAO2",
        "colab_type": "code",
        "colab": {}
      },
      "source": [
        "\"\"\"\n",
        "Resample_reshape_slice_data:\n",
        "#1.Resample the data from original 125Hz to specified frequency (sf)\n",
        "#2.reshape the data from [NONE, 60*sampling frequency(sf)] to [NONE,ts,60*sf/ts,1] \n",
        "#  (e.g.from [NONE, 7500] to [NONE, 10, 750, 1]), where 60*sf/ts mush be an positive integer\n",
        "#3.Create train,validation and test dataset\n",
        "\n",
        "#input:\n",
        "#     sf: sampling frequency, if other than orginal 125Hz\n",
        "#     ts: timesteps that define how many images/signals were fed into LSTM\n",
        "#     t_ratio: test dataset ratio to (train+validation) dataset\n",
        "#     val_ratio: validation dataset ratio to train dataset\n",
        "\n",
        "#output:\n",
        "#     save reshaped and shuffled dataset per 1min into train,validatin,test folders that are\n",
        "#     created **BEFORE** calling this function\n",
        "\"\"\"\n",
        "\n",
        "def resample_reshape_slice_data(directory,sf = 125, ts=6,t_ratio = 0.05, val_ratio = 0.1):\n",
        "  #load data\n",
        "  PPG_names = glob.glob(directory + \"BP_data*\")\n",
        "  label_names = glob.glob(directory + \"BP_label*\")\n",
        "  \n",
        "  assert(len(PPG_names) == len(label_names))\n",
        "\n",
        "  for i in range(len(PPG_names)):  \n",
        "    #skip in case there is empty fil\n",
        "    if os.path.getsize(PPG_names[i]) < 5*1024: continue\n",
        "\n",
        "    print(\"processing\", i, \"th data\")\n",
        "\n",
        "    with open(PPG_names[i], \"rb\") as fp:\n",
        "      raw_signals = pickle.load(fp)\n",
        "\n",
        "    with open(label_names[i], \"rb\") as fp:\n",
        "      raw_labels = pickle.load(fp)\n",
        "\n",
        "    \n",
        "    #resample to specified frequency sf\n",
        "    \n",
        "    resamp_PPG_signals = []\n",
        "    for k in range(len(raw_signals)):\n",
        "      resamp_PPG_signal, _ = wfdb.processing.resample_sig(raw_signals[k],125,sf)\n",
        "      resamp_PPG_signals.append(resamp_PPG_signal)\n",
        "\n",
        "    #create the right dim for signals\n",
        "    raw_signals = np.array(resamp_PPG_signals)\n",
        "    raw_signals = np.reshape(raw_signals,[len(raw_signals),ts,int(60*sf/ts)])\n",
        "    raw_signals = np.expand_dims(raw_signals, axis=3)\n",
        "    raw_labels = np.array(raw_labels)\n",
        "\n",
        "    train_dataset, test_dataset, train_labels, test_labels  = slice_dataset(raw_signals,raw_labels,1-t_ratio)\n",
        "    train_dataset, val_dataset, train_labels, val_labels  = slice_dataset(train_dataset,train_labels,1-val_ratio)\n",
        "\n",
        "    with open(directory + \"train/\"+\"data_\" + str(i), \"wb\") as fp:\n",
        "      pickle.dump(train_dataset,fp)\n",
        "    \n",
        "    with open(directory + \"train/\"+\"label_\" + str(i), \"wb\") as fp:\n",
        "      pickle.dump(train_labels,fp)    \n",
        "    \n",
        "    with open(directory + \"validation/\"+\"data_\" + str(i), \"wb\") as fp:\n",
        "      pickle.dump(val_dataset,fp)\n",
        "    \n",
        "    with open(directory + \"validation/\"+\"label_\" + str(i), \"wb\") as fp:\n",
        "      pickle.dump(val_labels,fp)                \n",
        "    \n",
        "    with open(directory + \"test/\"+\"data_\" + str(i), \"wb\") as fp:\n",
        "      pickle.dump(test_dataset,fp)\n",
        "    \n",
        "    with open(directory + \"test/\"+\"label_\" + str(i), \"wb\") as fp:\n",
        "      pickle.dump(test_labels,fp)  \n",
        "\n",
        "  return None"
      ],
      "execution_count": 155,
      "outputs": []
    },
    {
      "cell_type": "markdown",
      "metadata": {
        "id": "jLPn3YLKwQFD",
        "colab_type": "text"
      },
      "source": [
        "#4.Check BP distribution\n",
        "\n",
        "\n"
      ]
    },
    {
      "cell_type": "code",
      "metadata": {
        "id": "ISF601ZiwY32",
        "colab_type": "code",
        "colab": {}
      },
      "source": [
        "#concatenate label\n",
        "def concatenate_label(directory):\n",
        "  raw_labels_list = []\n",
        "\n",
        "  for name in glob.glob(directory):\n",
        "\n",
        "    with open(name, \"rb\") as fp:\n",
        "      raw_label = pickle.load(fp)\n",
        "    \n",
        "    raw_labels_list.append(raw_label)\n",
        "  \n",
        "  raw_labels = [y for x in raw_labels_list for y in x]\n",
        "    \n",
        "  return raw_labels"
      ],
      "execution_count": 39,
      "outputs": []
    },
    {
      "cell_type": "code",
      "metadata": {
        "id": "9tHivwp_x7hi",
        "colab_type": "code",
        "colab": {}
      },
      "source": [
        "directory = 'D:/WFDB/matched/BP/new patient BP data/'\n",
        "train_dir = directory + \"train/label*\"\n",
        "train_labels = concatenate_label(train_dir)\n",
        "train_labels = np.array(train_labels)"
      ],
      "execution_count": 40,
      "outputs": []
    },
    {
      "cell_type": "code",
      "metadata": {
        "colab_type": "code",
        "id": "ziYh6d2YGMs2",
        "colab": {
          "base_uri": "https://localhost:8080/",
          "height": 316
        },
        "outputId": "662454e7-64e8-4e08-9135-5e2b66ca7dd5"
      },
      "source": [
        "#check sys and dia distribution in train dataset\n",
        "plt.title(\"Systolic and diastolic distribution in TRAINING dataset\")\n",
        "plt.hist(train_labels[:,0], label=\"systolic\")\n",
        "plt.hist(train_labels[:,1],label=\"diastolic\")\n",
        "plt.legend()\n",
        "sys_std = round(np.std(train_labels[:,0]),1)\n",
        "sys_mean = round(np.mean(train_labels[:,0]),1)\n",
        "print(\"Systolic BP has a mean value of:\", sys_mean, \"and a STD of:\", sys_std)\n",
        "dia_std = round(np.std(train_labels[:,1]),1)\n",
        "dia_mean = round(np.mean(train_labels[:,1]),1)\n",
        "print(\"Diastolic BP has a mean value of:\", dia_mean, \"and a STD of:\", dia_std)"
      ],
      "execution_count": 41,
      "outputs": [
        {
          "output_type": "stream",
          "text": [
            "Systolic BP has a mean value of: 131.0 and a STD of: 22.5\n",
            "Diastolic BP has a mean value of: 59.3 and a STD of: 12.2\n"
          ],
          "name": "stdout"
        },
        {
          "output_type": "display_data",
          "data": {
            "text/plain": [
              "<Figure size 432x288 with 1 Axes>"
            ],
            "image/png": "[encoded data removed]"
          },
          "metadata": {
            "tags": [],
            "needs_background": "light"
          }
        }
      ]
    },
    {
      "cell_type": "code",
      "metadata": {
        "id": "nLcxq3H8xClA",
        "colab_type": "code",
        "colab": {}
      },
      "source": [
        "directory = 'D:/WFDB/matched/BP/new patient BP data/'\n",
        "val_dir = directory + \"validation/label*\"\n",
        "val_labels = concatenate_label(val_dir)\n",
        "val_labels = np.array(val_labels)"
      ],
      "execution_count": 42,
      "outputs": []
    },
    {
      "cell_type": "code",
      "metadata": {
        "colab_type": "code",
        "id": "1uZfksv4GMs4",
        "colab": {
          "base_uri": "https://localhost:8080/",
          "height": 316
        },
        "outputId": "fda5eca1-ccdf-4043-d82f-3b411006b318"
      },
      "source": [
        "#check sys and dia distribution in validation dataset\n",
        "plt.title(\"Systolic and diastolic distribution in VALIDATION dataset\")\n",
        "plt.hist(val_labels[:,0], label=\"systolic\")\n",
        "plt.hist(val_labels[:,1],label=\"diastolic\")\n",
        "plt.legend()\n",
        "sys_std = round(np.std(val_labels[:,0]),1)\n",
        "sys_mean = round(np.mean(val_labels[:,0]),1)\n",
        "print(\"Systolic BP has a mean value of:\", sys_mean, \"and a STD of:\", sys_std)\n",
        "dia_std = round(np.std(val_labels[:,1]),1)\n",
        "dia_mean = round(np.mean(val_labels[:,1]),1)\n",
        "print(\"Diastolic BP has a mean value of:\", dia_mean, \"and a STD of:\", dia_std)"
      ],
      "execution_count": 43,
      "outputs": [
        {
          "output_type": "stream",
          "text": [
            "Systolic BP has a mean value of: 131.0 and a STD of: 22.4\n",
            "Diastolic BP has a mean value of: 59.3 and a STD of: 12.1\n"
          ],
          "name": "stdout"
        },
        {
          "output_type": "display_data",
          "data": {
            "text/plain": [
              "<Figure size 432x288 with 1 Axes>"
            ],
            "image/png": "[encoded data removed]"
          },
          "metadata": {
            "tags": [],
            "needs_background": "light"
          }
        }
      ]
    },
    {
      "cell_type": "code",
      "metadata": {
        "id": "gGzq8IGAx7UL",
        "colab_type": "code",
        "colab": {}
      },
      "source": [
        "directory = 'D:/WFDB/matched/BP/new patient BP data/'\n",
        "test_dir = directory + \"test/label*\"\n",
        "test_labels = concatenate_label(test_dir)\n",
        "test_labels = np.array(test_labels)"
      ],
      "execution_count": 44,
      "outputs": []
    },
    {
      "cell_type": "markdown",
      "metadata": {
        "id": "N-RT-91ID_zl",
        "colab_type": "text"
      },
      "source": [
        "Check the distribution of systolic and diastolic BP value"
      ]
    },
    {
      "cell_type": "code",
      "metadata": {
        "colab_type": "code",
        "id": "YvJDtg4tGMs6",
        "colab": {
          "base_uri": "https://localhost:8080/",
          "height": 316
        },
        "outputId": "bb1d9fc3-2566-4ea6-fb34-20df4fc0507d"
      },
      "source": [
        "#check sys and dia distribution in test dataset\n",
        "plt.title(\"Systolic and diastolic distribution in TEST dataset\")\n",
        "plt.hist(test_labels[:,0], label=\"systolic\")\n",
        "plt.hist(test_labels[:,1],label=\"diastolic\")\n",
        "plt.legend()\n",
        "sys_std = round(np.std(test_labels[:,0]),1)\n",
        "sys_mean = round(np.mean(test_labels[:,0]),1)\n",
        "print(\"Systolic BP has a mean value of:\", sys_mean, \"and a STD of:\", sys_std)\n",
        "dia_std = round(np.std(test_labels[:,1]),1)\n",
        "dia_mean = round(np.mean(test_labels[:,1]),1)\n",
        "print(\"Diastolic BP has a mean value of:\", dia_mean, \"and a STD of:\", dia_std)"
      ],
      "execution_count": 45,
      "outputs": [
        {
          "output_type": "stream",
          "text": [
            "Systolic BP has a mean value of: 137.8 and a STD of: 23.1\n",
            "Diastolic BP has a mean value of: 59.2 and a STD of: 12.7\n"
          ],
          "name": "stdout"
        },
        {
          "output_type": "display_data",
          "data": {
            "text/plain": [
              "<Figure size 432x288 with 1 Axes>"
            ],
            "image/png": "[encoded data removed]"
          },
          "metadata": {
            "tags": [],
            "needs_background": "light"
          }
        }
      ]
    },
    {
      "cell_type": "markdown",
      "metadata": {
        "id": "3LvFi9Aw4Huq",
        "colab_type": "text"
      },
      "source": [
        "#5.Concatenate Test data and label"
      ]
    },
    {
      "cell_type": "code",
      "metadata": {
        "id": "yfPpE7LQ2VqN",
        "colab_type": "code",
        "colab": {}
      },
      "source": [
        "#concatenate data\n",
        "def concatenate_data(directory):\n",
        "  raw_signals_list = []\n",
        "  files_list = directory + \"data*\"\n",
        "  for name in glob.glob(files_list):\n",
        "    raw_signal = pickle.load(open(name,'rb'))\n",
        "    raw_signals_list.append(raw_signal)\n",
        "  raw_signals = [y for x in raw_signals_list for y in x]\n",
        "  return raw_signals"
      ],
      "execution_count": 46,
      "outputs": []
    },
    {
      "cell_type": "code",
      "metadata": {
        "id": "-lmcvYhs2zY5",
        "colab_type": "code",
        "colab": {}
      },
      "source": [
        "#load PPG signal\n",
        "test_signals = concatenate_data('C:/Users/57lzhang.US04WW4008/Desktop/Blood pressure/BP data/new tvt/test/')"
      ],
      "execution_count": 52,
      "outputs": []
    },
    {
      "cell_type": "code",
      "metadata": {
        "id": "E0jlfhof20kH",
        "colab_type": "code",
        "colab": {}
      },
      "source": [
        "with open(\"C:/Users/57lzhang.US04WW4008/Desktop/Blood pressure/BP data/new tvt/test/test_data\", \"wb\") as fp:\n",
        "  pickle.dump(test_signals, fp)"
      ],
      "execution_count": 53,
      "outputs": []
    },
    {
      "cell_type": "code",
      "metadata": {
        "id": "u85T_Sjf2t5Q",
        "colab_type": "code",
        "colab": {}
      },
      "source": [
        "#concatenate label\n",
        "def concatenate_label(directory):\n",
        "  raw_labels_list = []\n",
        "  files_list = directory + \"label*\"\n",
        "  for name in glob.glob(files_list):\n",
        "    raw_label = pickle.load(open(name,'rb'))\n",
        "    raw_labels_list.append(raw_label)\n",
        "  raw_labels = [y for x in raw_labels_list for y in x]\n",
        "  return raw_labels"
      ],
      "execution_count": 54,
      "outputs": []
    },
    {
      "cell_type": "code",
      "metadata": {
        "id": "5zUfUOgu22SP",
        "colab_type": "code",
        "colab": {}
      },
      "source": [
        "test_labels = concatenate_label('C:/Users/57lzhang.US04WW4008/Desktop/Blood pressure/BP data/new tvt/test/')"
      ],
      "execution_count": 55,
      "outputs": []
    },
    {
      "cell_type": "code",
      "metadata": {
        "id": "fLNbpKxl23on",
        "colab_type": "code",
        "colab": {}
      },
      "source": [
        "with open('C:/Users/57lzhang.US04WW4008/Desktop/Blood pressure/BP data/new tvt/test/test_labels', \"wb\") as fp:\n",
        "  pickle.dump(test_labels, fp)"
      ],
      "execution_count": 56,
      "outputs": []
    }
  ]
}