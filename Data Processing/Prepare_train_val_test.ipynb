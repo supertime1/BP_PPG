{
  "nbformat": 4,
  "nbformat_minor": 0,
  "metadata": {
    "colab": {
      "name": "Prepare train-val-test.ipynb",
      "provenance": [],
      "collapsed_sections": [],
      "toc_visible": true,
      "authorship_tag": "ABX9TyODo7dQJeekQsPHyka4Vurl",
      "include_colab_link": true
    },
    "kernelspec": {
      "name": "python3",
      "display_name": "Python 3"
    }
  },
  "cells": [
    {
      "cell_type": "markdown",
      "metadata": {
        "id": "view-in-github",
        "colab_type": "text"
      },
      "source": [
        "<a href=\"https://colab.research.google.com/github/supertime1/BP_PPG/blob/master/Prepare_train_val_test.ipynb\" target=\"_parent\"><img src=\"https://colab.research.google.com/assets/colab-badge.svg\" alt=\"Open In Colab\"/></a>"
      ]
    },
    {
      "cell_type": "markdown",
      "metadata": {
        "id": "uWP-_pXlUKmp",
        "colab_type": "text"
      },
      "source": [
        "#1.Introduction"
      ]
    },
    {
      "cell_type": "markdown",
      "metadata": {
        "id": "3mOoV1yuUKlh",
        "colab_type": "text"
      },
      "source": [
        "This notebook trains an simple PPG DNN by using labeled PPG data from Afib_Data_Clean notebook;\n",
        "The loaded data is 30s segemented PPG signals with 125Hz sampling rate."
      ]
    },
    {
      "cell_type": "markdown",
      "metadata": {
        "id": "bfCfr60kSTDU",
        "colab_type": "text"
      },
      "source": [
        "#2.Setup Environment\n",
        "\n"
      ]
    },
    {
      "cell_type": "code",
      "metadata": {
        "id": "cvqxVijHSFk2",
        "colab_type": "code",
        "colab": {}
      },
      "source": [
        "from IPython.display import display\n",
        "import pandas as pd\n",
        "import matplotlib.pyplot as plt\n",
        "%matplotlib inline\n",
        "%load_ext tensorboard\n",
        "import numpy as np\n",
        "import os\n",
        "import shutil\n",
        "import glob\n",
        "import wfdb\n",
        "from wfdb import processing\n",
        "from datetime import datetime\n",
        "import sklearn.metrics\n",
        "import itertools\n",
        "import io\n",
        "import pickle"
      ],
      "execution_count": 0,
      "outputs": []
    },
    {
      "cell_type": "markdown",
      "metadata": {
        "colab_type": "text",
        "id": "KpK35SW3GMsU"
      },
      "source": [
        "#3.Prepare train, val and test data"
      ]
    },
    {
      "cell_type": "code",
      "metadata": {
        "id": "qiWlmHVeoq2i",
        "colab_type": "code",
        "colab": {}
      },
      "source": [
        "#ratio value is between 0 and 1\n",
        "#make sure seed is set to a same number for repeatable results\\\n",
        "#or to compare models apple to apple\n",
        "def slice_dataset(dataset,labels,train_ratio,seed = 20):  \n",
        "  DATASET_SIZE =len(list(dataset)) #only works in eager mode (e.g. TF version >= 2.0.x)\n",
        "  train_size = int(train_ratio * DATASET_SIZE)\n",
        "  val_size = DATASET_SIZE - train_size\n",
        "  \n",
        "  np.random.seed(seed=seed)\n",
        "  np.random.shuffle(dataset)\n",
        "  train_dataset = dataset[:train_size,:,:]\n",
        "  val_dataset = dataset[-val_size:,:,:]\n",
        "\n",
        "  np.random.seed(seed=seed)\n",
        "  np.random.shuffle(labels)\n",
        "  train_labels = labels[:train_size,:]\n",
        "  val_labels = labels[-val_size:,:]\n",
        "\n",
        "  return train_dataset,val_dataset,train_labels, val_labels"
      ],
      "execution_count": 0,
      "outputs": []
    },
    {
      "cell_type": "code",
      "metadata": {
        "id": "K0zF3y18uAO2",
        "colab_type": "code",
        "colab": {}
      },
      "source": [
        "#Resample_reshape_slice_data:\n",
        "#1.Resample the data from original 125Hz to specified frequency (sf)\n",
        "#2.reshape the data from [NONE, 60*sampling frequency(sf)] to [NONE,ts,60*sf/ts,1] \n",
        "#  (e.g.from [NONE, 7500] to [NONE, 10, 750, 1]), where 60*sf/ts mush be an positive integer\n",
        "#3.Create train,validation and test dataset\n",
        "\n",
        "#input:\n",
        "#     sf: sampling frequency, if other than orginal 125Hz\n",
        "#     ts: timesteps that define how many images/signals were fed into LSTM\n",
        "#     t_ratio: test dataset ratio to (train+validation) dataset\n",
        "#     val_ratio: validation dataset ratio to train dataset\n",
        "\n",
        "#output:\n",
        "#     save reshaped and shuffled dataset per 1min into train,validatin,test folders that are\n",
        "#     created **BEFORE** calling this function\n",
        "\n",
        "def resample_reshape_slice_data(directory,sf = 125, ts=6,t_ratio = 0.05, val_ratio = 0.1):\n",
        "  #load data\n",
        "  PPG_names = glob.glob(directory + \"BP_data*\")\n",
        "  label_names = glob.glob(directory + \"BP_label*\")\n",
        "  \n",
        "  assert(len(PPG_names) == len(label_names))\n",
        "\n",
        "  for i in range(len(PPG_names)):\n",
        "    \n",
        "    #skip in case there is empty file\n",
        "\n",
        "    if os.path.getsize(PPG_names[i]) < 5*1024: continue\n",
        "\n",
        "    print(\"processing\", i, \"th data\")\n",
        "\n",
        "    with open(PPG_names[i], \"rb\") as fp:\n",
        "      raw_signals = pickle.load(fp)\n",
        "\n",
        "    with open(label_names[i], \"rb\") as fp:\n",
        "      raw_labels = pickle.load(fp)\n",
        "\n",
        "    \n",
        "    #resample to specified frequency sf\n",
        "    \n",
        "    resamp_PPG_signals = []\n",
        "    for k in range(len(raw_signals)):\n",
        "      resamp_PPG_signal, _ = wfdb.processing.resample_sig(raw_signals[k],125,sf)\n",
        "      resamp_PPG_signals.append(resamp_PPG_signal)\n",
        "\n",
        "    #create the right dim for signals\n",
        "    raw_signals = np.array(resamp_PPG_signals)\n",
        "    raw_signals = np.reshape(raw_signals,[len(raw_signals),ts,int(60*sf/ts)])\n",
        "    raw_signals = np.expand_dims(raw_signals, axis=3)\n",
        "    raw_labels = np.array(raw_labels)\n",
        "\n",
        "    train_dataset, test_dataset, train_labels, test_labels  = slice_dataset(raw_signals,raw_labels,1-t_ratio)\n",
        "    train_dataset, val_dataset, train_labels, val_labels  = slice_dataset(train_dataset,train_labels,1-val_ratio)\n",
        "\n",
        "    with open(directory + \"train/\"+\"data_\" + str(i), \"wb\") as fp:\n",
        "      pickle.dump(train_dataset,fp)\n",
        "    \n",
        "    with open(directory + \"train/\"+\"label_\" + str(i), \"wb\") as fp:\n",
        "      pickle.dump(train_labels,fp)    \n",
        "    \n",
        "    with open(directory + \"validation/\"+\"data_\" + str(i), \"wb\") as fp:\n",
        "      pickle.dump(val_dataset,fp)\n",
        "    \n",
        "    with open(directory + \"validation/\"+\"label_\" + str(i), \"wb\") as fp:\n",
        "      pickle.dump(val_labels,fp)                \n",
        "    \n",
        "    with open(directory + \"test/\"+\"data_\" + str(i), \"wb\") as fp:\n",
        "      pickle.dump(test_dataset,fp)\n",
        "    \n",
        "    with open(directory + \"test/\"+\"label_\" + str(i), \"wb\") as fp:\n",
        "      pickle.dump(test_labels,fp)  \n",
        "\n",
        "  return None"
      ],
      "execution_count": 0,
      "outputs": []
    },
    {
      "cell_type": "code",
      "metadata": {
        "id": "zdwcESUGdJhA",
        "colab_type": "code",
        "outputId": "fdb3ccd4-337a-4b68-b4df-fe7a65394292",
        "colab": {
          "base_uri": "https://localhost:8080/",
          "height": 1000
        }
      },
      "source": [
        "directory = 'D:/WFDB/matched/BP/New Cleaned Data 15mmHg 125Hz/'\n",
        "resample_reshape_slice_data(directory,sf = 125)"
      ],
      "execution_count": 17,
      "outputs": [
        {
          "output_type": "stream",
          "text": [
            "processing 0 th data\n",
            "processing 1 th data\n",
            "processing 2 th data\n",
            "processing 3 th data\n",
            "processing 4 th data\n",
            "processing 5 th data\n",
            "processing 6 th data\n",
            "processing 7 th data\n",
            "processing 8 th data\n",
            "processing 9 th data\n",
            "processing 10 th data\n",
            "processing 11 th data\n",
            "processing 12 th data\n",
            "processing 13 th data\n",
            "processing 14 th data\n",
            "processing 15 th data\n",
            "processing 17 th data\n",
            "processing 18 th data\n",
            "processing 19 th data\n",
            "processing 20 th data\n",
            "processing 21 th data\n",
            "processing 22 th data\n",
            "processing 23 th data\n",
            "processing 24 th data\n",
            "processing 25 th data\n",
            "processing 26 th data\n",
            "processing 27 th data\n",
            "processing 28 th data\n",
            "processing 29 th data\n",
            "processing 30 th data\n",
            "processing 31 th data\n",
            "processing 32 th data\n",
            "processing 33 th data\n",
            "processing 34 th data\n",
            "processing 35 th data\n",
            "processing 36 th data\n",
            "processing 37 th data\n",
            "processing 39 th data\n",
            "processing 40 th data\n",
            "processing 41 th data\n",
            "processing 42 th data\n",
            "processing 43 th data\n",
            "processing 44 th data\n",
            "processing 45 th data\n",
            "processing 46 th data\n",
            "processing 47 th data\n",
            "processing 48 th data\n",
            "processing 49 th data\n",
            "processing 50 th data\n",
            "processing 51 th data\n",
            "processing 52 th data\n",
            "processing 53 th data\n",
            "processing 54 th data\n",
            "processing 55 th data\n",
            "processing 56 th data\n",
            "processing 57 th data\n",
            "processing 58 th data\n",
            "processing 59 th data\n",
            "processing 60 th data\n",
            "processing 61 th data\n",
            "processing 62 th data\n",
            "processing 63 th data\n",
            "processing 64 th data\n",
            "processing 65 th data\n",
            "processing 66 th data\n",
            "processing 67 th data\n",
            "processing 68 th data\n",
            "processing 69 th data\n",
            "processing 70 th data\n",
            "processing 71 th data\n",
            "processing 72 th data\n",
            "processing 73 th data\n",
            "processing 74 th data\n",
            "processing 75 th data\n",
            "processing 76 th data\n",
            "processing 77 th data\n",
            "processing 78 th data\n",
            "processing 79 th data\n",
            "processing 80 th data\n",
            "processing 81 th data\n",
            "processing 82 th data\n",
            "processing 83 th data\n",
            "processing 84 th data\n",
            "processing 85 th data\n",
            "processing 86 th data\n",
            "processing 87 th data\n",
            "processing 88 th data\n",
            "processing 89 th data\n",
            "processing 90 th data\n",
            "processing 91 th data\n",
            "processing 92 th data\n",
            "processing 93 th data\n",
            "processing 94 th data\n",
            "processing 95 th data\n",
            "processing 96 th data\n",
            "processing 97 th data\n",
            "processing 98 th data\n",
            "processing 99 th data\n",
            "processing 100 th data\n",
            "processing 101 th data\n",
            "processing 102 th data\n",
            "processing 103 th data\n",
            "processing 106 th data\n",
            "processing 107 th data\n",
            "processing 108 th data\n",
            "processing 109 th data\n",
            "processing 110 th data\n",
            "processing 111 th data\n",
            "processing 112 th data\n",
            "processing 113 th data\n",
            "processing 114 th data\n",
            "processing 115 th data\n",
            "processing 116 th data\n",
            "processing 117 th data\n",
            "processing 118 th data\n",
            "processing 119 th data\n",
            "processing 120 th data\n",
            "processing 121 th data\n",
            "processing 122 th data\n",
            "processing 123 th data\n",
            "processing 124 th data\n",
            "processing 125 th data\n",
            "processing 126 th data\n",
            "processing 127 th data\n",
            "processing 128 th data\n",
            "processing 129 th data\n",
            "processing 130 th data\n",
            "processing 131 th data\n",
            "processing 132 th data\n",
            "processing 133 th data\n",
            "processing 134 th data\n",
            "processing 135 th data\n",
            "processing 136 th data\n",
            "processing 137 th data\n",
            "processing 138 th data\n",
            "processing 139 th data\n",
            "processing 140 th data\n",
            "processing 141 th data\n",
            "processing 142 th data\n",
            "processing 143 th data\n",
            "processing 144 th data\n",
            "processing 145 th data\n",
            "processing 146 th data\n",
            "processing 147 th data\n",
            "processing 148 th data\n",
            "processing 149 th data\n",
            "processing 150 th data\n",
            "processing 151 th data\n",
            "processing 152 th data\n",
            "processing 153 th data\n",
            "processing 154 th data\n",
            "processing 155 th data\n",
            "processing 156 th data\n",
            "processing 157 th data\n",
            "processing 158 th data\n",
            "processing 159 th data\n",
            "processing 160 th data\n",
            "processing 162 th data\n",
            "processing 163 th data\n",
            "processing 164 th data\n",
            "processing 165 th data\n",
            "processing 166 th data\n",
            "processing 167 th data\n",
            "processing 168 th data\n",
            "processing 169 th data\n",
            "processing 170 th data\n",
            "processing 171 th data\n",
            "processing 172 th data\n",
            "processing 173 th data\n",
            "processing 174 th data\n",
            "processing 175 th data\n",
            "processing 176 th data\n",
            "processing 177 th data\n",
            "processing 178 th data\n",
            "processing 179 th data\n",
            "processing 180 th data\n",
            "processing 181 th data\n",
            "processing 182 th data\n",
            "processing 183 th data\n",
            "processing 184 th data\n",
            "processing 185 th data\n",
            "processing 186 th data\n",
            "processing 187 th data\n",
            "processing 188 th data\n",
            "processing 189 th data\n",
            "processing 190 th data\n",
            "processing 191 th data\n",
            "processing 192 th data\n",
            "processing 193 th data\n",
            "processing 194 th data\n",
            "processing 195 th data\n",
            "processing 197 th data\n",
            "processing 198 th data\n",
            "processing 199 th data\n",
            "processing 201 th data\n",
            "processing 202 th data\n",
            "processing 203 th data\n",
            "processing 204 th data\n",
            "processing 206 th data\n",
            "processing 207 th data\n",
            "processing 208 th data\n",
            "processing 209 th data\n",
            "processing 210 th data\n",
            "processing 211 th data\n",
            "processing 212 th data\n",
            "processing 215 th data\n",
            "processing 216 th data\n",
            "processing 217 th data\n",
            "processing 218 th data\n",
            "processing 219 th data\n",
            "processing 220 th data\n",
            "processing 221 th data\n",
            "processing 222 th data\n",
            "processing 223 th data\n",
            "processing 224 th data\n",
            "processing 225 th data\n",
            "processing 226 th data\n",
            "processing 227 th data\n",
            "processing 228 th data\n",
            "processing 229 th data\n",
            "processing 230 th data\n",
            "processing 231 th data\n",
            "processing 232 th data\n",
            "processing 233 th data\n",
            "processing 234 th data\n",
            "processing 235 th data\n",
            "processing 236 th data\n",
            "processing 237 th data\n",
            "processing 238 th data\n",
            "processing 239 th data\n",
            "processing 240 th data\n",
            "processing 241 th data\n",
            "processing 242 th data\n",
            "processing 243 th data\n",
            "processing 245 th data\n",
            "processing 246 th data\n",
            "processing 247 th data\n",
            "processing 248 th data\n",
            "processing 249 th data\n",
            "processing 250 th data\n",
            "processing 251 th data\n",
            "processing 252 th data\n",
            "processing 253 th data\n",
            "processing 254 th data\n",
            "processing 255 th data\n",
            "processing 256 th data\n",
            "processing 257 th data\n",
            "processing 258 th data\n",
            "processing 259 th data\n",
            "processing 261 th data\n",
            "processing 262 th data\n",
            "processing 263 th data\n",
            "processing 264 th data\n",
            "processing 265 th data\n",
            "processing 266 th data\n",
            "processing 267 th data\n",
            "processing 268 th data\n",
            "processing 269 th data\n",
            "processing 270 th data\n",
            "processing 271 th data\n",
            "processing 272 th data\n",
            "processing 274 th data\n",
            "processing 275 th data\n",
            "processing 276 th data\n",
            "processing 277 th data\n",
            "processing 278 th data\n",
            "processing 279 th data\n",
            "processing 280 th data\n",
            "processing 281 th data\n",
            "processing 284 th data\n",
            "processing 285 th data\n",
            "processing 286 th data\n",
            "processing 287 th data\n",
            "processing 288 th data\n",
            "processing 289 th data\n",
            "processing 290 th data\n",
            "processing 291 th data\n",
            "processing 293 th data\n",
            "processing 294 th data\n",
            "processing 295 th data\n",
            "processing 296 th data\n",
            "processing 297 th data\n",
            "processing 298 th data\n",
            "processing 299 th data\n",
            "processing 300 th data\n",
            "processing 301 th data\n",
            "processing 303 th data\n",
            "processing 304 th data\n",
            "processing 305 th data\n",
            "processing 306 th data\n",
            "processing 307 th data\n",
            "processing 308 th data\n",
            "processing 309 th data\n",
            "processing 310 th data\n",
            "processing 311 th data\n",
            "processing 312 th data\n",
            "processing 313 th data\n",
            "processing 314 th data\n",
            "processing 315 th data\n",
            "processing 317 th data\n",
            "processing 318 th data\n",
            "processing 319 th data\n",
            "processing 320 th data\n",
            "processing 321 th data\n",
            "processing 322 th data\n",
            "processing 323 th data\n",
            "processing 324 th data\n",
            "processing 325 th data\n",
            "processing 326 th data\n",
            "processing 327 th data\n",
            "processing 328 th data\n"
          ],
          "name": "stdout"
        }
      ]
    },
    {
      "cell_type": "markdown",
      "metadata": {
        "id": "jLPn3YLKwQFD",
        "colab_type": "text"
      },
      "source": [
        "#4.Check BP distribution\n",
        "\n",
        "\n"
      ]
    },
    {
      "cell_type": "code",
      "metadata": {
        "id": "ISF601ZiwY32",
        "colab_type": "code",
        "colab": {}
      },
      "source": [
        "#concatenate label\n",
        "def concatenate_label(directory):\n",
        "  raw_labels_list = []\n",
        "\n",
        "  for name in glob.glob(directory):\n",
        "\n",
        "    with open(name, \"rb\") as fp:\n",
        "      raw_label = pickle.load(fp)\n",
        "    \n",
        "    raw_labels_list.append(raw_label)\n",
        "  \n",
        "  raw_labels = [y for x in raw_labels_list for y in x]\n",
        "\n",
        "    \n",
        "  return raw_labels"
      ],
      "execution_count": 0,
      "outputs": []
    },
    {
      "cell_type": "code",
      "metadata": {
        "id": "9tHivwp_x7hi",
        "colab_type": "code",
        "colab": {}
      },
      "source": [
        "directory = 'D:/WFDB/matched/BP/New Cleaned Data 15mmHg 125Hz/'\n",
        "train_dir = directory + \"train/label*\"\n",
        "train_labels = concatenate_label(train_dir)\n",
        "train_labels = np.array(train_labels)"
      ],
      "execution_count": 0,
      "outputs": []
    },
    {
      "cell_type": "code",
      "metadata": {
        "colab_type": "code",
        "outputId": "303e0642-9285-449d-b549-d69b8857ce09",
        "id": "ziYh6d2YGMs2",
        "colab": {
          "base_uri": "https://localhost:8080/",
          "height": 316
        }
      },
      "source": [
        "#check sys and dia distribution in train dataset\n",
        "plt.title(\"Systolic and diastolic distribution in TRAINING dataset\")\n",
        "plt.hist(train_labels[:,0], label=\"systolic\")\n",
        "plt.hist(train_labels[:,1],label=\"diastolic\")\n",
        "plt.legend()\n",
        "sys_std = round(np.std(train_labels[:,0]),1)\n",
        "sys_mean = round(np.mean(train_labels[:,0]),1)\n",
        "print(\"Systolic BP has a mean value of:\", sys_mean, \"and a STD of:\", sys_std)\n",
        "dia_std = round(np.std(train_labels[:,1]),1)\n",
        "dia_mean = round(np.mean(train_labels[:,1]),1)\n",
        "print(\"Diastolic BP has a mean value of:\", dia_mean, \"and a STD of:\", dia_std)"
      ],
      "execution_count": 19,
      "outputs": [
        {
          "output_type": "stream",
          "text": [
            "Systolic BP has a mean value of: 131.3 and a STD of: 22.5\n",
            "Diastolic BP has a mean value of: 59.2 and a STD of: 12.1\n"
          ],
          "name": "stdout"
        },
        {
          "output_type": "display_data",
          "data": {
            "text/plain": [
              "<Figure size 432x288 with 1 Axes>"
            ],
            "image/png": "[encoded data removed]"
          },
          "metadata": {
            "tags": [],
            "needs_background": "light"
          }
        }
      ]
    },
    {
      "cell_type": "code",
      "metadata": {
        "id": "nLcxq3H8xClA",
        "colab_type": "code",
        "colab": {}
      },
      "source": [
        "directory = 'D:/WFDB/matched/BP/New Cleaned Data 15mmHg 125Hz/'\n",
        "val_dir = directory + \"validation/label*\"\n",
        "val_labels = concatenate_label(val_dir)\n",
        "val_labels = np.array(val_labels)"
      ],
      "execution_count": 0,
      "outputs": []
    },
    {
      "cell_type": "code",
      "metadata": {
        "colab_type": "code",
        "outputId": "b116ec51-bc6f-4f7c-b859-f8bbb4ec50cd",
        "id": "1uZfksv4GMs4",
        "colab": {
          "base_uri": "https://localhost:8080/",
          "height": 316
        }
      },
      "source": [
        "#check sys and dia distribution in validation dataset\n",
        "plt.title(\"Systolic and diastolic distribution in VALIDATION dataset\")\n",
        "plt.hist(val_labels[:,0], label=\"systolic\")\n",
        "plt.hist(val_labels[:,1],label=\"diastolic\")\n",
        "plt.legend()\n",
        "sys_std = round(np.std(val_labels[:,0]),1)\n",
        "sys_mean = round(np.mean(val_labels[:,0]),1)\n",
        "print(\"Systolic BP has a mean value of:\", sys_mean, \"and a STD of:\", sys_std)\n",
        "dia_std = round(np.std(val_labels[:,1]),1)\n",
        "dia_mean = round(np.mean(val_labels[:,1]),1)\n",
        "print(\"Diastolic BP has a mean value of:\", dia_mean, \"and a STD of:\", dia_std)"
      ],
      "execution_count": 21,
      "outputs": [
        {
          "output_type": "stream",
          "text": [
            "Systolic BP has a mean value of: 131.4 and a STD of: 22.6\n",
            "Diastolic BP has a mean value of: 59.2 and a STD of: 12.1\n"
          ],
          "name": "stdout"
        },
        {
          "output_type": "display_data",
          "data": {
            "text/plain": [
              "<Figure size 432x288 with 1 Axes>"
            ],
            "image/png": "[encoded data removed]"
          },
          "metadata": {
            "tags": [],
            "needs_background": "light"
          }
        }
      ]
    },
    {
      "cell_type": "code",
      "metadata": {
        "id": "gGzq8IGAx7UL",
        "colab_type": "code",
        "colab": {}
      },
      "source": [
        "directory = 'D:/WFDB/matched/BP/New Cleaned Data 15mmHg 125Hz/'\n",
        "test_dir = directory + \"test/label*\"\n",
        "test_labels = concatenate_label(test_dir)\n",
        "test_labels = np.array(test_labels)"
      ],
      "execution_count": 0,
      "outputs": []
    },
    {
      "cell_type": "markdown",
      "metadata": {
        "id": "N-RT-91ID_zl",
        "colab_type": "text"
      },
      "source": [
        "Check the distribution of systolic and diastolic BP value"
      ]
    },
    {
      "cell_type": "code",
      "metadata": {
        "colab_type": "code",
        "outputId": "a8146b83-f908-4dc7-bc84-3203a7c240d9",
        "id": "YvJDtg4tGMs6",
        "colab": {
          "base_uri": "https://localhost:8080/",
          "height": 316
        }
      },
      "source": [
        "#check sys and dia distribution in test dataset\n",
        "plt.title(\"Systolic and diastolic distribution in TEST dataset\")\n",
        "plt.hist(test_labels[:,0], label=\"systolic\")\n",
        "plt.hist(test_labels[:,1],label=\"diastolic\")\n",
        "plt.legend()\n",
        "sys_std = round(np.std(test_labels[:,0]),1)\n",
        "sys_mean = round(np.mean(test_labels[:,0]),1)\n",
        "print(\"Systolic BP has a mean value of:\", sys_mean, \"and a STD of:\", sys_std)\n",
        "dia_std = round(np.std(test_labels[:,1]),1)\n",
        "dia_mean = round(np.mean(test_labels[:,1]),1)\n",
        "print(\"Diastolic BP has a mean value of:\", dia_mean, \"and a STD of:\", dia_std)"
      ],
      "execution_count": 23,
      "outputs": [
        {
          "output_type": "stream",
          "text": [
            "Systolic BP has a mean value of: 131.2 and a STD of: 22.2\n",
            "Diastolic BP has a mean value of: 59.2 and a STD of: 12.1\n"
          ],
          "name": "stdout"
        },
        {
          "output_type": "display_data",
          "data": {
            "text/plain": [
              "<Figure size 432x288 with 1 Axes>"
            ],
            "image/png": "[encoded data removed]"
          },
          "metadata": {
            "tags": [],
            "needs_background": "light"
          }
        }
      ]
    },
    {
      "cell_type": "markdown",
      "metadata": {
        "id": "3LvFi9Aw4Huq",
        "colab_type": "text"
      },
      "source": [
        "#5.Concatenate Test data and label"
      ]
    },
    {
      "cell_type": "code",
      "metadata": {
        "id": "yfPpE7LQ2VqN",
        "colab_type": "code",
        "colab": {}
      },
      "source": [
        "#concatenate data\n",
        "def concatenate_data(directory):\n",
        "  raw_signals_list = []\n",
        "  files_list = directory + \"data*\"\n",
        "  for name in glob.glob(files_list):\n",
        "    raw_signal = pickle.load(open(name,'rb'))\n",
        "    raw_signals_list.append(raw_signal)\n",
        "  raw_signals = [y for x in raw_signals_list for y in x]\n",
        "  return raw_signals"
      ],
      "execution_count": 0,
      "outputs": []
    },
    {
      "cell_type": "code",
      "metadata": {
        "id": "-lmcvYhs2zY5",
        "colab_type": "code",
        "colab": {}
      },
      "source": [
        "#load PPG signal\n",
        "test_signals = concatenate_data('C:/Users/57lzhang.US04WW4008/Desktop/Blood pressure/BP data/test/')"
      ],
      "execution_count": 0,
      "outputs": []
    },
    {
      "cell_type": "code",
      "metadata": {
        "id": "E0jlfhof20kH",
        "colab_type": "code",
        "colab": {}
      },
      "source": [
        "with open(\"C:/Users/57lzhang.US04WW4008/Desktop/Blood pressure/BP data/test/test_data\", \"wb\") as fp:\n",
        "  pickle.dump(test_signals, fp)"
      ],
      "execution_count": 0,
      "outputs": []
    },
    {
      "cell_type": "code",
      "metadata": {
        "id": "u85T_Sjf2t5Q",
        "colab_type": "code",
        "colab": {}
      },
      "source": [
        "#concatenate label\n",
        "def concatenate_label(directory):\n",
        "  raw_labels_list = []\n",
        "  files_list = directory + \"label*\"\n",
        "  for name in glob.glob(files_list):\n",
        "    raw_label = pickle.load(open(name,'rb'))\n",
        "    raw_labels_list.append(raw_label)\n",
        "  raw_labels = [y for x in raw_labels_list for y in x]\n",
        "  return raw_labels"
      ],
      "execution_count": 0,
      "outputs": []
    },
    {
      "cell_type": "code",
      "metadata": {
        "id": "5zUfUOgu22SP",
        "colab_type": "code",
        "colab": {}
      },
      "source": [
        "test_labels = concatenate_label('C:/Users/57lzhang.US04WW4008/Desktop/Blood pressure/BP data/test/')"
      ],
      "execution_count": 0,
      "outputs": []
    },
    {
      "cell_type": "code",
      "metadata": {
        "id": "fLNbpKxl23on",
        "colab_type": "code",
        "colab": {}
      },
      "source": [
        "with open('C:/Users/57lzhang.US04WW4008/Desktop/Blood pressure/BP data/test/test_labels', \"wb\") as fp:\n",
        "  pickle.dump(test_labels, fp)"
      ],
      "execution_count": 0,
      "outputs": []
    }
  ]
}
