{
  "nbformat": 4,
  "nbformat_minor": 0,
  "metadata": {
    "colab": {
      "name": "Biometric Info.ipynb",
      "provenance": [],
      "authorship_tag": "ABX9TyMnEkm7dsshKah7Y0cXHkCA",
      "include_colab_link": true
    },
    "kernelspec": {
      "name": "python3",
      "display_name": "Python 3"
    }
  },
  "cells": [
    {
      "cell_type": "markdown",
      "metadata": {
        "id": "view-in-github",
        "colab_type": "text"
      },
      "source": [
        "<a href=\"https://colab.research.google.com/github/supertime1/BP_PPG/blob/master/Data%20Processing/Biometric_Info.ipynb\" target=\"_parent\"><img src=\"https://colab.research.google.com/assets/colab-badge.svg\" alt=\"Open In Colab\"/></a>"
      ]
    },
    {
      "cell_type": "markdown",
      "metadata": {
        "id": "YF3Fh8TO3RTt",
        "colab_type": "text"
      },
      "source": [
        "This notebook is to generate biometric information of patients in wfdb matched dataset"
      ]
    },
    {
      "cell_type": "code",
      "metadata": {
        "id": "xrI8zSXO3bWy",
        "colab_type": "code",
        "colab": {}
      },
      "source": [
        "from IPython.display import display\n",
        "import pandas as pd\n",
        "import matplotlib.pyplot as plt\n",
        "%matplotlib inline\n",
        "%load_ext tensorboard\n",
        "import numpy as np\n",
        "import os\n",
        "import shutil\n",
        "import glob\n",
        "import wfdb\n",
        "from wfdb import processing\n",
        "from datetime import datetime\n",
        "import sklearn.metrics\n",
        "import itertools\n",
        "import io\n",
        "import pickle"
      ],
      "execution_count": 1,
      "outputs": []
    },
    {
      "cell_type": "code",
      "metadata": {
        "id": "TXwoDCe83Hi1",
        "colab_type": "code",
        "colab": {}
      },
      "source": [
        "directory = \"C:/Users/57lzhang.US04WW4008/Desktop/Blood pressure/BP data/PATIENTS.csv\"\n",
        "bio =pd.read_csv(directory,encoding= 'unicode_escape')"
      ],
      "execution_count": 2,
      "outputs": []
    },
    {
      "cell_type": "code",
      "metadata": {
        "id": "ltVBbd4E44uX",
        "colab_type": "code",
        "colab": {
          "base_uri": "https://localhost:8080/",
          "height": 34
        },
        "outputId": "c5c9f642-f9e7-41e0-f1ff-85751693bb6b"
      },
      "source": [
        "date_ls = []\n",
        "id_ls = []\n",
        "for name in glob.glob(\"D:/WFDB//matched/p*/*/p*[!n].hea\"):\n",
        "  idx = name.index('-')\n",
        "  r_date = name[idx+1:idx+11]\n",
        "  s_id = name.split('\\\\')[2]\n",
        "  date_ls.append(r_date)\n",
        "  id_ls.append(s_id)\n",
        "\n",
        "d = {'Subject ID': id_ls, 'Receive Date': date_ls}\n",
        "matched_patient = pd.DataFrame(data = d)\n",
        "print(\"There are total \", len(date_ls), \"header files\")"
      ],
      "execution_count": 26,
      "outputs": [
        {
          "output_type": "stream",
          "text": [
            "There are total  22317 header files\n"
          ],
          "name": "stdout"
        }
      ]
    },
    {
      "cell_type": "code",
      "metadata": {
        "id": "xJEoZkTq_g3G",
        "colab_type": "code",
        "colab": {}
      },
      "source": [
        "matched_patient.to_csv(\"C:/Users/57lzhang.US04WW4008/Desktop/Blood pressure/BP data/PATIENT_MATCHED.csv\")"
      ],
      "execution_count": 28,
      "outputs": []
    },
    {
      "cell_type": "code",
      "metadata": {
        "id": "OSU-UmXJIGDV",
        "colab_type": "code",
        "colab": {}
      },
      "source": [
        ""
      ],
      "execution_count": 7,
      "outputs": []
    },
    {
      "cell_type": "code",
      "metadata": {
        "id": "9UGlcMxcIPPL",
        "colab_type": "code",
        "colab": {}
      },
      "source": [
        "idx = hd_names[0].index('-')\n",
        "r_date = hd_names[0][idx+1:idx+11]\n",
        "s_id = hd_names[0].split('\\\\')[2]"
      ],
      "execution_count": 14,
      "outputs": []
    },
    {
      "cell_type": "code",
      "metadata": {
        "id": "rmaVxeiAItHz",
        "colab_type": "code",
        "colab": {}
      },
      "source": [
        "d = {'Subject ID': [s_id], 'Receive Date': [r_date]}"
      ],
      "execution_count": 24,
      "outputs": []
    },
    {
      "cell_type": "code",
      "metadata": {
        "id": "Q6fA9u1mJaRP",
        "colab_type": "code",
        "colab": {
          "base_uri": "https://localhost:8080/",
          "height": 77
        },
        "outputId": "29540c49-7c92-41de-c3eb-5db66aadc7ec"
      },
      "source": [
        "pd.DataFrame(data = d)"
      ],
      "execution_count": 25,
      "outputs": [
        {
          "output_type": "execute_result",
          "data": {
            "text/plain": [
              "  Subject ID Receive Date\n",
              "0    p000020   2183-04-28"
            ],
            "text/html": [
              "<div>\n",
              "<style scoped>\n",
              "    .dataframe tbody tr th:only-of-type {\n",
              "        vertical-align: middle;\n",
              "    }\n",
              "\n",
              "    .dataframe tbody tr th {\n",
              "        vertical-align: top;\n",
              "    }\n",
              "\n",
              "    .dataframe thead th {\n",
              "        text-align: right;\n",
              "    }\n",
              "</style>\n",
              "<table border=\"1\" class=\"dataframe\">\n",
              "  <thead>\n",
              "    <tr style=\"text-align: right;\">\n",
              "      <th></th>\n",
              "      <th>Subject ID</th>\n",
              "      <th>Receive Date</th>\n",
              "    </tr>\n",
              "  </thead>\n",
              "  <tbody>\n",
              "    <tr>\n",
              "      <td>0</td>\n",
              "      <td>p000020</td>\n",
              "      <td>2183-04-28</td>\n",
              "    </tr>\n",
              "  </tbody>\n",
              "</table>\n",
              "</div>"
            ]
          },
          "metadata": {
            "tags": []
          },
          "execution_count": 25
        }
      ]
    },
    {
      "cell_type": "code",
      "metadata": {
        "id": "BmPZcAlS4565",
        "colab_type": "code",
        "colab": {}
      },
      "source": [
        "qualified_names = [] #a list of file names that contain both PPG and ABP waveforms\n",
        "for name in hd_names:\n",
        "  record = wfdb.rdheader(name)\n",
        "  if 'ABP' in record.sig_name and 'PLETH' in record.sig_name and record.sig_len >= 75000: #only extract records contrains ECG lead I and PPG, and >=10min\n",
        "    qualified_names.append(name)\n",
        "print('There are total', len(qualified_names), 'records that have both ABP and PPG with more than 10min recording')\n",
        "\n",
        "with open('D:/WFDB//matched/BP/qualified_names.pkl', \"wb\") as fp:\n",
        "  pickle.dump(qualified_names, fp)"
      ],
      "execution_count": null,
      "outputs": []
    }
  ]
}