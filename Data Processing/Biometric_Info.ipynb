{
  "nbformat": 4,
  "nbformat_minor": 0,
  "metadata": {
    "colab": {
      "name": "Biometric Info.ipynb",
      "provenance": [],
      "authorship_tag": "ABX9TyNcLYr0nTlsTLKgwN2ETUgR",
      "include_colab_link": true
    },
    "kernelspec": {
      "name": "python3",
      "display_name": "Python 3"
    }
  },
  "cells": [
    {
      "cell_type": "markdown",
      "metadata": {
        "id": "view-in-github",
        "colab_type": "text"
      },
      "source": [
        "<a href=\"https://colab.research.google.com/github/supertime1/BP_PPG/blob/master/Data%20Processing/Biometric_Info.ipynb\" target=\"_parent\"><img src=\"https://colab.research.google.com/assets/colab-badge.svg\" alt=\"Open In Colab\"/></a>"
      ]
    },
    {
      "cell_type": "markdown",
      "metadata": {
        "id": "u_1QU37Eshyv",
        "colab_type": "text"
      },
      "source": [
        "#1.Introduction"
      ]
    },
    {
      "cell_type": "markdown",
      "metadata": {
        "id": "YF3Fh8TO3RTt",
        "colab_type": "text"
      },
      "source": [
        "This notebook is to generate biometric information of patients in wfdb matched dataset"
      ]
    },
    {
      "cell_type": "markdown",
      "metadata": {
        "id": "VdYDRuJOslPF",
        "colab_type": "text"
      },
      "source": [
        "#2. Setup Environment"
      ]
    },
    {
      "cell_type": "code",
      "metadata": {
        "id": "xrI8zSXO3bWy",
        "colab_type": "code",
        "colab": {}
      },
      "source": [
        "from IPython.display import display\n",
        "import pandas as pd\n",
        "import matplotlib.pyplot as plt\n",
        "%matplotlib inline\n",
        "%load_ext tensorboard\n",
        "import numpy as np\n",
        "import os\n",
        "import shutil\n",
        "import glob\n",
        "import wfdb\n",
        "from wfdb import processing\n",
        "from datetime import datetime\n",
        "import sklearn.metrics\n",
        "import itertools\n",
        "import io\n",
        "import pickle"
      ],
      "execution_count": null,
      "outputs": []
    },
    {
      "cell_type": "markdown",
      "metadata": {
        "id": "nPrfeiLZswko",
        "colab_type": "text"
      },
      "source": [
        "#3.Extract patient information from MIMIC-III"
      ]
    },
    {
      "cell_type": "code",
      "metadata": {
        "id": "ltVBbd4E44uX",
        "colab_type": "code",
        "colab": {
          "base_uri": "https://localhost:8080/",
          "height": 34
        },
        "outputId": "c5c9f642-f9e7-41e0-f1ff-85751693bb6b"
      },
      "source": [
        "#extract subject ID and signal recording date from header files\n",
        "date_ls = []\n",
        "id_ls = []\n",
        "for name in glob.glob(\"D:/WFDB//matched/p*/*/p*[!n].hea\"):\n",
        "  idx = name.index('-')\n",
        "  r_date = name[idx+1:idx+11]\n",
        "  s_id = name.split('\\\\')[2]\n",
        "  date_ls.append(r_date)\n",
        "  id_ls.append(s_id)\n",
        "\n",
        "#create a matched dataframe to store subject ID and signal recording date\n",
        "d = {'SUBJECT_ID': id_ls, 'Receive Date': date_ls}\n",
        "matched_patient = pd.DataFrame(data = d)\n",
        "print(\"There are total \", len(date_ls), \"header files\")\n",
        "\n",
        "matched_patient.to_csv(\"C:/Users/57lzhang.US04WW4008/Desktop/Blood pressure/BP data/PATIENT_MATCHED.csv\")"
      ],
      "execution_count": null,
      "outputs": [
        {
          "output_type": "stream",
          "text": [
            "There are total  22317 header files\n"
          ],
          "name": "stdout"
        }
      ]
    },
    {
      "cell_type": "code",
      "metadata": {
        "id": "z48Y-BohNqgs",
        "colab_type": "code",
        "colab": {
          "base_uri": "https://localhost:8080/",
          "height": 34
        },
        "outputId": "185c0882-8525-4c56-8ab7-1962902c6471"
      },
      "source": [
        "#import PATIENTS file with DOB and GENDER info\n",
        "directory = \"C:/Users/57lzhang.US04WW4008/Desktop/Blood pressure/BP data/PATIENTS.csv\"\n",
        "bio =pd.read_csv(directory,encoding= 'unicode_escape')\n",
        "#inner join two dataframes\n",
        "new = bio.merge(matched_patient, on='SUBJECT_ID', how='inner')"
      ],
      "execution_count": null,
      "outputs": [
        {
          "output_type": "stream",
          "text": [
            "There are total  22317 header files\n"
          ],
          "name": "stdout"
        }
      ]
    },
    {
      "cell_type": "code",
      "metadata": {
        "id": "14F1y1PtPqBz",
        "colab_type": "code",
        "colab": {}
      },
      "source": [
        "#calculate subject age by substracting DOB from receive date\n",
        "ages = []\n",
        "for i in range(len(new)):\n",
        "  age = (pd.to_datetime(new['Receive Date'][i]) - pd.to_datetime(new['DOB'][i])).days//365\n",
        "  ages.append(age)"
      ],
      "execution_count": null,
      "outputs": []
    },
    {
      "cell_type": "code",
      "metadata": {
        "id": "vwPcFkbDU6BD",
        "colab_type": "code",
        "colab": {
          "base_uri": "https://localhost:8080/",
          "height": 34
        },
        "outputId": "51d0f53a-6c0d-4083-d0d3-b1a0ead6c7f9"
      },
      "source": [
        "pd.to_datetime(new['Receive Date'][16927])"
      ],
      "execution_count": null,
      "outputs": [
        {
          "output_type": "execute_result",
          "data": {
            "text/plain": [
              "Timestamp('2125-12-03 00:00:00')"
            ]
          },
          "metadata": {
            "tags": []
          },
          "execution_count": 91
        }
      ]
    },
    {
      "cell_type": "code",
      "metadata": {
        "id": "eisbYsjxValU",
        "colab_type": "code",
        "colab": {
          "base_uri": "https://localhost:8080/",
          "height": 34
        },
        "outputId": "ba65a006-d30e-43b8-df77-82bf6adbee2c"
      },
      "source": [
        "pd.to_datetime(new['DOB'][16927])"
      ],
      "execution_count": null,
      "outputs": [
        {
          "output_type": "execute_result",
          "data": {
            "text/plain": [
              "Timestamp('1825-12-03 00:00:00')"
            ]
          },
          "metadata": {
            "tags": []
          },
          "execution_count": 93
        }
      ]
    },
    {
      "cell_type": "code",
      "metadata": {
        "id": "GcU1VDkMVvsn",
        "colab_type": "code",
        "colab": {
          "base_uri": "https://localhost:8080/",
          "height": 52
        },
        "outputId": "babd65f5-c70d-4e8e-dec9-47217f2c877a"
      },
      "source": [
        "bio['DOB'][bio['SUBJECT_ID']=='p075764']"
      ],
      "execution_count": null,
      "outputs": [
        {
          "output_type": "execute_result",
          "data": {
            "text/plain": [
              "40127    1825-12-03 00:00:00\n",
              "Name: DOB, dtype: object"
            ]
          },
          "metadata": {
            "tags": []
          },
          "execution_count": 95
        }
      ]
    },
    {
      "cell_type": "code",
      "metadata": {
        "id": "cLWdQcK1SmXU",
        "colab_type": "code",
        "colab": {}
      },
      "source": [
        "dic = {'SUBJECT_ID': new['SUBJECT_ID'], 'AGE': ages, 'GENDER': new['GENDER']}\n",
        "bio_patient = pd.DataFrame(data = dic)\n",
        "bio_patient.to_csv(\"C:/Users/57lzhang.US04WW4008/Desktop/Blood pressure/BP data/BIO_PATIENTS.csv\")"
      ],
      "execution_count": null,
      "outputs": []
    },
    {
      "cell_type": "code",
      "metadata": {
        "id": "ITacxb8Ws-c7",
        "colab_type": "code",
        "colab": {}
      },
      "source": [
        "#to get rid of the typos in MIMIC-III, where some patients have age >300 "
      ],
      "execution_count": null,
      "outputs": []
    },
    {
      "cell_type": "code",
      "metadata": {
        "id": "c7VjdTkhWi5M",
        "colab_type": "code",
        "colab": {}
      },
      "source": [
        "#read subject ID from cleaned dataset(train, val, and test)"
      ],
      "execution_count": null,
      "outputs": []
    }
  ]
}