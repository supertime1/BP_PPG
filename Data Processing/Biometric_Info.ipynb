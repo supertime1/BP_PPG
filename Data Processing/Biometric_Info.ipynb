{
  "nbformat": 4,
  "nbformat_minor": 0,
  "metadata": {
    "colab": {
      "name": "Biometric Info.ipynb",
      "provenance": [],
      "authorship_tag": "ABX9TyNn07JSbijhgEnGawYmgrzz",
      "include_colab_link": true
    },
    "kernelspec": {
      "name": "python3",
      "display_name": "Python 3"
    }
  },
  "cells": [
    {
      "cell_type": "markdown",
      "metadata": {
        "id": "view-in-github",
        "colab_type": "text"
      },
      "source": [
        "<a href=\"https://colab.research.google.com/github/supertime1/BP_PPG/blob/master/Data%20Processing/Biometric_Info.ipynb\" target=\"_parent\"><img src=\"https://colab.research.google.com/assets/colab-badge.svg\" alt=\"Open In Colab\"/></a>"
      ]
    },
    {
      "cell_type": "markdown",
      "metadata": {
        "id": "u_1QU37Eshyv",
        "colab_type": "text"
      },
      "source": [
        "#1.Introduction"
      ]
    },
    {
      "cell_type": "markdown",
      "metadata": {
        "id": "YF3Fh8TO3RTt",
        "colab_type": "text"
      },
      "source": [
        "This notebook is to generate biometric information of patients in wfdb matched dataset"
      ]
    },
    {
      "cell_type": "markdown",
      "metadata": {
        "id": "VdYDRuJOslPF",
        "colab_type": "text"
      },
      "source": [
        "#2. Setup Environment"
      ]
    },
    {
      "cell_type": "code",
      "metadata": {
        "id": "xrI8zSXO3bWy",
        "colab_type": "code",
        "colab": {}
      },
      "source": [
        "from IPython.display import display\n",
        "import pandas as pd\n",
        "import matplotlib.pyplot as plt\n",
        "%matplotlib inline\n",
        "%load_ext tensorboard\n",
        "import numpy as np\n",
        "import os\n",
        "import shutil\n",
        "import glob\n",
        "import wfdb\n",
        "from wfdb import processing\n",
        "from datetime import datetime\n",
        "import sklearn.metrics\n",
        "import itertools\n",
        "import io\n",
        "import pickle"
      ],
      "execution_count": 1,
      "outputs": []
    },
    {
      "cell_type": "markdown",
      "metadata": {
        "id": "nPrfeiLZswko",
        "colab_type": "text"
      },
      "source": [
        "#3.Extract patient information"
      ]
    },
    {
      "cell_type": "markdown",
      "metadata": {
        "id": "SgT2Y7QY0zj8",
        "colab_type": "text"
      },
      "source": [
        "##3.1 Extract subject ID from matched subset"
      ]
    },
    {
      "cell_type": "code",
      "metadata": {
        "id": "chqHnDiWBriV",
        "colab_type": "code",
        "colab": {}
      },
      "source": [
        "date_ls = []\n",
        "id_ls = []\n",
        "record_ls = []\n",
        "for name in glob.glob(\"D:/WFDB//matched/BP/BP_Data_Clean/new patient BP HR data/ABP*\"):\n",
        "  idx = name.index('_')\n",
        "  r_date = name[idx+1:idx+11]\n",
        "  s_id = name.split('\\\\')[2]\n",
        "  date_ls.append(r_date)\n",
        "  id_ls.append(s_id)\n",
        "\n",
        "#create a matched dataframe to store subject ID and signal recording date\n",
        "d = {'SUBJECT_ID': id_ls, 'Receive Date': date_ls}\n",
        "matched_patient = pd.DataFrame(data = d)\n",
        "print(\"There are total \", len(date_ls), \"header files\")\n",
        "\n",
        "matched_patient.to_csv(\"C:/Users/57lzhang.US04WW4008/Desktop/Blood pressure/BP data/PATIENT_CLEANED.csv\")"
      ],
      "execution_count": null,
      "outputs": []
    },
    {
      "cell_type": "code",
      "metadata": {
        "id": "Oq0xU1oM0b-g",
        "colab_type": "code",
        "colab": {
          "base_uri": "https://localhost:8080/",
          "height": 34
        },
        "outputId": "0a734cf1-fb96-4144-a0b2-d92fdbd217a2"
      },
      "source": [
        "#check unique patient' IDs in matched patients\n",
        "len(matched_patient.SUBJECT_ID.unique())"
      ],
      "execution_count": null,
      "outputs": [
        {
          "output_type": "execute_result",
          "data": {
            "text/plain": [
              "10099"
            ]
          },
          "metadata": {
            "tags": []
          },
          "execution_count": 41
        }
      ]
    },
    {
      "cell_type": "code",
      "metadata": {
        "id": "FbOFoMUv1HJJ",
        "colab_type": "code",
        "colab": {
          "base_uri": "https://localhost:8080/",
          "height": 34
        },
        "outputId": "89bed159-fa2e-4751-8b5b-e2042278db35"
      },
      "source": [
        "len(matched_patient['SUBJECT_ID'])"
      ],
      "execution_count": null,
      "outputs": [
        {
          "output_type": "execute_result",
          "data": {
            "text/plain": [
              "22317"
            ]
          },
          "metadata": {
            "tags": []
          },
          "execution_count": 42
        }
      ]
    },
    {
      "cell_type": "markdown",
      "metadata": {
        "id": "UlSRfc1u04tZ",
        "colab_type": "text"
      },
      "source": [
        "##3.2 Extract subject ID from MIMIC-III full dataset"
      ]
    },
    {
      "cell_type": "code",
      "metadata": {
        "id": "z48Y-BohNqgs",
        "colab_type": "code",
        "colab": {}
      },
      "source": [
        "#import PATIENTS file with DOB and GENDER info\n",
        "directory = \"C:/Users/57lzhang.US04WW4008/Desktop/Blood pressure/BP data/PATIENTS.csv\"\n",
        "bio =pd.read_csv(directory,encoding= 'unicode_escape')\n",
        "\n",
        "#inner join two dataframes\n",
        "new = bio.merge(matched_patient, on='SUBJECT_ID', how='inner')"
      ],
      "execution_count": null,
      "outputs": []
    },
    {
      "cell_type": "code",
      "metadata": {
        "id": "14F1y1PtPqBz",
        "colab_type": "code",
        "colab": {}
      },
      "source": [
        "#calculate subject age by substracting DOB from receive date\n",
        "ages = []\n",
        "for i in range(len(new)):\n",
        "  age = (pd.to_datetime(new['Receive Date'][i]) - pd.to_datetime(new['DOB'][i])).days//365\n",
        "  ages.append(age)"
      ],
      "execution_count": null,
      "outputs": []
    },
    {
      "cell_type": "code",
      "metadata": {
        "id": "cLWdQcK1SmXU",
        "colab_type": "code",
        "colab": {}
      },
      "source": [
        "#save patients' bio infor to BIO_PATIENTS.csv\n",
        "dic = {'SUBJECT_ID': new['SUBJECT_ID'], 'AGE': ages, 'GENDER': new['GENDER']}\n",
        "bio_patient = pd.DataFrame(data = dic)\n",
        "bio_patient.to_csv(\"C:/Users/57lzhang.US04WW4008/Desktop/Blood pressure/BP data/BIO_PATIENTS.csv\")"
      ],
      "execution_count": null,
      "outputs": []
    },
    {
      "cell_type": "code",
      "metadata": {
        "id": "ITacxb8Ws-c7",
        "colab_type": "code",
        "colab": {}
      },
      "source": [
        "directory = \"C:/Users/57lzhang.US04WW4008/Desktop/Blood pressure/BP data/BIO_PATIENTS.csv\"\n",
        "bio_patient = pd.read_csv(directory, encoding='unicode_escape')\n",
        "\n",
        "\n",
        "#to get rid of the typos in MIMIC-III, where some patients have age >300 "
      ],
      "execution_count": null,
      "outputs": []
    },
    {
      "cell_type": "code",
      "metadata": {
        "id": "b_B7Ss0RoP98",
        "colab_type": "code",
        "colab": {
          "base_uri": "https://localhost:8080/",
          "height": 406
        },
        "outputId": "24c0b676-faba-44de-96c2-bf5ce5cff3e9"
      },
      "source": [
        "bio_patient"
      ],
      "execution_count": null,
      "outputs": [
        {
          "output_type": "execute_result",
          "data": {
            "text/plain": [
              "       Unnamed: 0 SUBJECT_ID  AGE GENDER\n",
              "0               0    p000262   63      M\n",
              "1               1    p000263   55      M\n",
              "2               2    p000263   55      M\n",
              "3               3    p000263   55      M\n",
              "4               4    p000666   59      F\n",
              "...           ...        ...  ...    ...\n",
              "22312       22312    p044123   85      F\n",
              "22313       22313    p044126   52      F\n",
              "22314       22314    p044126   52      F\n",
              "22315       22315    p044128   50      M\n",
              "22316       22316    p044128   50      M\n",
              "\n",
              "[22317 rows x 4 columns]"
            ],
            "text/html": [
              "<div>\n",
              "<style scoped>\n",
              "    .dataframe tbody tr th:only-of-type {\n",
              "        vertical-align: middle;\n",
              "    }\n",
              "\n",
              "    .dataframe tbody tr th {\n",
              "        vertical-align: top;\n",
              "    }\n",
              "\n",
              "    .dataframe thead th {\n",
              "        text-align: right;\n",
              "    }\n",
              "</style>\n",
              "<table border=\"1\" class=\"dataframe\">\n",
              "  <thead>\n",
              "    <tr style=\"text-align: right;\">\n",
              "      <th></th>\n",
              "      <th>Unnamed: 0</th>\n",
              "      <th>SUBJECT_ID</th>\n",
              "      <th>AGE</th>\n",
              "      <th>GENDER</th>\n",
              "    </tr>\n",
              "  </thead>\n",
              "  <tbody>\n",
              "    <tr>\n",
              "      <td>0</td>\n",
              "      <td>0</td>\n",
              "      <td>p000262</td>\n",
              "      <td>63</td>\n",
              "      <td>M</td>\n",
              "    </tr>\n",
              "    <tr>\n",
              "      <td>1</td>\n",
              "      <td>1</td>\n",
              "      <td>p000263</td>\n",
              "      <td>55</td>\n",
              "      <td>M</td>\n",
              "    </tr>\n",
              "    <tr>\n",
              "      <td>2</td>\n",
              "      <td>2</td>\n",
              "      <td>p000263</td>\n",
              "      <td>55</td>\n",
              "      <td>M</td>\n",
              "    </tr>\n",
              "    <tr>\n",
              "      <td>3</td>\n",
              "      <td>3</td>\n",
              "      <td>p000263</td>\n",
              "      <td>55</td>\n",
              "      <td>M</td>\n",
              "    </tr>\n",
              "    <tr>\n",
              "      <td>4</td>\n",
              "      <td>4</td>\n",
              "      <td>p000666</td>\n",
              "      <td>59</td>\n",
              "      <td>F</td>\n",
              "    </tr>\n",
              "    <tr>\n",
              "      <td>...</td>\n",
              "      <td>...</td>\n",
              "      <td>...</td>\n",
              "      <td>...</td>\n",
              "      <td>...</td>\n",
              "    </tr>\n",
              "    <tr>\n",
              "      <td>22312</td>\n",
              "      <td>22312</td>\n",
              "      <td>p044123</td>\n",
              "      <td>85</td>\n",
              "      <td>F</td>\n",
              "    </tr>\n",
              "    <tr>\n",
              "      <td>22313</td>\n",
              "      <td>22313</td>\n",
              "      <td>p044126</td>\n",
              "      <td>52</td>\n",
              "      <td>F</td>\n",
              "    </tr>\n",
              "    <tr>\n",
              "      <td>22314</td>\n",
              "      <td>22314</td>\n",
              "      <td>p044126</td>\n",
              "      <td>52</td>\n",
              "      <td>F</td>\n",
              "    </tr>\n",
              "    <tr>\n",
              "      <td>22315</td>\n",
              "      <td>22315</td>\n",
              "      <td>p044128</td>\n",
              "      <td>50</td>\n",
              "      <td>M</td>\n",
              "    </tr>\n",
              "    <tr>\n",
              "      <td>22316</td>\n",
              "      <td>22316</td>\n",
              "      <td>p044128</td>\n",
              "      <td>50</td>\n",
              "      <td>M</td>\n",
              "    </tr>\n",
              "  </tbody>\n",
              "</table>\n",
              "<p>22317 rows × 4 columns</p>\n",
              "</div>"
            ]
          },
          "metadata": {
            "tags": []
          },
          "execution_count": 5
        }
      ]
    },
    {
      "cell_type": "markdown",
      "metadata": {
        "id": "RoKFqo9woXsz",
        "colab_type": "text"
      },
      "source": [
        "##3.3.Extract subject ID from cleaned dataset"
      ]
    },
    {
      "cell_type": "code",
      "metadata": {
        "id": "eKQghTv9l7H0",
        "colab_type": "code",
        "colab": {}
      },
      "source": [
        "def bioinfo(directory):\n",
        "  \"\"\"\n",
        "  This function extract subject id from train and test folders\n",
        "\n",
        "  Arguments:\n",
        "  directory -- directory of training or test dataset\n",
        "\n",
        "  Returns:\n",
        "  A list of subject id from input directory\n",
        "  \"\"\"\n",
        "  id_ls = []\n",
        "  for name in glob.glob(directory + \"data*\"):\n",
        "    fn = name.split('\\\\')[1]\n",
        "    s_id = fn.split('_')[2]\n",
        "    id_ls.append(s_id)\n",
        "  \n",
        "  return id_ls"
      ],
      "execution_count": null,
      "outputs": []
    },
    {
      "cell_type": "code",
      "metadata": {
        "id": "pbOBV2iPoyG-",
        "colab_type": "code",
        "colab": {}
      },
      "source": [
        "directory = \"D:/WFDB//matched/BP/BP_Data_Clean/new patient BP data/train/\"\n",
        "train_s_id = bioinfo(directory)\n",
        "\n",
        "directory = \"D:/WFDB//matched/BP/BP_Data_Clean/new patient BP data/test/\"\n",
        "test_s_id = bioinfo(directory)"
      ],
      "execution_count": null,
      "outputs": []
    },
    {
      "cell_type": "code",
      "metadata": {
        "id": "CXq6o5qiqijE",
        "colab_type": "code",
        "colab": {
          "base_uri": "https://localhost:8080/",
          "height": 34
        },
        "outputId": "9d118da6-0425-4984-cedc-d977ad68abda"
      },
      "source": [
        "len(test_s_id)"
      ],
      "execution_count": null,
      "outputs": [
        {
          "output_type": "execute_result",
          "data": {
            "text/plain": [
              "47"
            ]
          },
          "metadata": {
            "tags": []
          },
          "execution_count": 24
        }
      ]
    },
    {
      "cell_type": "code",
      "metadata": {
        "id": "Nu33od79qjEE",
        "colab_type": "code",
        "colab": {}
      },
      "source": [
        "pd.DataFrame(test_s_id)"
      ],
      "execution_count": null,
      "outputs": []
    },
    {
      "cell_type": "code",
      "metadata": {
        "id": "wiaydUHPyIOe",
        "colab_type": "code",
        "colab": {
          "base_uri": "https://localhost:8080/",
          "height": 406
        },
        "outputId": "bb025866-4b01-4b84-ffe8-8993a32e858a"
      },
      "source": [
        "bio_patient[bio_patient['SUBJECT_ID'].isin(test_s_id)]"
      ],
      "execution_count": null,
      "outputs": [
        {
          "output_type": "execute_result",
          "data": {
            "text/plain": [
              "       Unnamed: 0 SUBJECT_ID  AGE GENDER\n",
              "570           570    p001049   72      M\n",
              "571           571    p001049   72      M\n",
              "1148         1148    p005885   52      M\n",
              "3244         3244    p012733   65      M\n",
              "3414         3414    p013593   55      F\n",
              "...           ...        ...  ...    ...\n",
              "21421       21421    p088466   74      M\n",
              "21749       21749    p076028   75      M\n",
              "21750       21750    p076028   75      M\n",
              "21751       21751    p076028   75      M\n",
              "21752       21752    p076028   75      M\n",
              "\n",
              "[198 rows x 4 columns]"
            ],
            "text/html": [
              "<div>\n",
              "<style scoped>\n",
              "    .dataframe tbody tr th:only-of-type {\n",
              "        vertical-align: middle;\n",
              "    }\n",
              "\n",
              "    .dataframe tbody tr th {\n",
              "        vertical-align: top;\n",
              "    }\n",
              "\n",
              "    .dataframe thead th {\n",
              "        text-align: right;\n",
              "    }\n",
              "</style>\n",
              "<table border=\"1\" class=\"dataframe\">\n",
              "  <thead>\n",
              "    <tr style=\"text-align: right;\">\n",
              "      <th></th>\n",
              "      <th>Unnamed: 0</th>\n",
              "      <th>SUBJECT_ID</th>\n",
              "      <th>AGE</th>\n",
              "      <th>GENDER</th>\n",
              "    </tr>\n",
              "  </thead>\n",
              "  <tbody>\n",
              "    <tr>\n",
              "      <td>570</td>\n",
              "      <td>570</td>\n",
              "      <td>p001049</td>\n",
              "      <td>72</td>\n",
              "      <td>M</td>\n",
              "    </tr>\n",
              "    <tr>\n",
              "      <td>571</td>\n",
              "      <td>571</td>\n",
              "      <td>p001049</td>\n",
              "      <td>72</td>\n",
              "      <td>M</td>\n",
              "    </tr>\n",
              "    <tr>\n",
              "      <td>1148</td>\n",
              "      <td>1148</td>\n",
              "      <td>p005885</td>\n",
              "      <td>52</td>\n",
              "      <td>M</td>\n",
              "    </tr>\n",
              "    <tr>\n",
              "      <td>3244</td>\n",
              "      <td>3244</td>\n",
              "      <td>p012733</td>\n",
              "      <td>65</td>\n",
              "      <td>M</td>\n",
              "    </tr>\n",
              "    <tr>\n",
              "      <td>3414</td>\n",
              "      <td>3414</td>\n",
              "      <td>p013593</td>\n",
              "      <td>55</td>\n",
              "      <td>F</td>\n",
              "    </tr>\n",
              "    <tr>\n",
              "      <td>...</td>\n",
              "      <td>...</td>\n",
              "      <td>...</td>\n",
              "      <td>...</td>\n",
              "      <td>...</td>\n",
              "    </tr>\n",
              "    <tr>\n",
              "      <td>21421</td>\n",
              "      <td>21421</td>\n",
              "      <td>p088466</td>\n",
              "      <td>74</td>\n",
              "      <td>M</td>\n",
              "    </tr>\n",
              "    <tr>\n",
              "      <td>21749</td>\n",
              "      <td>21749</td>\n",
              "      <td>p076028</td>\n",
              "      <td>75</td>\n",
              "      <td>M</td>\n",
              "    </tr>\n",
              "    <tr>\n",
              "      <td>21750</td>\n",
              "      <td>21750</td>\n",
              "      <td>p076028</td>\n",
              "      <td>75</td>\n",
              "      <td>M</td>\n",
              "    </tr>\n",
              "    <tr>\n",
              "      <td>21751</td>\n",
              "      <td>21751</td>\n",
              "      <td>p076028</td>\n",
              "      <td>75</td>\n",
              "      <td>M</td>\n",
              "    </tr>\n",
              "    <tr>\n",
              "      <td>21752</td>\n",
              "      <td>21752</td>\n",
              "      <td>p076028</td>\n",
              "      <td>75</td>\n",
              "      <td>M</td>\n",
              "    </tr>\n",
              "  </tbody>\n",
              "</table>\n",
              "<p>198 rows × 4 columns</p>\n",
              "</div>"
            ]
          },
          "metadata": {
            "tags": []
          },
          "execution_count": 28
        }
      ]
    },
    {
      "cell_type": "code",
      "metadata": {
        "id": "vjeknYU9yQ9L",
        "colab_type": "code",
        "colab": {}
      },
      "source": [
        ""
      ],
      "execution_count": null,
      "outputs": []
    }
  ]
}