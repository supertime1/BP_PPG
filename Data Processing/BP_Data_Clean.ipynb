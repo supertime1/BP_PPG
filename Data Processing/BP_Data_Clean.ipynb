{
  "nbformat": 4,
  "nbformat_minor": 0,
  "metadata": {
    "kernelspec": {
      "display_name": "Python 3",
      "language": "python",
      "name": "python3"
    },
    "language_info": {
      "codemirror_mode": {
        "name": "ipython",
        "version": 3
      },
      "file_extension": ".py",
      "mimetype": "text/x-python",
      "name": "python",
      "nbconvert_exporter": "python",
      "pygments_lexer": "ipython3",
      "version": "3.7.3"
    },
    "colab": {
      "name": "BP_Data_Clean.ipynb",
      "provenance": [],
      "collapsed_sections": [],
      "include_colab_link": true
    }
  },
  "cells": [
    {
      "cell_type": "markdown",
      "metadata": {
        "id": "view-in-github",
        "colab_type": "text"
      },
      "source": [
        "<a href=\"https://colab.research.google.com/github/supertime1/BP_PPG/blob/master/Data%20Processing/BP_Data_Clean.ipynb\" target=\"_parent\"><img src=\"https://colab.research.google.com/assets/colab-badge.svg\" alt=\"Open In Colab\"/></a>"
      ]
    },
    {
      "cell_type": "markdown",
      "metadata": {
        "id": "XicF29ysTjJQ",
        "colab_type": "text"
      },
      "source": [
        "#1.Introduction"
      ]
    },
    {
      "cell_type": "markdown",
      "metadata": {
        "id": "dhN12jIRTooB",
        "colab_type": "text"
      },
      "source": [
        "This notebook processes the ABP and PPG signals from MIMIC-III waveform database.\n",
        "(https://archive.physionet.org/physiobank/database/mimic3wdb/matched/ ）\n",
        "\n",
        "\n",
        "The output of this notebook is PPG signals with 5s segements at 125 Hz, with systolic and diastolic BP as numeric labels. The output data will be used to train a PPG_BP model in PPG_BP notebook.\n"
      ]
    },
    {
      "cell_type": "markdown",
      "metadata": {
        "id": "RSWS896N6DID",
        "colab_type": "text"
      },
      "source": [
        "The data cleaning and preprocessing is inspired by the following workflow, with some minor modification for our own application, where the order is:\n",
        "1. Normalization\n",
        "2. Segmentation\n",
        "3. Flat line removal\n",
        "4. Band-pass filter\n",
        "5. Hampel filter"
      ]
    },
    {
      "cell_type": "markdown",
      "metadata": {
        "id": "Pnp28rMOdJT9",
        "colab_type": "text"
      },
      "source": [
        "#2.Setup Environment"
      ]
    },
    {
      "cell_type": "code",
      "metadata": {
        "id": "F_ZSkQAudJT_",
        "colab_type": "code",
        "colab": {}
      },
      "source": [
        "%matplotlib inline\n",
        "from IPython.display import display\n",
        "import pandas as pd\n",
        "import matplotlib.pyplot as plt\n",
        "import numpy as np\n",
        "import os\n",
        "import glob\n",
        "import wfdb\n",
        "import sklearn\n",
        "from sklearn import preprocessing\n",
        "import io\n",
        "import pickle\n",
        "import numba\n",
        "from numba import jit\n",
        "import tensorflow as tf\n",
        "from scipy.signal import find_peaks"
      ],
      "execution_count": 1,
      "outputs": []
    },
    {
      "cell_type": "markdown",
      "metadata": {
        "id": "2kiGC1-qse4g",
        "colab_type": "text"
      },
      "source": [
        "#3.Mine ABP and PPG data from WFDB"
      ]
    },
    {
      "cell_type": "code",
      "metadata": {
        "id": "nsptUR58slz4",
        "colab_type": "code",
        "colab": {
          "base_uri": "https://localhost:8080/",
          "height": 34
        },
        "outputId": "1124dd20-7d0c-4bc8-aa82-241ac23fda5e"
      },
      "source": [
        "hd_names = []\n",
        "for name in glob.glob(\"D:/WFDB//matched/p*/*/[0-9]*[!layout][!n].dat\"):\n",
        "  if os.path.getsize(name) < 17*1024:\n",
        "    continue\n",
        "  position = name.index('.')\n",
        "  name = name[0:position] #remove the .hea part to comply the wfdb.rdrecord format\n",
        "  hd_names.append(name)\n",
        "print(\"There are total \", len(hd_names), \"records that are bigger than 17kb\")"
      ],
      "execution_count": null,
      "outputs": [
        {
          "output_type": "stream",
          "text": [
            "There are total  363716 records that are bigger than 17kb\n"
          ],
          "name": "stdout"
        }
      ]
    },
    {
      "cell_type": "code",
      "metadata": {
        "id": "M0TPbvudO55W",
        "colab_type": "code",
        "colab": {
          "base_uri": "https://localhost:8080/",
          "height": 34
        },
        "outputId": "d307630a-127d-416e-f1e5-5e55edd5133a"
      },
      "source": [
        "qualified_names = [] #a list of file names that contain both PPG and ABP waveforms\n",
        "for name in hd_names:\n",
        "  record = wfdb.rdheader(name)\n",
        "  if 'ABP' in record.sig_name and 'PLETH' in record.sig_name and record.sig_len >= 75000: #only extract records contrains ECG lead I and PPG, and >=10min\n",
        "    qualified_names.append(name)\n",
        "print('There are total', len(qualified_names), 'records that have both ABP and PPG with more than 10min recording')\n",
        "\n",
        "with open('D:/WFDB//matched/BP/qualified_names.pkl', \"wb\") as fp:\n",
        "  pickle.dump(qualified_names, fp)"
      ],
      "execution_count": null,
      "outputs": [
        {
          "output_type": "stream",
          "text": [
            "There are total 54440 records that have both ABP and PPG with more than 10min recording\n"
          ],
          "name": "stdout"
        }
      ]
    },
    {
      "cell_type": "code",
      "metadata": {
        "id": "7bA2-VJfVWSh",
        "colab_type": "code",
        "colab": {}
      },
      "source": [
        "#mine data and save to patient specific file if patient = True; otherwise, save data on every 500 samples\n",
        "#qualified_names: from previous cell\n",
        "#directory: directory to save the mined data\n",
        "def mine_data(qualified_names, directory, patient = True):\n",
        "\n",
        "  if patient == True:\n",
        "    prev_id = qualified_names[0].split('\\\\')[2]\n",
        "    ABP_signals = [] #create a  list to store all  ABP signals\n",
        "    PPG_signals = [] #create a  list to store all  PPG signals\n",
        "\n",
        "    for name in qualified_names[:1000]:\n",
        "      record = wfdb.rdrecord(name)\n",
        "      ABP_index = record.sig_name.index('ABP')\n",
        "      PPG_index = record.sig_name.index('PLETH')\n",
        "      ABP_sig = record.p_signal.T[ABP_index]\n",
        "      PPG_sig = record.p_signal.T[PPG_index]\n",
        "\n",
        "      if np.isnan(ABP_sig).any() or np.isnan(PPG_sig).any(): ##remove signal with NA\n",
        "        continue\n",
        "\n",
        "      #group signals of same subject id into one list\n",
        "      #extact Subject ID\n",
        "      s_id = name.split('\\\\')[2]\n",
        "\n",
        "      if s_id == prev_id:\n",
        "        ABP_signals.append(ABP_sig)\n",
        "        PPG_signals.append(PPG_sig)\n",
        "        continue\n",
        "\n",
        "      else:\n",
        "        #save ABP data of previous id\n",
        "        if len(ABP_signals) != 0 or len(PPG_signals) != 0: #in case signals of qualified_names[0] is empty\n",
        "          with open(directory + 'ABP_signals_'+ prev_id + '.pkl', \"wb\") as fp:\n",
        "            pickle.dump(ABP_signals, fp)\n",
        "          #save PPG data of previous id\n",
        "          with open(directory + 'PPG_signals_'+ prev_id + '.pkl', \"wb\") as fp:\n",
        "            pickle.dump(PPG_signals, fp)\n",
        "\n",
        "        #clear up space in the list\n",
        "        ABP_signals.clear()\n",
        "        PPG_signals.clear()\n",
        "\n",
        "        #save data of current s_id\n",
        "        ABP_signals.append(ABP_sig)\n",
        "        PPG_signals.append(PPG_sig)\n",
        "        prev_id = s_id\n",
        "\n",
        "  \n",
        "  #if patient != true\n",
        "  else:\n",
        "    ABP_signals = [] #create a  list to store all  ABP signals\n",
        "    PPG_signals = [] #create a  list to store all  PPG signals\n",
        "    n=0\n",
        "    for name in qualified_names:\n",
        "      record = wfdb.rdrecord(name)\n",
        "      ABP_index = record.sig_name.index('ABP')\n",
        "      PPG_index = record.sig_name.index('PLETH')\n",
        "      ABP_sig = record.p_signal.T[ABP_index]\n",
        "      PPG_sig = record.p_signal.T[PPG_index]\n",
        "\n",
        "      if np.isnan(ABP_sig).any() or np.isnan(PPG_sig).any(): ##remove list with all empty signals\n",
        "        continue\n",
        "      else:\n",
        "        ABP_signals.append(ABP_sig)\n",
        "        PPG_signals.append(PPG_sig)\n",
        "        n+=1\n",
        "      \n",
        "      #for every 500 samples, save to disk to release the RAM space\n",
        "      if n%100 == 0:\n",
        "        print(\"saving data No.\" + str(n//100))\n",
        "        #save ABP data\n",
        "        with open(directory + 'ABP_signals_'+str(n//100)+'.pkl', \"wb\") as fp:\n",
        "          pickle.dump(ABP_signals, fp)\n",
        "        #save PPG data\n",
        "        with open(directory + 'PPG_signals_'+str(n//100)+'.pkl', \"wb\") as fp:\n",
        "          pickle.dump(PPG_signals, fp)\n",
        "        #clear up space in the list\n",
        "        ABP_signals.clear()\n",
        "        PPG_signals.clear()\n",
        "\n",
        "      else:\n",
        "        continue\n",
        "    \n",
        "      #save the last <100 ABP data\n",
        "      with open(directory + 'ABP_signals_'+str(n//100 + 1)+'.pkl', \"wb\") as fp:\n",
        "        pickle.dump(ABP_signals, fp)\n",
        "      #save the last <500 PPG data\n",
        "      with open(directory + 'PPG_signals_'+str(n//100 + 1)+'.pkl', \"wb\") as fp:\n",
        "        pickle.dump(PPG_signals, fp)\n",
        "\n",
        "  return None"
      ],
      "execution_count": null,
      "outputs": []
    },
    {
      "cell_type": "code",
      "metadata": {
        "id": "KIlcYt5y6IPJ",
        "colab_type": "code",
        "colab": {}
      },
      "source": [
        "directory = 'D:/WFDB//matched/BP/'\n",
        "mine_data(qualified_names, directory, patient=True)"
      ],
      "execution_count": null,
      "outputs": []
    },
    {
      "cell_type": "markdown",
      "metadata": {
        "id": "_Kay94gJU4qQ",
        "colab_type": "text"
      },
      "source": [
        "#4.Process PPG and ABP raw data"
      ]
    },
    {
      "cell_type": "code",
      "metadata": {
        "id": "8lpuLK5nBSIi",
        "colab_type": "code",
        "colab": {}
      },
      "source": [
        "with open('D:/WFDB//matched/BP/PPG_signals_p000188.pkl', \"rb\") as fp:\n",
        "  PPG_raw_signals = pickle.load(fp)"
      ],
      "execution_count": 2,
      "outputs": []
    },
    {
      "cell_type": "code",
      "metadata": {
        "id": "mEArMyv_mRrd",
        "colab_type": "code",
        "colab": {}
      },
      "source": [
        "with open('D:/WFDB//matched/BP/ABP_signals_p000188.pkl', \"rb\") as fp:\n",
        "  ABP_raw_signals = pickle.load(fp)"
      ],
      "execution_count": 3,
      "outputs": []
    },
    {
      "cell_type": "code",
      "metadata": {
        "id": "eSfIrEYhhOTB",
        "colab_type": "code",
        "colab": {
          "base_uri": "https://localhost:8080/",
          "height": 355
        },
        "outputId": "0be7f646-3345-4623-bd22-8aa29889e219"
      },
      "source": [
        "plt.plot(PPG_raw_signals[2],label=\"PPG\")\n",
        "plt.plot(ABP_raw_signals[2],label=\"ABP\")\n",
        "plt.legend()"
      ],
      "execution_count": 4,
      "outputs": [
        {
          "output_type": "execute_result",
          "data": {
            "text/plain": [
              "<matplotlib.legend.Legend at 0x14745a405c8>"
            ]
          },
          "metadata": {
            "tags": []
          },
          "execution_count": 4
        },
        {
          "output_type": "stream",
          "text": [
            "C:\\Users\\57lzhang.US04WW4008\\Anaconda3\\lib\\site-packages\\IPython\\core\\events.py:88: UserWarning: Creating legend with loc=\"best\" can be slow with large amounts of data.\n",
            "  func(*args, **kwargs)\n",
            "C:\\Users\\57lzhang.US04WW4008\\Anaconda3\\lib\\site-packages\\IPython\\core\\pylabtools.py:128: UserWarning: Creating legend with loc=\"best\" can be slow with large amounts of data.\n",
            "  fig.canvas.print_figure(bytes_io, **kw)\n"
          ],
          "name": "stderr"
        },
        {
          "output_type": "display_data",
          "data": {
            "text/plain": [
              "<Figure size 432x288 with 1 Axes>"
            ],
            "image/png": "[encoded data removed]"
          },
          "metadata": {
            "tags": [],
            "needs_background": "light"
          }
        }
      ]
    },
    {
      "cell_type": "markdown",
      "metadata": {
        "id": "tTzpEES4CDQP",
        "colab_type": "text"
      },
      "source": [
        "##4.1 Flat line removal"
      ]
    },
    {
      "cell_type": "markdown",
      "metadata": {
        "id": "0LoBBj9wIGiB",
        "colab_type": "text"
      },
      "source": [
        "To remove the flatline of a record: if 10% of the signals are made of flatline, then the entire record is removed. The flatline is defined as the change of consecutive points is smaller than a pre-defined threshold. In this notebook, the threshold has been set to 0, whereas a more reasonable value would come from histgram analysis of diff.\n"
      ]
    },
    {
      "cell_type": "code",
      "metadata": {
        "id": "LRgQ3jT1CIeH",
        "colab_type": "code",
        "colab": {}
      },
      "source": [
        "##flat_line: This function removes records that has flat_line region more than /\n",
        "##            percentage of the record\n",
        "##INPUT:\n",
        "##      signals: raw PPG or ABP signals with dim (# of records, # of points)\n",
        "##      threshold: threshold of the \"change of consecutive points\" to be defined/\n",
        "##                 as flat point\n",
        "##      percent: the the flat_line region is more than this percentage, the entire/\n",
        "##                record will be removed\n",
        "def flat_line(signals,threshold = 0, percent = .10):\n",
        "  clean_signals = []\n",
        "  #create a list to store the index of the removed segments, this will be used\n",
        "  #to remove the PPG signals with same index\n",
        "  rm_list = []\n",
        "  for i in range(len(signals)):\n",
        "    #use np.diff to find consecutive points: diff = [i] - [i+1]\n",
        "    signal_diff = np.diff(signals[i])\n",
        "    #change value less than threshold to 0, and the rest to 1\n",
        "    less = np.abs(signal_diff) <= threshold\n",
        "    more = np.abs(signal_diff) > threshold\n",
        "    signal_diff[less] = 0\n",
        "    signal_diff[more] = 1\n",
        "    #calculate what percent of 0 in the signal, remove the entire signal if \n",
        "    #percentage is higher than defined percent\n",
        "    zero_per = np.sum(signal_diff==0)/len(signal_diff)\n",
        "    if zero_per < percent:\n",
        "      clean_signals.append(signals[i])\n",
        "    else:\n",
        "      rm_list.append(i)\n",
        "    \n",
        "    #track the progress for impatient programmer\n",
        "    #if i%10000 == 0:\n",
        "      #print(\"Processing on\", i, \"th sample\")\n",
        "\n",
        "  return clean_signals,rm_list"
      ],
      "execution_count": 6,
      "outputs": []
    },
    {
      "cell_type": "markdown",
      "metadata": {
        "id": "iruM4RvIDRQv",
        "colab_type": "text"
      },
      "source": [
        "###4.1.1 PPG flat line removal"
      ]
    },
    {
      "cell_type": "code",
      "metadata": {
        "colab_type": "code",
        "id": "kcW7Am7G8PFV",
        "colab": {}
      },
      "source": [
        "PPG_clean_signals,PPG_rm_list = flat_line(PPG_raw_signals,0,percent=0.10)"
      ],
      "execution_count": 7,
      "outputs": []
    },
    {
      "cell_type": "code",
      "metadata": {
        "colab_type": "code",
        "id": "xVx-GgH-8PFY",
        "colab": {
          "base_uri": "https://localhost:8080/",
          "height": 52
        },
        "outputId": "d83246cd-3d33-45f4-e4d1-4f21aa0d9545"
      },
      "source": [
        "print('There are',len(PPG_clean_signals),'accepted PPG segments')\n",
        "print('There are',len(PPG_rm_list),'rejected PPG segements that have flat line region more than ~10%')"
      ],
      "execution_count": 8,
      "outputs": [
        {
          "output_type": "stream",
          "text": [
            "There are 9 accepted PPG segments\n",
            "There are 0 rejected PPG segements that have flat line region more than ~10%\n"
          ],
          "name": "stdout"
        }
      ]
    },
    {
      "cell_type": "code",
      "metadata": {
        "colab_type": "code",
        "id": "zuQdYKGy8PFa",
        "colab": {}
      },
      "source": [
        "#take the fist 100 samples to see the rejected segements\n",
        "for i in range(len(PPG_rm_list[:50])):\n",
        "  x = PPG_rm_list[i]\n",
        "  plt.figure()\n",
        "  plt.plot(PPG_raw_signals[x])"
      ],
      "execution_count": null,
      "outputs": []
    },
    {
      "cell_type": "markdown",
      "metadata": {
        "id": "jVBo3YbxCUXf",
        "colab_type": "text"
      },
      "source": [
        "###4.1.2 ABP flat line removal"
      ]
    },
    {
      "cell_type": "code",
      "metadata": {
        "id": "DIyAA1sMmyxM",
        "colab_type": "code",
        "colab": {}
      },
      "source": [
        "ABP_clean_signals,ABP_rm_list = flat_line(ABP_raw_signals,0,percent=0.10)"
      ],
      "execution_count": 9,
      "outputs": []
    },
    {
      "cell_type": "code",
      "metadata": {
        "id": "JWkoFT9ZLCim",
        "colab_type": "code",
        "colab": {
          "base_uri": "https://localhost:8080/",
          "height": 52
        },
        "outputId": "1a8e3e37-8a57-4c12-978b-e9b118e34284"
      },
      "source": [
        "print('There are',len(ABP_clean_signals),'accepted ABP segments')\n",
        "print('There are',len(ABP_rm_list),'rejected ABP segements that have flat line region more than ~12%')"
      ],
      "execution_count": 10,
      "outputs": [
        {
          "output_type": "stream",
          "text": [
            "There are 9 accepted ABP segments\n",
            "There are 0 rejected ABP segements that have flat line region more than ~12%\n"
          ],
          "name": "stdout"
        }
      ]
    },
    {
      "cell_type": "code",
      "metadata": {
        "id": "wv1fNGhdV3C0",
        "colab_type": "code",
        "colab": {}
      },
      "source": [
        "#take the fist 100 samples to see the rejected segements\n",
        "for i in range(len(ABP_rm_list[:100])):\n",
        "  x = ABP_rm_list[i]\n",
        "  plt.figure()\n",
        "  plt.plot(ABP_raw_signals[x])"
      ],
      "execution_count": null,
      "outputs": []
    },
    {
      "cell_type": "markdown",
      "metadata": {
        "id": "sg7gx84Y9yqp",
        "colab_type": "text"
      },
      "source": [
        "###4.1.3 Remove flat ABP and PPG \n"
      ]
    },
    {
      "cell_type": "code",
      "metadata": {
        "id": "4lhWn9bH-Fau",
        "colab_type": "code",
        "colab": {
          "base_uri": "https://localhost:8080/",
          "height": 34
        },
        "outputId": "3f5aa84c-7f30-495b-a442-452fa617e94c"
      },
      "source": [
        "#join the two lists rm_list from ECG, and PPG_rm_list\n",
        "ABP_list = pd.DataFrame(ABP_rm_list)\n",
        "PPG_list = pd.DataFrame(PPG_rm_list)\n",
        "try:\n",
        "  total_list = ABP_list.merge(PPG_list,how=\"outer\")\n",
        "except:\n",
        "  total_list = pd.concat([ABP_list,PPG_list],axis=0)\n",
        "print('There are in total',len(total_list),\"flat line segments in the joint list\")"
      ],
      "execution_count": 11,
      "outputs": [
        {
          "output_type": "stream",
          "text": [
            "There are in total 0 flat line segments in the joint list\n"
          ],
          "name": "stdout"
        }
      ]
    },
    {
      "cell_type": "code",
      "metadata": {
        "id": "-NW4LyYLdpt9",
        "colab_type": "code",
        "colab": {
          "base_uri": "https://localhost:8080/",
          "height": 52
        },
        "outputId": "109e96d0-6cc8-4db5-9b3e-26f39180fd83"
      },
      "source": [
        "ABP_cl_signals = np.delete(ABP_raw_signals,total_list,0)\n",
        "PPG_cl_signals = np.delete(PPG_raw_signals,total_list,0)\n",
        "print('There are in total',len(ABP_cl_signals),\"accepted ABP segments\")\n",
        "print('There are in total',len(PPG_cl_signals),\"accepted PPG segments\")"
      ],
      "execution_count": 12,
      "outputs": [
        {
          "output_type": "stream",
          "text": [
            "There are in total 9 accepted ABP segments\n",
            "There are in total 9 accepted PPG segments\n"
          ],
          "name": "stdout"
        }
      ]
    },
    {
      "cell_type": "markdown",
      "metadata": {
        "id": "M-bj3TgaDIM3",
        "colab_type": "text"
      },
      "source": [
        "##4.2 Segmentation"
      ]
    },
    {
      "cell_type": "markdown",
      "metadata": {
        "id": "OyM3ugyFCA79",
        "colab_type": "text"
      },
      "source": [
        "###4.2.1 Turn records into 1min segs"
      ]
    },
    {
      "cell_type": "code",
      "metadata": {
        "id": "yCFauiD-DMSe",
        "colab_type": "code",
        "colab": {}
      },
      "source": [
        "#generate_segment_data: This function segement each record into a list of 1min signals\n",
        "#input: \n",
        "#      source: records that have a flat line less than 10% or other predefined threshold\n",
        "#      seg_len: the lenght of the output signal, for 125Hz sampling rate data, seg_len\n",
        "#               is set to be 125 * 60 = 7500 for 1 min output\n",
        "#output: a list of 1 mins signals from each records\n",
        "def generate_segment_data(source,seg_len):\n",
        "  signals =[]\n",
        "  for signal in source:\n",
        "    for i in range(int(len(signal)/seg_len)):\n",
        "      seg = signal[seg_len*i:seg_len*(i+1)]\n",
        "      signals.append(seg)\n",
        "#convert list into a numpy array and change its dim from (num of records, seg_len, 1) to (num of records, seg_len)\n",
        "  signals = np.asarray(list(map(lambda x: np.reshape(x,seg_len),signals)))\n",
        "\n",
        "  return signals"
      ],
      "execution_count": 13,
      "outputs": []
    },
    {
      "cell_type": "code",
      "metadata": {
        "id": "7mukifspDQa5",
        "colab_type": "code",
        "colab": {
          "base_uri": "https://localhost:8080/",
          "height": 34
        },
        "outputId": "7adac59c-976a-4111-eefc-4947c665e0c8"
      },
      "source": [
        "ABP_seg_signals = generate_segment_data(ABP_cl_signals, 7500)\n",
        "print('ABP segmented signals dim:', ABP_seg_signals.shape)"
      ],
      "execution_count": 14,
      "outputs": [
        {
          "output_type": "stream",
          "text": [
            "ABP segmented signals dim: (3368, 7500)\n"
          ],
          "name": "stdout"
        }
      ]
    },
    {
      "cell_type": "code",
      "metadata": {
        "id": "_D1UdVbODQ8t",
        "colab_type": "code",
        "colab": {
          "base_uri": "https://localhost:8080/",
          "height": 34
        },
        "outputId": "e34fc60c-ff7c-4f3e-f9d2-c051ad2557a8"
      },
      "source": [
        "PPG_seg_signals = generate_segment_data(PPG_cl_signals, 7500)\n",
        "print('PPG segmented signals dim:', PPG_seg_signals.shape)"
      ],
      "execution_count": 15,
      "outputs": [
        {
          "output_type": "stream",
          "text": [
            "PPG segmented signals dim: (3368, 7500)\n"
          ],
          "name": "stdout"
        }
      ]
    },
    {
      "cell_type": "markdown",
      "metadata": {
        "id": "gUoyqUAfCLEV",
        "colab_type": "text"
      },
      "source": [
        "###4.2.2 Apply flat_line on seg level"
      ]
    },
    {
      "cell_type": "code",
      "metadata": {
        "id": "KK61Y7tcB8lm",
        "colab_type": "code",
        "colab": {}
      },
      "source": [
        "#lower tolerance for ABP since this will be used to generate ground truth\n",
        "ABP_seg_clean_signals,ABP_seg_rm_list = flat_line(ABP_seg_signals,0,percent=0.02)"
      ],
      "execution_count": 16,
      "outputs": []
    },
    {
      "cell_type": "code",
      "metadata": {
        "id": "jWjBZblNCZHG",
        "colab_type": "code",
        "colab": {}
      },
      "source": [
        "#higher tolerance for PPG since the DL algorithm needs to have some robustness\n",
        "PPG_seg_clean_signals,PPG_seg_rm_list = flat_line(PPG_seg_signals,0,percent=0.05)"
      ],
      "execution_count": 17,
      "outputs": []
    },
    {
      "cell_type": "code",
      "metadata": {
        "id": "kAgOKNTbCrlT",
        "colab_type": "code",
        "colab": {
          "base_uri": "https://localhost:8080/",
          "height": 34
        },
        "outputId": "7c26121d-a9b4-4a15-e65a-cef169775468"
      },
      "source": [
        "#join the two lists rm_list from ECG, and PPG_rm_list\n",
        "ABP_seg_list = pd.DataFrame(ABP_seg_rm_list)\n",
        "PPG_seg_list = pd.DataFrame(PPG_seg_rm_list)\n",
        "try:\n",
        "  total_seg_list = ABP_seg_list.merge(PPG_seg_list,how=\"outer\")\n",
        "except:\n",
        "  total_seg_list = pd.concat([ABP_seg_list,PPG_seg_list],axis=0)\n",
        "print('There are in total',len(total_seg_list),\"flat line segments in the joint list\")"
      ],
      "execution_count": 18,
      "outputs": [
        {
          "output_type": "stream",
          "text": [
            "There are in total 2405 flat line segments in the joint list\n"
          ],
          "name": "stdout"
        }
      ]
    },
    {
      "cell_type": "code",
      "metadata": {
        "id": "RRQTupHECwjH",
        "colab_type": "code",
        "colab": {
          "base_uri": "https://localhost:8080/",
          "height": 52
        },
        "outputId": "fe2b0814-3247-4c9c-dce0-979f9bd896b0"
      },
      "source": [
        "ABP_seg_cl_signals = np.delete(ABP_seg_signals,total_seg_list,0)\n",
        "PPG_seg_cl_signals = np.delete(PPG_seg_signals,total_seg_list,0)\n",
        "print('There are in total',len(ABP_seg_cl_signals),\"accepted ABP segments\")\n",
        "print('There are in total',len(PPG_seg_cl_signals),\"accepted PPG segments\")"
      ],
      "execution_count": 19,
      "outputs": [
        {
          "output_type": "stream",
          "text": [
            "There are in total 963 accepted ABP segments\n",
            "There are in total 963 accepted PPG segments\n"
          ],
          "name": "stdout"
        }
      ]
    },
    {
      "cell_type": "markdown",
      "metadata": {
        "id": "yGjZb6Gv26QM",
        "colab_type": "text"
      },
      "source": [
        "##4.3 Process ABP data"
      ]
    },
    {
      "cell_type": "markdown",
      "metadata": {
        "id": "9ZObF_rfDtTN",
        "colab_type": "text"
      },
      "source": [
        "###4.3.1 Peak Segmentation"
      ]
    },
    {
      "cell_type": "markdown",
      "metadata": {
        "id": "iSq2vaybKJ72",
        "colab_type": "text"
      },
      "source": [
        "Do another segementation for ABP based on each peak (i.e. segement 1min signals into each heart beat cycle)\n",
        "\n"
      ]
    },
    {
      "cell_type": "code",
      "metadata": {
        "id": "Ynj6-Qk6AKsu",
        "colab_type": "code",
        "colab": {}
      },
      "source": [
        "def peak_segmentation(signal,distance = 50):\n",
        "  valleys, _ = find_peaks(signal*-1, distance=distance)\n",
        "  \n",
        "  segments = []\n",
        "  for i in range(len(valleys)-1):\n",
        "    seg = signal[valleys[i]:valleys[i+1]]\n",
        "    segments.append(seg)\n",
        "  \n",
        "  return segments"
      ],
      "execution_count": 20,
      "outputs": []
    },
    {
      "cell_type": "code",
      "metadata": {
        "id": "l5gdyfOiI2GH",
        "colab_type": "code",
        "colab": {
          "base_uri": "https://localhost:8080/",
          "height": 52
        },
        "outputId": "e52edc02-3257-41b6-e619-cfcc8cd6f3a1"
      },
      "source": [
        "ABP_ps_signals = [peak_segmentation(i) for i in ABP_seg_cl_signals]\n",
        "print('ABP 1min segmented signals dim:', ABP_seg_cl_signals.shape)\n",
        "print('ABP cycle segmented signals no. of samples:(',len(ABP_ps_signals),', No.of cycles, No.of points/cycle)')"
      ],
      "execution_count": 21,
      "outputs": [
        {
          "output_type": "stream",
          "text": [
            "ABP 1min segmented signals dim: (963, 7500)\n",
            "ABP cycle segmented signals no. of samples:( 963 , No.of cycles, No.of points/cycle)\n"
          ],
          "name": "stdout"
        }
      ]
    },
    {
      "cell_type": "markdown",
      "metadata": {
        "id": "TYM1-Hp0Dx0Z",
        "colab_type": "text"
      },
      "source": [
        "###4.3.2 Flat peak removal"
      ]
    },
    {
      "cell_type": "code",
      "metadata": {
        "id": "TZeeUx1MIqZu",
        "colab_type": "code",
        "colab": {}
      },
      "source": [
        "#flat_peak: remove cycles that has flat peak in a 1min signal\n",
        "#input: cycles: 1 min signals that consisits many heart beat cycles\n",
        "#       tolerance: number of acceptable flat point \n",
        "#output: cleaned 1 min signals by removing flat peak cycles\n",
        "def flat_peak(cycles, tolerance = 1):\n",
        "  \n",
        "  clean_cycles = []\n",
        "\n",
        "  for i in range(len(cycles)):\n",
        "    if len(np.argwhere(cycles[i] == np.amax(cycles[i]))) > tolerance:\n",
        "      continue;\n",
        "    else: \n",
        "      clean_cycles.append(cycles[i])\n",
        "\n",
        "  return clean_cycles"
      ],
      "execution_count": 22,
      "outputs": []
    },
    {
      "cell_type": "code",
      "metadata": {
        "id": "kTTz-EoJNfgj",
        "colab_type": "code",
        "colab": {}
      },
      "source": [
        "#flat_peak_remove:remove 1min segements that has flat peak\n",
        "#input: signals: A list of list (i.e. a list of 1 min signals that contains cyclic segments: ABP_ps_signals)\n",
        "#       seg_ratio: threhold to remove the whole 1min signal (i.e. if the ratio of \n",
        "#                   \"No. of cleaned flat peak cycles\"/\"No. of original 1min cycles\" \n",
        "#                   is less than this treshold, then the whole 1min signal of cycles will be removed )\n",
        "#output: cleaned_segments: a list of cleaned 1min signals\n",
        "#        remova_index: a list of removed 1min signals\n",
        "def flat_peak_remove(signals, seg_ratio = 0.95, tolerance = 1):\n",
        "\n",
        "  clean_segments = []\n",
        "  remove_index = [] \n",
        "\n",
        "  for i in range(len(signals)):\n",
        "    #in case some lists are empty\n",
        "    if signals[i] == []: \n",
        "      remove_index.append(i) \n",
        "      continue  \n",
        "\n",
        "    clean_cycles = flat_peak(signals[i],tolerance)\n",
        "    \n",
        "    if len(clean_cycles)/(len(signals[i])) < seg_ratio: \n",
        "      remove_index.append(i)\n",
        "      continue\n",
        "    \n",
        "    clean_segments.append(clean_cycles)\n",
        "\n",
        "  return clean_segments, remove_index"
      ],
      "execution_count": 23,
      "outputs": []
    },
    {
      "cell_type": "code",
      "metadata": {
        "id": "-RD8f125VM3z",
        "colab_type": "code",
        "colab": {}
      },
      "source": [
        "ABP_fpr_signals, remove_index = flat_peak_remove(ABP_ps_signals,0.95,1)"
      ],
      "execution_count": 24,
      "outputs": []
    },
    {
      "cell_type": "code",
      "metadata": {
        "id": "6fgZu3DdYp90",
        "colab_type": "code",
        "colab": {
          "base_uri": "https://localhost:8080/",
          "height": 52
        },
        "outputId": "c587efe6-1a69-40a2-e539-71d73eeb347b"
      },
      "source": [
        "print('ABP 1min segmented signals that has more than 10% cycles has flat peak:', len(remove_index))\n",
        "print('Cleaned ABP 1min segmented signals:', len(ABP_fpr_signals))"
      ],
      "execution_count": 25,
      "outputs": [
        {
          "output_type": "stream",
          "text": [
            "ABP 1min segmented signals that has more than 10% cycles has flat peak: 878\n",
            "Cleaned ABP 1min segmented signals: 85\n"
          ],
          "name": "stdout"
        }
      ]
    },
    {
      "cell_type": "code",
      "metadata": {
        "id": "YW-YBClMUPev",
        "colab_type": "code",
        "colab": {
          "base_uri": "https://localhost:8080/",
          "height": 264
        },
        "outputId": "02b82ebe-3392-417a-cbea-8cd1e330b4ab"
      },
      "source": [
        "for i in range(len(ABP_ps_signals[remove_index[5]])):\n",
        "  plt.figure\n",
        "  plt.plot(ABP_ps_signals[remove_index[5]][i])"
      ],
      "execution_count": null,
      "outputs": [
        {
          "output_type": "display_data",
          "data": {
            "text/plain": [
              "<Figure size 432x288 with 1 Axes>"
            ],
            "image/png": "[encoded data removed]"
          },
          "metadata": {
            "tags": [],
            "needs_background": "light"
          }
        }
      ]
    },
    {
      "cell_type": "code",
      "metadata": {
        "id": "CyDxouak_8os",
        "colab_type": "code",
        "colab": {
          "base_uri": "https://localhost:8080/",
          "height": 264
        },
        "outputId": "908b418d-6520-4ef4-ac12-8425182156d0"
      },
      "source": [
        "for i in range(len(ABP_fpr_signals[4])):\n",
        "  plt.plot(ABP_fpr_signals[4][i])"
      ],
      "execution_count": null,
      "outputs": [
        {
          "output_type": "display_data",
          "data": {
            "text/plain": [
              "<Figure size 432x288 with 1 Axes>"
            ],
            "image/png": "[encoded data removed]"
          },
          "metadata": {
            "tags": [],
            "needs_background": "light"
          }
        }
      ]
    },
    {
      "cell_type": "markdown",
      "metadata": {
        "id": "HcxmKaU7aWXi",
        "colab_type": "text"
      },
      "source": [
        "###4.3.3 Remove PPG data\n",
        "\n",
        "Remove PPG data that overlaps with ABP remove_index, since no ground truth BP value can be generated for those PPG data"
      ]
    },
    {
      "cell_type": "code",
      "metadata": {
        "id": "PVYP8nOrbIBl",
        "colab_type": "code",
        "colab": {
          "base_uri": "https://localhost:8080/",
          "height": 52
        },
        "outputId": "c070e9dc-1f49-422d-9e3a-0b84208da5fc"
      },
      "source": [
        "PPG_fpr_signals = np.delete(PPG_seg_cl_signals,remove_index,0)\n",
        "print('There are in total',len(ABP_fpr_signals),\"accepted ABP 1min segments\")\n",
        "print('There are in total',len(PPG_fpr_signals),\"accepted PPG 1min segments\")"
      ],
      "execution_count": 26,
      "outputs": [
        {
          "output_type": "stream",
          "text": [
            "There are in total 85 accepted ABP 1min segments\n",
            "There are in total 85 accepted PPG 1min segments\n"
          ],
          "name": "stdout"
        }
      ]
    },
    {
      "cell_type": "markdown",
      "metadata": {
        "id": "zc2bZmtRdMcB",
        "colab_type": "text"
      },
      "source": [
        "###4.3.4 Generate ground truth"
      ]
    },
    {
      "cell_type": "code",
      "metadata": {
        "id": "VRxBSD1-fhu7",
        "colab_type": "code",
        "colab": {}
      },
      "source": [
        "#bp_ground_truth: A function that returns average systolic and diastolic value \n",
        "#                  of a 1min data\n",
        "#Inputs: signals: ABP_fpr_signals\n",
        "#      tolerance: acceptable fluctuations (max - min) of either systolic and diastolic \\\n",
        "#                 during a 1min measurement\n",
        "#outputs: gt_ls: a list of ground truth for a list of 1min signals\n",
        "#         remove_index: a list of 1 min signals that has either systolic or diastolic \\\n",
        "#                       fluctuation > tolerance mmHg\n",
        "def bp_ground_truth(signals, tolerance = 15):\n",
        "  gt_ls = []\n",
        "  remove_index = []\n",
        "  for i in range(len(signals)):\n",
        "    cycles = signals[i]    #a list of cycles in 1min signal\n",
        "    \n",
        "    cyc_sys_list = []\n",
        "    cyc_dia_list = []\n",
        "    for j in range(len(cycles)):\n",
        "      cyc_sys_list.append(max(cycles[j]))\n",
        "      cyc_dia_list.append(cycles[j][0])\n",
        "\n",
        "    if np.max(np.asarray(cyc_sys_list)) - np.min(np.asarray(cyc_sys_list)) > tolerance \\\n",
        "    or np.max(np.asarray(cyc_dia_list)) - np.min(np.asarray(cyc_dia_list)) > tolerance:\n",
        "      remove_index.append(i)\n",
        "      continue\n",
        "\n",
        "    else: gt_ls.append([np.average(np.asarray(cyc_sys_list)),\n",
        "                  np.average(np.asarray(cyc_dia_list)), len(cyc_sys_list)])\n",
        "\n",
        "  return gt_ls, remove_index"
      ],
      "execution_count": 27,
      "outputs": []
    },
    {
      "cell_type": "code",
      "metadata": {
        "id": "BTLbQW4_dL-g",
        "colab_type": "code",
        "colab": {
          "base_uri": "https://localhost:8080/",
          "height": 34
        },
        "outputId": "004b87a3-8b8b-4beb-fc35-27cbdab196d6"
      },
      "source": [
        "gt_ls, gt_rm_ls = bp_ground_truth(ABP_fpr_signals, 15)\n",
        "print(\"Ground truth list has\", len(gt_ls), \"samples\")"
      ],
      "execution_count": 28,
      "outputs": [
        {
          "output_type": "stream",
          "text": [
            "Ground truth list has 53 samples\n"
          ],
          "name": "stdout"
        }
      ]
    },
    {
      "cell_type": "code",
      "metadata": {
        "id": "uZQ6f25XkFG0",
        "colab_type": "code",
        "colab": {
          "base_uri": "https://localhost:8080/",
          "height": 52
        },
        "outputId": "de2b81ba-c95b-4bf5-dffd-f5db293273b5"
      },
      "source": [
        "PPG_gt_signals = np.delete(PPG_fpr_signals,gt_rm_ls,0)\n",
        "ABP_gt_signals = np.delete(ABP_fpr_signals,gt_rm_ls,0)\n",
        "print('There are in total',len(gt_ls),\"accepted ABP labels\")\n",
        "print('There are in total',len(PPG_gt_signals),\"accepted PPG 1min segments\")"
      ],
      "execution_count": 30,
      "outputs": [
        {
          "output_type": "stream",
          "text": [
            "There are in total 53 accepted ABP labels\n",
            "There are in total 53 accepted PPG 1min segments\n"
          ],
          "name": "stdout"
        }
      ]
    },
    {
      "cell_type": "code",
      "metadata": {
        "id": "69apzaqfCG1i",
        "colab_type": "code",
        "colab": {}
      },
      "source": [
        "for n in range(len(ABP_gt_signals)):\n",
        "  plt.figure()\n",
        "  for i in range(len(ABP_gt_signals[n])):\n",
        "    plt.plot(ABP_gt_signals[n][i])"
      ],
      "execution_count": null,
      "outputs": []
    },
    {
      "cell_type": "markdown",
      "metadata": {
        "id": "1Mqw63y27xsj",
        "colab_type": "text"
      },
      "source": [
        "##4.4 Process PPG raw data\n",
        "Only do scaling(standardization), bandpass and hempal on PPG signals, not on ABP, since APB's waveform will be the groundtruth for blood pressure."
      ]
    },
    {
      "cell_type": "markdown",
      "metadata": {
        "id": "-rPVYsRHw_MR",
        "colab_type": "text"
      },
      "source": [
        "###4.4.1 Scaling"
      ]
    },
    {
      "cell_type": "code",
      "metadata": {
        "colab_type": "code",
        "id": "VxJmIquU7SBo",
        "colab": {
          "base_uri": "https://localhost:8080/",
          "height": 34
        },
        "outputId": "b366810f-8119-41f1-f280-d371b17e66ca"
      },
      "source": [
        "#use robust_scale instead of scale to leave out outliers\n",
        "PPG_norm_signals = [sklearn.preprocessing.robust_scale(i) for i in PPG_gt_signals]\n",
        "print(\"After re-scaling, there are:\", len(PPG_norm_signals), \"PPG records\")"
      ],
      "execution_count": null,
      "outputs": [
        {
          "output_type": "stream",
          "text": [
            "After re-scaling, there are: 53 PPG records\n"
          ],
          "name": "stdout"
        }
      ]
    },
    {
      "cell_type": "code",
      "metadata": {
        "colab_type": "code",
        "id": "lDYaFYlX7SB6",
        "colab": {
          "base_uri": "https://localhost:8080/",
          "height": 282
        },
        "outputId": "15fcc541-f6a5-4219-e056-37d5ab6d4dda"
      },
      "source": [
        "plt.plot(PPG_gt_signals[0],label=\"sample 1 BEFORE scaling\")\n",
        "plt.plot(PPG_gt_signals[10],label=\"sample 2 BEFORE scaling\")\n",
        "plt.legend()"
      ],
      "execution_count": null,
      "outputs": [
        {
          "output_type": "execute_result",
          "data": {
            "text/plain": [
              "<matplotlib.legend.Legend at 0x2163edae7c8>"
            ]
          },
          "metadata": {
            "tags": []
          },
          "execution_count": 96
        },
        {
          "output_type": "display_data",
          "data": {
            "text/plain": [
              "<Figure size 432x288 with 1 Axes>"
            ],
            "image/png": "[encoded data removed]"
          },
          "metadata": {
            "tags": [],
            "needs_background": "light"
          }
        }
      ]
    },
    {
      "cell_type": "code",
      "metadata": {
        "colab_type": "code",
        "id": "eDvThqlT7SB-",
        "colab": {
          "base_uri": "https://localhost:8080/",
          "height": 282
        },
        "outputId": "b8386f0c-d976-4d47-c3a3-2c0896eb20d5"
      },
      "source": [
        "plt.plot(PPG_norm_signals[0],label=\"sample 1 AFTER scaling\")\n",
        "plt.plot(PPG_norm_signals[10],label=\"sample 2 AFTER scaling\")\n",
        "plt.legend()"
      ],
      "execution_count": null,
      "outputs": [
        {
          "output_type": "execute_result",
          "data": {
            "text/plain": [
              "<matplotlib.legend.Legend at 0x2163ee1c888>"
            ]
          },
          "metadata": {
            "tags": []
          },
          "execution_count": 97
        },
        {
          "output_type": "display_data",
          "data": {
            "text/plain": [
              "<Figure size 432x288 with 1 Axes>"
            ],
            "image/png": "[encoded data removed]"
          },
          "metadata": {
            "tags": [],
            "needs_background": "light"
          }
        }
      ]
    },
    {
      "cell_type": "markdown",
      "metadata": {
        "id": "d1-4_EAvrXl3",
        "colab_type": "text"
      },
      "source": [
        "###4.4.2 Band pass filter\n",
        "\n"
      ]
    },
    {
      "cell_type": "code",
      "metadata": {
        "id": "1zfB0Sk6ricU",
        "colab_type": "code",
        "colab": {}
      },
      "source": [
        "from scipy.signal import butter, lfilter\n",
        "def butter_bandpass(lowcut, highcut, fs, order=4):\n",
        "    nyq = 0.5 * fs\n",
        "    low = lowcut / nyq\n",
        "    high = highcut / nyq\n",
        "    b, a = butter(order, [low, high], btype='band')\n",
        "    return b, a\n",
        "\n",
        "\n",
        "def butter_bandpass_filter(data, lowcut, highcut, fs, order=4):\n",
        "    b, a = butter_bandpass(lowcut, highcut, fs, order=order)\n",
        "    y = lfilter(b, a, data)\n",
        "    return y"
      ],
      "execution_count": 34,
      "outputs": []
    },
    {
      "cell_type": "code",
      "metadata": {
        "id": "fMwyTjz7Udzs",
        "colab_type": "code",
        "colab": {
          "base_uri": "https://localhost:8080/",
          "height": 34
        },
        "outputId": "b5b1d5fb-71ae-41dc-c0cd-6a8c81c586c9"
      },
      "source": [
        "PPG_bf_signals =[butter_bandpass_filter(i,0.5,8,125,order=4) for i in PPG_norm_signals]\n",
        "print(\"After band pass filtering, there are:\", len(PPG_bf_signals), \"PPG records\")"
      ],
      "execution_count": null,
      "outputs": [
        {
          "output_type": "stream",
          "text": [
            "After band pass filtering, there are: 53 PPG records\n"
          ],
          "name": "stdout"
        }
      ]
    },
    {
      "cell_type": "code",
      "metadata": {
        "id": "uQjarVPYaqFM",
        "colab_type": "code",
        "colab": {
          "base_uri": "https://localhost:8080/",
          "height": 531
        },
        "outputId": "bbc78481-8191-4be4-d05f-6ad1517e6b61"
      },
      "source": [
        "plt.plot(PPG_norm_signals[28][:1000],label=\"PPG before band pass filtering\")\n",
        "plt.legend()\n",
        "plt.figure()\n",
        "plt.plot(PPG_bf_signals[28][:1000], label=\"PPG after band pass filtering\")\n",
        "plt.legend()"
      ],
      "execution_count": null,
      "outputs": [
        {
          "output_type": "execute_result",
          "data": {
            "text/plain": [
              "<matplotlib.legend.Legend at 0x2163eea3bc8>"
            ]
          },
          "metadata": {
            "tags": []
          },
          "execution_count": 100
        },
        {
          "output_type": "display_data",
          "data": {
            "text/plain": [
              "<Figure size 432x288 with 1 Axes>"
            ],
            "image/png": "[encoded data removed]"
          },
          "metadata": {
            "tags": [],
            "needs_background": "light"
          }
        },
        {
          "output_type": "display_data",
          "data": {
            "text/plain": [
              "<Figure size 432x288 with 1 Axes>"
            ],
            "image/png": "[encoded data removed]"
          },
          "metadata": {
            "tags": [],
            "needs_background": "light"
          }
        }
      ]
    },
    {
      "cell_type": "markdown",
      "metadata": {
        "id": "RCZPoUzwxHGz",
        "colab_type": "text"
      },
      "source": [
        "###4.4.3 Hampel filter"
      ]
    },
    {
      "cell_type": "markdown",
      "metadata": {
        "id": "sh6h1Jprh7bc",
        "colab_type": "text"
      },
      "source": [
        "The efffectiveness of hampel filter depends on how we play the two parameters: window_size and number of sigmas. "
      ]
    },
    {
      "cell_type": "code",
      "metadata": {
        "id": "sc14FBigPpsZ",
        "colab_type": "code",
        "colab": {}
      },
      "source": [
        "#use numba to improve the speed of for loop\n",
        "@jit(nopython=True)\n",
        "def hampel_filter_forloop_numba(input_series, window_size, n_sigmas=3):\n",
        "    \n",
        "    n = len(input_series)\n",
        "    new_series = input_series.copy()\n",
        "    k = 1.4826 # scale factor for Gaussian distribution\n",
        "    #indices = []\n",
        "    \n",
        "    for i in range((window_size),(n - window_size)):\n",
        "        x0 = np.nanmedian(input_series[(i - window_size):(i + window_size)])\n",
        "        S0 = k * np.nanmedian(np.abs(input_series[(i - window_size):(i + window_size)] - x0))\n",
        "        if (np.abs(input_series[i] - x0) > n_sigmas * S0):\n",
        "            new_series[i] = x0\n",
        "            #indices.append(i)\n",
        "    \n",
        "    return new_series#, indices"
      ],
      "execution_count": 35,
      "outputs": []
    },
    {
      "cell_type": "code",
      "metadata": {
        "id": "TG28brvIW3yS",
        "colab_type": "code",
        "colab": {
          "base_uri": "https://localhost:8080/",
          "height": 34
        },
        "outputId": "da0145f2-f8c8-4583-957f-ba5112cada8f"
      },
      "source": [
        "PPG_hf_signals = [hampel_filter_forloop_numba(i, 6) for i in PPG_bf_signals]\n",
        "print(\"After Hample filtering, there are:\", len(PPG_hf_signals), \"PPG segments\")"
      ],
      "execution_count": null,
      "outputs": [
        {
          "output_type": "stream",
          "text": [
            "After Hample filtering, there are: 53 PPG segments\n"
          ],
          "name": "stdout"
        }
      ]
    },
    {
      "cell_type": "code",
      "metadata": {
        "id": "FT3rUni-a0o8",
        "colab_type": "code",
        "colab": {
          "base_uri": "https://localhost:8080/",
          "height": 282
        },
        "outputId": "1cf9d28e-133a-46f0-c213-0d0e5c2ca01d"
      },
      "source": [
        "plt.plot(PPG_bf_signals[1][400:805], label = \"before hampel filter\")\n",
        "plt.plot(PPG_hf_signals[1][400:805], label = \"after hampel filter\")\n",
        "plt.legend()"
      ],
      "execution_count": null,
      "outputs": [
        {
          "output_type": "execute_result",
          "data": {
            "text/plain": [
              "<matplotlib.legend.Legend at 0x2163f648f48>"
            ]
          },
          "metadata": {
            "tags": []
          },
          "execution_count": 103
        },
        {
          "output_type": "display_data",
          "data": {
            "text/plain": [
              "<Figure size 432x288 with 1 Axes>"
            ],
            "image/png": "[encoded data removed]"
          },
          "metadata": {
            "tags": [],
            "needs_background": "light"
          }
        }
      ]
    },
    {
      "cell_type": "markdown",
      "metadata": {
        "id": "8GUON2zTFmmJ",
        "colab_type": "text"
      },
      "source": [
        "# 5.Applied above steps to all data"
      ]
    },
    {
      "cell_type": "code",
      "metadata": {
        "id": "_I17_KbRBaQR",
        "colab_type": "code",
        "colab": {}
      },
      "source": [
        "def process_data(directory):\n",
        "  #load data\n",
        "  ABP_names = glob.glob(directory + \"ABP*.pkl\")\n",
        "  PPG_names = glob.glob(directory + \"PPG*.pkl\")\n",
        "  assert(len(ABP_names) == len(PPG_names))\n",
        "  for i in range(len(ABP_names)):\n",
        "    \n",
        "    print(\"processing\", i, \"th data\")\n",
        "\n",
        "    with open(ABP_names[i], \"rb\") as fp:\n",
        "      ABP_raw_signals = pickle.load(fp)\n",
        "\n",
        "    with open(PPG_names[i], \"rb\") as fp:\n",
        "      PPG_raw_signals = pickle.load(fp)\n",
        "\n",
        "    #substract subject id\n",
        "    s_id_pkl = ABP_names[i].split('_')[2]\n",
        "    s_id = s_id_pkl.split('.')[0]\n",
        "\n",
        "    #remove flat lines on record level: ABP: 10%, PPG: 10%\n",
        "    _, PPG_rm_list = flat_line(PPG_raw_signals,0,percent=0.10)\n",
        "    _, ABP_rm_list = flat_line(ABP_raw_signals,0,percent=0.10)\n",
        "    \n",
        "    ABP_list = pd.DataFrame(ABP_rm_list)\n",
        "    PPG_list = pd.DataFrame(PPG_rm_list)\n",
        "\n",
        "    try:\n",
        "      total_list = ABP_list.merge(PPG_list,how=\"outer\")\n",
        "    except:\n",
        "      total_list = pd.concat([ABP_list,PPG_list],axis=0)\n",
        "      \n",
        "    ABP_cl_signals = np.delete(ABP_raw_signals,total_list,0)\n",
        "    PPG_cl_signals = np.delete(PPG_raw_signals,total_list,0)  \n",
        "\n",
        "    #segment into 1min data\n",
        "    ABP_seg_signals = generate_segment_data(ABP_cl_signals, 7500)\n",
        "    PPG_seg_signals = generate_segment_data(PPG_cl_signals, 7500)\n",
        "\n",
        "    #remove flat lines on 1min segment level: ABP: 2%, PPG: 5%\n",
        "    _, ABP_seg_rm_list = flat_line(ABP_seg_signals,0,percent=0.02)\n",
        "    _, PPG_seg_rm_list = flat_line(PPG_seg_signals,0,percent=0.05)\n",
        "\n",
        "    ABP_seg_list = pd.DataFrame(ABP_seg_rm_list)\n",
        "    PPG_seg_list = pd.DataFrame(PPG_seg_rm_list)\n",
        "\n",
        "    try:\n",
        "      total_seg_list = ABP_seg_list.merge(PPG_seg_list,how=\"outer\")\n",
        "    except:\n",
        "      total_seg_list = pd.concat([ABP_seg_list,PPG_seg_list],axis=0)\n",
        "    \n",
        "    ABP_seg_cl_signals = np.delete(ABP_seg_signals,total_seg_list,0)\n",
        "    PPG_seg_cl_signals = np.delete(PPG_seg_signals,total_seg_list,0)\n",
        "\n",
        "    #PROCESS ABP SIGNAL\n",
        "    #1.peak segmentation: distance = 50\n",
        "    ABP_ps_signals = [peak_segmentation(i, distance = 50) for i in ABP_seg_cl_signals]\n",
        "    #2.flat peak removal: seg_ratio = 0.95, tolerance = 1\n",
        "    ABP_fpr_signals, remove_index = flat_peak_remove(ABP_ps_signals,0.95,1)\n",
        "    #3.remove corresponding PPG signal\n",
        "    PPG_fpr_signals = np.delete(PPG_seg_cl_signals,remove_index,0)\n",
        "    #4.generate ground truth ABP: tolerance = 15 mmHg\n",
        "    gt_ls, gt_rm_list= bp_ground_truth(ABP_fpr_signals, tolerance=15)\n",
        "    #5.remove corresponding PPG signals\n",
        "    PPG_gt_signals = np.delete(PPG_fpr_signals,gt_rm_list,0)\n",
        "\n",
        "    #PROCESS PPG SIGNAL\n",
        "    #1.standardize PPG signal\n",
        "    PPG_norm_signals = [sklearn.preprocessing.robust_scale(i) for i in PPG_gt_signals]\n",
        "    #2.band pass filter on PPG sinal\n",
        "    PPG_bf_signals =[butter_bandpass_filter(i,0.5,8,125,order=4) for i in PPG_norm_signals]\n",
        "    #3. hampel filter\n",
        "    PPG_hf_signals = [hampel_filter_forloop_numba(i, 6) for i in PPG_bf_signals]\n",
        "    #4. resample signal\n",
        "    ##PLACEHOLDER for resampling signal to a lower frequency, if needed\n",
        "    with open(directory + \"BP_data\" + \"_\" + s_id, \"wb\") as fp:\n",
        "      pickle.dump(PPG_hf_signals,fp)\n",
        "\n",
        "    with open(directory + \"BP_label\" + \"_\" + s_id, \"wb\") as fp:\n",
        "      pickle.dump(gt_ls,fp)\n",
        "\n",
        "  return None"
      ],
      "execution_count": 31,
      "outputs": []
    },
    {
      "cell_type": "code",
      "metadata": {
        "id": "tvxOyz5DD3zN",
        "colab_type": "code",
        "colab": {}
      },
      "source": [
        "directory = 'D:/WFDB//matched/BP/'\n",
        "process_data(directory)"
      ],
      "execution_count": null,
      "outputs": []
    },
    {
      "cell_type": "code",
      "metadata": {
        "id": "OOli1ZypHxyx",
        "colab_type": "code",
        "colab": {}
      },
      "source": [
        "#compare to process_data function, new_process_data function removes the record level flat line removal step\n",
        "def new_process_data(directory):\n",
        "  #load data\n",
        "  ABP_names = glob.glob(directory + \"Data Mining/Original Data - Patient/ABP*.pkl\")\n",
        "  PPG_names = glob.glob(directory + \"Data Mining/Original Data - Patient/PPG*.pkl\")\n",
        "  assert(len(ABP_names) == len(PPG_names))\n",
        "  for i in range(len(ABP_names)):\n",
        "    \n",
        "    print(\"processing\", i, \"th data\")\n",
        "\n",
        "    with open(ABP_names[i], \"rb\") as fp:\n",
        "      ABP_raw_signals = pickle.load(fp)\n",
        "\n",
        "    with open(PPG_names[i], \"rb\") as fp:\n",
        "      PPG_raw_signals = pickle.load(fp)\n",
        "\n",
        "    #substract subject id\n",
        "    s_id_pkl = ABP_names[i].split('_')[2]\n",
        "    s_id = s_id_pkl.split('.')[0]\n",
        "\n",
        "    #segment into 1min data\n",
        "    ABP_seg_signals = generate_segment_data(ABP_raw_signals, 7500)\n",
        "    PPG_seg_signals = generate_segment_data(PPG_raw_signals, 7500)\n",
        "\n",
        "    #remove flat lines on 1min segment level: ABP: 2%, PPG: 5%\n",
        "    _, ABP_seg_rm_list = flat_line(ABP_seg_signals,0,percent=0.02)\n",
        "    _, PPG_seg_rm_list = flat_line(PPG_seg_signals,0,percent=0.05)\n",
        "\n",
        "    ABP_seg_list = pd.DataFrame(ABP_seg_rm_list)\n",
        "    PPG_seg_list = pd.DataFrame(PPG_seg_rm_list)\n",
        "\n",
        "    try:\n",
        "      total_seg_list = ABP_seg_list.merge(PPG_seg_list,how=\"outer\")\n",
        "    except:\n",
        "      total_seg_list = pd.concat([ABP_seg_list,PPG_seg_list],axis=0)\n",
        "    \n",
        "    ABP_seg_cl_signals = np.delete(ABP_seg_signals,total_seg_list,0)\n",
        "    PPG_seg_cl_signals = np.delete(PPG_seg_signals,total_seg_list,0)\n",
        "\n",
        "    #PROCESS ABP SIGNAL\n",
        "    #1.peak segmentation: distance = 50\n",
        "    ABP_ps_signals = [peak_segmentation(i, distance = 50) for i in ABP_seg_cl_signals]\n",
        "    #2.flat peak removal: seg_ratio = 0.95, tolerance = 1\n",
        "    ABP_fpr_signals, remove_index = flat_peak_remove(ABP_ps_signals,0.95,1)\n",
        "    #3.remove corresponding PPG signal\n",
        "    PPG_fpr_signals = np.delete(PPG_seg_cl_signals,remove_index,0)\n",
        "    #4.generate ground truth ABP and HR: tolerance = 15 mmHg\n",
        "    gt_ls, gt_rm_list= bp_ground_truth(ABP_fpr_signals, tolerance=15)\n",
        "    #5.remove corresponding PPG signals\n",
        "    PPG_gt_signals = np.delete(PPG_fpr_signals,gt_rm_list,0)\n",
        "\n",
        "    #PROCESS PPG SIGNAL\n",
        "    #1.standardize PPG signal\n",
        "    PPG_norm_signals = [sklearn.preprocessing.robust_scale(i) for i in PPG_gt_signals]\n",
        "    #2.band pass filter on PPG sinal\n",
        "    PPG_bf_signals =[butter_bandpass_filter(i,0.5,8,125,order=4) for i in PPG_norm_signals]\n",
        "    #3. hampel filter\n",
        "    PPG_hf_signals = [hampel_filter_forloop_numba(i, 6) for i in PPG_bf_signals]\n",
        "    #4. resample signal\n",
        "    ##PLACEHOLDER for resampling signal to a lower frequency, if needed\n",
        "    with open(directory +\"BP_Data_Clean/new patient BP HR data/data/\" + \"new_BP_data_\" + s_id, \"wb\") as fp:\n",
        "      pickle.dump(PPG_hf_signals,fp)\n",
        "\n",
        "    with open(directory +\"BP_Data_Clean/new patient BP HR data/label/\" + \"new_\"+\"BP_label\" + \"_\" + s_id, \"wb\") as fp:\n",
        "      pickle.dump(gt_ls,fp)\n",
        "\n",
        "  return None"
      ],
      "execution_count": 42,
      "outputs": []
    },
    {
      "cell_type": "code",
      "metadata": {
        "id": "C0pPU3FoIRG4",
        "colab_type": "code",
        "colab": {
          "base_uri": "https://localhost:8080/",
          "height": 1000
        },
        "outputId": "5f6e82a8-62cb-4703-c5ba-b443271cb74e"
      },
      "source": [
        "directory = 'D:/WFDB//matched/BP/'\n",
        "new_process_data(directory)"
      ],
      "execution_count": 43,
      "outputs": [
        {
          "output_type": "stream",
          "text": [
            "processing 0 th data\n",
            "processing 1 th data\n",
            "processing 2 th data\n",
            "processing 3 th data\n",
            "processing 4 th data\n",
            "processing 5 th data\n",
            "processing 6 th data\n",
            "processing 7 th data\n",
            "processing 8 th data\n",
            "processing 9 th data\n",
            "processing 10 th data\n",
            "processing 11 th data\n",
            "processing 12 th data\n",
            "processing 13 th data\n",
            "processing 14 th data\n",
            "processing 15 th data\n",
            "processing 16 th data\n",
            "processing 17 th data\n",
            "processing 18 th data\n",
            "processing 19 th data\n",
            "processing 20 th data\n",
            "processing 21 th data\n",
            "processing 22 th data\n",
            "processing 23 th data\n",
            "processing 24 th data\n",
            "processing 25 th data\n",
            "processing 26 th data\n",
            "processing 27 th data\n",
            "processing 28 th data\n",
            "processing 29 th data\n",
            "processing 30 th data\n",
            "processing 31 th data\n",
            "processing 32 th data\n",
            "processing 33 th data\n",
            "processing 34 th data\n",
            "processing 35 th data\n",
            "processing 36 th data\n",
            "processing 37 th data\n",
            "processing 38 th data\n",
            "processing 39 th data\n",
            "processing 40 th data\n",
            "processing 41 th data\n",
            "processing 42 th data\n",
            "processing 43 th data\n",
            "processing 44 th data\n",
            "processing 45 th data\n",
            "processing 46 th data\n",
            "processing 47 th data\n",
            "processing 48 th data\n",
            "processing 49 th data\n",
            "processing 50 th data\n",
            "processing 51 th data\n",
            "processing 52 th data\n",
            "processing 53 th data\n",
            "processing 54 th data\n",
            "processing 55 th data\n",
            "processing 56 th data\n",
            "processing 57 th data\n",
            "processing 58 th data\n",
            "processing 59 th data\n",
            "processing 60 th data\n",
            "processing 61 th data\n",
            "processing 62 th data\n",
            "processing 63 th data\n",
            "processing 64 th data\n",
            "processing 65 th data\n",
            "processing 66 th data\n",
            "processing 67 th data\n",
            "processing 68 th data\n",
            "processing 69 th data\n",
            "processing 70 th data\n",
            "processing 71 th data\n",
            "processing 72 th data\n",
            "processing 73 th data\n",
            "processing 74 th data\n",
            "processing 75 th data\n",
            "processing 76 th data\n",
            "processing 77 th data\n",
            "processing 78 th data\n",
            "processing 79 th data\n",
            "processing 80 th data\n",
            "processing 81 th data\n",
            "processing 82 th data\n",
            "processing 83 th data\n",
            "processing 84 th data\n",
            "processing 85 th data\n",
            "processing 86 th data\n",
            "processing 87 th data\n",
            "processing 88 th data\n",
            "processing 89 th data\n",
            "processing 90 th data\n",
            "processing 91 th data\n",
            "processing 92 th data\n",
            "processing 93 th data\n",
            "processing 94 th data\n",
            "processing 95 th data\n",
            "processing 96 th data\n",
            "processing 97 th data\n",
            "processing 98 th data\n",
            "processing 99 th data\n",
            "processing 100 th data\n",
            "processing 101 th data\n",
            "processing 102 th data\n",
            "processing 103 th data\n",
            "processing 104 th data\n",
            "processing 105 th data\n",
            "processing 106 th data\n",
            "processing 107 th data\n",
            "processing 108 th data\n",
            "processing 109 th data\n",
            "processing 110 th data\n",
            "processing 111 th data\n",
            "processing 112 th data\n",
            "processing 113 th data\n",
            "processing 114 th data\n",
            "processing 115 th data\n",
            "processing 116 th data\n",
            "processing 117 th data\n",
            "processing 118 th data\n",
            "processing 119 th data\n",
            "processing 120 th data\n",
            "processing 121 th data\n",
            "processing 122 th data\n",
            "processing 123 th data\n",
            "processing 124 th data\n",
            "processing 125 th data\n",
            "processing 126 th data\n",
            "processing 127 th data\n",
            "processing 128 th data\n",
            "processing 129 th data\n",
            "processing 130 th data\n",
            "processing 131 th data\n",
            "processing 132 th data\n",
            "processing 133 th data\n",
            "processing 134 th data\n",
            "processing 135 th data\n",
            "processing 136 th data\n",
            "processing 137 th data\n",
            "processing 138 th data\n",
            "processing 139 th data\n",
            "processing 140 th data\n",
            "processing 141 th data\n",
            "processing 142 th data\n",
            "processing 143 th data\n",
            "processing 144 th data\n",
            "processing 145 th data\n",
            "processing 146 th data\n",
            "processing 147 th data\n",
            "processing 148 th data\n",
            "processing 149 th data\n",
            "processing 150 th data\n",
            "processing 151 th data\n",
            "processing 152 th data\n",
            "processing 153 th data\n",
            "processing 154 th data\n",
            "processing 155 th data\n",
            "processing 156 th data\n",
            "processing 157 th data\n",
            "processing 158 th data\n",
            "processing 159 th data\n",
            "processing 160 th data\n",
            "processing 161 th data\n",
            "processing 162 th data\n",
            "processing 163 th data\n",
            "processing 164 th data\n",
            "processing 165 th data\n",
            "processing 166 th data\n",
            "processing 167 th data\n",
            "processing 168 th data\n",
            "processing 169 th data\n",
            "processing 170 th data\n",
            "processing 171 th data\n",
            "processing 172 th data\n",
            "processing 173 th data\n",
            "processing 174 th data\n",
            "processing 175 th data\n",
            "processing 176 th data\n",
            "processing 177 th data\n",
            "processing 178 th data\n",
            "processing 179 th data\n",
            "processing 180 th data\n",
            "processing 181 th data\n",
            "processing 182 th data\n",
            "processing 183 th data\n",
            "processing 184 th data\n",
            "processing 185 th data\n",
            "processing 186 th data\n",
            "processing 187 th data\n",
            "processing 188 th data\n",
            "processing 189 th data\n",
            "processing 190 th data\n",
            "processing 191 th data\n",
            "processing 192 th data\n",
            "processing 193 th data\n",
            "processing 194 th data\n",
            "processing 195 th data\n",
            "processing 196 th data\n",
            "processing 197 th data\n",
            "processing 198 th data\n",
            "processing 199 th data\n",
            "processing 200 th data\n",
            "processing 201 th data\n",
            "processing 202 th data\n",
            "processing 203 th data\n",
            "processing 204 th data\n",
            "processing 205 th data\n",
            "processing 206 th data\n",
            "processing 207 th data\n",
            "processing 208 th data\n",
            "processing 209 th data\n",
            "processing 210 th data\n",
            "processing 211 th data\n",
            "processing 212 th data\n",
            "processing 213 th data\n",
            "processing 214 th data\n",
            "processing 215 th data\n",
            "processing 216 th data\n",
            "processing 217 th data\n",
            "processing 218 th data\n",
            "processing 219 th data\n",
            "processing 220 th data\n",
            "processing 221 th data\n",
            "processing 222 th data\n",
            "processing 223 th data\n",
            "processing 224 th data\n",
            "processing 225 th data\n",
            "processing 226 th data\n",
            "processing 227 th data\n",
            "processing 228 th data\n",
            "processing 229 th data\n",
            "processing 230 th data\n",
            "processing 231 th data\n",
            "processing 232 th data\n",
            "processing 233 th data\n",
            "processing 234 th data\n",
            "processing 235 th data\n",
            "processing 236 th data\n",
            "processing 237 th data\n",
            "processing 238 th data\n",
            "processing 239 th data\n",
            "processing 240 th data\n",
            "processing 241 th data\n",
            "processing 242 th data\n",
            "processing 243 th data\n",
            "processing 244 th data\n",
            "processing 245 th data\n",
            "processing 246 th data\n",
            "processing 247 th data\n",
            "processing 248 th data\n",
            "processing 249 th data\n",
            "processing 250 th data\n",
            "processing 251 th data\n",
            "processing 252 th data\n",
            "processing 253 th data\n",
            "processing 254 th data\n",
            "processing 255 th data\n",
            "processing 256 th data\n",
            "processing 257 th data\n",
            "processing 258 th data\n",
            "processing 259 th data\n",
            "processing 260 th data\n",
            "processing 261 th data\n",
            "processing 262 th data\n",
            "processing 263 th data\n",
            "processing 264 th data\n",
            "processing 265 th data\n",
            "processing 266 th data\n",
            "processing 267 th data\n",
            "processing 268 th data\n",
            "processing 269 th data\n",
            "processing 270 th data\n",
            "processing 271 th data\n",
            "processing 272 th data\n",
            "processing 273 th data\n",
            "processing 274 th data\n",
            "processing 275 th data\n",
            "processing 276 th data\n",
            "processing 277 th data\n",
            "processing 278 th data\n",
            "processing 279 th data\n",
            "processing 280 th data\n",
            "processing 281 th data\n",
            "processing 282 th data\n",
            "processing 283 th data\n",
            "processing 284 th data\n",
            "processing 285 th data\n",
            "processing 286 th data\n",
            "processing 287 th data\n",
            "processing 288 th data\n",
            "processing 289 th data\n",
            "processing 290 th data\n",
            "processing 291 th data\n",
            "processing 292 th data\n",
            "processing 293 th data\n",
            "processing 294 th data\n",
            "processing 295 th data\n",
            "processing 296 th data\n",
            "processing 297 th data\n",
            "processing 298 th data\n",
            "processing 299 th data\n",
            "processing 300 th data\n",
            "processing 301 th data\n",
            "processing 302 th data\n",
            "processing 303 th data\n",
            "processing 304 th data\n",
            "processing 305 th data\n",
            "processing 306 th data\n",
            "processing 307 th data\n",
            "processing 308 th data\n",
            "processing 309 th data\n",
            "processing 310 th data\n",
            "processing 311 th data\n",
            "processing 312 th data\n",
            "processing 313 th data\n",
            "processing 314 th data\n",
            "processing 315 th data\n",
            "processing 316 th data\n",
            "processing 317 th data\n",
            "processing 318 th data\n",
            "processing 319 th data\n",
            "processing 320 th data\n",
            "processing 321 th data\n",
            "processing 322 th data\n",
            "processing 323 th data\n",
            "processing 324 th data\n",
            "processing 325 th data\n",
            "processing 326 th data\n",
            "processing 327 th data\n",
            "processing 328 th data\n",
            "processing 329 th data\n",
            "processing 330 th data\n",
            "processing 331 th data\n",
            "processing 332 th data\n",
            "processing 333 th data\n",
            "processing 334 th data\n",
            "processing 335 th data\n",
            "processing 336 th data\n",
            "processing 337 th data\n",
            "processing 338 th data\n",
            "processing 339 th data\n",
            "processing 340 th data\n",
            "processing 341 th data\n",
            "processing 342 th data\n",
            "processing 343 th data\n",
            "processing 344 th data\n",
            "processing 345 th data\n",
            "processing 346 th data\n",
            "processing 347 th data\n",
            "processing 348 th data\n",
            "processing 349 th data\n",
            "processing 350 th data\n",
            "processing 351 th data\n",
            "processing 352 th data\n",
            "processing 353 th data\n",
            "processing 354 th data\n",
            "processing 355 th data\n",
            "processing 356 th data\n",
            "processing 357 th data\n",
            "processing 358 th data\n",
            "processing 359 th data\n",
            "processing 360 th data\n",
            "processing 361 th data\n",
            "processing 362 th data\n",
            "processing 363 th data\n",
            "processing 364 th data\n",
            "processing 365 th data\n",
            "processing 366 th data\n",
            "processing 367 th data\n",
            "processing 368 th data\n",
            "processing 369 th data\n",
            "processing 370 th data\n",
            "processing 371 th data\n",
            "processing 372 th data\n",
            "processing 373 th data\n",
            "processing 374 th data\n",
            "processing 375 th data\n",
            "processing 376 th data\n",
            "processing 377 th data\n",
            "processing 378 th data\n",
            "processing 379 th data\n",
            "processing 380 th data\n",
            "processing 381 th data\n",
            "processing 382 th data\n",
            "processing 383 th data\n",
            "processing 384 th data\n",
            "processing 385 th data\n",
            "processing 386 th data\n",
            "processing 387 th data\n",
            "processing 388 th data\n",
            "processing 389 th data\n",
            "processing 390 th data\n",
            "processing 391 th data\n",
            "processing 392 th data\n",
            "processing 393 th data\n",
            "processing 394 th data\n",
            "processing 395 th data\n",
            "processing 396 th data\n",
            "processing 397 th data\n",
            "processing 398 th data\n",
            "processing 399 th data\n",
            "processing 400 th data\n",
            "processing 401 th data\n",
            "processing 402 th data\n",
            "processing 403 th data\n",
            "processing 404 th data\n",
            "processing 405 th data\n",
            "processing 406 th data\n",
            "processing 407 th data\n",
            "processing 408 th data\n",
            "processing 409 th data\n",
            "processing 410 th data\n",
            "processing 411 th data\n",
            "processing 412 th data\n",
            "processing 413 th data\n",
            "processing 414 th data\n",
            "processing 415 th data\n",
            "processing 416 th data\n",
            "processing 417 th data\n",
            "processing 418 th data\n",
            "processing 419 th data\n",
            "processing 420 th data\n",
            "processing 421 th data\n",
            "processing 422 th data\n",
            "processing 423 th data\n",
            "processing 424 th data\n",
            "processing 425 th data\n",
            "processing 426 th data\n",
            "processing 427 th data\n",
            "processing 428 th data\n",
            "processing 429 th data\n",
            "processing 430 th data\n",
            "processing 431 th data\n",
            "processing 432 th data\n",
            "processing 433 th data\n",
            "processing 434 th data\n",
            "processing 435 th data\n",
            "processing 436 th data\n",
            "processing 437 th data\n",
            "processing 438 th data\n",
            "processing 439 th data\n",
            "processing 440 th data\n",
            "processing 441 th data\n",
            "processing 442 th data\n",
            "processing 443 th data\n",
            "processing 444 th data\n",
            "processing 445 th data\n",
            "processing 446 th data\n",
            "processing 447 th data\n",
            "processing 448 th data\n",
            "processing 449 th data\n",
            "processing 450 th data\n",
            "processing 451 th data\n",
            "processing 452 th data\n",
            "processing 453 th data\n",
            "processing 454 th data\n",
            "processing 455 th data\n",
            "processing 456 th data\n",
            "processing 457 th data\n",
            "processing 458 th data\n",
            "processing 459 th data\n",
            "processing 460 th data\n",
            "processing 461 th data\n",
            "processing 462 th data\n",
            "processing 463 th data\n",
            "processing 464 th data\n",
            "processing 465 th data\n",
            "processing 466 th data\n",
            "processing 467 th data\n",
            "processing 468 th data\n",
            "processing 469 th data\n",
            "processing 470 th data\n",
            "processing 471 th data\n",
            "processing 472 th data\n",
            "processing 473 th data\n",
            "processing 474 th data\n",
            "processing 475 th data\n",
            "processing 476 th data\n",
            "processing 477 th data\n",
            "processing 478 th data\n",
            "processing 479 th data\n",
            "processing 480 th data\n",
            "processing 481 th data\n",
            "processing 482 th data\n",
            "processing 483 th data\n",
            "processing 484 th data\n",
            "processing 485 th data\n",
            "processing 486 th data\n",
            "processing 487 th data\n",
            "processing 488 th data\n",
            "processing 489 th data\n",
            "processing 490 th data\n",
            "processing 491 th data\n",
            "processing 492 th data\n",
            "processing 493 th data\n",
            "processing 494 th data\n",
            "processing 495 th data\n",
            "processing 496 th data\n",
            "processing 497 th data\n",
            "processing 498 th data\n",
            "processing 499 th data\n",
            "processing 500 th data\n",
            "processing 501 th data\n",
            "processing 502 th data\n",
            "processing 503 th data\n",
            "processing 504 th data\n",
            "processing 505 th data\n",
            "processing 506 th data\n",
            "processing 507 th data\n",
            "processing 508 th data\n",
            "processing 509 th data\n",
            "processing 510 th data\n",
            "processing 511 th data\n",
            "processing 512 th data\n",
            "processing 513 th data\n",
            "processing 514 th data\n",
            "processing 515 th data\n",
            "processing 516 th data\n",
            "processing 517 th data\n",
            "processing 518 th data\n",
            "processing 519 th data\n",
            "processing 520 th data\n",
            "processing 521 th data\n",
            "processing 522 th data\n",
            "processing 523 th data\n",
            "processing 524 th data\n",
            "processing 525 th data\n",
            "processing 526 th data\n",
            "processing 527 th data\n",
            "processing 528 th data\n",
            "processing 529 th data\n",
            "processing 530 th data\n",
            "processing 531 th data\n",
            "processing 532 th data\n",
            "processing 533 th data\n",
            "processing 534 th data\n",
            "processing 535 th data\n",
            "processing 536 th data\n",
            "processing 537 th data\n",
            "processing 538 th data\n",
            "processing 539 th data\n",
            "processing 540 th data\n",
            "processing 541 th data\n",
            "processing 542 th data\n",
            "processing 543 th data\n",
            "processing 544 th data\n",
            "processing 545 th data\n",
            "processing 546 th data\n",
            "processing 547 th data\n",
            "processing 548 th data\n",
            "processing 549 th data\n",
            "processing 550 th data\n",
            "processing 551 th data\n",
            "processing 552 th data\n",
            "processing 553 th data\n",
            "processing 554 th data\n",
            "processing 555 th data\n",
            "processing 556 th data\n",
            "processing 557 th data\n",
            "processing 558 th data\n",
            "processing 559 th data\n",
            "processing 560 th data\n",
            "processing 561 th data\n",
            "processing 562 th data\n",
            "processing 563 th data\n",
            "processing 564 th data\n",
            "processing 565 th data\n",
            "processing 566 th data\n",
            "processing 567 th data\n",
            "processing 568 th data\n",
            "processing 569 th data\n",
            "processing 570 th data\n",
            "processing 571 th data\n",
            "processing 572 th data\n",
            "processing 573 th data\n",
            "processing 574 th data\n",
            "processing 575 th data\n",
            "processing 576 th data\n",
            "processing 577 th data\n",
            "processing 578 th data\n",
            "processing 579 th data\n",
            "processing 580 th data\n",
            "processing 581 th data\n",
            "processing 582 th data\n",
            "processing 583 th data\n",
            "processing 584 th data\n",
            "processing 585 th data\n",
            "processing 586 th data\n",
            "processing 587 th data\n",
            "processing 588 th data\n",
            "processing 589 th data\n",
            "processing 590 th data\n",
            "processing 591 th data\n",
            "processing 592 th data\n",
            "processing 593 th data\n",
            "processing 594 th data\n",
            "processing 595 th data\n",
            "processing 596 th data\n",
            "processing 597 th data\n",
            "processing 598 th data\n",
            "processing 599 th data\n",
            "processing 600 th data\n",
            "processing 601 th data\n",
            "processing 602 th data\n",
            "processing 603 th data\n",
            "processing 604 th data\n",
            "processing 605 th data\n",
            "processing 606 th data\n",
            "processing 607 th data\n",
            "processing 608 th data\n",
            "processing 609 th data\n",
            "processing 610 th data\n",
            "processing 611 th data\n",
            "processing 612 th data\n",
            "processing 613 th data\n",
            "processing 614 th data\n",
            "processing 615 th data\n",
            "processing 616 th data\n",
            "processing 617 th data\n",
            "processing 618 th data\n",
            "processing 619 th data\n",
            "processing 620 th data\n",
            "processing 621 th data\n",
            "processing 622 th data\n",
            "processing 623 th data\n",
            "processing 624 th data\n",
            "processing 625 th data\n",
            "processing 626 th data\n",
            "processing 627 th data\n",
            "processing 628 th data\n",
            "processing 629 th data\n",
            "processing 630 th data\n",
            "processing 631 th data\n",
            "processing 632 th data\n",
            "processing 633 th data\n",
            "processing 634 th data\n",
            "processing 635 th data\n",
            "processing 636 th data\n",
            "processing 637 th data\n",
            "processing 638 th data\n",
            "processing 639 th data\n",
            "processing 640 th data\n",
            "processing 641 th data\n",
            "processing 642 th data\n",
            "processing 643 th data\n",
            "processing 644 th data\n",
            "processing 645 th data\n",
            "processing 646 th data\n",
            "processing 647 th data\n",
            "processing 648 th data\n",
            "processing 649 th data\n",
            "processing 650 th data\n",
            "processing 651 th data\n",
            "processing 652 th data\n",
            "processing 653 th data\n",
            "processing 654 th data\n",
            "processing 655 th data\n",
            "processing 656 th data\n",
            "processing 657 th data\n",
            "processing 658 th data\n",
            "processing 659 th data\n",
            "processing 660 th data\n",
            "processing 661 th data\n",
            "processing 662 th data\n",
            "processing 663 th data\n",
            "processing 664 th data\n",
            "processing 665 th data\n",
            "processing 666 th data\n",
            "processing 667 th data\n",
            "processing 668 th data\n",
            "processing 669 th data\n",
            "processing 670 th data\n",
            "processing 671 th data\n",
            "processing 672 th data\n",
            "processing 673 th data\n",
            "processing 674 th data\n",
            "processing 675 th data\n",
            "processing 676 th data\n",
            "processing 677 th data\n",
            "processing 678 th data\n",
            "processing 679 th data\n",
            "processing 680 th data\n",
            "processing 681 th data\n",
            "processing 682 th data\n",
            "processing 683 th data\n",
            "processing 684 th data\n",
            "processing 685 th data\n",
            "processing 686 th data\n",
            "processing 687 th data\n",
            "processing 688 th data\n",
            "processing 689 th data\n",
            "processing 690 th data\n",
            "processing 691 th data\n",
            "processing 692 th data\n",
            "processing 693 th data\n",
            "processing 694 th data\n",
            "processing 695 th data\n",
            "processing 696 th data\n",
            "processing 697 th data\n",
            "processing 698 th data\n",
            "processing 699 th data\n",
            "processing 700 th data\n",
            "processing 701 th data\n",
            "processing 702 th data\n",
            "processing 703 th data\n",
            "processing 704 th data\n",
            "processing 705 th data\n",
            "processing 706 th data\n",
            "processing 707 th data\n",
            "processing 708 th data\n",
            "processing 709 th data\n",
            "processing 710 th data\n",
            "processing 711 th data\n",
            "processing 712 th data\n",
            "processing 713 th data\n",
            "processing 714 th data\n",
            "processing 715 th data\n",
            "processing 716 th data\n",
            "processing 717 th data\n",
            "processing 718 th data\n",
            "processing 719 th data\n",
            "processing 720 th data\n",
            "processing 721 th data\n",
            "processing 722 th data\n",
            "processing 723 th data\n",
            "processing 724 th data\n",
            "processing 725 th data\n",
            "processing 726 th data\n",
            "processing 727 th data\n",
            "processing 728 th data\n",
            "processing 729 th data\n",
            "processing 730 th data\n",
            "processing 731 th data\n",
            "processing 732 th data\n",
            "processing 733 th data\n",
            "processing 734 th data\n",
            "processing 735 th data\n",
            "processing 736 th data\n",
            "processing 737 th data\n",
            "processing 738 th data\n",
            "processing 739 th data\n",
            "processing 740 th data\n",
            "processing 741 th data\n",
            "processing 742 th data\n",
            "processing 743 th data\n",
            "processing 744 th data\n",
            "processing 745 th data\n",
            "processing 746 th data\n",
            "processing 747 th data\n",
            "processing 748 th data\n",
            "processing 749 th data\n",
            "processing 750 th data\n",
            "processing 751 th data\n",
            "processing 752 th data\n",
            "processing 753 th data\n",
            "processing 754 th data\n",
            "processing 755 th data\n",
            "processing 756 th data\n",
            "processing 757 th data\n",
            "processing 758 th data\n",
            "processing 759 th data\n",
            "processing 760 th data\n",
            "processing 761 th data\n",
            "processing 762 th data\n",
            "processing 763 th data\n",
            "processing 764 th data\n",
            "processing 765 th data\n",
            "processing 766 th data\n",
            "processing 767 th data\n",
            "processing 768 th data\n",
            "processing 769 th data\n",
            "processing 770 th data\n",
            "processing 771 th data\n",
            "processing 772 th data\n",
            "processing 773 th data\n",
            "processing 774 th data\n",
            "processing 775 th data\n",
            "processing 776 th data\n",
            "processing 777 th data\n",
            "processing 778 th data\n",
            "processing 779 th data\n",
            "processing 780 th data\n",
            "processing 781 th data\n",
            "processing 782 th data\n",
            "processing 783 th data\n",
            "processing 784 th data\n",
            "processing 785 th data\n",
            "processing 786 th data\n",
            "processing 787 th data\n",
            "processing 788 th data\n",
            "processing 789 th data\n",
            "processing 790 th data\n",
            "processing 791 th data\n",
            "processing 792 th data\n",
            "processing 793 th data\n",
            "processing 794 th data\n",
            "processing 795 th data\n",
            "processing 796 th data\n",
            "processing 797 th data\n",
            "processing 798 th data\n",
            "processing 799 th data\n",
            "processing 800 th data\n",
            "processing 801 th data\n",
            "processing 802 th data\n",
            "processing 803 th data\n",
            "processing 804 th data\n",
            "processing 805 th data\n",
            "processing 806 th data\n",
            "processing 807 th data\n",
            "processing 808 th data\n",
            "processing 809 th data\n",
            "processing 810 th data\n",
            "processing 811 th data\n",
            "processing 812 th data\n",
            "processing 813 th data\n",
            "processing 814 th data\n",
            "processing 815 th data\n",
            "processing 816 th data\n",
            "processing 817 th data\n",
            "processing 818 th data\n",
            "processing 819 th data\n",
            "processing 820 th data\n",
            "processing 821 th data\n",
            "processing 822 th data\n",
            "processing 823 th data\n",
            "processing 824 th data\n",
            "processing 825 th data\n",
            "processing 826 th data\n",
            "processing 827 th data\n",
            "processing 828 th data\n",
            "processing 829 th data\n",
            "processing 830 th data\n",
            "processing 831 th data\n",
            "processing 832 th data\n",
            "processing 833 th data\n",
            "processing 834 th data\n",
            "processing 835 th data\n",
            "processing 836 th data\n",
            "processing 837 th data\n",
            "processing 838 th data\n",
            "processing 839 th data\n",
            "processing 840 th data\n",
            "processing 841 th data\n",
            "processing 842 th data\n",
            "processing 843 th data\n",
            "processing 844 th data\n",
            "processing 845 th data\n",
            "processing 846 th data\n",
            "processing 847 th data\n",
            "processing 848 th data\n",
            "processing 849 th data\n",
            "processing 850 th data\n",
            "processing 851 th data\n",
            "processing 852 th data\n",
            "processing 853 th data\n",
            "processing 854 th data\n",
            "processing 855 th data\n",
            "processing 856 th data\n",
            "processing 857 th data\n",
            "processing 858 th data\n",
            "processing 859 th data\n",
            "processing 860 th data\n",
            "processing 861 th data\n",
            "processing 862 th data\n",
            "processing 863 th data\n",
            "processing 864 th data\n",
            "processing 865 th data\n",
            "processing 866 th data\n",
            "processing 867 th data\n",
            "processing 868 th data\n",
            "processing 869 th data\n",
            "processing 870 th data\n",
            "processing 871 th data\n",
            "processing 872 th data\n",
            "processing 873 th data\n",
            "processing 874 th data\n",
            "processing 875 th data\n",
            "processing 876 th data\n",
            "processing 877 th data\n",
            "processing 878 th data\n",
            "processing 879 th data\n",
            "processing 880 th data\n",
            "processing 881 th data\n",
            "processing 882 th data\n",
            "processing 883 th data\n",
            "processing 884 th data\n",
            "processing 885 th data\n",
            "processing 886 th data\n",
            "processing 887 th data\n",
            "processing 888 th data\n",
            "processing 889 th data\n",
            "processing 890 th data\n",
            "processing 891 th data\n",
            "processing 892 th data\n",
            "processing 893 th data\n",
            "processing 894 th data\n",
            "processing 895 th data\n",
            "processing 896 th data\n",
            "processing 897 th data\n",
            "processing 898 th data\n",
            "processing 899 th data\n",
            "processing 900 th data\n",
            "processing 901 th data\n",
            "processing 902 th data\n",
            "processing 903 th data\n",
            "processing 904 th data\n",
            "processing 905 th data\n",
            "processing 906 th data\n",
            "processing 907 th data\n",
            "processing 908 th data\n",
            "processing 909 th data\n",
            "processing 910 th data\n",
            "processing 911 th data\n",
            "processing 912 th data\n",
            "processing 913 th data\n",
            "processing 914 th data\n",
            "processing 915 th data\n",
            "processing 916 th data\n",
            "processing 917 th data\n",
            "processing 918 th data\n",
            "processing 919 th data\n",
            "processing 920 th data\n",
            "processing 921 th data\n",
            "processing 922 th data\n",
            "processing 923 th data\n",
            "processing 924 th data\n",
            "processing 925 th data\n",
            "processing 926 th data\n",
            "processing 927 th data\n",
            "processing 928 th data\n",
            "processing 929 th data\n",
            "processing 930 th data\n",
            "processing 931 th data\n",
            "processing 932 th data\n",
            "processing 933 th data\n",
            "processing 934 th data\n",
            "processing 935 th data\n",
            "processing 936 th data\n",
            "processing 937 th data\n",
            "processing 938 th data\n",
            "processing 939 th data\n",
            "processing 940 th data\n",
            "processing 941 th data\n",
            "processing 942 th data\n",
            "processing 943 th data\n",
            "processing 944 th data\n",
            "processing 945 th data\n",
            "processing 946 th data\n",
            "processing 947 th data\n",
            "processing 948 th data\n",
            "processing 949 th data\n",
            "processing 950 th data\n",
            "processing 951 th data\n",
            "processing 952 th data\n",
            "processing 953 th data\n",
            "processing 954 th data\n",
            "processing 955 th data\n",
            "processing 956 th data\n",
            "processing 957 th data\n",
            "processing 958 th data\n",
            "processing 959 th data\n",
            "processing 960 th data\n",
            "processing 961 th data\n",
            "processing 962 th data\n",
            "processing 963 th data\n",
            "processing 964 th data\n",
            "processing 965 th data\n",
            "processing 966 th data\n",
            "processing 967 th data\n",
            "processing 968 th data\n",
            "processing 969 th data\n",
            "processing 970 th data\n",
            "processing 971 th data\n",
            "processing 972 th data\n",
            "processing 973 th data\n",
            "processing 974 th data\n",
            "processing 975 th data\n",
            "processing 976 th data\n",
            "processing 977 th data\n",
            "processing 978 th data\n",
            "processing 979 th data\n",
            "processing 980 th data\n",
            "processing 981 th data\n",
            "processing 982 th data\n",
            "processing 983 th data\n",
            "processing 984 th data\n",
            "processing 985 th data\n",
            "processing 986 th data\n",
            "processing 987 th data\n",
            "processing 988 th data\n",
            "processing 989 th data\n",
            "processing 990 th data\n",
            "processing 991 th data\n",
            "processing 992 th data\n",
            "processing 993 th data\n",
            "processing 994 th data\n",
            "processing 995 th data\n",
            "processing 996 th data\n",
            "processing 997 th data\n",
            "processing 998 th data\n",
            "processing 999 th data\n",
            "processing 1000 th data\n",
            "processing 1001 th data\n",
            "processing 1002 th data\n",
            "processing 1003 th data\n",
            "processing 1004 th data\n",
            "processing 1005 th data\n",
            "processing 1006 th data\n",
            "processing 1007 th data\n",
            "processing 1008 th data\n",
            "processing 1009 th data\n",
            "processing 1010 th data\n",
            "processing 1011 th data\n",
            "processing 1012 th data\n",
            "processing 1013 th data\n",
            "processing 1014 th data\n",
            "processing 1015 th data\n",
            "processing 1016 th data\n",
            "processing 1017 th data\n",
            "processing 1018 th data\n",
            "processing 1019 th data\n",
            "processing 1020 th data\n",
            "processing 1021 th data\n",
            "processing 1022 th data\n",
            "processing 1023 th data\n",
            "processing 1024 th data\n",
            "processing 1025 th data\n",
            "processing 1026 th data\n",
            "processing 1027 th data\n",
            "processing 1028 th data\n",
            "processing 1029 th data\n",
            "processing 1030 th data\n",
            "processing 1031 th data\n",
            "processing 1032 th data\n",
            "processing 1033 th data\n",
            "processing 1034 th data\n",
            "processing 1035 th data\n",
            "processing 1036 th data\n",
            "processing 1037 th data\n",
            "processing 1038 th data\n",
            "processing 1039 th data\n",
            "processing 1040 th data\n",
            "processing 1041 th data\n",
            "processing 1042 th data\n",
            "processing 1043 th data\n",
            "processing 1044 th data\n",
            "processing 1045 th data\n",
            "processing 1046 th data\n",
            "processing 1047 th data\n",
            "processing 1048 th data\n",
            "processing 1049 th data\n",
            "processing 1050 th data\n",
            "processing 1051 th data\n",
            "processing 1052 th data\n",
            "processing 1053 th data\n",
            "processing 1054 th data\n",
            "processing 1055 th data\n",
            "processing 1056 th data\n",
            "processing 1057 th data\n",
            "processing 1058 th data\n",
            "processing 1059 th data\n",
            "processing 1060 th data\n",
            "processing 1061 th data\n",
            "processing 1062 th data\n",
            "processing 1063 th data\n",
            "processing 1064 th data\n",
            "processing 1065 th data\n",
            "processing 1066 th data\n",
            "processing 1067 th data\n",
            "processing 1068 th data\n",
            "processing 1069 th data\n",
            "processing 1070 th data\n",
            "processing 1071 th data\n",
            "processing 1072 th data\n",
            "processing 1073 th data\n",
            "processing 1074 th data\n",
            "processing 1075 th data\n",
            "processing 1076 th data\n",
            "processing 1077 th data\n",
            "processing 1078 th data\n",
            "processing 1079 th data\n",
            "processing 1080 th data\n",
            "processing 1081 th data\n",
            "processing 1082 th data\n",
            "processing 1083 th data\n",
            "processing 1084 th data\n",
            "processing 1085 th data\n",
            "processing 1086 th data\n",
            "processing 1087 th data\n",
            "processing 1088 th data\n",
            "processing 1089 th data\n",
            "processing 1090 th data\n",
            "processing 1091 th data\n",
            "processing 1092 th data\n",
            "processing 1093 th data\n",
            "processing 1094 th data\n",
            "processing 1095 th data\n",
            "processing 1096 th data\n",
            "processing 1097 th data\n",
            "processing 1098 th data\n",
            "processing 1099 th data\n",
            "processing 1100 th data\n",
            "processing 1101 th data\n",
            "processing 1102 th data\n",
            "processing 1103 th data\n",
            "processing 1104 th data\n",
            "processing 1105 th data\n",
            "processing 1106 th data\n",
            "processing 1107 th data\n",
            "processing 1108 th data\n",
            "processing 1109 th data\n",
            "processing 1110 th data\n",
            "processing 1111 th data\n",
            "processing 1112 th data\n",
            "processing 1113 th data\n",
            "processing 1114 th data\n",
            "processing 1115 th data\n",
            "processing 1116 th data\n",
            "processing 1117 th data\n",
            "processing 1118 th data\n",
            "processing 1119 th data\n",
            "processing 1120 th data\n",
            "processing 1121 th data\n",
            "processing 1122 th data\n",
            "processing 1123 th data\n",
            "processing 1124 th data\n",
            "processing 1125 th data\n",
            "processing 1126 th data\n",
            "processing 1127 th data\n",
            "processing 1128 th data\n",
            "processing 1129 th data\n",
            "processing 1130 th data\n",
            "processing 1131 th data\n",
            "processing 1132 th data\n",
            "processing 1133 th data\n",
            "processing 1134 th data\n",
            "processing 1135 th data\n",
            "processing 1136 th data\n",
            "processing 1137 th data\n",
            "processing 1138 th data\n",
            "processing 1139 th data\n",
            "processing 1140 th data\n",
            "processing 1141 th data\n",
            "processing 1142 th data\n",
            "processing 1143 th data\n",
            "processing 1144 th data\n",
            "processing 1145 th data\n",
            "processing 1146 th data\n",
            "processing 1147 th data\n",
            "processing 1148 th data\n",
            "processing 1149 th data\n",
            "processing 1150 th data\n",
            "processing 1151 th data\n",
            "processing 1152 th data\n",
            "processing 1153 th data\n",
            "processing 1154 th data\n",
            "processing 1155 th data\n",
            "processing 1156 th data\n",
            "processing 1157 th data\n",
            "processing 1158 th data\n",
            "processing 1159 th data\n",
            "processing 1160 th data\n",
            "processing 1161 th data\n",
            "processing 1162 th data\n",
            "processing 1163 th data\n",
            "processing 1164 th data\n",
            "processing 1165 th data\n",
            "processing 1166 th data\n",
            "processing 1167 th data\n",
            "processing 1168 th data\n",
            "processing 1169 th data\n",
            "processing 1170 th data\n",
            "processing 1171 th data\n",
            "processing 1172 th data\n",
            "processing 1173 th data\n",
            "processing 1174 th data\n",
            "processing 1175 th data\n",
            "processing 1176 th data\n",
            "processing 1177 th data\n",
            "processing 1178 th data\n",
            "processing 1179 th data\n",
            "processing 1180 th data\n",
            "processing 1181 th data\n",
            "processing 1182 th data\n",
            "processing 1183 th data\n",
            "processing 1184 th data\n",
            "processing 1185 th data\n",
            "processing 1186 th data\n",
            "processing 1187 th data\n",
            "processing 1188 th data\n",
            "processing 1189 th data\n",
            "processing 1190 th data\n",
            "processing 1191 th data\n",
            "processing 1192 th data\n",
            "processing 1193 th data\n",
            "processing 1194 th data\n",
            "processing 1195 th data\n",
            "processing 1196 th data\n",
            "processing 1197 th data\n",
            "processing 1198 th data\n",
            "processing 1199 th data\n",
            "processing 1200 th data\n",
            "processing 1201 th data\n",
            "processing 1202 th data\n",
            "processing 1203 th data\n",
            "processing 1204 th data\n",
            "processing 1205 th data\n",
            "processing 1206 th data\n",
            "processing 1207 th data\n",
            "processing 1208 th data\n",
            "processing 1209 th data\n",
            "processing 1210 th data\n",
            "processing 1211 th data\n",
            "processing 1212 th data\n",
            "processing 1213 th data\n",
            "processing 1214 th data\n",
            "processing 1215 th data\n",
            "processing 1216 th data\n",
            "processing 1217 th data\n",
            "processing 1218 th data\n",
            "processing 1219 th data\n",
            "processing 1220 th data\n",
            "processing 1221 th data\n",
            "processing 1222 th data\n",
            "processing 1223 th data\n",
            "processing 1224 th data\n",
            "processing 1225 th data\n",
            "processing 1226 th data\n",
            "processing 1227 th data\n",
            "processing 1228 th data\n",
            "processing 1229 th data\n",
            "processing 1230 th data\n",
            "processing 1231 th data\n",
            "processing 1232 th data\n",
            "processing 1233 th data\n",
            "processing 1234 th data\n",
            "processing 1235 th data\n",
            "processing 1236 th data\n",
            "processing 1237 th data\n",
            "processing 1238 th data\n",
            "processing 1239 th data\n",
            "processing 1240 th data\n",
            "processing 1241 th data\n",
            "processing 1242 th data\n",
            "processing 1243 th data\n",
            "processing 1244 th data\n",
            "processing 1245 th data\n",
            "processing 1246 th data\n",
            "processing 1247 th data\n",
            "processing 1248 th data\n",
            "processing 1249 th data\n",
            "processing 1250 th data\n",
            "processing 1251 th data\n",
            "processing 1252 th data\n",
            "processing 1253 th data\n",
            "processing 1254 th data\n",
            "processing 1255 th data\n",
            "processing 1256 th data\n",
            "processing 1257 th data\n",
            "processing 1258 th data\n",
            "processing 1259 th data\n",
            "processing 1260 th data\n",
            "processing 1261 th data\n",
            "processing 1262 th data\n",
            "processing 1263 th data\n",
            "processing 1264 th data\n",
            "processing 1265 th data\n",
            "processing 1266 th data\n",
            "processing 1267 th data\n",
            "processing 1268 th data\n",
            "processing 1269 th data\n",
            "processing 1270 th data\n",
            "processing 1271 th data\n",
            "processing 1272 th data\n",
            "processing 1273 th data\n",
            "processing 1274 th data\n",
            "processing 1275 th data\n",
            "processing 1276 th data\n",
            "processing 1277 th data\n",
            "processing 1278 th data\n",
            "processing 1279 th data\n",
            "processing 1280 th data\n",
            "processing 1281 th data\n",
            "processing 1282 th data\n",
            "processing 1283 th data\n",
            "processing 1284 th data\n",
            "processing 1285 th data\n",
            "processing 1286 th data\n",
            "processing 1287 th data\n",
            "processing 1288 th data\n",
            "processing 1289 th data\n",
            "processing 1290 th data\n",
            "processing 1291 th data\n",
            "processing 1292 th data\n",
            "processing 1293 th data\n",
            "processing 1294 th data\n",
            "processing 1295 th data\n",
            "processing 1296 th data\n",
            "processing 1297 th data\n",
            "processing 1298 th data\n",
            "processing 1299 th data\n",
            "processing 1300 th data\n",
            "processing 1301 th data\n",
            "processing 1302 th data\n",
            "processing 1303 th data\n",
            "processing 1304 th data\n",
            "processing 1305 th data\n",
            "processing 1306 th data\n",
            "processing 1307 th data\n",
            "processing 1308 th data\n",
            "processing 1309 th data\n",
            "processing 1310 th data\n",
            "processing 1311 th data\n",
            "processing 1312 th data\n",
            "processing 1313 th data\n",
            "processing 1314 th data\n",
            "processing 1315 th data\n",
            "processing 1316 th data\n",
            "processing 1317 th data\n",
            "processing 1318 th data\n",
            "processing 1319 th data\n",
            "processing 1320 th data\n",
            "processing 1321 th data\n",
            "processing 1322 th data\n",
            "processing 1323 th data\n",
            "processing 1324 th data\n",
            "processing 1325 th data\n",
            "processing 1326 th data\n",
            "processing 1327 th data\n",
            "processing 1328 th data\n",
            "processing 1329 th data\n",
            "processing 1330 th data\n",
            "processing 1331 th data\n",
            "processing 1332 th data\n",
            "processing 1333 th data\n",
            "processing 1334 th data\n",
            "processing 1335 th data\n",
            "processing 1336 th data\n",
            "processing 1337 th data\n",
            "processing 1338 th data\n",
            "processing 1339 th data\n",
            "processing 1340 th data\n",
            "processing 1341 th data\n",
            "processing 1342 th data\n",
            "processing 1343 th data\n",
            "processing 1344 th data\n",
            "processing 1345 th data\n",
            "processing 1346 th data\n",
            "processing 1347 th data\n",
            "processing 1348 th data\n",
            "processing 1349 th data\n",
            "processing 1350 th data\n",
            "processing 1351 th data\n",
            "processing 1352 th data\n",
            "processing 1353 th data\n",
            "processing 1354 th data\n",
            "processing 1355 th data\n",
            "processing 1356 th data\n",
            "processing 1357 th data\n",
            "processing 1358 th data\n",
            "processing 1359 th data\n",
            "processing 1360 th data\n",
            "processing 1361 th data\n",
            "processing 1362 th data\n",
            "processing 1363 th data\n",
            "processing 1364 th data\n",
            "processing 1365 th data\n",
            "processing 1366 th data\n",
            "processing 1367 th data\n",
            "processing 1368 th data\n",
            "processing 1369 th data\n",
            "processing 1370 th data\n",
            "processing 1371 th data\n",
            "processing 1372 th data\n",
            "processing 1373 th data\n",
            "processing 1374 th data\n",
            "processing 1375 th data\n",
            "processing 1376 th data\n",
            "processing 1377 th data\n",
            "processing 1378 th data\n",
            "processing 1379 th data\n",
            "processing 1380 th data\n",
            "processing 1381 th data\n",
            "processing 1382 th data\n",
            "processing 1383 th data\n",
            "processing 1384 th data\n",
            "processing 1385 th data\n",
            "processing 1386 th data\n",
            "processing 1387 th data\n",
            "processing 1388 th data\n",
            "processing 1389 th data\n",
            "processing 1390 th data\n",
            "processing 1391 th data\n",
            "processing 1392 th data\n",
            "processing 1393 th data\n",
            "processing 1394 th data\n",
            "processing 1395 th data\n",
            "processing 1396 th data\n",
            "processing 1397 th data\n",
            "processing 1398 th data\n",
            "processing 1399 th data\n",
            "processing 1400 th data\n",
            "processing 1401 th data\n",
            "processing 1402 th data\n",
            "processing 1403 th data\n",
            "processing 1404 th data\n",
            "processing 1405 th data\n",
            "processing 1406 th data\n",
            "processing 1407 th data\n",
            "processing 1408 th data\n",
            "processing 1409 th data\n",
            "processing 1410 th data\n",
            "processing 1411 th data\n",
            "processing 1412 th data\n",
            "processing 1413 th data\n",
            "processing 1414 th data\n",
            "processing 1415 th data\n",
            "processing 1416 th data\n",
            "processing 1417 th data\n",
            "processing 1418 th data\n",
            "processing 1419 th data\n",
            "processing 1420 th data\n",
            "processing 1421 th data\n",
            "processing 1422 th data\n",
            "processing 1423 th data\n",
            "processing 1424 th data\n",
            "processing 1425 th data\n",
            "processing 1426 th data\n",
            "processing 1427 th data\n",
            "processing 1428 th data\n",
            "processing 1429 th data\n",
            "processing 1430 th data\n",
            "processing 1431 th data\n",
            "processing 1432 th data\n",
            "processing 1433 th data\n",
            "processing 1434 th data\n",
            "processing 1435 th data\n",
            "processing 1436 th data\n",
            "processing 1437 th data\n",
            "processing 1438 th data\n",
            "processing 1439 th data\n",
            "processing 1440 th data\n",
            "processing 1441 th data\n",
            "processing 1442 th data\n",
            "processing 1443 th data\n",
            "processing 1444 th data\n",
            "processing 1445 th data\n",
            "processing 1446 th data\n",
            "processing 1447 th data\n",
            "processing 1448 th data\n",
            "processing 1449 th data\n",
            "processing 1450 th data\n",
            "processing 1451 th data\n",
            "processing 1452 th data\n",
            "processing 1453 th data\n",
            "processing 1454 th data\n",
            "processing 1455 th data\n",
            "processing 1456 th data\n",
            "processing 1457 th data\n",
            "processing 1458 th data\n",
            "processing 1459 th data\n",
            "processing 1460 th data\n",
            "processing 1461 th data\n",
            "processing 1462 th data\n",
            "processing 1463 th data\n",
            "processing 1464 th data\n",
            "processing 1465 th data\n",
            "processing 1466 th data\n",
            "processing 1467 th data\n",
            "processing 1468 th data\n",
            "processing 1469 th data\n",
            "processing 1470 th data\n",
            "processing 1471 th data\n",
            "processing 1472 th data\n",
            "processing 1473 th data\n",
            "processing 1474 th data\n",
            "processing 1475 th data\n",
            "processing 1476 th data\n",
            "processing 1477 th data\n",
            "processing 1478 th data\n",
            "processing 1479 th data\n",
            "processing 1480 th data\n",
            "processing 1481 th data\n",
            "processing 1482 th data\n",
            "processing 1483 th data\n",
            "processing 1484 th data\n",
            "processing 1485 th data\n",
            "processing 1486 th data\n",
            "processing 1487 th data\n",
            "processing 1488 th data\n",
            "processing 1489 th data\n",
            "processing 1490 th data\n",
            "processing 1491 th data\n",
            "processing 1492 th data\n",
            "processing 1493 th data\n",
            "processing 1494 th data\n",
            "processing 1495 th data\n",
            "processing 1496 th data\n",
            "processing 1497 th data\n",
            "processing 1498 th data\n",
            "processing 1499 th data\n",
            "processing 1500 th data\n",
            "processing 1501 th data\n",
            "processing 1502 th data\n",
            "processing 1503 th data\n",
            "processing 1504 th data\n",
            "processing 1505 th data\n",
            "processing 1506 th data\n",
            "processing 1507 th data\n",
            "processing 1508 th data\n",
            "processing 1509 th data\n",
            "processing 1510 th data\n",
            "processing 1511 th data\n",
            "processing 1512 th data\n",
            "processing 1513 th data\n",
            "processing 1514 th data\n",
            "processing 1515 th data\n",
            "processing 1516 th data\n",
            "processing 1517 th data\n",
            "processing 1518 th data\n",
            "processing 1519 th data\n",
            "processing 1520 th data\n",
            "processing 1521 th data\n",
            "processing 1522 th data\n",
            "processing 1523 th data\n",
            "processing 1524 th data\n",
            "processing 1525 th data\n",
            "processing 1526 th data\n",
            "processing 1527 th data\n",
            "processing 1528 th data\n",
            "processing 1529 th data\n",
            "processing 1530 th data\n",
            "processing 1531 th data\n",
            "processing 1532 th data\n",
            "processing 1533 th data\n",
            "processing 1534 th data\n",
            "processing 1535 th data\n",
            "processing 1536 th data\n",
            "processing 1537 th data\n",
            "processing 1538 th data\n",
            "processing 1539 th data\n",
            "processing 1540 th data\n",
            "processing 1541 th data\n",
            "processing 1542 th data\n",
            "processing 1543 th data\n",
            "processing 1544 th data\n",
            "processing 1545 th data\n",
            "processing 1546 th data\n",
            "processing 1547 th data\n",
            "processing 1548 th data\n",
            "processing 1549 th data\n",
            "processing 1550 th data\n",
            "processing 1551 th data\n",
            "processing 1552 th data\n",
            "processing 1553 th data\n",
            "processing 1554 th data\n",
            "processing 1555 th data\n",
            "processing 1556 th data\n",
            "processing 1557 th data\n",
            "processing 1558 th data\n",
            "processing 1559 th data\n",
            "processing 1560 th data\n",
            "processing 1561 th data\n",
            "processing 1562 th data\n",
            "processing 1563 th data\n",
            "processing 1564 th data\n",
            "processing 1565 th data\n",
            "processing 1566 th data\n",
            "processing 1567 th data\n",
            "processing 1568 th data\n",
            "processing 1569 th data\n",
            "processing 1570 th data\n",
            "processing 1571 th data\n",
            "processing 1572 th data\n",
            "processing 1573 th data\n",
            "processing 1574 th data\n",
            "processing 1575 th data\n",
            "processing 1576 th data\n",
            "processing 1577 th data\n",
            "processing 1578 th data\n",
            "processing 1579 th data\n",
            "processing 1580 th data\n",
            "processing 1581 th data\n",
            "processing 1582 th data\n",
            "processing 1583 th data\n",
            "processing 1584 th data\n",
            "processing 1585 th data\n",
            "processing 1586 th data\n",
            "processing 1587 th data\n",
            "processing 1588 th data\n",
            "processing 1589 th data\n",
            "processing 1590 th data\n",
            "processing 1591 th data\n",
            "processing 1592 th data\n",
            "processing 1593 th data\n",
            "processing 1594 th data\n",
            "processing 1595 th data\n",
            "processing 1596 th data\n",
            "processing 1597 th data\n",
            "processing 1598 th data\n",
            "processing 1599 th data\n",
            "processing 1600 th data\n",
            "processing 1601 th data\n",
            "processing 1602 th data\n",
            "processing 1603 th data\n",
            "processing 1604 th data\n",
            "processing 1605 th data\n",
            "processing 1606 th data\n",
            "processing 1607 th data\n",
            "processing 1608 th data\n",
            "processing 1609 th data\n",
            "processing 1610 th data\n",
            "processing 1611 th data\n",
            "processing 1612 th data\n",
            "processing 1613 th data\n",
            "processing 1614 th data\n",
            "processing 1615 th data\n",
            "processing 1616 th data\n",
            "processing 1617 th data\n",
            "processing 1618 th data\n",
            "processing 1619 th data\n",
            "processing 1620 th data\n",
            "processing 1621 th data\n",
            "processing 1622 th data\n",
            "processing 1623 th data\n",
            "processing 1624 th data\n",
            "processing 1625 th data\n",
            "processing 1626 th data\n",
            "processing 1627 th data\n",
            "processing 1628 th data\n",
            "processing 1629 th data\n",
            "processing 1630 th data\n",
            "processing 1631 th data\n",
            "processing 1632 th data\n",
            "processing 1633 th data\n",
            "processing 1634 th data\n",
            "processing 1635 th data\n",
            "processing 1636 th data\n",
            "processing 1637 th data\n",
            "processing 1638 th data\n",
            "processing 1639 th data\n",
            "processing 1640 th data\n",
            "processing 1641 th data\n",
            "processing 1642 th data\n",
            "processing 1643 th data\n",
            "processing 1644 th data\n",
            "processing 1645 th data\n",
            "processing 1646 th data\n",
            "processing 1647 th data\n",
            "processing 1648 th data\n",
            "processing 1649 th data\n",
            "processing 1650 th data\n",
            "processing 1651 th data\n",
            "processing 1652 th data\n",
            "processing 1653 th data\n",
            "processing 1654 th data\n",
            "processing 1655 th data\n",
            "processing 1656 th data\n",
            "processing 1657 th data\n",
            "processing 1658 th data\n",
            "processing 1659 th data\n",
            "processing 1660 th data\n",
            "processing 1661 th data\n",
            "processing 1662 th data\n",
            "processing 1663 th data\n",
            "processing 1664 th data\n",
            "processing 1665 th data\n",
            "processing 1666 th data\n",
            "processing 1667 th data\n",
            "processing 1668 th data\n",
            "processing 1669 th data\n",
            "processing 1670 th data\n",
            "processing 1671 th data\n",
            "processing 1672 th data\n",
            "processing 1673 th data\n",
            "processing 1674 th data\n",
            "processing 1675 th data\n",
            "processing 1676 th data\n",
            "processing 1677 th data\n",
            "processing 1678 th data\n",
            "processing 1679 th data\n",
            "processing 1680 th data\n",
            "processing 1681 th data\n",
            "processing 1682 th data\n",
            "processing 1683 th data\n",
            "processing 1684 th data\n",
            "processing 1685 th data\n",
            "processing 1686 th data\n",
            "processing 1687 th data\n",
            "processing 1688 th data\n",
            "processing 1689 th data\n",
            "processing 1690 th data\n",
            "processing 1691 th data\n",
            "processing 1692 th data\n",
            "processing 1693 th data\n",
            "processing 1694 th data\n",
            "processing 1695 th data\n",
            "processing 1696 th data\n",
            "processing 1697 th data\n",
            "processing 1698 th data\n",
            "processing 1699 th data\n",
            "processing 1700 th data\n",
            "processing 1701 th data\n",
            "processing 1702 th data\n",
            "processing 1703 th data\n",
            "processing 1704 th data\n",
            "processing 1705 th data\n",
            "processing 1706 th data\n",
            "processing 1707 th data\n",
            "processing 1708 th data\n",
            "processing 1709 th data\n",
            "processing 1710 th data\n",
            "processing 1711 th data\n",
            "processing 1712 th data\n",
            "processing 1713 th data\n",
            "processing 1714 th data\n",
            "processing 1715 th data\n",
            "processing 1716 th data\n",
            "processing 1717 th data\n",
            "processing 1718 th data\n",
            "processing 1719 th data\n",
            "processing 1720 th data\n",
            "processing 1721 th data\n",
            "processing 1722 th data\n",
            "processing 1723 th data\n",
            "processing 1724 th data\n",
            "processing 1725 th data\n",
            "processing 1726 th data\n",
            "processing 1727 th data\n",
            "processing 1728 th data\n",
            "processing 1729 th data\n",
            "processing 1730 th data\n",
            "processing 1731 th data\n",
            "processing 1732 th data\n",
            "processing 1733 th data\n",
            "processing 1734 th data\n",
            "processing 1735 th data\n",
            "processing 1736 th data\n",
            "processing 1737 th data\n",
            "processing 1738 th data\n",
            "processing 1739 th data\n",
            "processing 1740 th data\n",
            "processing 1741 th data\n",
            "processing 1742 th data\n",
            "processing 1743 th data\n",
            "processing 1744 th data\n",
            "processing 1745 th data\n",
            "processing 1746 th data\n",
            "processing 1747 th data\n",
            "processing 1748 th data\n",
            "processing 1749 th data\n",
            "processing 1750 th data\n",
            "processing 1751 th data\n",
            "processing 1752 th data\n",
            "processing 1753 th data\n",
            "processing 1754 th data\n",
            "processing 1755 th data\n",
            "processing 1756 th data\n",
            "processing 1757 th data\n",
            "processing 1758 th data\n",
            "processing 1759 th data\n",
            "processing 1760 th data\n",
            "processing 1761 th data\n",
            "processing 1762 th data\n",
            "processing 1763 th data\n",
            "processing 1764 th data\n",
            "processing 1765 th data\n",
            "processing 1766 th data\n",
            "processing 1767 th data\n",
            "processing 1768 th data\n",
            "processing 1769 th data\n",
            "processing 1770 th data\n",
            "processing 1771 th data\n",
            "processing 1772 th data\n",
            "processing 1773 th data\n",
            "processing 1774 th data\n",
            "processing 1775 th data\n",
            "processing 1776 th data\n",
            "processing 1777 th data\n",
            "processing 1778 th data\n",
            "processing 1779 th data\n",
            "processing 1780 th data\n",
            "processing 1781 th data\n",
            "processing 1782 th data\n",
            "processing 1783 th data\n",
            "processing 1784 th data\n",
            "processing 1785 th data\n",
            "processing 1786 th data\n",
            "processing 1787 th data\n",
            "processing 1788 th data\n",
            "processing 1789 th data\n",
            "processing 1790 th data\n",
            "processing 1791 th data\n",
            "processing 1792 th data\n",
            "processing 1793 th data\n",
            "processing 1794 th data\n",
            "processing 1795 th data\n",
            "processing 1796 th data\n",
            "processing 1797 th data\n",
            "processing 1798 th data\n",
            "processing 1799 th data\n",
            "processing 1800 th data\n",
            "processing 1801 th data\n",
            "processing 1802 th data\n",
            "processing 1803 th data\n",
            "processing 1804 th data\n",
            "processing 1805 th data\n",
            "processing 1806 th data\n",
            "processing 1807 th data\n",
            "processing 1808 th data\n",
            "processing 1809 th data\n",
            "processing 1810 th data\n",
            "processing 1811 th data\n",
            "processing 1812 th data\n",
            "processing 1813 th data\n",
            "processing 1814 th data\n",
            "processing 1815 th data\n",
            "processing 1816 th data\n",
            "processing 1817 th data\n",
            "processing 1818 th data\n",
            "processing 1819 th data\n",
            "processing 1820 th data\n",
            "processing 1821 th data\n",
            "processing 1822 th data\n",
            "processing 1823 th data\n",
            "processing 1824 th data\n",
            "processing 1825 th data\n",
            "processing 1826 th data\n",
            "processing 1827 th data\n",
            "processing 1828 th data\n",
            "processing 1829 th data\n",
            "processing 1830 th data\n",
            "processing 1831 th data\n",
            "processing 1832 th data\n",
            "processing 1833 th data\n",
            "processing 1834 th data\n",
            "processing 1835 th data\n",
            "processing 1836 th data\n",
            "processing 1837 th data\n",
            "processing 1838 th data\n",
            "processing 1839 th data\n",
            "processing 1840 th data\n",
            "processing 1841 th data\n",
            "processing 1842 th data\n",
            "processing 1843 th data\n",
            "processing 1844 th data\n",
            "processing 1845 th data\n",
            "processing 1846 th data\n",
            "processing 1847 th data\n",
            "processing 1848 th data\n",
            "processing 1849 th data\n",
            "processing 1850 th data\n",
            "processing 1851 th data\n",
            "processing 1852 th data\n",
            "processing 1853 th data\n",
            "processing 1854 th data\n",
            "processing 1855 th data\n",
            "processing 1856 th data\n",
            "processing 1857 th data\n",
            "processing 1858 th data\n",
            "processing 1859 th data\n",
            "processing 1860 th data\n",
            "processing 1861 th data\n",
            "processing 1862 th data\n",
            "processing 1863 th data\n",
            "processing 1864 th data\n",
            "processing 1865 th data\n",
            "processing 1866 th data\n",
            "processing 1867 th data\n",
            "processing 1868 th data\n",
            "processing 1869 th data\n",
            "processing 1870 th data\n",
            "processing 1871 th data\n",
            "processing 1872 th data\n",
            "processing 1873 th data\n",
            "processing 1874 th data\n",
            "processing 1875 th data\n",
            "processing 1876 th data\n",
            "processing 1877 th data\n",
            "processing 1878 th data\n",
            "processing 1879 th data\n",
            "processing 1880 th data\n",
            "processing 1881 th data\n"
          ],
          "name": "stdout"
        }
      ]
    }
  ]
}