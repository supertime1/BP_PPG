{
  "nbformat": 4,
  "nbformat_minor": 0,
  "metadata": {
    "kernelspec": {
      "display_name": "Python 3",
      "language": "python",
      "name": "python3"
    },
    "language_info": {
      "codemirror_mode": {
        "name": "ipython",
        "version": 3
      },
      "file_extension": ".py",
      "mimetype": "text/x-python",
      "name": "python",
      "nbconvert_exporter": "python",
      "pygments_lexer": "ipython3",
      "version": "3.7.3"
    },
    "colab": {
      "name": "BP_Data_Clean.ipynb",
      "provenance": [],
      "collapsed_sections": [],
      "include_colab_link": true
    }
  },
  "cells": [
    {
      "cell_type": "markdown",
      "metadata": {
        "id": "view-in-github",
        "colab_type": "text"
      },
      "source": [
        "<a href=\"https://colab.research.google.com/github/supertime1/BP_PPG/blob/master/Data%20Processing/BP_Data_Clean.ipynb\" target=\"_parent\"><img src=\"https://colab.research.google.com/assets/colab-badge.svg\" alt=\"Open In Colab\"/></a>"
      ]
    },
    {
      "cell_type": "markdown",
      "metadata": {
        "id": "XicF29ysTjJQ",
        "colab_type": "text"
      },
      "source": [
        "#1.Introduction"
      ]
    },
    {
      "cell_type": "markdown",
      "metadata": {
        "id": "dhN12jIRTooB",
        "colab_type": "text"
      },
      "source": [
        "This notebook processes the ABP and PPG signals from MIMIC-III waveform database.\n",
        "(https://archive.physionet.org/physiobank/database/mimic3wdb/matched/ ）\n",
        "\n",
        "\n",
        "The output of this notebook are PPG signals with 60s segements at 125 Hz, with systolic and diastolic BP W/O heart rate as numeric labels. The output data will be used to train a PPG based blood pressure model in BP_PPG_CNN+LSTM or Attention_model notebook.\n"
      ]
    },
    {
      "cell_type": "markdown",
      "metadata": {
        "id": "RSWS896N6DID",
        "colab_type": "text"
      },
      "source": [
        "The data cleaning and preprocessing is summarized into the following workflow:\n",
        "\\\n",
        "\\\n",
        "![workflow](https://drive.google.com/uc?export=view&id=1SgGpoB_asuzQTKdxVyUIugGFgmahGOFX)\n"
      ]
    },
    {
      "cell_type": "markdown",
      "metadata": {
        "id": "Pnp28rMOdJT9",
        "colab_type": "text"
      },
      "source": [
        "#2.Setup Environment"
      ]
    },
    {
      "cell_type": "code",
      "metadata": {
        "id": "F_ZSkQAudJT_",
        "colab_type": "code",
        "colab": {}
      },
      "source": [
        "%matplotlib inline\n",
        "from IPython.display import display\n",
        "import pandas as pd\n",
        "import matplotlib.pyplot as plt\n",
        "import numpy as np\n",
        "import os\n",
        "import glob\n",
        "import wfdb\n",
        "import sklearn\n",
        "from sklearn import preprocessing\n",
        "import io\n",
        "import pickle\n",
        "import numba\n",
        "from numba import jit\n",
        "import tensorflow as tf\n",
        "from scipy.signal import find_peaks"
      ],
      "execution_count": 1,
      "outputs": []
    },
    {
      "cell_type": "markdown",
      "metadata": {
        "id": "2kiGC1-qse4g",
        "colab_type": "text"
      },
      "source": [
        "#3.Mine ABP and PPG data from WFDB"
      ]
    },
    {
      "cell_type": "markdown",
      "metadata": {
        "id": "uZ3HmbCgyG17",
        "colab_type": "text"
      },
      "source": [
        "##3.1 Extract filenames"
      ]
    },
    {
      "cell_type": "code",
      "metadata": {
        "id": "nsptUR58slz4",
        "colab_type": "code",
        "colab": {
          "base_uri": "https://localhost:8080/",
          "height": 34
        },
        "outputId": "1124dd20-7d0c-4bc8-aa82-241ac23fda5e"
      },
      "source": [
        "#filter out files smaller than 17Kb\n",
        "hd_names = []\n",
        "for name in glob.glob(\"D:/WFDB//matched/p*/*/[0-9]*[!layout][!n].dat\"):\n",
        "  if os.path.getsize(name) < 17*1024:\n",
        "    continue\n",
        "  position = name.index('.')\n",
        "  name = name[0:position] #remove the .hea part to comply the wfdb.rdrecord format\n",
        "  hd_names.append(name)\n",
        "print(\"There are total \", len(hd_names), \"records that are bigger than 17kb\")"
      ],
      "execution_count": null,
      "outputs": [
        {
          "output_type": "stream",
          "text": [
            "There are total  363716 records that are bigger than 17kb\n"
          ],
          "name": "stdout"
        }
      ]
    },
    {
      "cell_type": "code",
      "metadata": {
        "id": "M0TPbvudO55W",
        "colab_type": "code",
        "colab": {
          "base_uri": "https://localhost:8080/",
          "height": 34
        },
        "outputId": "d307630a-127d-416e-f1e5-5e55edd5133a"
      },
      "source": [
        "#extract ABP and PPG from filtered files\n",
        "qualified_names = [] #a list of file names that contain both PPG and ABP waveforms\n",
        "for name in hd_names:\n",
        "  record = wfdb.rdheader(name)\n",
        "  if 'ABP' in record.sig_name and 'PLETH' in record.sig_name and record.sig_len >= 75000: #only extract records contrains ABP and PPG, and >=10min\n",
        "    qualified_names.append(name)\n",
        "print('There are total', len(qualified_names), 'records that have both ABP and PPG with more than 10min recording')\n",
        "\n",
        "with open('D:/WFDB//matched/BP/qualified_names.pkl', \"wb\") as fp:\n",
        "  pickle.dump(qualified_names, fp)"
      ],
      "execution_count": null,
      "outputs": [
        {
          "output_type": "stream",
          "text": [
            "There are total 54440 records that have both ABP and PPG with more than 10min recording\n"
          ],
          "name": "stdout"
        }
      ]
    },
    {
      "cell_type": "markdown",
      "metadata": {
        "id": "dfR2Y6-7yL2s",
        "colab_type": "text"
      },
      "source": [
        "##3.2 Mine data"
      ]
    },
    {
      "cell_type": "code",
      "metadata": {
        "id": "C0pQ-KTyxHga",
        "colab_type": "code",
        "colab": {}
      },
      "source": [
        "def date_id(filename):\n",
        "  \"\"\"\n",
        "  This function extract patient ID and the data collection date for that specific file\n",
        "  \n",
        "  Arguments:\n",
        "  filename -- a single file from qualified filenames\n",
        "  \n",
        "  Returns:\n",
        "  s_id -- subject id of the input file\n",
        "  r_date -- date collection date of the input file\n",
        "  record_name -- record name of the input file\n",
        "  \"\"\"   \n",
        "  fn_seg = filename.split('\\\\')\n",
        "  #extract subject ID\n",
        "  s_id = fn_seg[2]\n",
        "  #extract signal collected date\n",
        "  record_name = fn_seg[3]\n",
        "  subdir = fn_seg[0] + '/' + fn_seg[1] + '/' + fn_seg[2] + '/'\n",
        "  \n",
        "  #read header files\n",
        "  records =[]\n",
        "  for name in glob.glob(subdir + 'p*[!n].hea'):\n",
        "    position = name.index('.')\n",
        "    name = name[0:position]\n",
        "    record = wfdb.rdheader(name)\n",
        "    records.append(record)\n",
        "  #extract signal collected date\n",
        "  receive_date = None\n",
        "  for record in records:\n",
        "    if record_name in record.seg_name:\n",
        "      receive_date = record.base_date\n",
        "  r_date = str(receive_date)\n",
        "\n",
        "  return s_id, r_date, record_name"
      ],
      "execution_count": null,
      "outputs": []
    },
    {
      "cell_type": "code",
      "metadata": {
        "id": "7bA2-VJfVWSh",
        "colab_type": "code",
        "colab": {}
      },
      "source": [
        "def mine_data(qualified_names, directory, patient = True):\n",
        "  \"\"\"\n",
        "    Mine data from qualified files(>17kb and with both ABP and PPG signals).It is\n",
        "    worth noting that 1 Patient could have multipe records collected at different \n",
        "    dates. \n",
        "    \n",
        "    It will take several hours to finish running this function, plz be patient :)\n",
        "    \n",
        "    Arguments:\n",
        "    qualified_names -- qualified filenames (>17kb and with both ABP and PPG signals) from 3.1 \n",
        "    directory -- directory to save the output of mine_data\n",
        "    patient -- save to filename with subject id and subject received date if patient = True; \n",
        "               otherwise, save data for every 500 records\n",
        "    \n",
        "    Returns:\n",
        "    files with ABP and PPG signals (EITHER each file contains 500 records if patient=FALSE, \n",
        "     OR each file with filename subject id and received date, if patient = TRUE). \n",
        "\n",
        "  \"\"\"\n",
        "  if patient == True:\n",
        "    for name in qualified_names:\n",
        "      record = wfdb.rdrecord(name)\n",
        "      ABP_index = record.sig_name.index('ABP')\n",
        "      PPG_index = record.sig_name.index('PLETH')\n",
        "      ABP_sig = record.p_signal.T[ABP_index]\n",
        "      PPG_sig = record.p_signal.T[PPG_index]\n",
        "\n",
        "      if np.isnan(ABP_sig).any() or np.isnan(PPG_sig).any(): ##remove signal with NA\n",
        "        continue\n",
        "      \n",
        "      #extact Subject ID and data collection date\n",
        "      s_id, r_date, r_name = date_id(name)\n",
        "\n",
        "      with open(directory + 'ABP_signals_'+ r_name + '_' + s_id + '_' + r_date + '.pkl', \"wb\") as fp:\n",
        "        pickle.dump(ABP_sig, fp)\n",
        "      #save PPG data of previous id\n",
        "      with open(directory + 'PPG_signals_'+ r_name + '_' + s_id + '_' + r_date + '.pkl', \"wb\") as fp:\n",
        "        pickle.dump(PPG_sig, fp)\n",
        "  \n",
        "  #if patient != true\n",
        "  else:\n",
        "    ABP_signals = [] #create a  list to store all  ABP signals\n",
        "    PPG_signals = [] #create a  list to store all  PPG signals\n",
        "    n=0\n",
        "    for name in qualified_names:\n",
        "      record = wfdb.rdrecord(name)\n",
        "      ABP_index = record.sig_name.index('ABP')\n",
        "      PPG_index = record.sig_name.index('PLETH')\n",
        "      ABP_sig = record.p_signal.T[ABP_index]\n",
        "      PPG_sig = record.p_signal.T[PPG_index]\n",
        "\n",
        "      if np.isnan(ABP_sig).any() or np.isnan(PPG_sig).any(): ##remove list with all empty signals\n",
        "        continue\n",
        "      else:\n",
        "        ABP_signals.append(ABP_sig)\n",
        "        PPG_signals.append(PPG_sig)\n",
        "        n+=1\n",
        "      \n",
        "      #for every 500 samples, save to disk to release the RAM space\n",
        "      if n%100 == 0:\n",
        "        print(\"saving data No.\" + str(n//100))\n",
        "        #save ABP data\n",
        "        with open(directory + 'ABP_signals_'+str(n//100)+'.pkl', \"wb\") as fp:\n",
        "          pickle.dump(ABP_signals, fp)\n",
        "        #save PPG data\n",
        "        with open(directory + 'PPG_signals_'+str(n//100)+'.pkl', \"wb\") as fp:\n",
        "          pickle.dump(PPG_signals, fp)\n",
        "        #clear up space in the list\n",
        "        ABP_signals.clear()\n",
        "        PPG_signals.clear()\n",
        "\n",
        "      else:\n",
        "        continue\n",
        "    \n",
        "      #save the last <100 ABP data\n",
        "      with open(directory + 'ABP_signals_'+str(n//100 + 1)+'.pkl', \"wb\") as fp:\n",
        "        pickle.dump(ABP_signals, fp)\n",
        "      #save the last <500 PPG data\n",
        "      with open(directory + 'PPG_signals_'+str(n//100 + 1)+'.pkl', \"wb\") as fp:\n",
        "        pickle.dump(PPG_signals, fp)\n",
        "\n",
        "  return None"
      ],
      "execution_count": null,
      "outputs": []
    },
    {
      "cell_type": "code",
      "metadata": {
        "id": "KIlcYt5y6IPJ",
        "colab_type": "code",
        "colab": {}
      },
      "source": [
        "directory = 'D:/WFDB//matched/BP/'\n",
        "mine_data(qualified_names, directory, patient=True)"
      ],
      "execution_count": null,
      "outputs": []
    },
    {
      "cell_type": "markdown",
      "metadata": {
        "id": "_Kay94gJU4qQ",
        "colab_type": "text"
      },
      "source": [
        "#4.Process PPG and ABP raw data"
      ]
    },
    {
      "cell_type": "code",
      "metadata": {
        "id": "8lpuLK5nBSIi",
        "colab_type": "code",
        "colab": {}
      },
      "source": [
        "with open('D:/WFDB//matched/BP/Data Mining/Original Data - Patient/PPG_signals_3003031_0011_p073429_2133-05-24.pkl', \"rb\") as fp:\n",
        "  PPG_raw_signals = pickle.load(fp)\n",
        "with open('D:/WFDB//matched/BP/Data Mining/Original Data - Patient/ABP_signals_3003031_0011_p073429_2133-05-24.pkl', \"rb\") as fp:\n",
        "  ABP_raw_signals = pickle.load(fp)"
      ],
      "execution_count": 47,
      "outputs": []
    },
    {
      "cell_type": "code",
      "metadata": {
        "id": "eSfIrEYhhOTB",
        "colab_type": "code",
        "colab": {
          "base_uri": "https://localhost:8080/",
          "height": 368
        },
        "outputId": "be2919ef-fc9b-4e01-aeea-f790b5bc1b9a"
      },
      "source": [
        "plt.plot(PPG_raw_signals,label=\"PPG\")\n",
        "plt.plot(ABP_raw_signals,label=\"ABP\")\n",
        "plt.legend()"
      ],
      "execution_count": 49,
      "outputs": [
        {
          "output_type": "execute_result",
          "data": {
            "text/plain": [
              "<matplotlib.legend.Legend at 0x17aeeddcec8>"
            ]
          },
          "metadata": {
            "tags": []
          },
          "execution_count": 49
        },
        {
          "output_type": "stream",
          "text": [
            "C:\\Users\\57lzhang.US04WW4008\\Anaconda3\\lib\\site-packages\\IPython\\core\\events.py:88: UserWarning: Creating legend with loc=\"best\" can be slow with large amounts of data.\n",
            "  func(*args, **kwargs)\n",
            "C:\\Users\\57lzhang.US04WW4008\\Anaconda3\\lib\\site-packages\\IPython\\core\\pylabtools.py:128: UserWarning: Creating legend with loc=\"best\" can be slow with large amounts of data.\n",
            "  fig.canvas.print_figure(bytes_io, **kw)\n"
          ],
          "name": "stderr"
        },
        {
          "output_type": "display_data",
          "data": {
            "text/plain": [
              "<Figure size 432x288 with 1 Axes>"
            ],
            "image/png": "[encoded data removed]"
          },
          "metadata": {
            "tags": [],
            "needs_background": "light"
          }
        }
      ]
    },
    {
      "cell_type": "markdown",
      "metadata": {
        "id": "tTzpEES4CDQP",
        "colab_type": "text"
      },
      "source": [
        "##4.1 Flat line removal"
      ]
    },
    {
      "cell_type": "markdown",
      "metadata": {
        "id": "0LoBBj9wIGiB",
        "colab_type": "text"
      },
      "source": [
        "To remove the flatline of a record: if 10% of the signals are made of flatline, then the entire record is removed. The flatline is defined as the change of consecutive points is smaller than a pre-defined threshold. In this notebook, the threshold has been set to 0, whereas a more reasonable value would come from histgram analysis of consecutive point differnce.\n"
      ]
    },
    {
      "cell_type": "code",
      "metadata": {
        "id": "LRgQ3jT1CIeH",
        "colab_type": "code",
        "colab": {}
      },
      "source": [
        "def flat_line(signals,threshold = 0, percent = .10):\n",
        "  \"\"\"\n",
        "    This function removes records that has flat_line region more than specified\n",
        "    percentage of the record.\n",
        "    \n",
        "    Arguments:\n",
        "    signals -- a list of raw PPG or ABP signal record (each with different length)\n",
        "    threshold -- flat points definition threshold\n",
        "    percent- - the flat_line region is more than this percentage, the entire/\n",
        "               record will be removed\n",
        "    \n",
        "    Returns:\n",
        "    clean_signals -- a list of cleaned signals after flat_line records have been removed\n",
        "    rm_list -- a list of index (of input signals) of removed signals\n",
        "\n",
        "   \"\"\"\n",
        "  \n",
        "  clean_signals = []\n",
        "  #create a list to store the index of the removed segments, this will be used\n",
        "  #to remove the PPG signals with same index\n",
        "  rm_list = []\n",
        "  for i in range(len(signals)):\n",
        "    #use np.diff to find consecutive points: diff = [i] - [i+1]\n",
        "    signal_diff = np.diff(signals[i])\n",
        "    #change value less than threshold to 0, and the rest to 1\n",
        "    less = np.abs(signal_diff) <= threshold\n",
        "    more = np.abs(signal_diff) > threshold\n",
        "    signal_diff[less] = 0\n",
        "    signal_diff[more] = 1\n",
        "    #calculate what percent of 0 in the signal, remove the entire signal if \n",
        "    #percentage is higher than defined percent\n",
        "    zero_per = np.sum(signal_diff==0)/len(signal_diff)\n",
        "    if zero_per < percent:\n",
        "      clean_signals.append(signals[i])\n",
        "    else:\n",
        "      rm_list.append(i)\n",
        "    \n",
        "    #track the progress for impatient programmer\n",
        "    #if i%10000 == 0:\n",
        "      #print(\"Processing on\", i, \"th sample\")\n",
        "\n",
        "  return clean_signals,rm_list"
      ],
      "execution_count": 50,
      "outputs": []
    },
    {
      "cell_type": "markdown",
      "metadata": {
        "id": "iruM4RvIDRQv",
        "colab_type": "text"
      },
      "source": [
        "###4.1.1 PPG flat line removal"
      ]
    },
    {
      "cell_type": "code",
      "metadata": {
        "colab_type": "code",
        "id": "kcW7Am7G8PFV",
        "colab": {}
      },
      "source": [
        "PPG_clean_signals,PPG_rm_list = flat_line(PPG_raw_signals,0,percent=0.10)"
      ],
      "execution_count": null,
      "outputs": []
    },
    {
      "cell_type": "code",
      "metadata": {
        "colab_type": "code",
        "id": "xVx-GgH-8PFY",
        "colab": {
          "base_uri": "https://localhost:8080/",
          "height": 52
        },
        "outputId": "d83246cd-3d33-45f4-e4d1-4f21aa0d9545"
      },
      "source": [
        "print('There are',len(PPG_clean_signals),'accepted PPG segments')\n",
        "print('There are',len(PPG_rm_list),'rejected PPG segements that have flat line region more than ~10%')"
      ],
      "execution_count": null,
      "outputs": [
        {
          "output_type": "stream",
          "text": [
            "There are 9 accepted PPG segments\n",
            "There are 0 rejected PPG segements that have flat line region more than ~10%\n"
          ],
          "name": "stdout"
        }
      ]
    },
    {
      "cell_type": "code",
      "metadata": {
        "colab_type": "code",
        "id": "zuQdYKGy8PFa",
        "colab": {}
      },
      "source": [
        "#take the fist 100 samples to see the rejected segements\n",
        "for i in range(len(PPG_rm_list[:50])):\n",
        "  x = PPG_rm_list[i]\n",
        "  plt.figure()\n",
        "  plt.plot(PPG_raw_signals[x])"
      ],
      "execution_count": null,
      "outputs": []
    },
    {
      "cell_type": "markdown",
      "metadata": {
        "id": "jVBo3YbxCUXf",
        "colab_type": "text"
      },
      "source": [
        "###4.1.2 ABP flat line removal"
      ]
    },
    {
      "cell_type": "code",
      "metadata": {
        "id": "DIyAA1sMmyxM",
        "colab_type": "code",
        "colab": {}
      },
      "source": [
        "ABP_clean_signals,ABP_rm_list = flat_line(ABP_raw_signals,0,percent=0.10)"
      ],
      "execution_count": null,
      "outputs": []
    },
    {
      "cell_type": "code",
      "metadata": {
        "id": "JWkoFT9ZLCim",
        "colab_type": "code",
        "colab": {
          "base_uri": "https://localhost:8080/",
          "height": 52
        },
        "outputId": "1a8e3e37-8a57-4c12-978b-e9b118e34284"
      },
      "source": [
        "print('There are',len(ABP_clean_signals),'accepted ABP segments')\n",
        "print('There are',len(ABP_rm_list),'rejected ABP segements that have flat line region more than ~12%')"
      ],
      "execution_count": null,
      "outputs": [
        {
          "output_type": "stream",
          "text": [
            "There are 9 accepted ABP segments\n",
            "There are 0 rejected ABP segements that have flat line region more than ~12%\n"
          ],
          "name": "stdout"
        }
      ]
    },
    {
      "cell_type": "code",
      "metadata": {
        "id": "wv1fNGhdV3C0",
        "colab_type": "code",
        "colab": {}
      },
      "source": [
        "#take the fist 100 samples to see the rejected segements\n",
        "for i in range(len(ABP_rm_list[:100])):\n",
        "  x = ABP_rm_list[i]\n",
        "  plt.figure()\n",
        "  plt.plot(ABP_raw_signals[x])"
      ],
      "execution_count": null,
      "outputs": []
    },
    {
      "cell_type": "markdown",
      "metadata": {
        "id": "sg7gx84Y9yqp",
        "colab_type": "text"
      },
      "source": [
        "###4.1.3 Remove flat ABP and PPG \n"
      ]
    },
    {
      "cell_type": "code",
      "metadata": {
        "id": "4lhWn9bH-Fau",
        "colab_type": "code",
        "colab": {
          "base_uri": "https://localhost:8080/",
          "height": 34
        },
        "outputId": "3f5aa84c-7f30-495b-a442-452fa617e94c"
      },
      "source": [
        "#join the two lists rm_list from ABP, and PPG_rm_list\n",
        "ABP_list = pd.DataFrame(ABP_rm_list)\n",
        "PPG_list = pd.DataFrame(PPG_rm_list)\n",
        "try:\n",
        "  total_list = ABP_list.merge(PPG_list,how=\"outer\")\n",
        "except:\n",
        "  total_list = pd.concat([ABP_list,PPG_list],axis=0)\n",
        "print('There are in total',len(total_list),\"flat line segments in the joint list\")"
      ],
      "execution_count": null,
      "outputs": [
        {
          "output_type": "stream",
          "text": [
            "There are in total 0 flat line segments in the joint list\n"
          ],
          "name": "stdout"
        }
      ]
    },
    {
      "cell_type": "code",
      "metadata": {
        "id": "-NW4LyYLdpt9",
        "colab_type": "code",
        "colab": {
          "base_uri": "https://localhost:8080/",
          "height": 52
        },
        "outputId": "109e96d0-6cc8-4db5-9b3e-26f39180fd83"
      },
      "source": [
        "ABP_cl_signals = np.delete(ABP_raw_signals,total_list,0)\n",
        "PPG_cl_signals = np.delete(PPG_raw_signals,total_list,0)\n",
        "print('There are in total',len(ABP_cl_signals),\"accepted ABP segments\")\n",
        "print('There are in total',len(PPG_cl_signals),\"accepted PPG segments\")"
      ],
      "execution_count": null,
      "outputs": [
        {
          "output_type": "stream",
          "text": [
            "There are in total 9 accepted ABP segments\n",
            "There are in total 9 accepted PPG segments\n"
          ],
          "name": "stdout"
        }
      ]
    },
    {
      "cell_type": "markdown",
      "metadata": {
        "id": "M-bj3TgaDIM3",
        "colab_type": "text"
      },
      "source": [
        "##4.2 Segmentation"
      ]
    },
    {
      "cell_type": "markdown",
      "metadata": {
        "id": "OyM3ugyFCA79",
        "colab_type": "text"
      },
      "source": [
        "###4.2.1 Turn records into 1min segs"
      ]
    },
    {
      "cell_type": "code",
      "metadata": {
        "id": "yCFauiD-DMSe",
        "colab_type": "code",
        "colab": {}
      },
      "source": [
        "def generate_segment_data(source,seg_len, list_type = True):\n",
        "  \"\"\"\n",
        "    This function segement each record into a list of 1min signals\n",
        "    \n",
        "    Arguments:\n",
        "    source -- records that have a flat line less than 10% or other predefined threshold\n",
        "    seg_len -- the lenght of the output signal, for 125Hz sampling rate data, seg_len\n",
        "               is set to be 125 * 60 = 7500 for 1 min output\n",
        "    list_type -- source data will be list if mine_data(Patient = True), if source data is processed \n",
        "                 from mine_data(Patient = True), set this to False\n",
        "    Returns:\n",
        "    signals --  a list of 1 mins signals from each records\n",
        "\n",
        "   \"\"\"\n",
        "  signals =[]\n",
        "\n",
        "  if list_type == True:\n",
        "    for signal in source:\n",
        "      for i in range(int(len(signal)/seg_len)):\n",
        "        seg = signal[seg_len*i:seg_len*(i+1)]\n",
        "        signals.append(seg)\n",
        "\n",
        "  else:\n",
        "    for i in range(int(len(source)/seg_len)):\n",
        "      seg = source[seg_len*i:seg_len*(i+1)]\n",
        "      signals.append(seg)\n",
        "  #convert list into a numpy array and change its dim from (num of records, seg_len, 1) to (num of records, seg_len)  \n",
        "  signals = np.asarray(list(map(lambda x: np.reshape(x,seg_len),signals)))\n",
        "\n",
        "  return signals"
      ],
      "execution_count": 51,
      "outputs": []
    },
    {
      "cell_type": "code",
      "metadata": {
        "id": "7mukifspDQa5",
        "colab_type": "code",
        "colab": {
          "base_uri": "https://localhost:8080/",
          "height": 34
        },
        "outputId": "a8d24c11-dc87-43fc-f737-48b122288f3b"
      },
      "source": [
        "ABP_seg_signals = generate_segment_data(ABP_raw_signals, 7500, list_type=False)\n",
        "print('ABP segmented signals dim:', ABP_seg_signals.shape)"
      ],
      "execution_count": 52,
      "outputs": [
        {
          "output_type": "stream",
          "text": [
            "ABP segmented signals dim: (1612, 7500)\n"
          ],
          "name": "stdout"
        }
      ]
    },
    {
      "cell_type": "code",
      "metadata": {
        "id": "_D1UdVbODQ8t",
        "colab_type": "code",
        "colab": {
          "base_uri": "https://localhost:8080/",
          "height": 34
        },
        "outputId": "d7740eec-c619-4059-b8e6-6b1eae2583a8"
      },
      "source": [
        "PPG_seg_signals = generate_segment_data(PPG_raw_signals, 7500, list_type=False)\n",
        "print('PPG segmented signals dim:', PPG_seg_signals.shape)"
      ],
      "execution_count": 53,
      "outputs": [
        {
          "output_type": "stream",
          "text": [
            "PPG segmented signals dim: (1612, 7500)\n"
          ],
          "name": "stdout"
        }
      ]
    },
    {
      "cell_type": "markdown",
      "metadata": {
        "id": "gUoyqUAfCLEV",
        "colab_type": "text"
      },
      "source": [
        "###4.2.2 Apply flat_line on seg level"
      ]
    },
    {
      "cell_type": "code",
      "metadata": {
        "id": "KK61Y7tcB8lm",
        "colab_type": "code",
        "colab": {}
      },
      "source": [
        "#lower tolerance for ABP since this will be used to generate ground truth\n",
        "ABP_seg_clean_signals,ABP_seg_rm_list = flat_line(ABP_seg_signals,0,percent=0.02)"
      ],
      "execution_count": 54,
      "outputs": []
    },
    {
      "cell_type": "code",
      "metadata": {
        "id": "jWjBZblNCZHG",
        "colab_type": "code",
        "colab": {}
      },
      "source": [
        "#higher tolerance for PPG since the DL algorithm needs to have some robustness\n",
        "PPG_seg_clean_signals,PPG_seg_rm_list = flat_line(PPG_seg_signals,0,percent=0.05)"
      ],
      "execution_count": 55,
      "outputs": []
    },
    {
      "cell_type": "code",
      "metadata": {
        "id": "kAgOKNTbCrlT",
        "colab_type": "code",
        "colab": {
          "base_uri": "https://localhost:8080/",
          "height": 34
        },
        "outputId": "8b2e3957-4f98-4fb5-e977-cc38a4737724"
      },
      "source": [
        "#join the two lists rm_list from ABP, and PPG_rm_list\n",
        "ABP_seg_list = pd.DataFrame(ABP_seg_rm_list)\n",
        "PPG_seg_list = pd.DataFrame(PPG_seg_rm_list)\n",
        "try:\n",
        "  total_seg_list = ABP_seg_list.merge(PPG_seg_list,how=\"outer\")\n",
        "except:\n",
        "  total_seg_list = pd.concat([ABP_seg_list,PPG_seg_list],axis=0)\n",
        "print('There are in total',len(total_seg_list),\"flat line segments in the joint list\")"
      ],
      "execution_count": 56,
      "outputs": [
        {
          "output_type": "stream",
          "text": [
            "There are in total 523 flat line segments in the joint list\n"
          ],
          "name": "stdout"
        }
      ]
    },
    {
      "cell_type": "code",
      "metadata": {
        "id": "RRQTupHECwjH",
        "colab_type": "code",
        "colab": {
          "base_uri": "https://localhost:8080/",
          "height": 52
        },
        "outputId": "8dd460c3-14f9-413d-ebb8-90c98a80cbf6"
      },
      "source": [
        "ABP_seg_cl_signals = np.delete(ABP_seg_signals,total_seg_list,0)\n",
        "PPG_seg_cl_signals = np.delete(PPG_seg_signals,total_seg_list,0)\n",
        "print('There are in total',len(ABP_seg_cl_signals),\"accepted ABP segments\")\n",
        "print('There are in total',len(PPG_seg_cl_signals),\"accepted PPG segments\")"
      ],
      "execution_count": 57,
      "outputs": [
        {
          "output_type": "stream",
          "text": [
            "There are in total 1089 accepted ABP segments\n",
            "There are in total 1089 accepted PPG segments\n"
          ],
          "name": "stdout"
        }
      ]
    },
    {
      "cell_type": "markdown",
      "metadata": {
        "id": "yGjZb6Gv26QM",
        "colab_type": "text"
      },
      "source": [
        "##4.3 Process ABP data"
      ]
    },
    {
      "cell_type": "markdown",
      "metadata": {
        "id": "9ZObF_rfDtTN",
        "colab_type": "text"
      },
      "source": [
        "###4.3.1 Peak Segmentation"
      ]
    },
    {
      "cell_type": "markdown",
      "metadata": {
        "id": "iSq2vaybKJ72",
        "colab_type": "text"
      },
      "source": [
        "Do another segementation for ABP based on each peak (i.e. segement 1min signals into each heart beat cycle)\n",
        "\n"
      ]
    },
    {
      "cell_type": "code",
      "metadata": {
        "id": "Ynj6-Qk6AKsu",
        "colab_type": "code",
        "colab": {}
      },
      "source": [
        "def peak_segmentation(signal,distance = 50):\n",
        "  \"\"\"\n",
        "  This function segement each ABP 1min signal into heart beats by using \n",
        "  peak detetion algorithm\n",
        "\n",
        "  Arguments:\n",
        "  signal -- 1 min ABP singal\n",
        "  distance -- minium peak-to-peak seperation distance (50 means 50 data points)\n",
        "\n",
        "  Returns:\n",
        "  segments --  a list of 1 min heart beats\n",
        "\n",
        "  \"\"\"\n",
        "  valleys, _ = find_peaks(signal*-1, distance=distance)\n",
        "  \n",
        "  segments = []\n",
        "  for i in range(len(valleys)-1):\n",
        "    seg = signal[valleys[i]:valleys[i+1]]\n",
        "    segments.append(seg)\n",
        "  \n",
        "  return segments"
      ],
      "execution_count": 58,
      "outputs": []
    },
    {
      "cell_type": "code",
      "metadata": {
        "id": "l5gdyfOiI2GH",
        "colab_type": "code",
        "colab": {
          "base_uri": "https://localhost:8080/",
          "height": 52
        },
        "outputId": "bb625294-9085-4c5a-9ea1-b23db3d834be"
      },
      "source": [
        "ABP_ps_signals = [peak_segmentation(i) for i in ABP_seg_cl_signals]\n",
        "print('ABP 1min segmented signals dim:', ABP_seg_cl_signals.shape)\n",
        "print('ABP cycle segmented signals no. of samples:(',len(ABP_ps_signals),', No.of cycles, No.of points/cycle)')"
      ],
      "execution_count": 59,
      "outputs": [
        {
          "output_type": "stream",
          "text": [
            "ABP 1min segmented signals dim: (1089, 7500)\n",
            "ABP cycle segmented signals no. of samples:( 1089 , No.of cycles, No.of points/cycle)\n"
          ],
          "name": "stdout"
        }
      ]
    },
    {
      "cell_type": "markdown",
      "metadata": {
        "id": "TYM1-Hp0Dx0Z",
        "colab_type": "text"
      },
      "source": [
        "###4.3.2 Flat peak removal"
      ]
    },
    {
      "cell_type": "code",
      "metadata": {
        "id": "TZeeUx1MIqZu",
        "colab_type": "code",
        "colab": {}
      },
      "source": [
        "def flat_peak(cycles, tolerance = 1):\n",
        "  \"\"\"\n",
        "  This function removes heat beat cycles (in 1 min) that have flat peaks\n",
        "\n",
        "  Arguments:\n",
        "  cycles -- 1 min ABP signals that consisits many heart beat cycles\n",
        "  tolerance -- number of acceptable flat point \n",
        "\n",
        "  Returns:\n",
        "  clean_cycles --  a list of cleaned heat beat cycles\n",
        "\n",
        "  \"\"\"  \n",
        "  clean_cycles = []\n",
        "\n",
        "  for i in range(len(cycles)):\n",
        "    if len(np.argwhere(cycles[i] == np.amax(cycles[i]))) > tolerance:\n",
        "      continue;\n",
        "    else: \n",
        "      clean_cycles.append(cycles[i])\n",
        "\n",
        "  return clean_cycles"
      ],
      "execution_count": 60,
      "outputs": []
    },
    {
      "cell_type": "code",
      "metadata": {
        "id": "kTTz-EoJNfgj",
        "colab_type": "code",
        "colab": {}
      },
      "source": [
        "def flat_peak_remove(signals, seg_ratio = 0.95, tolerance = 1):\n",
        "  \"\"\"\n",
        "  This function removes 1min segements that have flat peak\n",
        "\n",
        "  Arguments:\n",
        "  signals -- A list of 1min ABP signals that are represented by \n",
        "             dim [No.of 1min records, No.of heart beats in 1 min, No. of points in each heart beat ]\n",
        "  seg_ratio -- threhold to remove the whole 1min signal (i.e. if the ratio of \n",
        "                \"No. of cleaned flat peak heart beat cycles\"/\"No. of original 1min heart beat cycles\" \n",
        "                is less than this treshold, then the whole 1min signal of cycles will be removed )\n",
        "  Returns:\n",
        "  cleaned_segments --  a list of cleaned 1min signals\n",
        "  remove_index --  list of index (of input signals) removed 1min signals\n",
        "\n",
        "  \"\"\"  \n",
        "  clean_segments = []\n",
        "  remove_index = [] \n",
        "\n",
        "  for i in range(len(signals)):\n",
        "    #in case some lists are empty\n",
        "    if signals[i] == []: \n",
        "      remove_index.append(i) \n",
        "      continue  \n",
        "\n",
        "    clean_cycles = flat_peak(signals[i],tolerance)\n",
        "    \n",
        "    if len(clean_cycles)/(len(signals[i])) < seg_ratio: \n",
        "      remove_index.append(i)\n",
        "      continue\n",
        "    \n",
        "    clean_segments.append(clean_cycles)\n",
        "\n",
        "  return clean_segments, remove_index"
      ],
      "execution_count": 61,
      "outputs": []
    },
    {
      "cell_type": "code",
      "metadata": {
        "id": "-RD8f125VM3z",
        "colab_type": "code",
        "colab": {}
      },
      "source": [
        "ABP_fpr_signals, remove_index = flat_peak_remove(ABP_ps_signals,0.95,1)"
      ],
      "execution_count": 62,
      "outputs": []
    },
    {
      "cell_type": "code",
      "metadata": {
        "id": "6fgZu3DdYp90",
        "colab_type": "code",
        "colab": {
          "base_uri": "https://localhost:8080/",
          "height": 52
        },
        "outputId": "a953693c-036d-4152-b0e2-c867d0c9d754"
      },
      "source": [
        "print('ABP 1min segmented signals that has more than 10% cycles has flat peak:', len(remove_index))\n",
        "print('Cleaned ABP 1min segmented signals:', len(ABP_fpr_signals))"
      ],
      "execution_count": 63,
      "outputs": [
        {
          "output_type": "stream",
          "text": [
            "ABP 1min segmented signals that has more than 10% cycles has flat peak: 917\n",
            "Cleaned ABP 1min segmented signals: 172\n"
          ],
          "name": "stdout"
        }
      ]
    },
    {
      "cell_type": "code",
      "metadata": {
        "id": "YW-YBClMUPev",
        "colab_type": "code",
        "colab": {
          "base_uri": "https://localhost:8080/",
          "height": 264
        },
        "outputId": "cc6d9615-0dcf-43a5-8260-f24a051e7f06"
      },
      "source": [
        "#plot to see what have been removed\n",
        "for i in range(len(ABP_ps_signals[remove_index[5]])):\n",
        "  plt.figure\n",
        "  plt.plot(ABP_ps_signals[remove_index[5]][i])"
      ],
      "execution_count": 64,
      "outputs": [
        {
          "output_type": "display_data",
          "data": {
            "text/plain": [
              "<Figure size 432x288 with 1 Axes>"
            ],
            "image/png": "[encoded data removed]"
          },
          "metadata": {
            "tags": [],
            "needs_background": "light"
          }
        }
      ]
    },
    {
      "cell_type": "code",
      "metadata": {
        "id": "CyDxouak_8os",
        "colab_type": "code",
        "colab": {}
      },
      "source": [
        "#plot to see the cleaned signals\n",
        "for i in range(len(ABP_fpr_signals[4])):\n",
        "  plt.plot(ABP_fpr_signals[4][i])"
      ],
      "execution_count": null,
      "outputs": []
    },
    {
      "cell_type": "markdown",
      "metadata": {
        "id": "HcxmKaU7aWXi",
        "colab_type": "text"
      },
      "source": [
        "###4.3.3 Remove PPG data\n",
        "\n",
        "Remove PPG data that overlaps with ABP remove_index, since no ground truth BP value can be generated for those PPG data"
      ]
    },
    {
      "cell_type": "code",
      "metadata": {
        "id": "PVYP8nOrbIBl",
        "colab_type": "code",
        "colab": {
          "base_uri": "https://localhost:8080/",
          "height": 52
        },
        "outputId": "d510c049-c7b8-4efe-c543-22af6418fe86"
      },
      "source": [
        "PPG_fpr_signals = np.delete(PPG_seg_cl_signals,remove_index,0)\n",
        "print('There are in total',len(ABP_fpr_signals),\"accepted ABP 1min segments\")\n",
        "print('There are in total',len(PPG_fpr_signals),\"accepted PPG 1min segments\")"
      ],
      "execution_count": 65,
      "outputs": [
        {
          "output_type": "stream",
          "text": [
            "There are in total 172 accepted ABP 1min segments\n",
            "There are in total 172 accepted PPG 1min segments\n"
          ],
          "name": "stdout"
        }
      ]
    },
    {
      "cell_type": "markdown",
      "metadata": {
        "id": "zc2bZmtRdMcB",
        "colab_type": "text"
      },
      "source": [
        "###4.3.4 Generate ground truth"
      ]
    },
    {
      "cell_type": "code",
      "metadata": {
        "id": "VRxBSD1-fhu7",
        "colab_type": "code",
        "colab": {}
      },
      "source": [
        "def bp_ground_truth(signals, tolerance = 15, return_hr = True):\n",
        "  \"\"\"\n",
        "  This function returns average systolic and diastolic value of a 1min signals\n",
        "\n",
        "  Arguments:\n",
        "  signals -- A list of 1min ABP signals that are represented by \n",
        "             dim [No.of 1min records, No.of heart beats in 1 min, No. of points in each heart beat ]\n",
        "  seg_ratio -- threhold to remove the whole 1min signal (i.e. if the ratio of \n",
        "                \"No. of cleaned flat peak heart beat cycles\"/\"No. of original 1min heart beat cycles\" \n",
        "                is less than this treshold, then the whole 1min signal of cycles will be removed)\n",
        "  return_hr -- set it to True to get the heart rate of each 1min signals\n",
        "  \n",
        "  Returns:\n",
        "  gt_ls --  a list of BP (and HR if return_hr == True) for a list of 1min signals\n",
        "  remove_index --  list of index (of input signals) of removed 1min signals\n",
        "\n",
        "  \"\"\"  \n",
        "  gt_ls = []\n",
        "  remove_index = []\n",
        "  for i in range(len(signals)):\n",
        "    cycles = signals[i]    #a list of cycles in 1min signal\n",
        "    \n",
        "    cyc_sys_list = []\n",
        "    cyc_dia_list = []\n",
        "    for j in range(len(cycles)):\n",
        "      cyc_sys_list.append(max(cycles[j]))\n",
        "      cyc_dia_list.append(cycles[j][0])\n",
        "\n",
        "    if np.max(np.asarray(cyc_sys_list)) - np.min(np.asarray(cyc_sys_list)) > tolerance \\\n",
        "    or np.max(np.asarray(cyc_dia_list)) - np.min(np.asarray(cyc_dia_list)) > tolerance:\n",
        "      remove_index.append(i)\n",
        "      continue\n",
        "\n",
        "    else: \n",
        "      if return_hr == True:\n",
        "        gt_ls.append([np.average(np.asarray(cyc_sys_list)),\n",
        "                  np.average(np.asarray(cyc_dia_list)), len(cyc_sys_list)])\n",
        "\n",
        "      else:\n",
        "        gt_ls.append([np.average(np.asarray(cyc_sys_list)),\n",
        "                  np.average(np.asarray(cyc_dia_list))])\n",
        "  \n",
        "  return gt_ls, remove_index"
      ],
      "execution_count": 66,
      "outputs": []
    },
    {
      "cell_type": "code",
      "metadata": {
        "id": "BTLbQW4_dL-g",
        "colab_type": "code",
        "colab": {
          "base_uri": "https://localhost:8080/",
          "height": 34
        },
        "outputId": "378b2920-64a6-4b66-98ad-b7b86c0b37cf"
      },
      "source": [
        "gt_ls, gt_rm_ls = bp_ground_truth(ABP_fpr_signals, 15)\n",
        "print(\"Ground truth list has\", len(gt_ls), \"samples\")"
      ],
      "execution_count": 67,
      "outputs": [
        {
          "output_type": "stream",
          "text": [
            "Ground truth list has 30 samples\n"
          ],
          "name": "stdout"
        }
      ]
    },
    {
      "cell_type": "code",
      "metadata": {
        "id": "uZQ6f25XkFG0",
        "colab_type": "code",
        "colab": {
          "base_uri": "https://localhost:8080/",
          "height": 107
        },
        "outputId": "b7a94043-1723-46fc-c940-7eaaf90a2b06"
      },
      "source": [
        "PPG_gt_signals = np.delete(PPG_fpr_signals,gt_rm_ls,0)\n",
        "ABP_gt_signals = np.delete(ABP_fpr_signals,gt_rm_ls,0)\n",
        "print('There are in total',len(gt_ls),\"accepted ABP labels\")\n",
        "print('There are in total',len(PPG_gt_signals),\"accepted PPG 1min segments\")"
      ],
      "execution_count": 68,
      "outputs": [
        {
          "output_type": "stream",
          "text": [
            "There are in total 30 accepted ABP labels\n",
            "There are in total 30 accepted PPG 1min segments\n"
          ],
          "name": "stdout"
        },
        {
          "output_type": "stream",
          "text": [
            "C:\\Users\\57lzhang.US04WW4008\\Anaconda3\\lib\\site-packages\\numpy\\core\\_asarray.py:83: VisibleDeprecationWarning: Creating an ndarray from ragged nested sequences (which is a list-or-tuple of lists-or-tuples-or ndarrays with different lengths or shapes) is deprecated. If you meant to do this, you must specify 'dtype=object' when creating the ndarray\n",
            "  return array(a, dtype, copy=False, order=order)\n"
          ],
          "name": "stderr"
        }
      ]
    },
    {
      "cell_type": "code",
      "metadata": {
        "id": "69apzaqfCG1i",
        "colab_type": "code",
        "colab": {}
      },
      "source": [
        "for n in range(len(ABP_gt_signals)):\n",
        "  plt.figure()\n",
        "  for i in range(len(ABP_gt_signals[n])):\n",
        "    plt.plot(ABP_gt_signals[n][i])"
      ],
      "execution_count": null,
      "outputs": []
    },
    {
      "cell_type": "markdown",
      "metadata": {
        "id": "1Mqw63y27xsj",
        "colab_type": "text"
      },
      "source": [
        "##4.4 Process PPG raw data\n",
        "Only do scaling(standardization), bandpass and hempal on PPG signals, not on ABP, since APB's waveform will be the groundtruth for blood pressure."
      ]
    },
    {
      "cell_type": "markdown",
      "metadata": {
        "id": "-rPVYsRHw_MR",
        "colab_type": "text"
      },
      "source": [
        "###4.4.1 Scaling"
      ]
    },
    {
      "cell_type": "code",
      "metadata": {
        "colab_type": "code",
        "id": "VxJmIquU7SBo",
        "colab": {
          "base_uri": "https://localhost:8080/",
          "height": 34
        },
        "outputId": "f5fb778b-1142-4bca-bd10-0634e7b44ff5"
      },
      "source": [
        "#use robust_scale instead of scale to leave out outliers\n",
        "PPG_norm_signals = [sklearn.preprocessing.robust_scale(i) for i in PPG_gt_signals]\n",
        "print(\"After re-scaling, there are:\", len(PPG_norm_signals), \"PPG records\")"
      ],
      "execution_count": 70,
      "outputs": [
        {
          "output_type": "stream",
          "text": [
            "After re-scaling, there are: 30 PPG records\n"
          ],
          "name": "stdout"
        }
      ]
    },
    {
      "cell_type": "code",
      "metadata": {
        "colab_type": "code",
        "id": "lDYaFYlX7SB6",
        "colab": {
          "base_uri": "https://localhost:8080/",
          "height": 282
        },
        "outputId": "55e6bc2d-45db-41fc-8f5f-a38f75a54425"
      },
      "source": [
        "plt.plot(PPG_gt_signals[0],label=\"sample 1 BEFORE scaling\")\n",
        "plt.plot(PPG_gt_signals[10],label=\"sample 2 BEFORE scaling\")\n",
        "plt.legend()"
      ],
      "execution_count": 71,
      "outputs": [
        {
          "output_type": "execute_result",
          "data": {
            "text/plain": [
              "<matplotlib.legend.Legend at 0x17ab029ccc8>"
            ]
          },
          "metadata": {
            "tags": []
          },
          "execution_count": 71
        },
        {
          "output_type": "display_data",
          "data": {
            "text/plain": [
              "<Figure size 432x288 with 1 Axes>"
            ],
            "image/png": "[encoded data removed]"
          },
          "metadata": {
            "tags": [],
            "needs_background": "light"
          }
        }
      ]
    },
    {
      "cell_type": "code",
      "metadata": {
        "colab_type": "code",
        "id": "eDvThqlT7SB-",
        "colab": {
          "base_uri": "https://localhost:8080/",
          "height": 285
        },
        "outputId": "c3ba7b19-ccd4-4e91-917b-245f3113e6fd"
      },
      "source": [
        "plt.plot(PPG_norm_signals[0],label=\"sample 1 AFTER scaling\")\n",
        "plt.plot(PPG_norm_signals[10],label=\"sample 2 AFTER scaling\")\n",
        "plt.legend()"
      ],
      "execution_count": 72,
      "outputs": [
        {
          "output_type": "execute_result",
          "data": {
            "text/plain": [
              "<matplotlib.legend.Legend at 0x17ab02a3548>"
            ]
          },
          "metadata": {
            "tags": []
          },
          "execution_count": 72
        },
        {
          "output_type": "display_data",
          "data": {
            "text/plain": [
              "<Figure size 432x288 with 1 Axes>"
            ],
            "image/png": "[encoded data removed]"
          },
          "metadata": {
            "tags": [],
            "needs_background": "light"
          }
        }
      ]
    },
    {
      "cell_type": "markdown",
      "metadata": {
        "id": "d1-4_EAvrXl3",
        "colab_type": "text"
      },
      "source": [
        "###4.4.2 Band pass filter\n",
        "\n"
      ]
    },
    {
      "cell_type": "code",
      "metadata": {
        "id": "1zfB0Sk6ricU",
        "colab_type": "code",
        "colab": {}
      },
      "source": [
        "from scipy.signal import butter, lfilter\n",
        "def butter_bandpass(lowcut, highcut, fs, order=4):\n",
        "    nyq = 0.5 * fs\n",
        "    low = lowcut / nyq\n",
        "    high = highcut / nyq\n",
        "    b, a = butter(order, [low, high], btype='band')\n",
        "    return b, a\n",
        "\n",
        "\n",
        "def butter_bandpass_filter(data, lowcut, highcut, fs, order=4):\n",
        "    b, a = butter_bandpass(lowcut, highcut, fs, order=order)\n",
        "    y = lfilter(b, a, data)\n",
        "    return y"
      ],
      "execution_count": 73,
      "outputs": []
    },
    {
      "cell_type": "code",
      "metadata": {
        "id": "fMwyTjz7Udzs",
        "colab_type": "code",
        "colab": {
          "base_uri": "https://localhost:8080/",
          "height": 34
        },
        "outputId": "4b003e64-dc35-4d8a-8922-6d30b2b77ed5"
      },
      "source": [
        "PPG_bf_signals =[butter_bandpass_filter(i,0.5,8,125,order=4) for i in PPG_norm_signals]\n",
        "print(\"After band pass filtering, there are:\", len(PPG_bf_signals), \"PPG records\")"
      ],
      "execution_count": 75,
      "outputs": [
        {
          "output_type": "stream",
          "text": [
            "After band pass filtering, there are: 30 PPG records\n"
          ],
          "name": "stdout"
        }
      ]
    },
    {
      "cell_type": "code",
      "metadata": {
        "id": "uQjarVPYaqFM",
        "colab_type": "code",
        "colab": {
          "base_uri": "https://localhost:8080/",
          "height": 531
        },
        "outputId": "a127ae9d-8326-474c-ca92-d378de6aff6c"
      },
      "source": [
        "plt.plot(PPG_norm_signals[28][:1000],label=\"PPG before band pass filtering\")\n",
        "plt.legend()\n",
        "plt.figure()\n",
        "plt.plot(PPG_bf_signals[28][:1000], label=\"PPG after band pass filtering\")\n",
        "plt.legend()"
      ],
      "execution_count": 76,
      "outputs": [
        {
          "output_type": "execute_result",
          "data": {
            "text/plain": [
              "<matplotlib.legend.Legend at 0x17ab042ba08>"
            ]
          },
          "metadata": {
            "tags": []
          },
          "execution_count": 76
        },
        {
          "output_type": "display_data",
          "data": {
            "text/plain": [
              "<Figure size 432x288 with 1 Axes>"
            ],
            "image/png": "[encoded data removed]"
          },
          "metadata": {
            "tags": [],
            "needs_background": "light"
          }
        },
        {
          "output_type": "display_data",
          "data": {
            "text/plain": [
              "<Figure size 432x288 with 1 Axes>"
            ],
            "image/png": "[encoded data removed]"
          },
          "metadata": {
            "tags": [],
            "needs_background": "light"
          }
        }
      ]
    },
    {
      "cell_type": "markdown",
      "metadata": {
        "id": "RCZPoUzwxHGz",
        "colab_type": "text"
      },
      "source": [
        "###4.4.3 Hampel filter"
      ]
    },
    {
      "cell_type": "markdown",
      "metadata": {
        "id": "sh6h1Jprh7bc",
        "colab_type": "text"
      },
      "source": [
        "The efffectiveness of hampel filter depends on how we play the two parameters: window_size and number of sigmas. "
      ]
    },
    {
      "cell_type": "code",
      "metadata": {
        "id": "sc14FBigPpsZ",
        "colab_type": "code",
        "colab": {}
      },
      "source": [
        "#use numba to improve the speed of for loop\n",
        "@jit(nopython=True)\n",
        "def hampel_filter_forloop_numba(input_series, window_size, n_sigmas=3):\n",
        "    \n",
        "    n = len(input_series)\n",
        "    new_series = input_series.copy()\n",
        "    k = 1.4826 # scale factor for Gaussian distribution\n",
        "    #indices = []\n",
        "    \n",
        "    for i in range((window_size),(n - window_size)):\n",
        "        x0 = np.nanmedian(input_series[(i - window_size):(i + window_size)])\n",
        "        S0 = k * np.nanmedian(np.abs(input_series[(i - window_size):(i + window_size)] - x0))\n",
        "        if (np.abs(input_series[i] - x0) > n_sigmas * S0):\n",
        "            new_series[i] = x0\n",
        "            #indices.append(i)\n",
        "    \n",
        "    return new_series#, indices"
      ],
      "execution_count": 77,
      "outputs": []
    },
    {
      "cell_type": "code",
      "metadata": {
        "id": "TG28brvIW3yS",
        "colab_type": "code",
        "colab": {
          "base_uri": "https://localhost:8080/",
          "height": 34
        },
        "outputId": "672bb9aa-bdf1-4229-8b8b-3025b46fbab2"
      },
      "source": [
        "PPG_hf_signals = [hampel_filter_forloop_numba(i, 6) for i in PPG_bf_signals]\n",
        "print(\"After Hample filtering, there are:\", len(PPG_hf_signals), \"PPG segments\")"
      ],
      "execution_count": 78,
      "outputs": [
        {
          "output_type": "stream",
          "text": [
            "After Hample filtering, there are: 30 PPG segments\n"
          ],
          "name": "stdout"
        }
      ]
    },
    {
      "cell_type": "code",
      "metadata": {
        "id": "FT3rUni-a0o8",
        "colab_type": "code",
        "colab": {
          "base_uri": "https://localhost:8080/",
          "height": 282
        },
        "outputId": "6f86ce3d-62d8-4af6-ebae-a07181893d8f"
      },
      "source": [
        "plt.plot(PPG_bf_signals[1][400:805], label = \"before hampel filter\")\n",
        "plt.plot(PPG_hf_signals[1][400:805], label = \"after hampel filter\")\n",
        "plt.legend()"
      ],
      "execution_count": 79,
      "outputs": [
        {
          "output_type": "execute_result",
          "data": {
            "text/plain": [
              "<matplotlib.legend.Legend at 0x17ab0561e48>"
            ]
          },
          "metadata": {
            "tags": []
          },
          "execution_count": 79
        },
        {
          "output_type": "display_data",
          "data": {
            "text/plain": [
              "<Figure size 432x288 with 1 Axes>"
            ],
            "image/png": "[encoded data removed]"
          },
          "metadata": {
            "tags": [],
            "needs_background": "light"
          }
        }
      ]
    },
    {
      "cell_type": "markdown",
      "metadata": {
        "id": "8GUON2zTFmmJ",
        "colab_type": "text"
      },
      "source": [
        "# 5.Applied above steps to all data"
      ]
    },
    {
      "cell_type": "markdown",
      "metadata": {
        "id": "EBcF7MbkdaUn",
        "colab_type": "text"
      },
      "source": [
        "##5.1 process_data function"
      ]
    },
    {
      "cell_type": "code",
      "metadata": {
        "id": "_I17_KbRBaQR",
        "colab_type": "code",
        "colab": {}
      },
      "source": [
        "def process_data(input_dir, output_dir):\n",
        "  \"\"\"\n",
        "  This function applies above steps to the output of mine_data(Patient = FALSE). \n",
        "  In other words, the data will be processed without knowing the patient information.\n",
        "  \n",
        "  Arguments:\n",
        "  input_dir -- where the input data from mine_data is saved \n",
        "  output_dir -- where to save the output data of this function\n",
        "\n",
        "  Returns:\n",
        "  A processed PPG data and Ground Truth labels\n",
        "\n",
        "  \"\"\"  \n",
        "\n",
        "  #load data\n",
        "  ABP_names = glob.glob(input_dir + \"ABP*.pkl\")\n",
        "  PPG_names = glob.glob(input_dir + \"PPG*.pkl\")\n",
        "  assert(len(ABP_names) == len(PPG_names))\n",
        "  for i in range(len(ABP_names)):\n",
        "    \n",
        "    print(\"processing\", i, \"th data\")\n",
        "\n",
        "    with open(ABP_names[i], \"rb\") as fp:\n",
        "      ABP_raw_signals = pickle.load(fp)\n",
        "\n",
        "    with open(PPG_names[i], \"rb\") as fp:\n",
        "      PPG_raw_signals = pickle.load(fp)\n",
        "\n",
        "\n",
        "    #remove flat lines on record level: ABP: 10%, PPG: 10%\n",
        "    _, PPG_rm_list = flat_line(PPG_raw_signals,0,percent=0.10)\n",
        "    _, ABP_rm_list = flat_line(ABP_raw_signals,0,percent=0.10)\n",
        "    \n",
        "    ABP_list = pd.DataFrame(ABP_rm_list)\n",
        "    PPG_list = pd.DataFrame(PPG_rm_list)\n",
        "\n",
        "    try:\n",
        "      total_list = ABP_list.merge(PPG_list,how=\"outer\")\n",
        "    except:\n",
        "      total_list = pd.concat([ABP_list,PPG_list],axis=0)\n",
        "      \n",
        "    ABP_cl_signals = np.delete(ABP_raw_signals,total_list,0)\n",
        "    PPG_cl_signals = np.delete(PPG_raw_signals,total_list,0)  \n",
        "\n",
        "    #segment into 1min data\n",
        "    ABP_seg_signals = generate_segment_data(ABP_cl_signals, 7500)\n",
        "    PPG_seg_signals = generate_segment_data(PPG_cl_signals, 7500)\n",
        "\n",
        "    #remove flat lines on 1min segment level: ABP: 2%, PPG: 5%\n",
        "    _, ABP_seg_rm_list = flat_line(ABP_seg_signals,0,percent=0.02)\n",
        "    _, PPG_seg_rm_list = flat_line(PPG_seg_signals,0,percent=0.05)\n",
        "\n",
        "    ABP_seg_list = pd.DataFrame(ABP_seg_rm_list)\n",
        "    PPG_seg_list = pd.DataFrame(PPG_seg_rm_list)\n",
        "\n",
        "    try:\n",
        "      total_seg_list = ABP_seg_list.merge(PPG_seg_list,how=\"outer\")\n",
        "    except:\n",
        "      total_seg_list = pd.concat([ABP_seg_list,PPG_seg_list],axis=0)\n",
        "    \n",
        "    ABP_seg_cl_signals = np.delete(ABP_seg_signals,total_seg_list,0)\n",
        "    PPG_seg_cl_signals = np.delete(PPG_seg_signals,total_seg_list,0)\n",
        "\n",
        "    #PROCESS ABP SIGNAL\n",
        "    #1.peak segmentation: distance = 50\n",
        "    ABP_ps_signals = [peak_segmentation(i, distance = 50) for i in ABP_seg_cl_signals]\n",
        "    #2.flat peak removal: seg_ratio = 0.95, tolerance = 1\n",
        "    ABP_fpr_signals, remove_index = flat_peak_remove(ABP_ps_signals,0.95,1)\n",
        "    #3.remove corresponding PPG signal\n",
        "    PPG_fpr_signals = np.delete(PPG_seg_cl_signals,remove_index,0)\n",
        "    #4.generate ground truth ABP: tolerance = 15 mmHg\n",
        "    gt_ls, gt_rm_list= bp_ground_truth(ABP_fpr_signals, tolerance=15, return_hr = True)\n",
        "    #5.remove corresponding PPG signals\n",
        "    PPG_gt_signals = np.delete(PPG_fpr_signals,gt_rm_list,0)\n",
        "\n",
        "    #PROCESS PPG SIGNAL\n",
        "    #1.standardize PPG signal\n",
        "    PPG_norm_signals = [sklearn.preprocessing.robust_scale(i) for i in PPG_gt_signals]\n",
        "    #2.band pass filter on PPG sinal\n",
        "    PPG_bf_signals =[butter_bandpass_filter(i,0.5,8,125,order=4) for i in PPG_norm_signals]\n",
        "    #3. hampel filter\n",
        "    PPG_hf_signals = [hampel_filter_forloop_numba(i, 6) for i in PPG_bf_signals]\n",
        "    #4. resample signal\n",
        "    ##PLACEHOLDER for resampling signal to a lower frequency, if needed\n",
        "    with open(output_dir + \"BP_data\" + \"_\" + str(i), \"wb\") as fp:\n",
        "      pickle.dump(PPG_hf_signals,fp)\n",
        "\n",
        "    with open(output_dir + \"BP_label\" + \"_\" + str(i), \"wb\") as fp:\n",
        "      pickle.dump(gt_ls,fp)\n",
        "\n",
        "  return None"
      ],
      "execution_count": null,
      "outputs": []
    },
    {
      "cell_type": "code",
      "metadata": {
        "id": "tvxOyz5DD3zN",
        "colab_type": "code",
        "colab": {}
      },
      "source": [
        "input_dir = 'D:/WFDB//matched/BP/'\n",
        "output_dir = 'D:/WFDB//matched/BP/'\n",
        "process_data(input_dir, output_dir)"
      ],
      "execution_count": null,
      "outputs": []
    },
    {
      "cell_type": "markdown",
      "metadata": {
        "id": "VOePtodJd7zB",
        "colab_type": "text"
      },
      "source": [
        "##5.2 new_process_data function"
      ]
    },
    {
      "cell_type": "code",
      "metadata": {
        "id": "OOli1ZypHxyx",
        "colab_type": "code",
        "colab": {}
      },
      "source": [
        "def new_process_data(input_dir, output_dir):\n",
        "  \"\"\"\n",
        "  This function applies to the output of mine_data(Patient = TRUE). \n",
        "  In other words, we would like to keep subject ID during data processing, \n",
        "  so that we can input patients' biometrics later during modeling. One nuance is\n",
        "  that new_process_data function removes the record level flat line removal step\n",
        "  \n",
        "  Arguments:\n",
        "  input_dir -- where the input data from mine_data(Patient = TRUE) is saved \n",
        "  output_dir -- where to save the output data of this function\n",
        "  \n",
        "  Returns:\n",
        "  A processed PPG data and Ground Truth labels\n",
        "\n",
        "  \"\"\" \n",
        "\n",
        "  #load data\n",
        "  ABP_names = glob.glob(input_dir + \"Data Mining/Original Data - Patient/ABP*.pkl\")\n",
        "  PPG_names = glob.glob(input_dir + \"Data Mining/Original Data - Patient/PPG*.pkl\")\n",
        "  assert(len(ABP_names) == len(PPG_names))\n",
        "  for i in range(len(ABP_names)):\n",
        "    \n",
        "    print(\"processing\", i, \"th data\")\n",
        "\n",
        "    with open(ABP_names[i], \"rb\") as fp:\n",
        "      ABP_raw_signals = pickle.load(fp)\n",
        "\n",
        "    with open(PPG_names[i], \"rb\") as fp:\n",
        "      PPG_raw_signals = pickle.load(fp)\n",
        "\n",
        "    \n",
        "    #segment into 1min data\n",
        "    ABP_seg_signals = generate_segment_data(ABP_raw_signals, 7500, list_type = False)\n",
        "    PPG_seg_signals = generate_segment_data(PPG_raw_signals, 7500, list_type = False)\n",
        "\n",
        "    #remove flat lines on 1min segment level: ABP: 2%, PPG: 5%\n",
        "    _, ABP_seg_rm_list = flat_line(ABP_seg_signals,0,percent=0.02)\n",
        "    _, PPG_seg_rm_list = flat_line(PPG_seg_signals,0,percent=0.05)\n",
        "\n",
        "    ABP_seg_list = pd.DataFrame(ABP_seg_rm_list)\n",
        "    PPG_seg_list = pd.DataFrame(PPG_seg_rm_list)\n",
        "\n",
        "    try:\n",
        "      total_seg_list = ABP_seg_list.merge(PPG_seg_list,how=\"outer\")\n",
        "    except:\n",
        "      total_seg_list = pd.concat([ABP_seg_list,PPG_seg_list],axis=0)\n",
        "    \n",
        "    ABP_seg_cl_signals = np.delete(ABP_seg_signals,total_seg_list,0)\n",
        "    PPG_seg_cl_signals = np.delete(PPG_seg_signals,total_seg_list,0)\n",
        "\n",
        "    #PROCESS ABP SIGNAL\n",
        "    #1.peak segmentation: distance = 50\n",
        "    ABP_ps_signals = [peak_segmentation(i, distance = 50) for i in ABP_seg_cl_signals]\n",
        "    #2.flat peak removal: seg_ratio = 0.95, tolerance = 1\n",
        "    ABP_fpr_signals, remove_index = flat_peak_remove(ABP_ps_signals,0.95,1)\n",
        "    #3.remove corresponding PPG signal\n",
        "    PPG_fpr_signals = np.delete(PPG_seg_cl_signals,remove_index,0)\n",
        "    #4.generate ground truth ABP and HR: tolerance = 15 mmHg\n",
        "    gt_ls, gt_rm_list= bp_ground_truth(ABP_fpr_signals, tolerance=15, return_hr = True)\n",
        "    #5.remove corresponding PPG signals\n",
        "    PPG_gt_signals = np.delete(PPG_fpr_signals,gt_rm_list,0)\n",
        "\n",
        "    #PROCESS PPG SIGNAL\n",
        "    #1.standardize PPG signal\n",
        "    PPG_norm_signals = [sklearn.preprocessing.robust_scale(i) for i in PPG_gt_signals]\n",
        "    #2.band pass filter on PPG sinal\n",
        "    PPG_bf_signals =[butter_bandpass_filter(i,0.5,8,125,order=4) for i in PPG_norm_signals]\n",
        "    #3. hampel filter\n",
        "    PPG_hf_signals = [hampel_filter_forloop_numba(i, 6) for i in PPG_bf_signals]\n",
        "    #4. resample signal\n",
        "    ##PLACEHOLDER for resampling signal to a lower frequency, if needed\n",
        "    with open(output_dir + PPG_names[i].split('\\\\')[1], \"wb\") as fp:\n",
        "      pickle.dump(PPG_hf_signals,fp)\n",
        "\n",
        "    with open(output_dir + ABP_names[i].split('\\\\')[1], \"wb\") as fp:\n",
        "      pickle.dump(gt_ls,fp)\n",
        "\n",
        "  return None"
      ],
      "execution_count": 80,
      "outputs": []
    },
    {
      "cell_type": "code",
      "metadata": {
        "id": "C0pPU3FoIRG4",
        "colab_type": "code",
        "colab": {}
      },
      "source": [
        "input_dir = 'D:/WFDB//matched/BP/'\n",
        "output_dir = 'D:/WFDB//matched/BP/BP_Data_Clean/new patient BP HR data/data/'\n",
        "\n",
        "new_process_data(input_dir, output_dir)"
      ],
      "execution_count": null,
      "outputs": []
    }
  ]
}